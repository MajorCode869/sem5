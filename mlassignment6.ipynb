{
 "cells": [
  {
   "cell_type": "code",
   "execution_count": 1,
   "id": "c6379b7f",
   "metadata": {
    "execution": {
     "iopub.execute_input": "2022-11-05T16:07:07.925197Z",
     "iopub.status.busy": "2022-11-05T16:07:07.924586Z",
     "iopub.status.idle": "2022-11-05T16:07:09.736018Z",
     "shell.execute_reply": "2022-11-05T16:07:09.734914Z"
    },
    "papermill": {
     "duration": 1.825109,
     "end_time": "2022-11-05T16:07:09.739050",
     "exception": false,
     "start_time": "2022-11-05T16:07:07.913941",
     "status": "completed"
    },
    "tags": []
   },
   "outputs": [
    {
     "name": "stderr",
     "output_type": "stream",
     "text": [
      "[nltk_data] Downloading package stopwords to /usr/share/nltk_data...\n",
      "[nltk_data]   Package stopwords is already up-to-date!\n",
      "[nltk_data] Downloading package wordnet to /usr/share/nltk_data...\n",
      "[nltk_data]   Package wordnet is already up-to-date!\n",
      "[nltk_data] Downloading package omw-1.4 to /usr/share/nltk_data...\n"
     ]
    }
   ],
   "source": [
    "import pandas as pd\n",
    "import nltk\n",
    "nltk.download('stopwords')\n",
    "nltk.download('wordnet')\n",
    "nltk.download('omw-1.4')\n",
    "from nltk.stem import PorterStemmer\n",
    "from nltk.corpus import stopwords\n",
    "from nltk.stem import WordNetLemmatizer\n",
    "import re\n",
    "from sklearn.feature_extraction.text import TfidfVectorizer\n",
    "from sklearn.feature_extraction.text import CountVectorizer\n",
    "from sklearn.model_selection import train_test_split"
   ]
  },
  {
   "cell_type": "code",
   "execution_count": 2,
   "id": "ccb723a4",
   "metadata": {
    "execution": {
     "iopub.execute_input": "2022-11-05T16:07:09.755667Z",
     "iopub.status.busy": "2022-11-05T16:07:09.755182Z",
     "iopub.status.idle": "2022-11-05T16:07:09.805153Z",
     "shell.execute_reply": "2022-11-05T16:07:09.803932Z"
    },
    "papermill": {
     "duration": 0.060754,
     "end_time": "2022-11-05T16:07:09.807446",
     "exception": false,
     "start_time": "2022-11-05T16:07:09.746692",
     "status": "completed"
    },
    "scrolled": true,
    "tags": []
   },
   "outputs": [
    {
     "data": {
      "text/html": [
       "<div>\n",
       "<style scoped>\n",
       "    .dataframe tbody tr th:only-of-type {\n",
       "        vertical-align: middle;\n",
       "    }\n",
       "\n",
       "    .dataframe tbody tr th {\n",
       "        vertical-align: top;\n",
       "    }\n",
       "\n",
       "    .dataframe thead th {\n",
       "        text-align: right;\n",
       "    }\n",
       "</style>\n",
       "<table border=\"1\" class=\"dataframe\">\n",
       "  <thead>\n",
       "    <tr style=\"text-align: right;\">\n",
       "      <th></th>\n",
       "      <th>labels</th>\n",
       "      <th>message</th>\n",
       "    </tr>\n",
       "  </thead>\n",
       "  <tbody>\n",
       "    <tr>\n",
       "      <th>0</th>\n",
       "      <td>ham</td>\n",
       "      <td>Go until jurong point, crazy.. Available only ...</td>\n",
       "    </tr>\n",
       "    <tr>\n",
       "      <th>1</th>\n",
       "      <td>ham</td>\n",
       "      <td>Ok lar... Joking wif u oni...</td>\n",
       "    </tr>\n",
       "    <tr>\n",
       "      <th>2</th>\n",
       "      <td>spam</td>\n",
       "      <td>Free entry in 2 a wkly comp to win FA Cup fina...</td>\n",
       "    </tr>\n",
       "    <tr>\n",
       "      <th>3</th>\n",
       "      <td>ham</td>\n",
       "      <td>U dun say so early hor... U c already then say...</td>\n",
       "    </tr>\n",
       "    <tr>\n",
       "      <th>4</th>\n",
       "      <td>ham</td>\n",
       "      <td>Nah I don't think he goes to usf, he lives aro...</td>\n",
       "    </tr>\n",
       "  </tbody>\n",
       "</table>\n",
       "</div>"
      ],
      "text/plain": [
       "  labels                                            message\n",
       "0    ham  Go until jurong point, crazy.. Available only ...\n",
       "1    ham                      Ok lar... Joking wif u oni...\n",
       "2   spam  Free entry in 2 a wkly comp to win FA Cup fina...\n",
       "3    ham  U dun say so early hor... U c already then say...\n",
       "4    ham  Nah I don't think he goes to usf, he lives aro..."
      ]
     },
     "execution_count": 2,
     "metadata": {},
     "output_type": "execute_result"
    }
   ],
   "source": [
    "data = pd.read_csv(\"../input/spam-detection/SMSSpamCollection\", sep = '\\t', names = [\"labels\", \"message\"])\n",
    "data.head()"
   ]
  },
  {
   "cell_type": "code",
   "execution_count": 3,
   "id": "3c07d77d",
   "metadata": {
    "execution": {
     "iopub.execute_input": "2022-11-05T16:07:09.823800Z",
     "iopub.status.busy": "2022-11-05T16:07:09.823202Z",
     "iopub.status.idle": "2022-11-05T16:07:25.570172Z",
     "shell.execute_reply": "2022-11-05T16:07:25.568946Z"
    },
    "papermill": {
     "duration": 15.758172,
     "end_time": "2022-11-05T16:07:25.572927",
     "exception": false,
     "start_time": "2022-11-05T16:07:09.814755",
     "status": "completed"
    },
    "tags": []
   },
   "outputs": [],
   "source": [
    "stemmer = PorterStemmer() \n",
    "lemmatizer = WordNetLemmatizer()\n",
    "\n",
    "corpus=[]\n",
    "for i in range(len(data)):\n",
    "    review= re.sub('^[A-Za-z]',' ',data['message'][i])\n",
    "    review= review.lower()\n",
    "    review= review.split() #get list of words\n",
    "    review= [lemmatizer.lemmatize(word) for word in review if not word in set(stopwords.words('english'))]\n",
    "    review= ' '.join(review)\n",
    "    corpus.append(review)"
   ]
  },
  {
   "cell_type": "code",
   "execution_count": 4,
   "id": "4a84122f",
   "metadata": {
    "execution": {
     "iopub.execute_input": "2022-11-05T16:07:25.588424Z",
     "iopub.status.busy": "2022-11-05T16:07:25.588069Z",
     "iopub.status.idle": "2022-11-05T16:07:25.594848Z",
     "shell.execute_reply": "2022-11-05T16:07:25.593613Z"
    },
    "papermill": {
     "duration": 0.016847,
     "end_time": "2022-11-05T16:07:25.596987",
     "exception": false,
     "start_time": "2022-11-05T16:07:25.580140",
     "status": "completed"
    },
    "tags": []
   },
   "outputs": [
    {
     "data": {
      "text/plain": [
       "'k lar... joking wif u oni...'"
      ]
     },
     "execution_count": 4,
     "metadata": {},
     "output_type": "execute_result"
    }
   ],
   "source": [
    "corpus[1]"
   ]
  },
  {
   "cell_type": "code",
   "execution_count": 5,
   "id": "fa149166",
   "metadata": {
    "execution": {
     "iopub.execute_input": "2022-11-05T16:07:25.612450Z",
     "iopub.status.busy": "2022-11-05T16:07:25.612081Z",
     "iopub.status.idle": "2022-11-05T16:07:25.987343Z",
     "shell.execute_reply": "2022-11-05T16:07:25.986451Z"
    },
    "papermill": {
     "duration": 0.385779,
     "end_time": "2022-11-05T16:07:25.989816",
     "exception": false,
     "start_time": "2022-11-05T16:07:25.604037",
     "status": "completed"
    },
    "tags": []
   },
   "outputs": [
    {
     "data": {
      "text/plain": [
       "(5572, 5000)"
      ]
     },
     "execution_count": 5,
     "metadata": {},
     "output_type": "execute_result"
    }
   ],
   "source": [
    "cv= CountVectorizer()\n",
    "X= cv.fit_transform(corpus).toarray() # matrix creation- words as columns, sentences as rows\n",
    "X.shape #5572 sentences, 8596 unique words in corpus\n",
    "\n",
    "#8596 is too many columns, take frequent words only (limiting number of columns to 5000)\n",
    "\n",
    "cv= CountVectorizer(max_features=5000)\n",
    "X= cv.fit_transform(corpus).toarray() # matrix creation- words as columns, sentences as rows\n",
    "X.shape"
   ]
  },
  {
   "cell_type": "code",
   "execution_count": 6,
   "id": "d29664dc",
   "metadata": {
    "execution": {
     "iopub.execute_input": "2022-11-05T16:07:26.006824Z",
     "iopub.status.busy": "2022-11-05T16:07:26.005782Z",
     "iopub.status.idle": "2022-11-05T16:07:26.021275Z",
     "shell.execute_reply": "2022-11-05T16:07:26.020090Z"
    },
    "papermill": {
     "duration": 0.026377,
     "end_time": "2022-11-05T16:07:26.023590",
     "exception": false,
     "start_time": "2022-11-05T16:07:25.997213",
     "status": "completed"
    },
    "tags": []
   },
   "outputs": [
    {
     "data": {
      "text/plain": [
       "array([0, 0, 1, ..., 0, 0, 0], dtype=uint8)"
      ]
     },
     "execution_count": 6,
     "metadata": {},
     "output_type": "execute_result"
    }
   ],
   "source": [
    "#Convert labels into dummy variables since they are string\n",
    "\n",
    "y= pd.get_dummies(data['labels']) #split into 2 columns ham and spam\n",
    "y= y.iloc[:,1].values #take only spam column, as only 1 column is sufficient to represent spam\n",
    "\n",
    "y"
   ]
  },
  {
   "cell_type": "code",
   "execution_count": 7,
   "id": "6386ec00",
   "metadata": {
    "execution": {
     "iopub.execute_input": "2022-11-05T16:07:26.039110Z",
     "iopub.status.busy": "2022-11-05T16:07:26.038796Z",
     "iopub.status.idle": "2022-11-05T16:07:26.167591Z",
     "shell.execute_reply": "2022-11-05T16:07:26.166598Z"
    },
    "papermill": {
     "duration": 0.139268,
     "end_time": "2022-11-05T16:07:26.170113",
     "exception": false,
     "start_time": "2022-11-05T16:07:26.030845",
     "status": "completed"
    },
    "tags": []
   },
   "outputs": [],
   "source": [
    "X_train, X_test, y_train, y_test = train_test_split(X, y, test_size =0.2, random_state =0)"
   ]
  },
  {
   "cell_type": "code",
   "execution_count": 8,
   "id": "06e3d869",
   "metadata": {
    "execution": {
     "iopub.execute_input": "2022-11-05T16:07:26.186170Z",
     "iopub.status.busy": "2022-11-05T16:07:26.185834Z",
     "iopub.status.idle": "2022-11-05T16:07:26.365203Z",
     "shell.execute_reply": "2022-11-05T16:07:26.363829Z"
    },
    "papermill": {
     "duration": 0.191083,
     "end_time": "2022-11-05T16:07:26.368798",
     "exception": false,
     "start_time": "2022-11-05T16:07:26.177715",
     "status": "completed"
    },
    "tags": []
   },
   "outputs": [],
   "source": [
    "from sklearn.naive_bayes import MultinomialNB\n",
    "\n",
    "spam_detect_model = MultinomialNB().fit(X_train, y_train)\n",
    "y_pred = spam_detect_model.predict(X_test)"
   ]
  },
  {
   "cell_type": "code",
   "execution_count": 9,
   "id": "6ffc0fc5",
   "metadata": {
    "execution": {
     "iopub.execute_input": "2022-11-05T16:07:26.403689Z",
     "iopub.status.busy": "2022-11-05T16:07:26.403138Z",
     "iopub.status.idle": "2022-11-05T16:07:26.413783Z",
     "shell.execute_reply": "2022-11-05T16:07:26.412684Z"
    },
    "papermill": {
     "duration": 0.029341,
     "end_time": "2022-11-05T16:07:26.416705",
     "exception": false,
     "start_time": "2022-11-05T16:07:26.387364",
     "status": "completed"
    },
    "tags": []
   },
   "outputs": [
    {
     "data": {
      "text/plain": [
       "array([[944,  11],\n",
       "       [  7, 153]])"
      ]
     },
     "execution_count": 9,
     "metadata": {},
     "output_type": "execute_result"
    }
   ],
   "source": [
    "from sklearn.metrics import confusion_matrix\n",
    "\n",
    "confusion_m= confusion_matrix(y_test, y_pred)\n",
    "confusion_m\n",
    "\n"
   ]
  },
  {
   "cell_type": "code",
   "execution_count": 10,
   "id": "83c143da",
   "metadata": {
    "execution": {
     "iopub.execute_input": "2022-11-05T16:07:26.444813Z",
     "iopub.status.busy": "2022-11-05T16:07:26.444241Z",
     "iopub.status.idle": "2022-11-05T16:07:26.454009Z",
     "shell.execute_reply": "2022-11-05T16:07:26.452875Z"
    },
    "papermill": {
     "duration": 0.027685,
     "end_time": "2022-11-05T16:07:26.457287",
     "exception": false,
     "start_time": "2022-11-05T16:07:26.429602",
     "status": "completed"
    },
    "tags": []
   },
   "outputs": [
    {
     "data": {
      "text/plain": [
       "0.9838565022421525"
      ]
     },
     "execution_count": 10,
     "metadata": {},
     "output_type": "execute_result"
    }
   ],
   "source": [
    "from sklearn.metrics import accuracy_score\n",
    "\n",
    "accuracy= accuracy_score(y_test, y_pred)\n",
    "accuracy"
   ]
  },
  {
   "cell_type": "code",
   "execution_count": 11,
   "id": "f732d891",
   "metadata": {
    "execution": {
     "iopub.execute_input": "2022-11-05T16:07:26.484661Z",
     "iopub.status.busy": "2022-11-05T16:07:26.484265Z",
     "iopub.status.idle": "2022-11-05T16:07:26.489420Z",
     "shell.execute_reply": "2022-11-05T16:07:26.488171Z"
    },
    "papermill": {
     "duration": 0.021328,
     "end_time": "2022-11-05T16:07:26.491855",
     "exception": false,
     "start_time": "2022-11-05T16:07:26.470527",
     "status": "completed"
    },
    "tags": []
   },
   "outputs": [],
   "source": [
    "from sklearn import datasets\n",
    "from sklearn import metrics\n",
    "from sklearn.naive_bayes import GaussianNB\n"
   ]
  },
  {
   "cell_type": "code",
   "execution_count": 12,
   "id": "978059c2",
   "metadata": {
    "execution": {
     "iopub.execute_input": "2022-11-05T16:07:26.509506Z",
     "iopub.status.busy": "2022-11-05T16:07:26.509052Z",
     "iopub.status.idle": "2022-11-05T16:07:26.519346Z",
     "shell.execute_reply": "2022-11-05T16:07:26.518506Z"
    },
    "papermill": {
     "duration": 0.021823,
     "end_time": "2022-11-05T16:07:26.521747",
     "exception": false,
     "start_time": "2022-11-05T16:07:26.499924",
     "status": "completed"
    },
    "tags": []
   },
   "outputs": [],
   "source": [
    "# loading iris dataset\n",
    "df=datasets.load_iris()\n"
   ]
  },
  {
   "cell_type": "code",
   "execution_count": 13,
   "id": "bad556e3",
   "metadata": {
    "execution": {
     "iopub.execute_input": "2022-11-05T16:07:26.539220Z",
     "iopub.status.busy": "2022-11-05T16:07:26.538412Z",
     "iopub.status.idle": "2022-11-05T16:07:26.548001Z",
     "shell.execute_reply": "2022-11-05T16:07:26.546520Z"
    },
    "papermill": {
     "duration": 0.021239,
     "end_time": "2022-11-05T16:07:26.550599",
     "exception": false,
     "start_time": "2022-11-05T16:07:26.529360",
     "status": "completed"
    },
    "tags": []
   },
   "outputs": [
    {
     "name": "stdout",
     "output_type": "stream",
     "text": [
      "GaussianNB()\n"
     ]
    }
   ],
   "source": [
    "# preparing a model\n",
    "model=GaussianNB()\n",
    "model.fit(df.data,df.target)\n",
    "print(model)"
   ]
  },
  {
   "cell_type": "code",
   "execution_count": 14,
   "id": "2f6150ea",
   "metadata": {
    "execution": {
     "iopub.execute_input": "2022-11-05T16:07:26.567103Z",
     "iopub.status.busy": "2022-11-05T16:07:26.566708Z",
     "iopub.status.idle": "2022-11-05T16:07:26.578975Z",
     "shell.execute_reply": "2022-11-05T16:07:26.577832Z"
    },
    "papermill": {
     "duration": 0.023051,
     "end_time": "2022-11-05T16:07:26.581245",
     "exception": false,
     "start_time": "2022-11-05T16:07:26.558194",
     "status": "completed"
    },
    "tags": []
   },
   "outputs": [
    {
     "name": "stdout",
     "output_type": "stream",
     "text": [
      "              precision    recall  f1-score   support\n",
      "\n",
      "           0       1.00      1.00      1.00        50\n",
      "           1       0.94      0.94      0.94        50\n",
      "           2       0.94      0.94      0.94        50\n",
      "\n",
      "    accuracy                           0.96       150\n",
      "   macro avg       0.96      0.96      0.96       150\n",
      "weighted avg       0.96      0.96      0.96       150\n",
      "\n",
      "[[50  0  0]\n",
      " [ 0 47  3]\n",
      " [ 0  3 47]]\n"
     ]
    }
   ],
   "source": [
    "expected=df.target\n",
    "predicted=model.predict(df.data)\n",
    "print(metrics.classification_report(expected, predicted))\n",
    "print(metrics.confusion_matrix(expected, predicted))"
   ]
  },
  {
   "cell_type": "code",
   "execution_count": null,
   "id": "290e796d",
   "metadata": {
    "papermill": {
     "duration": 0.007251,
     "end_time": "2022-11-05T16:07:26.596028",
     "exception": false,
     "start_time": "2022-11-05T16:07:26.588777",
     "status": "completed"
    },
    "tags": []
   },
   "outputs": [],
   "source": []
  },
  {
   "cell_type": "code",
   "execution_count": 15,
   "id": "70b85ee8",
   "metadata": {
    "execution": {
     "iopub.execute_input": "2022-11-05T16:07:26.613156Z",
     "iopub.status.busy": "2022-11-05T16:07:26.612086Z",
     "iopub.status.idle": "2022-11-05T16:07:33.400399Z",
     "shell.execute_reply": "2022-11-05T16:07:33.398797Z"
    },
    "papermill": {
     "duration": 6.799751,
     "end_time": "2022-11-05T16:07:33.403155",
     "exception": false,
     "start_time": "2022-11-05T16:07:26.603404",
     "status": "completed"
    },
    "tags": []
   },
   "outputs": [
    {
     "name": "stdout",
     "output_type": "stream",
     "text": [
      "Best: 0.948000 using {'metric': 'euclidean', 'n_neighbors': 17, 'weights': 'uniform'}\n",
      "0.849667 (0.039706) with: {'metric': 'euclidean', 'n_neighbors': 1, 'weights': 'uniform'}\n",
      "0.849667 (0.039706) with: {'metric': 'euclidean', 'n_neighbors': 1, 'weights': 'distance'}\n",
      "0.895000 (0.037305) with: {'metric': 'euclidean', 'n_neighbors': 3, 'weights': 'uniform'}\n",
      "0.895000 (0.037305) with: {'metric': 'euclidean', 'n_neighbors': 3, 'weights': 'distance'}\n",
      "0.915333 (0.030521) with: {'metric': 'euclidean', 'n_neighbors': 5, 'weights': 'uniform'}\n",
      "0.915333 (0.030521) with: {'metric': 'euclidean', 'n_neighbors': 5, 'weights': 'distance'}\n",
      "0.920000 (0.023238) with: {'metric': 'euclidean', 'n_neighbors': 7, 'weights': 'uniform'}\n",
      "0.920000 (0.023238) with: {'metric': 'euclidean', 'n_neighbors': 7, 'weights': 'distance'}\n",
      "0.924333 (0.026418) with: {'metric': 'euclidean', 'n_neighbors': 9, 'weights': 'uniform'}\n",
      "0.924333 (0.026418) with: {'metric': 'euclidean', 'n_neighbors': 9, 'weights': 'distance'}\n",
      "0.932000 (0.021970) with: {'metric': 'euclidean', 'n_neighbors': 11, 'weights': 'uniform'}\n",
      "0.932000 (0.021970) with: {'metric': 'euclidean', 'n_neighbors': 11, 'weights': 'distance'}\n",
      "0.942667 (0.021899) with: {'metric': 'euclidean', 'n_neighbors': 13, 'weights': 'uniform'}\n",
      "0.942667 (0.021899) with: {'metric': 'euclidean', 'n_neighbors': 13, 'weights': 'distance'}\n",
      "0.944000 (0.023180) with: {'metric': 'euclidean', 'n_neighbors': 15, 'weights': 'uniform'}\n",
      "0.944000 (0.023180) with: {'metric': 'euclidean', 'n_neighbors': 15, 'weights': 'distance'}\n",
      "0.948000 (0.023152) with: {'metric': 'euclidean', 'n_neighbors': 17, 'weights': 'uniform'}\n",
      "0.948000 (0.023152) with: {'metric': 'euclidean', 'n_neighbors': 17, 'weights': 'distance'}\n",
      "0.947333 (0.025421) with: {'metric': 'euclidean', 'n_neighbors': 19, 'weights': 'uniform'}\n",
      "0.947333 (0.025421) with: {'metric': 'euclidean', 'n_neighbors': 19, 'weights': 'distance'}\n",
      "0.838000 (0.031027) with: {'metric': 'manhattan', 'n_neighbors': 1, 'weights': 'uniform'}\n",
      "0.838000 (0.031027) with: {'metric': 'manhattan', 'n_neighbors': 1, 'weights': 'distance'}\n",
      "0.880000 (0.026204) with: {'metric': 'manhattan', 'n_neighbors': 3, 'weights': 'uniform'}\n",
      "0.880000 (0.026204) with: {'metric': 'manhattan', 'n_neighbors': 3, 'weights': 'distance'}\n",
      "0.904667 (0.027657) with: {'metric': 'manhattan', 'n_neighbors': 5, 'weights': 'uniform'}\n",
      "0.904667 (0.027657) with: {'metric': 'manhattan', 'n_neighbors': 5, 'weights': 'distance'}\n",
      "0.915000 (0.026926) with: {'metric': 'manhattan', 'n_neighbors': 7, 'weights': 'uniform'}\n",
      "0.915000 (0.026926) with: {'metric': 'manhattan', 'n_neighbors': 7, 'weights': 'distance'}\n",
      "0.923333 (0.022111) with: {'metric': 'manhattan', 'n_neighbors': 9, 'weights': 'uniform'}\n",
      "0.923333 (0.022111) with: {'metric': 'manhattan', 'n_neighbors': 9, 'weights': 'distance'}\n",
      "0.931333 (0.022171) with: {'metric': 'manhattan', 'n_neighbors': 11, 'weights': 'uniform'}\n",
      "0.931333 (0.022171) with: {'metric': 'manhattan', 'n_neighbors': 11, 'weights': 'distance'}\n",
      "0.933333 (0.020221) with: {'metric': 'manhattan', 'n_neighbors': 13, 'weights': 'uniform'}\n",
      "0.933333 (0.020221) with: {'metric': 'manhattan', 'n_neighbors': 13, 'weights': 'distance'}\n",
      "0.941333 (0.016879) with: {'metric': 'manhattan', 'n_neighbors': 15, 'weights': 'uniform'}\n",
      "0.941333 (0.016879) with: {'metric': 'manhattan', 'n_neighbors': 15, 'weights': 'distance'}\n",
      "0.944667 (0.016275) with: {'metric': 'manhattan', 'n_neighbors': 17, 'weights': 'uniform'}\n",
      "0.944667 (0.016275) with: {'metric': 'manhattan', 'n_neighbors': 17, 'weights': 'distance'}\n",
      "0.943333 (0.015129) with: {'metric': 'manhattan', 'n_neighbors': 19, 'weights': 'uniform'}\n",
      "0.943333 (0.015129) with: {'metric': 'manhattan', 'n_neighbors': 19, 'weights': 'distance'}\n",
      "0.849667 (0.039706) with: {'metric': 'minkowski', 'n_neighbors': 1, 'weights': 'uniform'}\n",
      "0.849667 (0.039706) with: {'metric': 'minkowski', 'n_neighbors': 1, 'weights': 'distance'}\n",
      "0.895000 (0.037305) with: {'metric': 'minkowski', 'n_neighbors': 3, 'weights': 'uniform'}\n",
      "0.895000 (0.037305) with: {'metric': 'minkowski', 'n_neighbors': 3, 'weights': 'distance'}\n",
      "0.915333 (0.030521) with: {'metric': 'minkowski', 'n_neighbors': 5, 'weights': 'uniform'}\n",
      "0.915333 (0.030521) with: {'metric': 'minkowski', 'n_neighbors': 5, 'weights': 'distance'}\n",
      "0.920000 (0.023238) with: {'metric': 'minkowski', 'n_neighbors': 7, 'weights': 'uniform'}\n",
      "0.920000 (0.023238) with: {'metric': 'minkowski', 'n_neighbors': 7, 'weights': 'distance'}\n",
      "0.924333 (0.026418) with: {'metric': 'minkowski', 'n_neighbors': 9, 'weights': 'uniform'}\n",
      "0.924333 (0.026418) with: {'metric': 'minkowski', 'n_neighbors': 9, 'weights': 'distance'}\n",
      "0.932000 (0.021970) with: {'metric': 'minkowski', 'n_neighbors': 11, 'weights': 'uniform'}\n",
      "0.932000 (0.021970) with: {'metric': 'minkowski', 'n_neighbors': 11, 'weights': 'distance'}\n",
      "0.942667 (0.021899) with: {'metric': 'minkowski', 'n_neighbors': 13, 'weights': 'uniform'}\n",
      "0.942667 (0.021899) with: {'metric': 'minkowski', 'n_neighbors': 13, 'weights': 'distance'}\n",
      "0.944000 (0.023180) with: {'metric': 'minkowski', 'n_neighbors': 15, 'weights': 'uniform'}\n",
      "0.944000 (0.023180) with: {'metric': 'minkowski', 'n_neighbors': 15, 'weights': 'distance'}\n",
      "0.948000 (0.023152) with: {'metric': 'minkowski', 'n_neighbors': 17, 'weights': 'uniform'}\n",
      "0.948000 (0.023152) with: {'metric': 'minkowski', 'n_neighbors': 17, 'weights': 'distance'}\n",
      "0.947333 (0.025421) with: {'metric': 'minkowski', 'n_neighbors': 19, 'weights': 'uniform'}\n",
      "0.947333 (0.025421) with: {'metric': 'minkowski', 'n_neighbors': 19, 'weights': 'distance'}\n"
     ]
    }
   ],
   "source": [
    "# example of grid searching key hyperparametres for KNeighborsClassifier\n",
    "from sklearn.datasets import make_blobs\n",
    "from sklearn.model_selection import RepeatedStratifiedKFold\n",
    "from sklearn.model_selection import GridSearchCV\n",
    "from sklearn.neighbors import KNeighborsClassifier\n",
    "# define dataset\n",
    "X, y = make_blobs(n_samples=1000, centers=2, n_features=100, cluster_std=20)\n",
    "# define models and parameters\n",
    "model = KNeighborsClassifier()\n",
    "n_neighbors = range(1, 21, 2)\n",
    "weights = ['uniform', 'distance']\n",
    "metric = ['euclidean', 'manhattan', 'minkowski']\n",
    "# define grid search\n",
    "grid = dict(n_neighbors=n_neighbors,weights=weights,metric=metric)\n",
    "cv = RepeatedStratifiedKFold(n_splits=10, n_repeats=3, random_state=1)\n",
    "grid_search = GridSearchCV(estimator=model, param_grid=grid, n_jobs=-1, cv=cv, scoring='accuracy',error_score=0)\n",
    "grid_result = grid_search.fit(X, y)\n",
    "# summarize results\n",
    "print(\"Best: %f using %s\" % (grid_result.best_score_, grid_result.best_params_))\n",
    "means = grid_result.cv_results_['mean_test_score']\n",
    "stds = grid_result.cv_results_['std_test_score']\n",
    "params = grid_result.cv_results_['params']\n",
    "for mean, stdev, param in zip(means, stds, params):\n",
    "    print(\"%f (%f) with: %r\" % (mean, stdev, param))"
   ]
  },
  {
   "cell_type": "markdown",
   "id": "d3a3a143",
   "metadata": {
    "papermill": {
     "duration": 0.007532,
     "end_time": "2022-11-05T16:07:33.418742",
     "exception": false,
     "start_time": "2022-11-05T16:07:33.411210",
     "status": "completed"
    },
    "tags": []
   },
   "source": [
    "Q2 step by step"
   ]
  },
  {
   "cell_type": "code",
   "execution_count": 16,
   "id": "f1ff4e3a",
   "metadata": {
    "execution": {
     "iopub.execute_input": "2022-11-05T16:07:33.436478Z",
     "iopub.status.busy": "2022-11-05T16:07:33.436010Z",
     "iopub.status.idle": "2022-11-05T16:07:33.442099Z",
     "shell.execute_reply": "2022-11-05T16:07:33.441189Z"
    },
    "papermill": {
     "duration": 0.017896,
     "end_time": "2022-11-05T16:07:33.444312",
     "exception": false,
     "start_time": "2022-11-05T16:07:33.426416",
     "status": "completed"
    },
    "tags": []
   },
   "outputs": [],
   "source": [
    "import pandas as pd\n",
    "import numpy as np\n",
    "from sklearn import datasets\n",
    "iris = datasets.load_iris()"
   ]
  },
  {
   "cell_type": "code",
   "execution_count": 17,
   "id": "99f40ab0",
   "metadata": {
    "execution": {
     "iopub.execute_input": "2022-11-05T16:07:33.462562Z",
     "iopub.status.busy": "2022-11-05T16:07:33.461865Z",
     "iopub.status.idle": "2022-11-05T16:07:33.466733Z",
     "shell.execute_reply": "2022-11-05T16:07:33.465916Z"
    },
    "papermill": {
     "duration": 0.016354,
     "end_time": "2022-11-05T16:07:33.468826",
     "exception": false,
     "start_time": "2022-11-05T16:07:33.452472",
     "status": "completed"
    },
    "tags": []
   },
   "outputs": [],
   "source": [
    "x = iris.data\n",
    "y = iris.target"
   ]
  },
  {
   "cell_type": "code",
   "execution_count": 18,
   "id": "2d892357",
   "metadata": {
    "execution": {
     "iopub.execute_input": "2022-11-05T16:07:33.486581Z",
     "iopub.status.busy": "2022-11-05T16:07:33.486183Z",
     "iopub.status.idle": "2022-11-05T16:07:33.492209Z",
     "shell.execute_reply": "2022-11-05T16:07:33.491357Z"
    },
    "papermill": {
     "duration": 0.017398,
     "end_time": "2022-11-05T16:07:33.494312",
     "exception": false,
     "start_time": "2022-11-05T16:07:33.476914",
     "status": "completed"
    },
    "tags": []
   },
   "outputs": [],
   "source": [
    "from sklearn.model_selection import train_test_split\n",
    "x_train, x_test, y_train, y_test = train_test_split(x, y, train_size = 0.7, random_state = 43)"
   ]
  },
  {
   "cell_type": "code",
   "execution_count": 19,
   "id": "82d79ca3",
   "metadata": {
    "execution": {
     "iopub.execute_input": "2022-11-05T16:07:33.512737Z",
     "iopub.status.busy": "2022-11-05T16:07:33.511652Z",
     "iopub.status.idle": "2022-11-05T16:07:33.520136Z",
     "shell.execute_reply": "2022-11-05T16:07:33.518792Z"
    },
    "papermill": {
     "duration": 0.020055,
     "end_time": "2022-11-05T16:07:33.522482",
     "exception": false,
     "start_time": "2022-11-05T16:07:33.502427",
     "status": "completed"
    },
    "tags": []
   },
   "outputs": [
    {
     "name": "stdout",
     "output_type": "stream",
     "text": [
      "{0: 0.3333333333333333, 1: 0.3142857142857143, 2: 0.3523809523809524}\n"
     ]
    }
   ],
   "source": [
    "import numpy as np\n",
    "size = x_train.shape[0]\n",
    "label_prob = {}\n",
    "for outcome in np.unique(y_train):\n",
    "  outcome_count = sum(outcome==y_train)\n",
    "  label_prob[outcome] = outcome_count/size\n",
    "print(label_prob)"
   ]
  },
  {
   "cell_type": "code",
   "execution_count": 20,
   "id": "48e8b8d8",
   "metadata": {
    "execution": {
     "iopub.execute_input": "2022-11-05T16:07:33.540556Z",
     "iopub.status.busy": "2022-11-05T16:07:33.539713Z",
     "iopub.status.idle": "2022-11-05T16:07:33.546917Z",
     "shell.execute_reply": "2022-11-05T16:07:33.545810Z"
    },
    "papermill": {
     "duration": 0.018478,
     "end_time": "2022-11-05T16:07:33.549063",
     "exception": false,
     "start_time": "2022-11-05T16:07:33.530585",
     "status": "completed"
    },
    "tags": []
   },
   "outputs": [
    {
     "data": {
      "text/plain": [
       "['setosa', 'versicolor', 'virginica']"
      ]
     },
     "execution_count": 20,
     "metadata": {},
     "output_type": "execute_result"
    }
   ],
   "source": [
    "target_names = list(iris.target_names)\n",
    "target_names"
   ]
  },
  {
   "cell_type": "code",
   "execution_count": 21,
   "id": "e1424a0e",
   "metadata": {
    "execution": {
     "iopub.execute_input": "2022-11-05T16:07:33.567287Z",
     "iopub.status.busy": "2022-11-05T16:07:33.566656Z",
     "iopub.status.idle": "2022-11-05T16:07:33.583468Z",
     "shell.execute_reply": "2022-11-05T16:07:33.582351Z"
    },
    "papermill": {
     "duration": 0.028366,
     "end_time": "2022-11-05T16:07:33.585694",
     "exception": false,
     "start_time": "2022-11-05T16:07:33.557328",
     "status": "completed"
    },
    "tags": []
   },
   "outputs": [
    {
     "data": {
      "text/html": [
       "<div>\n",
       "<style scoped>\n",
       "    .dataframe tbody tr th:only-of-type {\n",
       "        vertical-align: middle;\n",
       "    }\n",
       "\n",
       "    .dataframe tbody tr th {\n",
       "        vertical-align: top;\n",
       "    }\n",
       "\n",
       "    .dataframe thead th {\n",
       "        text-align: right;\n",
       "    }\n",
       "</style>\n",
       "<table border=\"1\" class=\"dataframe\">\n",
       "  <thead>\n",
       "    <tr style=\"text-align: right;\">\n",
       "      <th></th>\n",
       "      <th>sepal length (cm)</th>\n",
       "      <th>sepal width (cm)</th>\n",
       "      <th>petal length (cm)</th>\n",
       "      <th>petal width (cm)</th>\n",
       "      <th>target</th>\n",
       "    </tr>\n",
       "  </thead>\n",
       "  <tbody>\n",
       "    <tr>\n",
       "      <th>0</th>\n",
       "      <td>5.7</td>\n",
       "      <td>2.8</td>\n",
       "      <td>4.5</td>\n",
       "      <td>1.3</td>\n",
       "      <td>1</td>\n",
       "    </tr>\n",
       "    <tr>\n",
       "      <th>1</th>\n",
       "      <td>5.5</td>\n",
       "      <td>2.6</td>\n",
       "      <td>4.4</td>\n",
       "      <td>1.2</td>\n",
       "      <td>1</td>\n",
       "    </tr>\n",
       "    <tr>\n",
       "      <th>2</th>\n",
       "      <td>5.7</td>\n",
       "      <td>2.6</td>\n",
       "      <td>3.5</td>\n",
       "      <td>1.0</td>\n",
       "      <td>1</td>\n",
       "    </tr>\n",
       "    <tr>\n",
       "      <th>3</th>\n",
       "      <td>6.7</td>\n",
       "      <td>3.1</td>\n",
       "      <td>4.4</td>\n",
       "      <td>1.4</td>\n",
       "      <td>1</td>\n",
       "    </tr>\n",
       "    <tr>\n",
       "      <th>4</th>\n",
       "      <td>6.3</td>\n",
       "      <td>3.3</td>\n",
       "      <td>4.7</td>\n",
       "      <td>1.6</td>\n",
       "      <td>1</td>\n",
       "    </tr>\n",
       "  </tbody>\n",
       "</table>\n",
       "</div>"
      ],
      "text/plain": [
       "   sepal length (cm)  sepal width (cm)  petal length (cm)  petal width (cm)  \\\n",
       "0                5.7               2.8                4.5               1.3   \n",
       "1                5.5               2.6                4.4               1.2   \n",
       "2                5.7               2.6                3.5               1.0   \n",
       "3                6.7               3.1                4.4               1.4   \n",
       "4                6.3               3.3                4.7               1.6   \n",
       "\n",
       "   target  \n",
       "0       1  \n",
       "1       1  \n",
       "2       1  \n",
       "3       1  \n",
       "4       1  "
      ]
     },
     "execution_count": 21,
     "metadata": {},
     "output_type": "execute_result"
    }
   ],
   "source": [
    "df = pd.DataFrame(x_train,columns = iris.feature_names)\n",
    "df['target'] = y_train\n",
    "df.head(5)"
   ]
  },
  {
   "cell_type": "code",
   "execution_count": 22,
   "id": "8bc69357",
   "metadata": {
    "execution": {
     "iopub.execute_input": "2022-11-05T16:07:33.604400Z",
     "iopub.status.busy": "2022-11-05T16:07:33.603970Z",
     "iopub.status.idle": "2022-11-05T16:07:33.609997Z",
     "shell.execute_reply": "2022-11-05T16:07:33.608857Z"
    },
    "papermill": {
     "duration": 0.017829,
     "end_time": "2022-11-05T16:07:33.612133",
     "exception": false,
     "start_time": "2022-11-05T16:07:33.594304",
     "status": "completed"
    },
    "tags": []
   },
   "outputs": [],
   "source": [
    "def GaussianProb(mean,var,new_x):\n",
    "  exp = np.exp((-(new_x - mean)**2)/(2*var))\n",
    "  start = (1/(np.sqrt(2*np.pi*var))) \n",
    "  return start*exp"
   ]
  },
  {
   "cell_type": "code",
   "execution_count": 23,
   "id": "e6e707fc",
   "metadata": {
    "execution": {
     "iopub.execute_input": "2022-11-05T16:07:33.634204Z",
     "iopub.status.busy": "2022-11-05T16:07:33.632986Z",
     "iopub.status.idle": "2022-11-05T16:07:33.648240Z",
     "shell.execute_reply": "2022-11-05T16:07:33.647157Z"
    },
    "papermill": {
     "duration": 0.029325,
     "end_time": "2022-11-05T16:07:33.651044",
     "exception": false,
     "start_time": "2022-11-05T16:07:33.621719",
     "status": "completed"
    },
    "tags": []
   },
   "outputs": [],
   "source": [
    "final_table = []\n",
    "for i in range(3):\n",
    "  new_table = []\n",
    "  temp_df = df[df['target'] == i]\n",
    "  for feature in iris.feature_names:\n",
    "    mean,var = temp_df[feature].mean() , temp_df[feature].var()\n",
    "    new_table.append([mean,var])\n",
    "  final_table.append(new_table)"
   ]
  },
  {
   "cell_type": "code",
   "execution_count": 24,
   "id": "2def0803",
   "metadata": {
    "execution": {
     "iopub.execute_input": "2022-11-05T16:07:33.674205Z",
     "iopub.status.busy": "2022-11-05T16:07:33.673778Z",
     "iopub.status.idle": "2022-11-05T16:07:33.681676Z",
     "shell.execute_reply": "2022-11-05T16:07:33.680503Z"
    },
    "papermill": {
     "duration": 0.022007,
     "end_time": "2022-11-05T16:07:33.684014",
     "exception": false,
     "start_time": "2022-11-05T16:07:33.662007",
     "status": "completed"
    },
    "tags": []
   },
   "outputs": [
    {
     "data": {
      "text/plain": [
       "[[5.031428571428571, 0.13457142857142856],\n",
       " [3.4342857142857146, 0.14467226890756302],\n",
       " [1.4828571428571429, 0.03322689075630252],\n",
       " [0.2571428571428571, 0.013109243697478993]]"
      ]
     },
     "execution_count": 24,
     "metadata": {},
     "output_type": "execute_result"
    }
   ],
   "source": [
    "final_table[0]"
   ]
  },
  {
   "cell_type": "code",
   "execution_count": 25,
   "id": "1f04bb9f",
   "metadata": {
    "execution": {
     "iopub.execute_input": "2022-11-05T16:07:33.704683Z",
     "iopub.status.busy": "2022-11-05T16:07:33.703833Z",
     "iopub.status.idle": "2022-11-05T16:07:33.711582Z",
     "shell.execute_reply": "2022-11-05T16:07:33.710458Z"
    },
    "papermill": {
     "duration": 0.020143,
     "end_time": "2022-11-05T16:07:33.713717",
     "exception": false,
     "start_time": "2022-11-05T16:07:33.693574",
     "status": "completed"
    },
    "tags": []
   },
   "outputs": [
    {
     "data": {
      "text/plain": [
       "array([4.8, 3.1, 1.6, 0.2])"
      ]
     },
     "execution_count": 25,
     "metadata": {},
     "output_type": "execute_result"
    }
   ],
   "source": [
    "test = x_test[0]\n",
    "test"
   ]
  },
  {
   "cell_type": "code",
   "execution_count": 26,
   "id": "68893937",
   "metadata": {
    "execution": {
     "iopub.execute_input": "2022-11-05T16:07:33.738170Z",
     "iopub.status.busy": "2022-11-05T16:07:33.737800Z",
     "iopub.status.idle": "2022-11-05T16:07:33.745158Z",
     "shell.execute_reply": "2022-11-05T16:07:33.744100Z"
    },
    "papermill": {
     "duration": 0.022105,
     "end_time": "2022-11-05T16:07:33.747733",
     "exception": false,
     "start_time": "2022-11-05T16:07:33.725628",
     "status": "completed"
    },
    "tags": []
   },
   "outputs": [
    {
     "data": {
      "text/plain": [
       "array([[5.7, 2.8, 4.5, 1.3],\n",
       "       [5.5, 2.6, 4.4, 1.2],\n",
       "       [5.7, 2.6, 3.5, 1. ],\n",
       "       [6.7, 3.1, 4.4, 1.4],\n",
       "       [6.3, 3.3, 4.7, 1.6]])"
      ]
     },
     "execution_count": 26,
     "metadata": {},
     "output_type": "execute_result"
    }
   ],
   "source": [
    "x_train[:5]"
   ]
  },
  {
   "cell_type": "code",
   "execution_count": 27,
   "id": "7305ae7c",
   "metadata": {
    "execution": {
     "iopub.execute_input": "2022-11-05T16:07:33.768759Z",
     "iopub.status.busy": "2022-11-05T16:07:33.768278Z",
     "iopub.status.idle": "2022-11-05T16:07:33.781954Z",
     "shell.execute_reply": "2022-11-05T16:07:33.780828Z"
    },
    "papermill": {
     "duration": 0.027048,
     "end_time": "2022-11-05T16:07:33.784547",
     "exception": false,
     "start_time": "2022-11-05T16:07:33.757499",
     "status": "completed"
    },
    "tags": []
   },
   "outputs": [],
   "source": [
    "y_pred = []\n",
    "for i in range(len(x_test)): \n",
    "  test = x_test[i]\n",
    "  probs = {}\n",
    "  count = 0\n",
    "  for each_label in final_table:  \n",
    "    prob = label_prob[count]  \n",
    "    feature_count = 0 \n",
    "    for stats in each_label:  \n",
    "     prob = prob * GaussianProb(stats[0],stats[1],test[feature_count])\n",
    "     feature_count+=1 \n",
    "    count+=1  \n",
    "    probs[count-1] = prob \n",
    "  output =max(probs, key=probs.get)\n",
    "  y_pred.append(output)"
   ]
  },
  {
   "cell_type": "code",
   "execution_count": 28,
   "id": "d2f52792",
   "metadata": {
    "execution": {
     "iopub.execute_input": "2022-11-05T16:07:33.804824Z",
     "iopub.status.busy": "2022-11-05T16:07:33.804375Z",
     "iopub.status.idle": "2022-11-05T16:07:33.810811Z",
     "shell.execute_reply": "2022-11-05T16:07:33.809697Z"
    },
    "papermill": {
     "duration": 0.02005,
     "end_time": "2022-11-05T16:07:33.813890",
     "exception": false,
     "start_time": "2022-11-05T16:07:33.793840",
     "status": "completed"
    },
    "tags": []
   },
   "outputs": [
    {
     "name": "stdout",
     "output_type": "stream",
     "text": [
      "0 0\n",
      "0 0\n",
      "2 2\n",
      "1 1\n",
      "2 2\n",
      "0 0\n",
      "2 2\n",
      "1 1\n",
      "1 1\n",
      "1 1\n",
      "0 0\n",
      "1 1\n",
      "2 2\n",
      "0 0\n",
      "1 1\n",
      "1 1\n",
      "0 0\n",
      "0 0\n",
      "2 2\n",
      "2 2\n",
      "0 0\n",
      "0 0\n",
      "0 0\n",
      "2 2\n",
      "2 2\n",
      "2 2\n",
      "0 0\n",
      "1 1\n",
      "0 0\n",
      "0 0\n",
      "1 1\n",
      "0 0\n",
      "1 1\n",
      "1 1\n",
      "2 2\n",
      "2 2\n",
      "1 1\n",
      "2 2\n",
      "1 1\n",
      "1 1\n",
      "1 1\n",
      "2 2\n",
      "1 1\n",
      "2 1\n",
      "0 0\n"
     ]
    }
   ],
   "source": [
    "for i in range(len(y_test)):\n",
    "  print(y_pred[i], y_test[i])"
   ]
  },
  {
   "cell_type": "code",
   "execution_count": 29,
   "id": "0a74810a",
   "metadata": {
    "execution": {
     "iopub.execute_input": "2022-11-05T16:07:33.836265Z",
     "iopub.status.busy": "2022-11-05T16:07:33.835303Z",
     "iopub.status.idle": "2022-11-05T16:07:33.847544Z",
     "shell.execute_reply": "2022-11-05T16:07:33.846355Z"
    },
    "papermill": {
     "duration": 0.026248,
     "end_time": "2022-11-05T16:07:33.849927",
     "exception": false,
     "start_time": "2022-11-05T16:07:33.823679",
     "status": "completed"
    },
    "tags": []
   },
   "outputs": [
    {
     "name": "stdout",
     "output_type": "stream",
     "text": [
      "              precision    recall  f1-score   support\n",
      "\n",
      "           0       1.00      1.00      1.00        15\n",
      "           1       1.00      0.94      0.97        17\n",
      "           2       0.93      1.00      0.96        13\n",
      "\n",
      "    accuracy                           0.98        45\n",
      "   macro avg       0.98      0.98      0.98        45\n",
      "weighted avg       0.98      0.98      0.98        45\n",
      "\n"
     ]
    }
   ],
   "source": [
    "from sklearn.metrics import classification_report\n",
    "print (classification_report(y_test, y_pred))"
   ]
  }
 ],
 "metadata": {
  "kernelspec": {
   "display_name": "Python 3",
   "language": "python",
   "name": "python3"
  },
  "language_info": {
   "codemirror_mode": {
    "name": "ipython",
    "version": 3
   },
   "file_extension": ".py",
   "mimetype": "text/x-python",
   "name": "python",
   "nbconvert_exporter": "python",
   "pygments_lexer": "ipython3",
   "version": "3.7.12"
  },
  "papermill": {
   "default_parameters": {},
   "duration": 36.681225,
   "end_time": "2022-11-05T16:07:36.480770",
   "environment_variables": {},
   "exception": null,
   "input_path": "__notebook__.ipynb",
   "output_path": "__notebook__.ipynb",
   "parameters": {},
   "start_time": "2022-11-05T16:06:59.799545",
   "version": "2.3.4"
  }
 },
 "nbformat": 4,
 "nbformat_minor": 5
}
