{
 "cells": [
  {
   "cell_type": "code",
   "execution_count": 1,
   "id": "7f9a723c",
   "metadata": {
    "_cell_guid": "b1076dfc-b9ad-4769-8c92-a6c4dae69d19",
    "_uuid": "8f2839f25d086af736a60e9eeb907d3b93b6e0e5",
    "execution": {
     "iopub.execute_input": "2022-10-07T12:10:59.232796Z",
     "iopub.status.busy": "2022-10-07T12:10:59.232267Z",
     "iopub.status.idle": "2022-10-07T12:10:59.250315Z",
     "shell.execute_reply": "2022-10-07T12:10:59.249330Z"
    },
    "papermill": {
     "duration": 0.029602,
     "end_time": "2022-10-07T12:10:59.253476",
     "exception": false,
     "start_time": "2022-10-07T12:10:59.223874",
     "status": "completed"
    },
    "tags": []
   },
   "outputs": [
    {
     "name": "stdout",
     "output_type": "stream",
     "text": [
      "/kaggle/input/scores/exam6.txt\n"
     ]
    }
   ],
   "source": [
    "# This Python 3 environment comes with many helpful analytics libraries installed\n",
    "# It is defined by the kaggle/python Docker image: https://github.com/kaggle/docker-python\n",
    "# For example, here's several helpful packages to load\n",
    "\n",
    "import numpy as np # linear algebra\n",
    "import pandas as pd # data processing, CSV file I/O (e.g. pd.read_csv)\n",
    "\n",
    "# Input data files are available in the read-only \"../input/\" directory\n",
    "# For example, running this (by clicking run or pressing Shift+Enter) will list all files under the input directory\n",
    "\n",
    "import os\n",
    "for dirname, _, filenames in os.walk('/kaggle/input'):\n",
    "    for filename in filenames:\n",
    "        print(os.path.join(dirname, filename))\n",
    "\n",
    "# You can write up to 20GB to the current directory (/kaggle/working/) that gets preserved as output when you create a version using \"Save & Run All\" \n",
    "# You can also write temporary files to /kaggle/temp/, but they won't be saved outside of the current session"
   ]
  },
  {
   "cell_type": "code",
   "execution_count": 2,
   "id": "4772306f",
   "metadata": {
    "execution": {
     "iopub.execute_input": "2022-10-07T12:10:59.266277Z",
     "iopub.status.busy": "2022-10-07T12:10:59.265064Z",
     "iopub.status.idle": "2022-10-07T12:11:00.955501Z",
     "shell.execute_reply": "2022-10-07T12:11:00.954226Z"
    },
    "papermill": {
     "duration": 1.699172,
     "end_time": "2022-10-07T12:11:00.958314",
     "exception": false,
     "start_time": "2022-10-07T12:10:59.259142",
     "status": "completed"
    },
    "tags": []
   },
   "outputs": [],
   "source": [
    "# we don't like warnings\n",
    "# you can comment the following 2 lines if you'd like to\n",
    "import warnings\n",
    "warnings.filterwarnings(\"ignore\")\n",
    "\n",
    "import numpy as np\n",
    "import pandas as pd\n",
    "\n",
    "import seaborn as sns\n",
    "from matplotlib import pyplot as plt\n",
    "#sharper plots\n",
    "%config InlineBackend.figure_format = 'retina'\n",
    "\n",
    "\n",
    "from sklearn.linear_model import LogisticRegression, LogisticRegressionCV\n",
    "from sklearn.model_selection import (GridSearchCV, StratifiedKFold,\n",
    "                                     cross_val_score)\n",
    "from sklearn.preprocessing import PolynomialFeatures"
   ]
  },
  {
   "cell_type": "code",
   "execution_count": 3,
   "id": "a42d7f0d",
   "metadata": {
    "execution": {
     "iopub.execute_input": "2022-10-07T12:11:00.970092Z",
     "iopub.status.busy": "2022-10-07T12:11:00.969405Z",
     "iopub.status.idle": "2022-10-07T12:11:00.986282Z",
     "shell.execute_reply": "2022-10-07T12:11:00.985294Z"
    },
    "papermill": {
     "duration": 0.02584,
     "end_time": "2022-10-07T12:11:00.988889",
     "exception": false,
     "start_time": "2022-10-07T12:11:00.963049",
     "status": "completed"
    },
    "tags": []
   },
   "outputs": [],
   "source": [
    "header_list=[\"test-1\",\"test-2\",\"selected\"]\n",
    "df=pd.read_csv(\"../input/scores/exam6.txt\",header=None,names=header_list)"
   ]
  },
  {
   "cell_type": "code",
   "execution_count": 4,
   "id": "4f044ee2",
   "metadata": {
    "execution": {
     "iopub.execute_input": "2022-10-07T12:11:01.000647Z",
     "iopub.status.busy": "2022-10-07T12:11:00.999857Z",
     "iopub.status.idle": "2022-10-07T12:11:01.012352Z",
     "shell.execute_reply": "2022-10-07T12:11:01.010776Z"
    },
    "papermill": {
     "duration": 0.021636,
     "end_time": "2022-10-07T12:11:01.015245",
     "exception": false,
     "start_time": "2022-10-07T12:11:00.993609",
     "status": "completed"
    },
    "tags": []
   },
   "outputs": [
    {
     "data": {
      "text/plain": [
       "(118, 3)"
      ]
     },
     "execution_count": 4,
     "metadata": {},
     "output_type": "execute_result"
    }
   ],
   "source": [
    "df.shape"
   ]
  },
  {
   "cell_type": "code",
   "execution_count": 5,
   "id": "65e96342",
   "metadata": {
    "execution": {
     "iopub.execute_input": "2022-10-07T12:11:01.026549Z",
     "iopub.status.busy": "2022-10-07T12:11:01.026079Z",
     "iopub.status.idle": "2022-10-07T12:11:01.047949Z",
     "shell.execute_reply": "2022-10-07T12:11:01.046527Z"
    },
    "papermill": {
     "duration": 0.030395,
     "end_time": "2022-10-07T12:11:01.050462",
     "exception": false,
     "start_time": "2022-10-07T12:11:01.020067",
     "status": "completed"
    },
    "tags": []
   },
   "outputs": [
    {
     "data": {
      "text/html": [
       "<div>\n",
       "<style scoped>\n",
       "    .dataframe tbody tr th:only-of-type {\n",
       "        vertical-align: middle;\n",
       "    }\n",
       "\n",
       "    .dataframe tbody tr th {\n",
       "        vertical-align: top;\n",
       "    }\n",
       "\n",
       "    .dataframe thead th {\n",
       "        text-align: right;\n",
       "    }\n",
       "</style>\n",
       "<table border=\"1\" class=\"dataframe\">\n",
       "  <thead>\n",
       "    <tr style=\"text-align: right;\">\n",
       "      <th></th>\n",
       "      <th>test-1</th>\n",
       "      <th>test-2</th>\n",
       "      <th>selected</th>\n",
       "    </tr>\n",
       "  </thead>\n",
       "  <tbody>\n",
       "    <tr>\n",
       "      <th>0</th>\n",
       "      <td>0.051267</td>\n",
       "      <td>0.69956</td>\n",
       "      <td>1</td>\n",
       "    </tr>\n",
       "    <tr>\n",
       "      <th>1</th>\n",
       "      <td>-0.092742</td>\n",
       "      <td>0.68494</td>\n",
       "      <td>1</td>\n",
       "    </tr>\n",
       "    <tr>\n",
       "      <th>2</th>\n",
       "      <td>-0.213710</td>\n",
       "      <td>0.69225</td>\n",
       "      <td>1</td>\n",
       "    </tr>\n",
       "    <tr>\n",
       "      <th>3</th>\n",
       "      <td>-0.375000</td>\n",
       "      <td>0.50219</td>\n",
       "      <td>1</td>\n",
       "    </tr>\n",
       "    <tr>\n",
       "      <th>4</th>\n",
       "      <td>-0.513250</td>\n",
       "      <td>0.46564</td>\n",
       "      <td>1</td>\n",
       "    </tr>\n",
       "  </tbody>\n",
       "</table>\n",
       "</div>"
      ],
      "text/plain": [
       "     test-1   test-2  selected\n",
       "0  0.051267  0.69956         1\n",
       "1 -0.092742  0.68494         1\n",
       "2 -0.213710  0.69225         1\n",
       "3 -0.375000  0.50219         1\n",
       "4 -0.513250  0.46564         1"
      ]
     },
     "execution_count": 5,
     "metadata": {},
     "output_type": "execute_result"
    }
   ],
   "source": [
    "df.head()"
   ]
  },
  {
   "cell_type": "code",
   "execution_count": 6,
   "id": "4c065053",
   "metadata": {
    "execution": {
     "iopub.execute_input": "2022-10-07T12:11:01.063085Z",
     "iopub.status.busy": "2022-10-07T12:11:01.062687Z",
     "iopub.status.idle": "2022-10-07T12:11:01.075137Z",
     "shell.execute_reply": "2022-10-07T12:11:01.073739Z"
    },
    "papermill": {
     "duration": 0.021467,
     "end_time": "2022-10-07T12:11:01.077812",
     "exception": false,
     "start_time": "2022-10-07T12:11:01.056345",
     "status": "completed"
    },
    "tags": []
   },
   "outputs": [
    {
     "data": {
      "text/html": [
       "<div>\n",
       "<style scoped>\n",
       "    .dataframe tbody tr th:only-of-type {\n",
       "        vertical-align: middle;\n",
       "    }\n",
       "\n",
       "    .dataframe tbody tr th {\n",
       "        vertical-align: top;\n",
       "    }\n",
       "\n",
       "    .dataframe thead th {\n",
       "        text-align: right;\n",
       "    }\n",
       "</style>\n",
       "<table border=\"1\" class=\"dataframe\">\n",
       "  <thead>\n",
       "    <tr style=\"text-align: right;\">\n",
       "      <th></th>\n",
       "      <th>test-1</th>\n",
       "      <th>test-2</th>\n",
       "      <th>selected</th>\n",
       "    </tr>\n",
       "  </thead>\n",
       "  <tbody>\n",
       "    <tr>\n",
       "      <th>113</th>\n",
       "      <td>-0.720620</td>\n",
       "      <td>0.538740</td>\n",
       "      <td>0</td>\n",
       "    </tr>\n",
       "    <tr>\n",
       "      <th>114</th>\n",
       "      <td>-0.593890</td>\n",
       "      <td>0.494880</td>\n",
       "      <td>0</td>\n",
       "    </tr>\n",
       "    <tr>\n",
       "      <th>115</th>\n",
       "      <td>-0.484450</td>\n",
       "      <td>0.999270</td>\n",
       "      <td>0</td>\n",
       "    </tr>\n",
       "    <tr>\n",
       "      <th>116</th>\n",
       "      <td>-0.006336</td>\n",
       "      <td>0.999270</td>\n",
       "      <td>0</td>\n",
       "    </tr>\n",
       "    <tr>\n",
       "      <th>117</th>\n",
       "      <td>0.632650</td>\n",
       "      <td>-0.030612</td>\n",
       "      <td>0</td>\n",
       "    </tr>\n",
       "  </tbody>\n",
       "</table>\n",
       "</div>"
      ],
      "text/plain": [
       "       test-1    test-2  selected\n",
       "113 -0.720620  0.538740         0\n",
       "114 -0.593890  0.494880         0\n",
       "115 -0.484450  0.999270         0\n",
       "116 -0.006336  0.999270         0\n",
       "117  0.632650 -0.030612         0"
      ]
     },
     "execution_count": 6,
     "metadata": {},
     "output_type": "execute_result"
    }
   ],
   "source": [
    "df.tail()"
   ]
  },
  {
   "cell_type": "code",
   "execution_count": 7,
   "id": "4c6cfbdb",
   "metadata": {
    "execution": {
     "iopub.execute_input": "2022-10-07T12:11:01.089768Z",
     "iopub.status.busy": "2022-10-07T12:11:01.089330Z",
     "iopub.status.idle": "2022-10-07T12:11:01.098484Z",
     "shell.execute_reply": "2022-10-07T12:11:01.097275Z"
    },
    "papermill": {
     "duration": 0.018141,
     "end_time": "2022-10-07T12:11:01.101184",
     "exception": false,
     "start_time": "2022-10-07T12:11:01.083043",
     "status": "completed"
    },
    "tags": []
   },
   "outputs": [],
   "source": [
    "X=df.iloc[:,:2]\n",
    "y=df.iloc[:,2]"
   ]
  },
  {
   "cell_type": "code",
   "execution_count": 8,
   "id": "c54ec82e",
   "metadata": {
    "execution": {
     "iopub.execute_input": "2022-10-07T12:11:01.113496Z",
     "iopub.status.busy": "2022-10-07T12:11:01.113018Z",
     "iopub.status.idle": "2022-10-07T12:11:01.126517Z",
     "shell.execute_reply": "2022-10-07T12:11:01.125414Z"
    },
    "papermill": {
     "duration": 0.022449,
     "end_time": "2022-10-07T12:11:01.128782",
     "exception": false,
     "start_time": "2022-10-07T12:11:01.106333",
     "status": "completed"
    },
    "tags": []
   },
   "outputs": [
    {
     "data": {
      "text/html": [
       "<div>\n",
       "<style scoped>\n",
       "    .dataframe tbody tr th:only-of-type {\n",
       "        vertical-align: middle;\n",
       "    }\n",
       "\n",
       "    .dataframe tbody tr th {\n",
       "        vertical-align: top;\n",
       "    }\n",
       "\n",
       "    .dataframe thead th {\n",
       "        text-align: right;\n",
       "    }\n",
       "</style>\n",
       "<table border=\"1\" class=\"dataframe\">\n",
       "  <thead>\n",
       "    <tr style=\"text-align: right;\">\n",
       "      <th></th>\n",
       "      <th>test-1</th>\n",
       "      <th>test-2</th>\n",
       "    </tr>\n",
       "  </thead>\n",
       "  <tbody>\n",
       "    <tr>\n",
       "      <th>0</th>\n",
       "      <td>0.051267</td>\n",
       "      <td>0.699560</td>\n",
       "    </tr>\n",
       "    <tr>\n",
       "      <th>1</th>\n",
       "      <td>-0.092742</td>\n",
       "      <td>0.684940</td>\n",
       "    </tr>\n",
       "    <tr>\n",
       "      <th>2</th>\n",
       "      <td>-0.213710</td>\n",
       "      <td>0.692250</td>\n",
       "    </tr>\n",
       "    <tr>\n",
       "      <th>3</th>\n",
       "      <td>-0.375000</td>\n",
       "      <td>0.502190</td>\n",
       "    </tr>\n",
       "    <tr>\n",
       "      <th>4</th>\n",
       "      <td>-0.513250</td>\n",
       "      <td>0.465640</td>\n",
       "    </tr>\n",
       "    <tr>\n",
       "      <th>...</th>\n",
       "      <td>...</td>\n",
       "      <td>...</td>\n",
       "    </tr>\n",
       "    <tr>\n",
       "      <th>113</th>\n",
       "      <td>-0.720620</td>\n",
       "      <td>0.538740</td>\n",
       "    </tr>\n",
       "    <tr>\n",
       "      <th>114</th>\n",
       "      <td>-0.593890</td>\n",
       "      <td>0.494880</td>\n",
       "    </tr>\n",
       "    <tr>\n",
       "      <th>115</th>\n",
       "      <td>-0.484450</td>\n",
       "      <td>0.999270</td>\n",
       "    </tr>\n",
       "    <tr>\n",
       "      <th>116</th>\n",
       "      <td>-0.006336</td>\n",
       "      <td>0.999270</td>\n",
       "    </tr>\n",
       "    <tr>\n",
       "      <th>117</th>\n",
       "      <td>0.632650</td>\n",
       "      <td>-0.030612</td>\n",
       "    </tr>\n",
       "  </tbody>\n",
       "</table>\n",
       "<p>118 rows × 2 columns</p>\n",
       "</div>"
      ],
      "text/plain": [
       "       test-1    test-2\n",
       "0    0.051267  0.699560\n",
       "1   -0.092742  0.684940\n",
       "2   -0.213710  0.692250\n",
       "3   -0.375000  0.502190\n",
       "4   -0.513250  0.465640\n",
       "..        ...       ...\n",
       "113 -0.720620  0.538740\n",
       "114 -0.593890  0.494880\n",
       "115 -0.484450  0.999270\n",
       "116 -0.006336  0.999270\n",
       "117  0.632650 -0.030612\n",
       "\n",
       "[118 rows x 2 columns]"
      ]
     },
     "execution_count": 8,
     "metadata": {},
     "output_type": "execute_result"
    }
   ],
   "source": [
    "X"
   ]
  },
  {
   "cell_type": "code",
   "execution_count": 9,
   "id": "3b3d8544",
   "metadata": {
    "execution": {
     "iopub.execute_input": "2022-10-07T12:11:01.141745Z",
     "iopub.status.busy": "2022-10-07T12:11:01.140904Z",
     "iopub.status.idle": "2022-10-07T12:11:01.150538Z",
     "shell.execute_reply": "2022-10-07T12:11:01.149252Z"
    },
    "papermill": {
     "duration": 0.018639,
     "end_time": "2022-10-07T12:11:01.152905",
     "exception": false,
     "start_time": "2022-10-07T12:11:01.134266",
     "status": "completed"
    },
    "tags": []
   },
   "outputs": [
    {
     "data": {
      "text/plain": [
       "0       True\n",
       "1       True\n",
       "2       True\n",
       "3       True\n",
       "4       True\n",
       "       ...  \n",
       "113    False\n",
       "114    False\n",
       "115    False\n",
       "116    False\n",
       "117    False\n",
       "Name: selected, Length: 118, dtype: bool"
      ]
     },
     "execution_count": 9,
     "metadata": {},
     "output_type": "execute_result"
    }
   ],
   "source": [
    "y==1"
   ]
  },
  {
   "cell_type": "code",
   "execution_count": 10,
   "id": "99efe24b",
   "metadata": {
    "execution": {
     "iopub.execute_input": "2022-10-07T12:11:01.166965Z",
     "iopub.status.busy": "2022-10-07T12:11:01.166029Z",
     "iopub.status.idle": "2022-10-07T12:11:01.182694Z",
     "shell.execute_reply": "2022-10-07T12:11:01.181343Z"
    },
    "papermill": {
     "duration": 0.026155,
     "end_time": "2022-10-07T12:11:01.185224",
     "exception": false,
     "start_time": "2022-10-07T12:11:01.159069",
     "status": "completed"
    },
    "tags": []
   },
   "outputs": [
    {
     "data": {
      "text/plain": [
       "0     0.051267\n",
       "1    -0.092742\n",
       "2    -0.213710\n",
       "3    -0.375000\n",
       "4    -0.513250\n",
       "5    -0.524770\n",
       "6    -0.398040\n",
       "7    -0.305880\n",
       "8     0.016705\n",
       "9     0.131910\n",
       "10    0.385370\n",
       "11    0.529380\n",
       "12    0.638820\n",
       "13    0.736750\n",
       "14    0.546660\n",
       "15    0.322000\n",
       "16    0.166470\n",
       "17   -0.046659\n",
       "18   -0.173390\n",
       "19   -0.478690\n",
       "20   -0.605410\n",
       "21   -0.628460\n",
       "22   -0.593890\n",
       "23   -0.421080\n",
       "24   -0.115780\n",
       "25    0.201040\n",
       "26    0.466010\n",
       "27    0.673390\n",
       "28   -0.138820\n",
       "29   -0.294350\n",
       "30   -0.265550\n",
       "31   -0.161870\n",
       "32   -0.173390\n",
       "33   -0.282830\n",
       "34   -0.363480\n",
       "35   -0.300120\n",
       "36   -0.236750\n",
       "37   -0.063940\n",
       "38    0.062788\n",
       "39    0.229840\n",
       "40    0.293200\n",
       "41    0.483290\n",
       "42    0.644590\n",
       "43    0.460250\n",
       "44    0.627300\n",
       "45    0.575460\n",
       "46    0.725230\n",
       "47    0.224080\n",
       "48    0.442970\n",
       "49    0.322000\n",
       "50    0.137670\n",
       "51   -0.006336\n",
       "52   -0.092742\n",
       "53   -0.207950\n",
       "54   -0.207950\n",
       "55   -0.438360\n",
       "56   -0.219470\n",
       "57   -0.138820\n",
       "Name: test-1, dtype: float64"
      ]
     },
     "execution_count": 10,
     "metadata": {},
     "output_type": "execute_result"
    }
   ],
   "source": [
    "X[y==1]['test-1']"
   ]
  },
  {
   "cell_type": "code",
   "execution_count": 11,
   "id": "9b792556",
   "metadata": {
    "execution": {
     "iopub.execute_input": "2022-10-07T12:11:01.199223Z",
     "iopub.status.busy": "2022-10-07T12:11:01.198348Z",
     "iopub.status.idle": "2022-10-07T12:11:01.692015Z",
     "shell.execute_reply": "2022-10-07T12:11:01.690674Z"
    },
    "papermill": {
     "duration": 0.503517,
     "end_time": "2022-10-07T12:11:01.694893",
     "exception": false,
     "start_time": "2022-10-07T12:11:01.191376",
     "status": "completed"
    },
    "tags": []
   },
   "outputs": [
    {
     "data": {
      "text/plain": [
       "<matplotlib.legend.Legend at 0x7fb2944c3b90>"
      ]
     },
     "execution_count": 11,
     "metadata": {},
     "output_type": "execute_result"
    },
    {
     "data": {
      "image/png": "[encoded data removed]",
      "text/plain": [
       "<Figure size 432x288 with 1 Axes>"
      ]
     },
     "metadata": {
      "image/png": {
       "height": 291,
       "width": 438
      },
      "needs_background": "light"
     },
     "output_type": "display_data"
    }
   ],
   "source": [
    "# Implement scatter plot to visualize decision boundary\n",
    "plt.scatter(X[y==1]['test-1'],X[y==1]['test-2'],c='red',label=\"selected\")\n",
    "plt.scatter(X[y==0]['test-1'],X[y==0]['test-2'],c='blue',label=\"not-selected\")\n",
    "plt.xlabel(\"Test-1\")\n",
    "plt.ylabel(\"Test-2\")\n",
    "plt.figlegend()\n"
   ]
  },
  {
   "cell_type": "code",
   "execution_count": 12,
   "id": "171bd5d3",
   "metadata": {
    "execution": {
     "iopub.execute_input": "2022-10-07T12:11:01.709817Z",
     "iopub.status.busy": "2022-10-07T12:11:01.709376Z",
     "iopub.status.idle": "2022-10-07T12:11:01.719870Z",
     "shell.execute_reply": "2022-10-07T12:11:01.717958Z"
    },
    "papermill": {
     "duration": 0.021302,
     "end_time": "2022-10-07T12:11:01.722912",
     "exception": false,
     "start_time": "2022-10-07T12:11:01.701610",
     "status": "completed"
    },
    "tags": []
   },
   "outputs": [],
   "source": [
    "def plot_boundary(clf, X, y, grid_step=0.01, poly_featurizer=None):\n",
    "    x_min, x_max = X[:, 0].min() - 0.1, X[:, 0].max() + 0.1\n",
    "    y_min, y_max = X[:, 1].min() - 0.1, X[:, 1].max() + 0.1\n",
    "    xx, yy = np.meshgrid(\n",
    "        np.arange(x_min, x_max, grid_step), np.arange(y_min, y_max, grid_step)\n",
    "    )\n",
    "\n",
    "    # to every point from [x_min, m_max]x[y_min, y_max]\n",
    "    # we put in correspondence its own color\n",
    "    Z = clf.predict(poly_featurizer.transform(np.c_[xx.ravel(), yy.ravel()]))\n",
    "    Z = Z.reshape(xx.shape)\n",
    "    plt.contour(xx, yy, Z, cmap=plt.cm.Paired)"
   ]
  },
  {
   "cell_type": "code",
   "execution_count": 13,
   "id": "b45d8dbc",
   "metadata": {
    "execution": {
     "iopub.execute_input": "2022-10-07T12:11:01.738749Z",
     "iopub.status.busy": "2022-10-07T12:11:01.738317Z",
     "iopub.status.idle": "2022-10-07T12:11:01.747627Z",
     "shell.execute_reply": "2022-10-07T12:11:01.746234Z"
    },
    "papermill": {
     "duration": 0.020449,
     "end_time": "2022-10-07T12:11:01.750168",
     "exception": false,
     "start_time": "2022-10-07T12:11:01.729719",
     "status": "completed"
    },
    "tags": []
   },
   "outputs": [],
   "source": [
    "poly=PolynomialFeatures(6)\n",
    "X_poly=poly.fit_transform(X)\n"
   ]
  },
  {
   "cell_type": "code",
   "execution_count": 14,
   "id": "abdcc77f",
   "metadata": {
    "execution": {
     "iopub.execute_input": "2022-10-07T12:11:01.765271Z",
     "iopub.status.busy": "2022-10-07T12:11:01.764281Z",
     "iopub.status.idle": "2022-10-07T12:11:01.771997Z",
     "shell.execute_reply": "2022-10-07T12:11:01.770631Z"
    },
    "papermill": {
     "duration": 0.018118,
     "end_time": "2022-10-07T12:11:01.774699",
     "exception": false,
     "start_time": "2022-10-07T12:11:01.756581",
     "status": "completed"
    },
    "tags": []
   },
   "outputs": [
    {
     "data": {
      "text/plain": [
       "(118, 28)"
      ]
     },
     "execution_count": 14,
     "metadata": {},
     "output_type": "execute_result"
    }
   ],
   "source": [
    "X_poly.shape"
   ]
  },
  {
   "cell_type": "code",
   "execution_count": 15,
   "id": "d23b3eee",
   "metadata": {
    "execution": {
     "iopub.execute_input": "2022-10-07T12:11:01.790668Z",
     "iopub.status.busy": "2022-10-07T12:11:01.790232Z",
     "iopub.status.idle": "2022-10-07T12:11:01.795338Z",
     "shell.execute_reply": "2022-10-07T12:11:01.793897Z"
    },
    "papermill": {
     "duration": 0.017166,
     "end_time": "2022-10-07T12:11:01.798388",
     "exception": false,
     "start_time": "2022-10-07T12:11:01.781222",
     "status": "completed"
    },
    "tags": []
   },
   "outputs": [],
   "source": [
    "# logr=LogisticRegression()\n",
    "# logr.fit(X_poly,y)\n",
    "# plot_boundary(logr,X,y,0.005,None)"
   ]
  }
 ],
 "metadata": {
  "kernelspec": {
   "display_name": "Python 3",
   "language": "python",
   "name": "python3"
  },
  "language_info": {
   "codemirror_mode": {
    "name": "ipython",
    "version": 3
   },
   "file_extension": ".py",
   "mimetype": "text/x-python",
   "name": "python",
   "nbconvert_exporter": "python",
   "pygments_lexer": "ipython3",
   "version": "3.7.12"
  },
  "papermill": {
   "default_parameters": {},
   "duration": 13.532812,
   "end_time": "2022-10-07T12:11:02.629905",
   "environment_variables": {},
   "exception": null,
   "input_path": "__notebook__.ipynb",
   "output_path": "__notebook__.ipynb",
   "parameters": {},
   "start_time": "2022-10-07T12:10:49.097093",
   "version": "2.3.4"
  }
 },
 "nbformat": 4,
 "nbformat_minor": 5
}
