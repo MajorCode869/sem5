{
 "cells": [
  {
   "cell_type": "code",
   "execution_count": 1,
   "id": "c19e52a6",
   "metadata": {
    "_cell_guid": "b1076dfc-b9ad-4769-8c92-a6c4dae69d19",
    "_uuid": "8f2839f25d086af736a60e9eeb907d3b93b6e0e5",
    "execution": {
     "iopub.execute_input": "2022-08-14T11:37:26.125012Z",
     "iopub.status.busy": "2022-08-14T11:37:26.124386Z",
     "iopub.status.idle": "2022-08-14T11:37:27.210072Z",
     "shell.execute_reply": "2022-08-14T11:37:27.208863Z"
    },
    "papermill": {
     "duration": 1.104408,
     "end_time": "2022-08-14T11:37:27.213096",
     "exception": false,
     "start_time": "2022-08-14T11:37:26.108688",
     "status": "completed"
    },
    "tags": []
   },
   "outputs": [
    {
     "name": "stdout",
     "output_type": "stream",
     "text": [
      "/kaggle/input/microsoft-adventure-works-cycles-customer-data/AWCustomers.csv\n",
      "/kaggle/input/microsoft-adventure-works-cycles-customer-data/AWTest-Classification.csv\n",
      "/kaggle/input/microsoft-adventure-works-cycles-customer-data/AWSales.csv\n",
      "/kaggle/input/microsoft-adventure-works-cycles-customer-data/AWTest-Regression.csv\n"
     ]
    }
   ],
   "source": [
    "# This Python 3 environment comes with many helpful analytics libraries installed\n",
    "# It is defined by the kaggle/python Docker image: https://github.com/kaggle/docker-python\n",
    "# For example, here's several helpful packages to load\n",
    "\n",
    "import numpy as np # linear algebra\n",
    "import pandas as pd # data processing, CSV file I/O (e.g. pd.read_csv)\n",
    "from sklearn.preprocessing import MinMaxScaler\n",
    "from sklearn.preprocessing import StandardScaler\n",
    "# Input data files are available in the read-only \"../input/\" directory\n",
    "# For example, running this (by clicking run or pressing Shift+Enter) will list all files under the input directory\n",
    "pd.set_option('display.max_columns', None)\n",
    "import os\n",
    "for dirname, _, filenames in os.walk('/kaggle/input'):\n",
    "    for filename in filenames:\n",
    "        print(os.path.join(dirname, filename))\n",
    "\n",
    "# You can write up to 20GB to the current directory (/kaggle/working/) that gets preserved as output when you create a version using \"Save & Run All\" \n",
    "# You can also write temporary files to /kaggle/temp/, but they won't be saved outside of the current session"
   ]
  },
  {
   "cell_type": "code",
   "execution_count": 2,
   "id": "16fff253",
   "metadata": {
    "execution": {
     "iopub.execute_input": "2022-08-14T11:37:27.241937Z",
     "iopub.status.busy": "2022-08-14T11:37:27.241129Z",
     "iopub.status.idle": "2022-08-14T11:37:27.450070Z",
     "shell.execute_reply": "2022-08-14T11:37:27.448907Z"
    },
    "papermill": {
     "duration": 0.225219,
     "end_time": "2022-08-14T11:37:27.452658",
     "exception": false,
     "start_time": "2022-08-14T11:37:27.227439",
     "status": "completed"
    },
    "tags": []
   },
   "outputs": [],
   "source": [
    "df_customer=pd.read_csv(\"../input/microsoft-adventure-works-cycles-customer-data/AWCustomers.csv\")\n",
    "df_sales=pd.read_csv(\"../input/microsoft-adventure-works-cycles-customer-data/AWSales.csv\")"
   ]
  },
  {
   "cell_type": "code",
   "execution_count": 3,
   "id": "da45bf92",
   "metadata": {
    "execution": {
     "iopub.execute_input": "2022-08-14T11:37:27.480711Z",
     "iopub.status.busy": "2022-08-14T11:37:27.480308Z",
     "iopub.status.idle": "2022-08-14T11:37:27.489154Z",
     "shell.execute_reply": "2022-08-14T11:37:27.488336Z"
    },
    "papermill": {
     "duration": 0.026175,
     "end_time": "2022-08-14T11:37:27.491325",
     "exception": false,
     "start_time": "2022-08-14T11:37:27.465150",
     "status": "completed"
    },
    "tags": []
   },
   "outputs": [
    {
     "data": {
      "text/plain": [
       "Index(['CustomerID', 'Title', 'FirstName', 'MiddleName', 'LastName', 'Suffix',\n",
       "       'AddressLine1', 'AddressLine2', 'City', 'StateProvinceName',\n",
       "       'CountryRegionName', 'PostalCode', 'PhoneNumber', 'BirthDate',\n",
       "       'Education', 'Occupation', 'Gender', 'MaritalStatus', 'HomeOwnerFlag',\n",
       "       'NumberCarsOwned', 'NumberChildrenAtHome', 'TotalChildren',\n",
       "       'YearlyIncome', 'LastUpdated'],\n",
       "      dtype='object')"
      ]
     },
     "execution_count": 3,
     "metadata": {},
     "output_type": "execute_result"
    }
   ],
   "source": [
    "df_customer.columns"
   ]
  },
  {
   "cell_type": "code",
   "execution_count": 4,
   "id": "32bfcacd",
   "metadata": {
    "execution": {
     "iopub.execute_input": "2022-08-14T11:37:27.517853Z",
     "iopub.status.busy": "2022-08-14T11:37:27.517432Z",
     "iopub.status.idle": "2022-08-14T11:37:27.524595Z",
     "shell.execute_reply": "2022-08-14T11:37:27.523540Z"
    },
    "papermill": {
     "duration": 0.023027,
     "end_time": "2022-08-14T11:37:27.526759",
     "exception": false,
     "start_time": "2022-08-14T11:37:27.503732",
     "status": "completed"
    },
    "tags": []
   },
   "outputs": [
    {
     "data": {
      "text/plain": [
       "Index(['CustomerID', 'BikeBuyer', 'AvgMonthSpend'], dtype='object')"
      ]
     },
     "execution_count": 4,
     "metadata": {},
     "output_type": "execute_result"
    }
   ],
   "source": [
    "df_sales.columns"
   ]
  },
  {
   "cell_type": "code",
   "execution_count": 5,
   "id": "d8bb8ed2",
   "metadata": {
    "execution": {
     "iopub.execute_input": "2022-08-14T11:37:27.554194Z",
     "iopub.status.busy": "2022-08-14T11:37:27.553513Z",
     "iopub.status.idle": "2022-08-14T11:37:27.570890Z",
     "shell.execute_reply": "2022-08-14T11:37:27.569559Z"
    },
    "papermill": {
     "duration": 0.033828,
     "end_time": "2022-08-14T11:37:27.573415",
     "exception": false,
     "start_time": "2022-08-14T11:37:27.539587",
     "status": "completed"
    },
    "tags": []
   },
   "outputs": [],
   "source": [
    "df=pd.concat([df_customer,df_sales],axis=1)"
   ]
  },
  {
   "cell_type": "code",
   "execution_count": 6,
   "id": "4d0fc5e0",
   "metadata": {
    "execution": {
     "iopub.execute_input": "2022-08-14T11:37:27.602459Z",
     "iopub.status.busy": "2022-08-14T11:37:27.602006Z",
     "iopub.status.idle": "2022-08-14T11:37:27.609909Z",
     "shell.execute_reply": "2022-08-14T11:37:27.608798Z"
    },
    "papermill": {
     "duration": 0.026123,
     "end_time": "2022-08-14T11:37:27.612096",
     "exception": false,
     "start_time": "2022-08-14T11:37:27.585973",
     "status": "completed"
    },
    "tags": []
   },
   "outputs": [
    {
     "data": {
      "text/plain": [
       "Index(['CustomerID', 'Title', 'FirstName', 'MiddleName', 'LastName', 'Suffix',\n",
       "       'AddressLine1', 'AddressLine2', 'City', 'StateProvinceName',\n",
       "       'CountryRegionName', 'PostalCode', 'PhoneNumber', 'BirthDate',\n",
       "       'Education', 'Occupation', 'Gender', 'MaritalStatus', 'HomeOwnerFlag',\n",
       "       'NumberCarsOwned', 'NumberChildrenAtHome', 'TotalChildren',\n",
       "       'YearlyIncome', 'LastUpdated', 'CustomerID', 'BikeBuyer',\n",
       "       'AvgMonthSpend'],\n",
       "      dtype='object')"
      ]
     },
     "execution_count": 6,
     "metadata": {},
     "output_type": "execute_result"
    }
   ],
   "source": [
    "df.columns"
   ]
  },
  {
   "cell_type": "markdown",
   "id": "6256deec",
   "metadata": {
    "execution": {
     "iopub.execute_input": "2022-08-09T02:53:15.932885Z",
     "iopub.status.busy": "2022-08-09T02:53:15.931725Z",
     "iopub.status.idle": "2022-08-09T02:53:15.939873Z",
     "shell.execute_reply": "2022-08-09T02:53:15.938566Z",
     "shell.execute_reply.started": "2022-08-09T02:53:15.932830Z"
    },
    "papermill": {
     "duration": 0.012279,
     "end_time": "2022-08-14T11:37:27.637057",
     "exception": false,
     "start_time": "2022-08-14T11:37:27.624778",
     "status": "completed"
    },
    "tags": []
   },
   "source": [
    "Number of columns in the dataset is:27"
   ]
  },
  {
   "cell_type": "code",
   "execution_count": 7,
   "id": "04e58c97",
   "metadata": {
    "execution": {
     "iopub.execute_input": "2022-08-14T11:37:27.665288Z",
     "iopub.status.busy": "2022-08-14T11:37:27.664267Z",
     "iopub.status.idle": "2022-08-14T11:37:27.670024Z",
     "shell.execute_reply": "2022-08-14T11:37:27.669285Z"
    },
    "papermill": {
     "duration": 0.022593,
     "end_time": "2022-08-14T11:37:27.672091",
     "exception": false,
     "start_time": "2022-08-14T11:37:27.649498",
     "status": "completed"
    },
    "tags": []
   },
   "outputs": [
    {
     "data": {
      "text/plain": [
       "27"
      ]
     },
     "execution_count": 7,
     "metadata": {},
     "output_type": "execute_result"
    }
   ],
   "source": [
    "df.shape[1]\n"
   ]
  },
  {
   "cell_type": "code",
   "execution_count": 8,
   "id": "cbae4ba9",
   "metadata": {
    "execution": {
     "iopub.execute_input": "2022-08-14T11:37:27.699932Z",
     "iopub.status.busy": "2022-08-14T11:37:27.698770Z",
     "iopub.status.idle": "2022-08-14T11:37:27.735128Z",
     "shell.execute_reply": "2022-08-14T11:37:27.734065Z"
    },
    "papermill": {
     "duration": 0.053007,
     "end_time": "2022-08-14T11:37:27.737782",
     "exception": false,
     "start_time": "2022-08-14T11:37:27.684775",
     "status": "completed"
    },
    "tags": []
   },
   "outputs": [],
   "source": [
    "df.drop(['CustomerID'],axis=1,inplace=True)"
   ]
  },
  {
   "cell_type": "code",
   "execution_count": 9,
   "id": "ddeec198",
   "metadata": {
    "execution": {
     "iopub.execute_input": "2022-08-14T11:37:27.764996Z",
     "iopub.status.busy": "2022-08-14T11:37:27.764601Z",
     "iopub.status.idle": "2022-08-14T11:37:27.792295Z",
     "shell.execute_reply": "2022-08-14T11:37:27.791106Z"
    },
    "papermill": {
     "duration": 0.044146,
     "end_time": "2022-08-14T11:37:27.794640",
     "exception": false,
     "start_time": "2022-08-14T11:37:27.750494",
     "status": "completed"
    },
    "tags": []
   },
   "outputs": [
    {
     "data": {
      "text/html": [
       "<div>\n",
       "<style scoped>\n",
       "    .dataframe tbody tr th:only-of-type {\n",
       "        vertical-align: middle;\n",
       "    }\n",
       "\n",
       "    .dataframe tbody tr th {\n",
       "        vertical-align: top;\n",
       "    }\n",
       "\n",
       "    .dataframe thead th {\n",
       "        text-align: right;\n",
       "    }\n",
       "</style>\n",
       "<table border=\"1\" class=\"dataframe\">\n",
       "  <thead>\n",
       "    <tr style=\"text-align: right;\">\n",
       "      <th></th>\n",
       "      <th>Title</th>\n",
       "      <th>FirstName</th>\n",
       "      <th>MiddleName</th>\n",
       "      <th>LastName</th>\n",
       "      <th>Suffix</th>\n",
       "      <th>AddressLine1</th>\n",
       "      <th>AddressLine2</th>\n",
       "      <th>City</th>\n",
       "      <th>StateProvinceName</th>\n",
       "      <th>CountryRegionName</th>\n",
       "      <th>PostalCode</th>\n",
       "      <th>PhoneNumber</th>\n",
       "      <th>BirthDate</th>\n",
       "      <th>Education</th>\n",
       "      <th>Occupation</th>\n",
       "      <th>Gender</th>\n",
       "      <th>MaritalStatus</th>\n",
       "      <th>HomeOwnerFlag</th>\n",
       "      <th>NumberCarsOwned</th>\n",
       "      <th>NumberChildrenAtHome</th>\n",
       "      <th>TotalChildren</th>\n",
       "      <th>YearlyIncome</th>\n",
       "      <th>LastUpdated</th>\n",
       "      <th>BikeBuyer</th>\n",
       "      <th>AvgMonthSpend</th>\n",
       "    </tr>\n",
       "  </thead>\n",
       "  <tbody>\n",
       "    <tr>\n",
       "      <th>0</th>\n",
       "      <td>NaN</td>\n",
       "      <td>Chad</td>\n",
       "      <td>C</td>\n",
       "      <td>Yuan</td>\n",
       "      <td>NaN</td>\n",
       "      <td>7090 C. Mount Hood</td>\n",
       "      <td>NaN</td>\n",
       "      <td>Wollongong</td>\n",
       "      <td>New South Wales</td>\n",
       "      <td>Australia</td>\n",
       "      <td>2500</td>\n",
       "      <td>1 (11) 500 555-0115</td>\n",
       "      <td>1987-11-13</td>\n",
       "      <td>Bachelors</td>\n",
       "      <td>Clerical</td>\n",
       "      <td>M</td>\n",
       "      <td>M</td>\n",
       "      <td>1</td>\n",
       "      <td>3</td>\n",
       "      <td>0</td>\n",
       "      <td>1</td>\n",
       "      <td>81916</td>\n",
       "      <td>2017-03-06</td>\n",
       "      <td>1.0</td>\n",
       "      <td>50.97</td>\n",
       "    </tr>\n",
       "    <tr>\n",
       "      <th>1</th>\n",
       "      <td>NaN</td>\n",
       "      <td>Ryan</td>\n",
       "      <td>NaN</td>\n",
       "      <td>Perry</td>\n",
       "      <td>NaN</td>\n",
       "      <td>3651 Willow Lake Rd</td>\n",
       "      <td>NaN</td>\n",
       "      <td>Shawnee</td>\n",
       "      <td>British Columbia</td>\n",
       "      <td>Canada</td>\n",
       "      <td>V9B 2C3</td>\n",
       "      <td>787-555-0136</td>\n",
       "      <td>1972-07-21</td>\n",
       "      <td>Partial College</td>\n",
       "      <td>Clerical</td>\n",
       "      <td>M</td>\n",
       "      <td>M</td>\n",
       "      <td>1</td>\n",
       "      <td>2</td>\n",
       "      <td>1</td>\n",
       "      <td>2</td>\n",
       "      <td>81076</td>\n",
       "      <td>2017-03-06</td>\n",
       "      <td>1.0</td>\n",
       "      <td>53.11</td>\n",
       "    </tr>\n",
       "    <tr>\n",
       "      <th>2</th>\n",
       "      <td>NaN</td>\n",
       "      <td>Julia</td>\n",
       "      <td>NaN</td>\n",
       "      <td>Thompson</td>\n",
       "      <td>NaN</td>\n",
       "      <td>1774 Tice Valley Blvd.</td>\n",
       "      <td>NaN</td>\n",
       "      <td>West Covina</td>\n",
       "      <td>California</td>\n",
       "      <td>United States</td>\n",
       "      <td>91791</td>\n",
       "      <td>120-555-0111</td>\n",
       "      <td>1985-11-09</td>\n",
       "      <td>Bachelors</td>\n",
       "      <td>Clerical</td>\n",
       "      <td>F</td>\n",
       "      <td>S</td>\n",
       "      <td>0</td>\n",
       "      <td>3</td>\n",
       "      <td>0</td>\n",
       "      <td>0</td>\n",
       "      <td>86387</td>\n",
       "      <td>2017-03-06</td>\n",
       "      <td>1.0</td>\n",
       "      <td>54.08</td>\n",
       "    </tr>\n",
       "    <tr>\n",
       "      <th>3</th>\n",
       "      <td>NaN</td>\n",
       "      <td>Theodore</td>\n",
       "      <td>NaN</td>\n",
       "      <td>Gomez</td>\n",
       "      <td>NaN</td>\n",
       "      <td>2103 Baldwin Dr</td>\n",
       "      <td>NaN</td>\n",
       "      <td>Liverpool</td>\n",
       "      <td>England</td>\n",
       "      <td>United Kingdom</td>\n",
       "      <td>L4 4HB</td>\n",
       "      <td>1 (11) 500 555-0167</td>\n",
       "      <td>1977-10-18</td>\n",
       "      <td>Partial College</td>\n",
       "      <td>Skilled Manual</td>\n",
       "      <td>M</td>\n",
       "      <td>M</td>\n",
       "      <td>1</td>\n",
       "      <td>2</td>\n",
       "      <td>1</td>\n",
       "      <td>2</td>\n",
       "      <td>61481</td>\n",
       "      <td>2017-03-06</td>\n",
       "      <td>1.0</td>\n",
       "      <td>56.93</td>\n",
       "    </tr>\n",
       "    <tr>\n",
       "      <th>4</th>\n",
       "      <td>NaN</td>\n",
       "      <td>Marshall</td>\n",
       "      <td>J</td>\n",
       "      <td>Shan</td>\n",
       "      <td>NaN</td>\n",
       "      <td>Am Gallberg 234</td>\n",
       "      <td>NaN</td>\n",
       "      <td>Werne</td>\n",
       "      <td>Nordrhein-Westfalen</td>\n",
       "      <td>Germany</td>\n",
       "      <td>59368</td>\n",
       "      <td>1 (11) 500 555-0113</td>\n",
       "      <td>1975-02-05</td>\n",
       "      <td>Partial College</td>\n",
       "      <td>Skilled Manual</td>\n",
       "      <td>M</td>\n",
       "      <td>S</td>\n",
       "      <td>1</td>\n",
       "      <td>1</td>\n",
       "      <td>0</td>\n",
       "      <td>0</td>\n",
       "      <td>51804</td>\n",
       "      <td>2017-03-06</td>\n",
       "      <td>1.0</td>\n",
       "      <td>55.41</td>\n",
       "    </tr>\n",
       "  </tbody>\n",
       "</table>\n",
       "</div>"
      ],
      "text/plain": [
       "  Title FirstName MiddleName  LastName Suffix            AddressLine1  \\\n",
       "0   NaN      Chad          C      Yuan    NaN      7090 C. Mount Hood   \n",
       "1   NaN      Ryan        NaN     Perry    NaN     3651 Willow Lake Rd   \n",
       "2   NaN     Julia        NaN  Thompson    NaN  1774 Tice Valley Blvd.   \n",
       "3   NaN  Theodore        NaN     Gomez    NaN         2103 Baldwin Dr   \n",
       "4   NaN  Marshall          J      Shan    NaN         Am Gallberg 234   \n",
       "\n",
       "  AddressLine2         City    StateProvinceName CountryRegionName PostalCode  \\\n",
       "0          NaN   Wollongong      New South Wales         Australia       2500   \n",
       "1          NaN      Shawnee     British Columbia            Canada    V9B 2C3   \n",
       "2          NaN  West Covina           California     United States      91791   \n",
       "3          NaN    Liverpool              England    United Kingdom     L4 4HB   \n",
       "4          NaN        Werne  Nordrhein-Westfalen           Germany      59368   \n",
       "\n",
       "           PhoneNumber   BirthDate        Education      Occupation Gender  \\\n",
       "0  1 (11) 500 555-0115  1987-11-13        Bachelors        Clerical      M   \n",
       "1         787-555-0136  1972-07-21  Partial College        Clerical      M   \n",
       "2         120-555-0111  1985-11-09        Bachelors        Clerical      F   \n",
       "3  1 (11) 500 555-0167  1977-10-18  Partial College  Skilled Manual      M   \n",
       "4  1 (11) 500 555-0113  1975-02-05  Partial College  Skilled Manual      M   \n",
       "\n",
       "  MaritalStatus  HomeOwnerFlag  NumberCarsOwned  NumberChildrenAtHome  \\\n",
       "0             M              1                3                     0   \n",
       "1             M              1                2                     1   \n",
       "2             S              0                3                     0   \n",
       "3             M              1                2                     1   \n",
       "4             S              1                1                     0   \n",
       "\n",
       "   TotalChildren  YearlyIncome LastUpdated  BikeBuyer  AvgMonthSpend  \n",
       "0              1         81916  2017-03-06        1.0          50.97  \n",
       "1              2         81076  2017-03-06        1.0          53.11  \n",
       "2              0         86387  2017-03-06        1.0          54.08  \n",
       "3              2         61481  2017-03-06        1.0          56.93  \n",
       "4              0         51804  2017-03-06        1.0          55.41  "
      ]
     },
     "execution_count": 9,
     "metadata": {},
     "output_type": "execute_result"
    }
   ],
   "source": [
    "df.head()"
   ]
  },
  {
   "cell_type": "code",
   "execution_count": 10,
   "id": "6e0b2457",
   "metadata": {
    "execution": {
     "iopub.execute_input": "2022-08-14T11:37:27.822802Z",
     "iopub.status.busy": "2022-08-14T11:37:27.822125Z",
     "iopub.status.idle": "2022-08-14T11:37:27.848319Z",
     "shell.execute_reply": "2022-08-14T11:37:27.847191Z"
    },
    "papermill": {
     "duration": 0.043254,
     "end_time": "2022-08-14T11:37:27.850946",
     "exception": false,
     "start_time": "2022-08-14T11:37:27.807692",
     "status": "completed"
    },
    "tags": []
   },
   "outputs": [
    {
     "data": {
      "text/html": [
       "<div>\n",
       "<style scoped>\n",
       "    .dataframe tbody tr th:only-of-type {\n",
       "        vertical-align: middle;\n",
       "    }\n",
       "\n",
       "    .dataframe tbody tr th {\n",
       "        vertical-align: top;\n",
       "    }\n",
       "\n",
       "    .dataframe thead th {\n",
       "        text-align: right;\n",
       "    }\n",
       "</style>\n",
       "<table border=\"1\" class=\"dataframe\">\n",
       "  <thead>\n",
       "    <tr style=\"text-align: right;\">\n",
       "      <th></th>\n",
       "      <th>Title</th>\n",
       "      <th>FirstName</th>\n",
       "      <th>MiddleName</th>\n",
       "      <th>LastName</th>\n",
       "      <th>Suffix</th>\n",
       "      <th>AddressLine1</th>\n",
       "      <th>AddressLine2</th>\n",
       "      <th>City</th>\n",
       "      <th>StateProvinceName</th>\n",
       "      <th>CountryRegionName</th>\n",
       "      <th>PostalCode</th>\n",
       "      <th>PhoneNumber</th>\n",
       "      <th>BirthDate</th>\n",
       "      <th>Education</th>\n",
       "      <th>Occupation</th>\n",
       "      <th>Gender</th>\n",
       "      <th>MaritalStatus</th>\n",
       "      <th>HomeOwnerFlag</th>\n",
       "      <th>NumberCarsOwned</th>\n",
       "      <th>NumberChildrenAtHome</th>\n",
       "      <th>TotalChildren</th>\n",
       "      <th>YearlyIncome</th>\n",
       "      <th>LastUpdated</th>\n",
       "      <th>BikeBuyer</th>\n",
       "      <th>AvgMonthSpend</th>\n",
       "    </tr>\n",
       "  </thead>\n",
       "  <tbody>\n",
       "    <tr>\n",
       "      <th>18356</th>\n",
       "      <td>NaN</td>\n",
       "      <td>Grace</td>\n",
       "      <td>C</td>\n",
       "      <td>Bailey</td>\n",
       "      <td>NaN</td>\n",
       "      <td>6627 Camelback Ct.</td>\n",
       "      <td>NaN</td>\n",
       "      <td>Coronado</td>\n",
       "      <td>California</td>\n",
       "      <td>United States</td>\n",
       "      <td>92118</td>\n",
       "      <td>292-555-0130</td>\n",
       "      <td>1990-11-11</td>\n",
       "      <td>Graduate Degree</td>\n",
       "      <td>Skilled Manual</td>\n",
       "      <td>F</td>\n",
       "      <td>M</td>\n",
       "      <td>0</td>\n",
       "      <td>1</td>\n",
       "      <td>0</td>\n",
       "      <td>2</td>\n",
       "      <td>52953</td>\n",
       "      <td>2017-03-06</td>\n",
       "      <td>NaN</td>\n",
       "      <td>NaN</td>\n",
       "    </tr>\n",
       "    <tr>\n",
       "      <th>18357</th>\n",
       "      <td>NaN</td>\n",
       "      <td>Tasha</td>\n",
       "      <td>NaN</td>\n",
       "      <td>Deng</td>\n",
       "      <td>NaN</td>\n",
       "      <td>9627 Kendall Rd</td>\n",
       "      <td>NaN</td>\n",
       "      <td>Port Macquarie</td>\n",
       "      <td>New South Wales</td>\n",
       "      <td>Australia</td>\n",
       "      <td>2444</td>\n",
       "      <td>1 (11) 500 555-0171</td>\n",
       "      <td>1992-10-13</td>\n",
       "      <td>Bachelors</td>\n",
       "      <td>Skilled Manual</td>\n",
       "      <td>F</td>\n",
       "      <td>S</td>\n",
       "      <td>0</td>\n",
       "      <td>2</td>\n",
       "      <td>0</td>\n",
       "      <td>0</td>\n",
       "      <td>60992</td>\n",
       "      <td>2017-03-06</td>\n",
       "      <td>NaN</td>\n",
       "      <td>NaN</td>\n",
       "    </tr>\n",
       "    <tr>\n",
       "      <th>18358</th>\n",
       "      <td>NaN</td>\n",
       "      <td>Jaclyn</td>\n",
       "      <td>NaN</td>\n",
       "      <td>Zhang</td>\n",
       "      <td>NaN</td>\n",
       "      <td>4364 Viera Avenue</td>\n",
       "      <td>NaN</td>\n",
       "      <td>Beaverton</td>\n",
       "      <td>Oregon</td>\n",
       "      <td>United States</td>\n",
       "      <td>97005</td>\n",
       "      <td>819-555-0110</td>\n",
       "      <td>1983-11-24</td>\n",
       "      <td>Partial College</td>\n",
       "      <td>Skilled Manual</td>\n",
       "      <td>F</td>\n",
       "      <td>S</td>\n",
       "      <td>0</td>\n",
       "      <td>2</td>\n",
       "      <td>0</td>\n",
       "      <td>0</td>\n",
       "      <td>51859</td>\n",
       "      <td>2017-03-06</td>\n",
       "      <td>NaN</td>\n",
       "      <td>NaN</td>\n",
       "    </tr>\n",
       "    <tr>\n",
       "      <th>18359</th>\n",
       "      <td>NaN</td>\n",
       "      <td>Erin</td>\n",
       "      <td>I</td>\n",
       "      <td>Reed</td>\n",
       "      <td>NaN</td>\n",
       "      <td>3866 Mt. Everest Court</td>\n",
       "      <td>NaN</td>\n",
       "      <td>Vancouver</td>\n",
       "      <td>British Columbia</td>\n",
       "      <td>Canada</td>\n",
       "      <td>V7L 4J4</td>\n",
       "      <td>791-555-0118</td>\n",
       "      <td>1995-06-15</td>\n",
       "      <td>High School</td>\n",
       "      <td>Clerical</td>\n",
       "      <td>F</td>\n",
       "      <td>S</td>\n",
       "      <td>0</td>\n",
       "      <td>0</td>\n",
       "      <td>0</td>\n",
       "      <td>0</td>\n",
       "      <td>87177</td>\n",
       "      <td>2017-03-06</td>\n",
       "      <td>NaN</td>\n",
       "      <td>NaN</td>\n",
       "    </tr>\n",
       "    <tr>\n",
       "      <th>18360</th>\n",
       "      <td>NaN</td>\n",
       "      <td>Amanda</td>\n",
       "      <td>NaN</td>\n",
       "      <td>Perry</td>\n",
       "      <td>NaN</td>\n",
       "      <td>7870 Orangewood Dr.</td>\n",
       "      <td>NaN</td>\n",
       "      <td>Grossmont</td>\n",
       "      <td>California</td>\n",
       "      <td>United States</td>\n",
       "      <td>91941</td>\n",
       "      <td>553-555-0122</td>\n",
       "      <td>1986-03-26</td>\n",
       "      <td>Graduate Degree</td>\n",
       "      <td>Professional</td>\n",
       "      <td>F</td>\n",
       "      <td>M</td>\n",
       "      <td>1</td>\n",
       "      <td>2</td>\n",
       "      <td>0</td>\n",
       "      <td>0</td>\n",
       "      <td>136856</td>\n",
       "      <td>2017-03-06</td>\n",
       "      <td>NaN</td>\n",
       "      <td>NaN</td>\n",
       "    </tr>\n",
       "  </tbody>\n",
       "</table>\n",
       "</div>"
      ],
      "text/plain": [
       "      Title FirstName MiddleName LastName Suffix            AddressLine1  \\\n",
       "18356   NaN     Grace          C   Bailey    NaN      6627 Camelback Ct.   \n",
       "18357   NaN     Tasha        NaN     Deng    NaN         9627 Kendall Rd   \n",
       "18358   NaN    Jaclyn        NaN    Zhang    NaN       4364 Viera Avenue   \n",
       "18359   NaN      Erin          I     Reed    NaN  3866 Mt. Everest Court   \n",
       "18360   NaN    Amanda        NaN    Perry    NaN     7870 Orangewood Dr.   \n",
       "\n",
       "      AddressLine2            City StateProvinceName CountryRegionName  \\\n",
       "18356          NaN        Coronado        California     United States   \n",
       "18357          NaN  Port Macquarie   New South Wales         Australia   \n",
       "18358          NaN       Beaverton            Oregon     United States   \n",
       "18359          NaN       Vancouver  British Columbia            Canada   \n",
       "18360          NaN       Grossmont        California     United States   \n",
       "\n",
       "      PostalCode          PhoneNumber   BirthDate        Education  \\\n",
       "18356      92118         292-555-0130  1990-11-11  Graduate Degree   \n",
       "18357       2444  1 (11) 500 555-0171  1992-10-13        Bachelors   \n",
       "18358      97005         819-555-0110  1983-11-24  Partial College   \n",
       "18359    V7L 4J4         791-555-0118  1995-06-15      High School   \n",
       "18360      91941         553-555-0122  1986-03-26  Graduate Degree   \n",
       "\n",
       "           Occupation Gender MaritalStatus  HomeOwnerFlag  NumberCarsOwned  \\\n",
       "18356  Skilled Manual      F             M              0                1   \n",
       "18357  Skilled Manual      F             S              0                2   \n",
       "18358  Skilled Manual      F             S              0                2   \n",
       "18359        Clerical      F             S              0                0   \n",
       "18360    Professional      F             M              1                2   \n",
       "\n",
       "       NumberChildrenAtHome  TotalChildren  YearlyIncome LastUpdated  \\\n",
       "18356                     0              2         52953  2017-03-06   \n",
       "18357                     0              0         60992  2017-03-06   \n",
       "18358                     0              0         51859  2017-03-06   \n",
       "18359                     0              0         87177  2017-03-06   \n",
       "18360                     0              0        136856  2017-03-06   \n",
       "\n",
       "       BikeBuyer  AvgMonthSpend  \n",
       "18356        NaN            NaN  \n",
       "18357        NaN            NaN  \n",
       "18358        NaN            NaN  \n",
       "18359        NaN            NaN  \n",
       "18360        NaN            NaN  "
      ]
     },
     "execution_count": 10,
     "metadata": {},
     "output_type": "execute_result"
    }
   ],
   "source": [
    "df.tail()"
   ]
  },
  {
   "cell_type": "code",
   "execution_count": 11,
   "id": "87083dc9",
   "metadata": {
    "execution": {
     "iopub.execute_input": "2022-08-14T11:37:27.879178Z",
     "iopub.status.busy": "2022-08-14T11:37:27.878779Z",
     "iopub.status.idle": "2022-08-14T11:37:27.889099Z",
     "shell.execute_reply": "2022-08-14T11:37:27.888010Z"
    },
    "papermill": {
     "duration": 0.027002,
     "end_time": "2022-08-14T11:37:27.891446",
     "exception": false,
     "start_time": "2022-08-14T11:37:27.864444",
     "status": "completed"
    },
    "tags": []
   },
   "outputs": [],
   "source": [
    "df.drop(['Title','FirstName','MiddleName','LastName','Suffix','AddressLine2'],axis=1,inplace=True)"
   ]
  },
  {
   "cell_type": "code",
   "execution_count": 12,
   "id": "b876dc7e",
   "metadata": {
    "execution": {
     "iopub.execute_input": "2022-08-14T11:37:27.921251Z",
     "iopub.status.busy": "2022-08-14T11:37:27.920802Z",
     "iopub.status.idle": "2022-08-14T11:37:27.931243Z",
     "shell.execute_reply": "2022-08-14T11:37:27.930393Z"
    },
    "papermill": {
     "duration": 0.028382,
     "end_time": "2022-08-14T11:37:27.933708",
     "exception": false,
     "start_time": "2022-08-14T11:37:27.905326",
     "status": "completed"
    },
    "tags": []
   },
   "outputs": [],
   "source": [
    "df.drop(['PhoneNumber'],axis=1,inplace=True)"
   ]
  },
  {
   "cell_type": "code",
   "execution_count": 13,
   "id": "7f8c7aeb",
   "metadata": {
    "execution": {
     "iopub.execute_input": "2022-08-14T11:37:27.962764Z",
     "iopub.status.busy": "2022-08-14T11:37:27.961968Z",
     "iopub.status.idle": "2022-08-14T11:37:27.970699Z",
     "shell.execute_reply": "2022-08-14T11:37:27.969895Z"
    },
    "papermill": {
     "duration": 0.026116,
     "end_time": "2022-08-14T11:37:27.973087",
     "exception": false,
     "start_time": "2022-08-14T11:37:27.946971",
     "status": "completed"
    },
    "tags": []
   },
   "outputs": [],
   "source": [
    "df.drop(['PostalCode'],axis=1,inplace=True)"
   ]
  },
  {
   "cell_type": "code",
   "execution_count": 14,
   "id": "ec6466ce",
   "metadata": {
    "execution": {
     "iopub.execute_input": "2022-08-14T11:37:28.001266Z",
     "iopub.status.busy": "2022-08-14T11:37:28.000847Z",
     "iopub.status.idle": "2022-08-14T11:37:28.007364Z",
     "shell.execute_reply": "2022-08-14T11:37:28.006263Z"
    },
    "papermill": {
     "duration": 0.023382,
     "end_time": "2022-08-14T11:37:28.009631",
     "exception": false,
     "start_time": "2022-08-14T11:37:27.986249",
     "status": "completed"
    },
    "tags": []
   },
   "outputs": [
    {
     "data": {
      "text/plain": [
       "(17,)"
      ]
     },
     "execution_count": 14,
     "metadata": {},
     "output_type": "execute_result"
    }
   ],
   "source": [
    "df.columns.shape"
   ]
  },
  {
   "cell_type": "code",
   "execution_count": 15,
   "id": "be7f652f",
   "metadata": {
    "execution": {
     "iopub.execute_input": "2022-08-14T11:37:28.038940Z",
     "iopub.status.busy": "2022-08-14T11:37:28.037925Z",
     "iopub.status.idle": "2022-08-14T11:37:28.077469Z",
     "shell.execute_reply": "2022-08-14T11:37:28.076170Z"
    },
    "papermill": {
     "duration": 0.057193,
     "end_time": "2022-08-14T11:37:28.080082",
     "exception": false,
     "start_time": "2022-08-14T11:37:28.022889",
     "status": "completed"
    },
    "tags": []
   },
   "outputs": [
    {
     "data": {
      "text/html": [
       "<div>\n",
       "<style scoped>\n",
       "    .dataframe tbody tr th:only-of-type {\n",
       "        vertical-align: middle;\n",
       "    }\n",
       "\n",
       "    .dataframe tbody tr th {\n",
       "        vertical-align: top;\n",
       "    }\n",
       "\n",
       "    .dataframe thead th {\n",
       "        text-align: right;\n",
       "    }\n",
       "</style>\n",
       "<table border=\"1\" class=\"dataframe\">\n",
       "  <thead>\n",
       "    <tr style=\"text-align: right;\">\n",
       "      <th></th>\n",
       "      <th>HomeOwnerFlag</th>\n",
       "      <th>NumberCarsOwned</th>\n",
       "      <th>NumberChildrenAtHome</th>\n",
       "      <th>TotalChildren</th>\n",
       "      <th>YearlyIncome</th>\n",
       "      <th>BikeBuyer</th>\n",
       "      <th>AvgMonthSpend</th>\n",
       "    </tr>\n",
       "  </thead>\n",
       "  <tbody>\n",
       "    <tr>\n",
       "      <th>count</th>\n",
       "      <td>18361.000000</td>\n",
       "      <td>18361.000000</td>\n",
       "      <td>18361.000000</td>\n",
       "      <td>18361.000000</td>\n",
       "      <td>18361.000000</td>\n",
       "      <td>18355.00000</td>\n",
       "      <td>18355.000000</td>\n",
       "    </tr>\n",
       "    <tr>\n",
       "      <th>mean</th>\n",
       "      <td>0.610588</td>\n",
       "      <td>1.270301</td>\n",
       "      <td>0.338162</td>\n",
       "      <td>0.850389</td>\n",
       "      <td>72754.779642</td>\n",
       "      <td>0.55173</td>\n",
       "      <td>51.767207</td>\n",
       "    </tr>\n",
       "    <tr>\n",
       "      <th>std</th>\n",
       "      <td>0.487630</td>\n",
       "      <td>0.913989</td>\n",
       "      <td>0.568957</td>\n",
       "      <td>0.927315</td>\n",
       "      <td>30686.014313</td>\n",
       "      <td>0.49733</td>\n",
       "      <td>3.438024</td>\n",
       "    </tr>\n",
       "    <tr>\n",
       "      <th>min</th>\n",
       "      <td>0.000000</td>\n",
       "      <td>0.000000</td>\n",
       "      <td>0.000000</td>\n",
       "      <td>0.000000</td>\n",
       "      <td>25435.000000</td>\n",
       "      <td>0.00000</td>\n",
       "      <td>44.100000</td>\n",
       "    </tr>\n",
       "    <tr>\n",
       "      <th>25%</th>\n",
       "      <td>0.000000</td>\n",
       "      <td>1.000000</td>\n",
       "      <td>0.000000</td>\n",
       "      <td>0.000000</td>\n",
       "      <td>53312.000000</td>\n",
       "      <td>0.00000</td>\n",
       "      <td>49.410000</td>\n",
       "    </tr>\n",
       "    <tr>\n",
       "      <th>50%</th>\n",
       "      <td>1.000000</td>\n",
       "      <td>1.000000</td>\n",
       "      <td>0.000000</td>\n",
       "      <td>0.000000</td>\n",
       "      <td>61851.000000</td>\n",
       "      <td>1.00000</td>\n",
       "      <td>51.420000</td>\n",
       "    </tr>\n",
       "    <tr>\n",
       "      <th>75%</th>\n",
       "      <td>1.000000</td>\n",
       "      <td>2.000000</td>\n",
       "      <td>1.000000</td>\n",
       "      <td>2.000000</td>\n",
       "      <td>87410.000000</td>\n",
       "      <td>1.00000</td>\n",
       "      <td>53.600000</td>\n",
       "    </tr>\n",
       "    <tr>\n",
       "      <th>max</th>\n",
       "      <td>1.000000</td>\n",
       "      <td>5.000000</td>\n",
       "      <td>3.000000</td>\n",
       "      <td>3.000000</td>\n",
       "      <td>139115.000000</td>\n",
       "      <td>1.00000</td>\n",
       "      <td>65.290000</td>\n",
       "    </tr>\n",
       "  </tbody>\n",
       "</table>\n",
       "</div>"
      ],
      "text/plain": [
       "       HomeOwnerFlag  NumberCarsOwned  NumberChildrenAtHome  TotalChildren  \\\n",
       "count   18361.000000     18361.000000          18361.000000   18361.000000   \n",
       "mean        0.610588         1.270301              0.338162       0.850389   \n",
       "std         0.487630         0.913989              0.568957       0.927315   \n",
       "min         0.000000         0.000000              0.000000       0.000000   \n",
       "25%         0.000000         1.000000              0.000000       0.000000   \n",
       "50%         1.000000         1.000000              0.000000       0.000000   \n",
       "75%         1.000000         2.000000              1.000000       2.000000   \n",
       "max         1.000000         5.000000              3.000000       3.000000   \n",
       "\n",
       "        YearlyIncome    BikeBuyer  AvgMonthSpend  \n",
       "count   18361.000000  18355.00000   18355.000000  \n",
       "mean    72754.779642      0.55173      51.767207  \n",
       "std     30686.014313      0.49733       3.438024  \n",
       "min     25435.000000      0.00000      44.100000  \n",
       "25%     53312.000000      0.00000      49.410000  \n",
       "50%     61851.000000      1.00000      51.420000  \n",
       "75%     87410.000000      1.00000      53.600000  \n",
       "max    139115.000000      1.00000      65.290000  "
      ]
     },
     "execution_count": 15,
     "metadata": {},
     "output_type": "execute_result"
    }
   ],
   "source": [
    "df.describe()"
   ]
  },
  {
   "cell_type": "code",
   "execution_count": 16,
   "id": "632645f7",
   "metadata": {
    "execution": {
     "iopub.execute_input": "2022-08-14T11:37:28.109573Z",
     "iopub.status.busy": "2022-08-14T11:37:28.108778Z",
     "iopub.status.idle": "2022-08-14T11:37:28.133971Z",
     "shell.execute_reply": "2022-08-14T11:37:28.132410Z"
    },
    "papermill": {
     "duration": 0.043246,
     "end_time": "2022-08-14T11:37:28.137014",
     "exception": false,
     "start_time": "2022-08-14T11:37:28.093768",
     "status": "completed"
    },
    "tags": []
   },
   "outputs": [
    {
     "name": "stdout",
     "output_type": "stream",
     "text": [
      "<class 'pandas.core.frame.DataFrame'>\n",
      "RangeIndex: 18361 entries, 0 to 18360\n",
      "Data columns (total 17 columns):\n",
      " #   Column                Non-Null Count  Dtype  \n",
      "---  ------                --------------  -----  \n",
      " 0   AddressLine1          18361 non-null  object \n",
      " 1   City                  18361 non-null  object \n",
      " 2   StateProvinceName     18361 non-null  object \n",
      " 3   CountryRegionName     18361 non-null  object \n",
      " 4   BirthDate             18361 non-null  object \n",
      " 5   Education             18361 non-null  object \n",
      " 6   Occupation            18361 non-null  object \n",
      " 7   Gender                18361 non-null  object \n",
      " 8   MaritalStatus         18361 non-null  object \n",
      " 9   HomeOwnerFlag         18361 non-null  int64  \n",
      " 10  NumberCarsOwned       18361 non-null  int64  \n",
      " 11  NumberChildrenAtHome  18361 non-null  int64  \n",
      " 12  TotalChildren         18361 non-null  int64  \n",
      " 13  YearlyIncome          18361 non-null  int64  \n",
      " 14  LastUpdated           18361 non-null  object \n",
      " 15  BikeBuyer             18355 non-null  float64\n",
      " 16  AvgMonthSpend         18355 non-null  float64\n",
      "dtypes: float64(2), int64(5), object(10)\n",
      "memory usage: 2.4+ MB\n"
     ]
    }
   ],
   "source": [
    "df.info()"
   ]
  },
  {
   "cell_type": "code",
   "execution_count": 17,
   "id": "a098d0e1",
   "metadata": {
    "execution": {
     "iopub.execute_input": "2022-08-14T11:37:28.167405Z",
     "iopub.status.busy": "2022-08-14T11:37:28.166985Z",
     "iopub.status.idle": "2022-08-14T11:37:28.179864Z",
     "shell.execute_reply": "2022-08-14T11:37:28.178844Z"
    },
    "papermill": {
     "duration": 0.030749,
     "end_time": "2022-08-14T11:37:28.182171",
     "exception": false,
     "start_time": "2022-08-14T11:37:28.151422",
     "status": "completed"
    },
    "tags": []
   },
   "outputs": [],
   "source": [
    "df.BirthDate=pd.to_datetime(df.BirthDate)\n"
   ]
  },
  {
   "cell_type": "code",
   "execution_count": 18,
   "id": "13cf538f",
   "metadata": {
    "execution": {
     "iopub.execute_input": "2022-08-14T11:37:28.211860Z",
     "iopub.status.busy": "2022-08-14T11:37:28.210870Z",
     "iopub.status.idle": "2022-08-14T11:37:28.220486Z",
     "shell.execute_reply": "2022-08-14T11:37:28.219281Z"
    },
    "papermill": {
     "duration": 0.026766,
     "end_time": "2022-08-14T11:37:28.222818",
     "exception": false,
     "start_time": "2022-08-14T11:37:28.196052",
     "status": "completed"
    },
    "tags": []
   },
   "outputs": [
    {
     "data": {
      "text/plain": [
       "0       1987-11-13\n",
       "1       1972-07-21\n",
       "2       1985-11-09\n",
       "3       1977-10-18\n",
       "4       1975-02-05\n",
       "           ...    \n",
       "18356   1990-11-11\n",
       "18357   1992-10-13\n",
       "18358   1983-11-24\n",
       "18359   1995-06-15\n",
       "18360   1986-03-26\n",
       "Name: BirthDate, Length: 18361, dtype: datetime64[ns]"
      ]
     },
     "execution_count": 18,
     "metadata": {},
     "output_type": "execute_result"
    }
   ],
   "source": [
    "df.BirthDate"
   ]
  },
  {
   "cell_type": "code",
   "execution_count": 19,
   "id": "1a8c6a9f",
   "metadata": {
    "execution": {
     "iopub.execute_input": "2022-08-14T11:37:28.252437Z",
     "iopub.status.busy": "2022-08-14T11:37:28.251648Z",
     "iopub.status.idle": "2022-08-14T11:37:28.262613Z",
     "shell.execute_reply": "2022-08-14T11:37:28.261506Z"
    },
    "papermill": {
     "duration": 0.028497,
     "end_time": "2022-08-14T11:37:28.264973",
     "exception": false,
     "start_time": "2022-08-14T11:37:28.236476",
     "status": "completed"
    },
    "tags": []
   },
   "outputs": [],
   "source": [
    "df.LastUpdated=pd.to_datetime(df.LastUpdated)"
   ]
  },
  {
   "cell_type": "code",
   "execution_count": 20,
   "id": "534567e9",
   "metadata": {
    "execution": {
     "iopub.execute_input": "2022-08-14T11:37:28.295416Z",
     "iopub.status.busy": "2022-08-14T11:37:28.294654Z",
     "iopub.status.idle": "2022-08-14T11:37:28.315240Z",
     "shell.execute_reply": "2022-08-14T11:37:28.313784Z"
    },
    "papermill": {
     "duration": 0.039364,
     "end_time": "2022-08-14T11:37:28.318151",
     "exception": false,
     "start_time": "2022-08-14T11:37:28.278787",
     "status": "completed"
    },
    "tags": []
   },
   "outputs": [
    {
     "name": "stdout",
     "output_type": "stream",
     "text": [
      "<class 'pandas.core.frame.DataFrame'>\n",
      "RangeIndex: 18361 entries, 0 to 18360\n",
      "Data columns (total 17 columns):\n",
      " #   Column                Non-Null Count  Dtype         \n",
      "---  ------                --------------  -----         \n",
      " 0   AddressLine1          18361 non-null  object        \n",
      " 1   City                  18361 non-null  object        \n",
      " 2   StateProvinceName     18361 non-null  object        \n",
      " 3   CountryRegionName     18361 non-null  object        \n",
      " 4   BirthDate             18361 non-null  datetime64[ns]\n",
      " 5   Education             18361 non-null  object        \n",
      " 6   Occupation            18361 non-null  object        \n",
      " 7   Gender                18361 non-null  object        \n",
      " 8   MaritalStatus         18361 non-null  object        \n",
      " 9   HomeOwnerFlag         18361 non-null  int64         \n",
      " 10  NumberCarsOwned       18361 non-null  int64         \n",
      " 11  NumberChildrenAtHome  18361 non-null  int64         \n",
      " 12  TotalChildren         18361 non-null  int64         \n",
      " 13  YearlyIncome          18361 non-null  int64         \n",
      " 14  LastUpdated           18361 non-null  datetime64[ns]\n",
      " 15  BikeBuyer             18355 non-null  float64       \n",
      " 16  AvgMonthSpend         18355 non-null  float64       \n",
      "dtypes: datetime64[ns](2), float64(2), int64(5), object(8)\n",
      "memory usage: 2.4+ MB\n"
     ]
    }
   ],
   "source": [
    "df.info()"
   ]
  },
  {
   "cell_type": "code",
   "execution_count": 21,
   "id": "faabdc6c",
   "metadata": {
    "execution": {
     "iopub.execute_input": "2022-08-14T11:37:28.348700Z",
     "iopub.status.busy": "2022-08-14T11:37:28.348313Z",
     "iopub.status.idle": "2022-08-14T11:37:28.354546Z",
     "shell.execute_reply": "2022-08-14T11:37:28.353414Z"
    },
    "papermill": {
     "duration": 0.023836,
     "end_time": "2022-08-14T11:37:28.356676",
     "exception": false,
     "start_time": "2022-08-14T11:37:28.332840",
     "status": "completed"
    },
    "tags": []
   },
   "outputs": [],
   "source": [
    "var_cat=[]\n",
    "var_num=[]\n",
    "for c in df.columns:\n",
    "    if df[c].dtype=='object':\n",
    "        var_cat.append(c)\n",
    "    if (df[c].dtype=='int64'or df[c].dtype=='float64'):\n",
    "         var_num.append(c)\n",
    "            \n",
    "        \n",
    " \n",
    "    "
   ]
  },
  {
   "cell_type": "code",
   "execution_count": 22,
   "id": "adcb8968",
   "metadata": {
    "execution": {
     "iopub.execute_input": "2022-08-14T11:37:28.386363Z",
     "iopub.status.busy": "2022-08-14T11:37:28.385928Z",
     "iopub.status.idle": "2022-08-14T11:37:28.390714Z",
     "shell.execute_reply": "2022-08-14T11:37:28.389726Z"
    },
    "papermill": {
     "duration": 0.022798,
     "end_time": "2022-08-14T11:37:28.393383",
     "exception": false,
     "start_time": "2022-08-14T11:37:28.370585",
     "status": "completed"
    },
    "tags": []
   },
   "outputs": [
    {
     "name": "stdout",
     "output_type": "stream",
     "text": [
      "Categorical Variables:  ['AddressLine1', 'City', 'StateProvinceName', 'CountryRegionName', 'Education', 'Occupation', 'Gender', 'MaritalStatus']\n"
     ]
    }
   ],
   "source": [
    "print(\"Categorical Variables: \",var_cat)\n"
   ]
  },
  {
   "cell_type": "code",
   "execution_count": 23,
   "id": "c4c7179c",
   "metadata": {
    "execution": {
     "iopub.execute_input": "2022-08-14T11:37:28.423722Z",
     "iopub.status.busy": "2022-08-14T11:37:28.422614Z",
     "iopub.status.idle": "2022-08-14T11:37:28.442902Z",
     "shell.execute_reply": "2022-08-14T11:37:28.442022Z"
    },
    "papermill": {
     "duration": 0.038007,
     "end_time": "2022-08-14T11:37:28.445309",
     "exception": false,
     "start_time": "2022-08-14T11:37:28.407302",
     "status": "completed"
    },
    "tags": []
   },
   "outputs": [],
   "source": [
    "cat_ordinal=[]\n",
    "cat_nominal=[]\n",
    "for c in var_cat:\n",
    "    if (df[c].nunique()) >5:\n",
    "        cat_nominal.append(c)\n",
    "    else:\n",
    "        cat_ordinal.append(c)\n"
   ]
  },
  {
   "cell_type": "code",
   "execution_count": 24,
   "id": "7f9ef99e",
   "metadata": {
    "execution": {
     "iopub.execute_input": "2022-08-14T11:37:28.475218Z",
     "iopub.status.busy": "2022-08-14T11:37:28.474329Z",
     "iopub.status.idle": "2022-08-14T11:37:28.481155Z",
     "shell.execute_reply": "2022-08-14T11:37:28.480277Z"
    },
    "papermill": {
     "duration": 0.024051,
     "end_time": "2022-08-14T11:37:28.483204",
     "exception": false,
     "start_time": "2022-08-14T11:37:28.459153",
     "status": "completed"
    },
    "tags": []
   },
   "outputs": [
    {
     "data": {
      "text/plain": [
       "['AddressLine1', 'City', 'StateProvinceName', 'CountryRegionName']"
      ]
     },
     "execution_count": 24,
     "metadata": {},
     "output_type": "execute_result"
    }
   ],
   "source": [
    "cat_nominal\n"
   ]
  },
  {
   "cell_type": "code",
   "execution_count": 25,
   "id": "eaab6412",
   "metadata": {
    "execution": {
     "iopub.execute_input": "2022-08-14T11:37:28.512877Z",
     "iopub.status.busy": "2022-08-14T11:37:28.512426Z",
     "iopub.status.idle": "2022-08-14T11:37:28.519241Z",
     "shell.execute_reply": "2022-08-14T11:37:28.518188Z"
    },
    "papermill": {
     "duration": 0.024224,
     "end_time": "2022-08-14T11:37:28.521476",
     "exception": false,
     "start_time": "2022-08-14T11:37:28.497252",
     "status": "completed"
    },
    "tags": []
   },
   "outputs": [
    {
     "data": {
      "text/plain": [
       "['Education', 'Occupation', 'Gender', 'MaritalStatus']"
      ]
     },
     "execution_count": 25,
     "metadata": {},
     "output_type": "execute_result"
    }
   ],
   "source": [
    "cat_ordinal"
   ]
  },
  {
   "cell_type": "markdown",
   "id": "92552a4d",
   "metadata": {
    "papermill": {
     "duration": 0.014101,
     "end_time": "2022-08-14T11:37:28.549769",
     "exception": false,
     "start_time": "2022-08-14T11:37:28.535668",
     "status": "completed"
    },
    "tags": []
   },
   "source": [
    "Education is truly ordinal, Occupation should be in nominal and Gender,MaritalStatus can be OHE"
   ]
  },
  {
   "cell_type": "code",
   "execution_count": 26,
   "id": "9ff93621",
   "metadata": {
    "execution": {
     "iopub.execute_input": "2022-08-14T11:37:28.580411Z",
     "iopub.status.busy": "2022-08-14T11:37:28.579786Z",
     "iopub.status.idle": "2022-08-14T11:37:28.588993Z",
     "shell.execute_reply": "2022-08-14T11:37:28.587907Z"
    },
    "papermill": {
     "duration": 0.027534,
     "end_time": "2022-08-14T11:37:28.591558",
     "exception": false,
     "start_time": "2022-08-14T11:37:28.564024",
     "status": "completed"
    },
    "tags": []
   },
   "outputs": [],
   "source": [
    "num_discrete=[]\n",
    "num_continuous=[]\n",
    "for c in var_num:\n",
    "    if (df[c].nunique()) >10:\n",
    "        num_continuous.append(c)\n",
    "    else:\n",
    "        num_discrete.append(c)"
   ]
  },
  {
   "cell_type": "code",
   "execution_count": 27,
   "id": "122691f2",
   "metadata": {
    "execution": {
     "iopub.execute_input": "2022-08-14T11:37:28.630174Z",
     "iopub.status.busy": "2022-08-14T11:37:28.628836Z",
     "iopub.status.idle": "2022-08-14T11:37:28.636678Z",
     "shell.execute_reply": "2022-08-14T11:37:28.635495Z"
    },
    "papermill": {
     "duration": 0.027025,
     "end_time": "2022-08-14T11:37:28.639194",
     "exception": false,
     "start_time": "2022-08-14T11:37:28.612169",
     "status": "completed"
    },
    "tags": []
   },
   "outputs": [
    {
     "data": {
      "text/plain": [
       "['HomeOwnerFlag',\n",
       " 'NumberCarsOwned',\n",
       " 'NumberChildrenAtHome',\n",
       " 'TotalChildren',\n",
       " 'BikeBuyer']"
      ]
     },
     "execution_count": 27,
     "metadata": {},
     "output_type": "execute_result"
    }
   ],
   "source": [
    "num_discrete"
   ]
  },
  {
   "cell_type": "code",
   "execution_count": 28,
   "id": "4488fe20",
   "metadata": {
    "execution": {
     "iopub.execute_input": "2022-08-14T11:37:28.683169Z",
     "iopub.status.busy": "2022-08-14T11:37:28.682486Z",
     "iopub.status.idle": "2022-08-14T11:37:28.689239Z",
     "shell.execute_reply": "2022-08-14T11:37:28.688402Z"
    },
    "papermill": {
     "duration": 0.028082,
     "end_time": "2022-08-14T11:37:28.691642",
     "exception": false,
     "start_time": "2022-08-14T11:37:28.663560",
     "status": "completed"
    },
    "tags": []
   },
   "outputs": [
    {
     "data": {
      "text/plain": [
       "['YearlyIncome', 'AvgMonthSpend']"
      ]
     },
     "execution_count": 28,
     "metadata": {},
     "output_type": "execute_result"
    }
   ],
   "source": [
    "num_continuous\n"
   ]
  },
  {
   "cell_type": "code",
   "execution_count": 29,
   "id": "51d52cb0",
   "metadata": {
    "execution": {
     "iopub.execute_input": "2022-08-14T11:37:28.731385Z",
     "iopub.status.busy": "2022-08-14T11:37:28.730590Z",
     "iopub.status.idle": "2022-08-14T11:37:28.751608Z",
     "shell.execute_reply": "2022-08-14T11:37:28.750137Z"
    },
    "papermill": {
     "duration": 0.040757,
     "end_time": "2022-08-14T11:37:28.754077",
     "exception": false,
     "start_time": "2022-08-14T11:37:28.713320",
     "status": "completed"
    },
    "tags": []
   },
   "outputs": [
    {
     "name": "stdout",
     "output_type": "stream",
     "text": [
      "<class 'pandas.core.frame.DataFrame'>\n",
      "RangeIndex: 18361 entries, 0 to 18360\n",
      "Data columns (total 17 columns):\n",
      " #   Column                Non-Null Count  Dtype         \n",
      "---  ------                --------------  -----         \n",
      " 0   AddressLine1          18361 non-null  object        \n",
      " 1   City                  18361 non-null  object        \n",
      " 2   StateProvinceName     18361 non-null  object        \n",
      " 3   CountryRegionName     18361 non-null  object        \n",
      " 4   BirthDate             18361 non-null  datetime64[ns]\n",
      " 5   Education             18361 non-null  object        \n",
      " 6   Occupation            18361 non-null  object        \n",
      " 7   Gender                18361 non-null  object        \n",
      " 8   MaritalStatus         18361 non-null  object        \n",
      " 9   HomeOwnerFlag         18361 non-null  int64         \n",
      " 10  NumberCarsOwned       18361 non-null  int64         \n",
      " 11  NumberChildrenAtHome  18361 non-null  int64         \n",
      " 12  TotalChildren         18361 non-null  int64         \n",
      " 13  YearlyIncome          18361 non-null  int64         \n",
      " 14  LastUpdated           18361 non-null  datetime64[ns]\n",
      " 15  BikeBuyer             18355 non-null  float64       \n",
      " 16  AvgMonthSpend         18355 non-null  float64       \n",
      "dtypes: datetime64[ns](2), float64(2), int64(5), object(8)\n",
      "memory usage: 2.4+ MB\n"
     ]
    }
   ],
   "source": [
    "df.info()"
   ]
  },
  {
   "cell_type": "markdown",
   "id": "52daf7a2",
   "metadata": {
    "papermill": {
     "duration": 0.014118,
     "end_time": "2022-08-14T11:37:28.782760",
     "exception": false,
     "start_time": "2022-08-14T11:37:28.768642",
     "status": "completed"
    },
    "tags": []
   },
   "source": [
    "BirthDate and Last Updated are datetime features"
   ]
  },
  {
   "cell_type": "code",
   "execution_count": 30,
   "id": "665ffbfe",
   "metadata": {
    "execution": {
     "iopub.execute_input": "2022-08-14T11:37:28.813953Z",
     "iopub.status.busy": "2022-08-14T11:37:28.813127Z",
     "iopub.status.idle": "2022-08-14T11:37:28.820068Z",
     "shell.execute_reply": "2022-08-14T11:37:28.819164Z"
    },
    "papermill": {
     "duration": 0.025074,
     "end_time": "2022-08-14T11:37:28.822374",
     "exception": false,
     "start_time": "2022-08-14T11:37:28.797300",
     "status": "completed"
    },
    "tags": []
   },
   "outputs": [
    {
     "data": {
      "text/plain": [
       "(18361, 17)"
      ]
     },
     "execution_count": 30,
     "metadata": {},
     "output_type": "execute_result"
    }
   ],
   "source": [
    "df.shape"
   ]
  },
  {
   "cell_type": "code",
   "execution_count": 31,
   "id": "e667fd0b",
   "metadata": {
    "execution": {
     "iopub.execute_input": "2022-08-14T11:37:28.853570Z",
     "iopub.status.busy": "2022-08-14T11:37:28.852898Z",
     "iopub.status.idle": "2022-08-14T11:37:28.870770Z",
     "shell.execute_reply": "2022-08-14T11:37:28.869932Z"
    },
    "papermill": {
     "duration": 0.035956,
     "end_time": "2022-08-14T11:37:28.872909",
     "exception": false,
     "start_time": "2022-08-14T11:37:28.836953",
     "status": "completed"
    },
    "tags": []
   },
   "outputs": [
    {
     "data": {
      "text/plain": [
       "AddressLine1            0\n",
       "City                    0\n",
       "StateProvinceName       0\n",
       "CountryRegionName       0\n",
       "BirthDate               0\n",
       "Education               0\n",
       "Occupation              0\n",
       "Gender                  0\n",
       "MaritalStatus           0\n",
       "HomeOwnerFlag           0\n",
       "NumberCarsOwned         0\n",
       "NumberChildrenAtHome    0\n",
       "TotalChildren           0\n",
       "YearlyIncome            0\n",
       "LastUpdated             0\n",
       "BikeBuyer               6\n",
       "AvgMonthSpend           6\n",
       "dtype: int64"
      ]
     },
     "execution_count": 31,
     "metadata": {},
     "output_type": "execute_result"
    }
   ],
   "source": [
    "df.isnull().sum()"
   ]
  },
  {
   "cell_type": "code",
   "execution_count": 32,
   "id": "b9b70637",
   "metadata": {
    "execution": {
     "iopub.execute_input": "2022-08-14T11:37:28.905099Z",
     "iopub.status.busy": "2022-08-14T11:37:28.904036Z",
     "iopub.status.idle": "2022-08-14T11:37:28.925585Z",
     "shell.execute_reply": "2022-08-14T11:37:28.924501Z"
    },
    "papermill": {
     "duration": 0.039968,
     "end_time": "2022-08-14T11:37:28.927686",
     "exception": false,
     "start_time": "2022-08-14T11:37:28.887718",
     "status": "completed"
    },
    "tags": []
   },
   "outputs": [
    {
     "data": {
      "text/html": [
       "<div>\n",
       "<style scoped>\n",
       "    .dataframe tbody tr th:only-of-type {\n",
       "        vertical-align: middle;\n",
       "    }\n",
       "\n",
       "    .dataframe tbody tr th {\n",
       "        vertical-align: top;\n",
       "    }\n",
       "\n",
       "    .dataframe thead th {\n",
       "        text-align: right;\n",
       "    }\n",
       "</style>\n",
       "<table border=\"1\" class=\"dataframe\">\n",
       "  <thead>\n",
       "    <tr style=\"text-align: right;\">\n",
       "      <th></th>\n",
       "      <th>AddressLine1</th>\n",
       "      <th>City</th>\n",
       "      <th>StateProvinceName</th>\n",
       "      <th>CountryRegionName</th>\n",
       "      <th>BirthDate</th>\n",
       "      <th>Education</th>\n",
       "      <th>Occupation</th>\n",
       "      <th>Gender</th>\n",
       "      <th>MaritalStatus</th>\n",
       "      <th>HomeOwnerFlag</th>\n",
       "      <th>NumberCarsOwned</th>\n",
       "      <th>NumberChildrenAtHome</th>\n",
       "      <th>TotalChildren</th>\n",
       "      <th>YearlyIncome</th>\n",
       "      <th>LastUpdated</th>\n",
       "      <th>BikeBuyer</th>\n",
       "      <th>AvgMonthSpend</th>\n",
       "    </tr>\n",
       "  </thead>\n",
       "  <tbody>\n",
       "    <tr>\n",
       "      <th>18355</th>\n",
       "      <td>8527 Rock Oak Road</td>\n",
       "      <td>Melton</td>\n",
       "      <td>Victoria</td>\n",
       "      <td>Australia</td>\n",
       "      <td>1967-08-20</td>\n",
       "      <td>High School</td>\n",
       "      <td>Manual</td>\n",
       "      <td>M</td>\n",
       "      <td>M</td>\n",
       "      <td>1</td>\n",
       "      <td>1</td>\n",
       "      <td>1</td>\n",
       "      <td>2</td>\n",
       "      <td>30442</td>\n",
       "      <td>2017-03-06</td>\n",
       "      <td>NaN</td>\n",
       "      <td>NaN</td>\n",
       "    </tr>\n",
       "    <tr>\n",
       "      <th>18356</th>\n",
       "      <td>6627 Camelback Ct.</td>\n",
       "      <td>Coronado</td>\n",
       "      <td>California</td>\n",
       "      <td>United States</td>\n",
       "      <td>1990-11-11</td>\n",
       "      <td>Graduate Degree</td>\n",
       "      <td>Skilled Manual</td>\n",
       "      <td>F</td>\n",
       "      <td>M</td>\n",
       "      <td>0</td>\n",
       "      <td>1</td>\n",
       "      <td>0</td>\n",
       "      <td>2</td>\n",
       "      <td>52953</td>\n",
       "      <td>2017-03-06</td>\n",
       "      <td>NaN</td>\n",
       "      <td>NaN</td>\n",
       "    </tr>\n",
       "    <tr>\n",
       "      <th>18357</th>\n",
       "      <td>9627 Kendall Rd</td>\n",
       "      <td>Port Macquarie</td>\n",
       "      <td>New South Wales</td>\n",
       "      <td>Australia</td>\n",
       "      <td>1992-10-13</td>\n",
       "      <td>Bachelors</td>\n",
       "      <td>Skilled Manual</td>\n",
       "      <td>F</td>\n",
       "      <td>S</td>\n",
       "      <td>0</td>\n",
       "      <td>2</td>\n",
       "      <td>0</td>\n",
       "      <td>0</td>\n",
       "      <td>60992</td>\n",
       "      <td>2017-03-06</td>\n",
       "      <td>NaN</td>\n",
       "      <td>NaN</td>\n",
       "    </tr>\n",
       "    <tr>\n",
       "      <th>18358</th>\n",
       "      <td>4364 Viera Avenue</td>\n",
       "      <td>Beaverton</td>\n",
       "      <td>Oregon</td>\n",
       "      <td>United States</td>\n",
       "      <td>1983-11-24</td>\n",
       "      <td>Partial College</td>\n",
       "      <td>Skilled Manual</td>\n",
       "      <td>F</td>\n",
       "      <td>S</td>\n",
       "      <td>0</td>\n",
       "      <td>2</td>\n",
       "      <td>0</td>\n",
       "      <td>0</td>\n",
       "      <td>51859</td>\n",
       "      <td>2017-03-06</td>\n",
       "      <td>NaN</td>\n",
       "      <td>NaN</td>\n",
       "    </tr>\n",
       "    <tr>\n",
       "      <th>18359</th>\n",
       "      <td>3866 Mt. Everest Court</td>\n",
       "      <td>Vancouver</td>\n",
       "      <td>British Columbia</td>\n",
       "      <td>Canada</td>\n",
       "      <td>1995-06-15</td>\n",
       "      <td>High School</td>\n",
       "      <td>Clerical</td>\n",
       "      <td>F</td>\n",
       "      <td>S</td>\n",
       "      <td>0</td>\n",
       "      <td>0</td>\n",
       "      <td>0</td>\n",
       "      <td>0</td>\n",
       "      <td>87177</td>\n",
       "      <td>2017-03-06</td>\n",
       "      <td>NaN</td>\n",
       "      <td>NaN</td>\n",
       "    </tr>\n",
       "    <tr>\n",
       "      <th>18360</th>\n",
       "      <td>7870 Orangewood Dr.</td>\n",
       "      <td>Grossmont</td>\n",
       "      <td>California</td>\n",
       "      <td>United States</td>\n",
       "      <td>1986-03-26</td>\n",
       "      <td>Graduate Degree</td>\n",
       "      <td>Professional</td>\n",
       "      <td>F</td>\n",
       "      <td>M</td>\n",
       "      <td>1</td>\n",
       "      <td>2</td>\n",
       "      <td>0</td>\n",
       "      <td>0</td>\n",
       "      <td>136856</td>\n",
       "      <td>2017-03-06</td>\n",
       "      <td>NaN</td>\n",
       "      <td>NaN</td>\n",
       "    </tr>\n",
       "  </tbody>\n",
       "</table>\n",
       "</div>"
      ],
      "text/plain": [
       "                 AddressLine1            City StateProvinceName  \\\n",
       "18355      8527 Rock Oak Road          Melton          Victoria   \n",
       "18356      6627 Camelback Ct.        Coronado        California   \n",
       "18357         9627 Kendall Rd  Port Macquarie   New South Wales   \n",
       "18358       4364 Viera Avenue       Beaverton            Oregon   \n",
       "18359  3866 Mt. Everest Court       Vancouver  British Columbia   \n",
       "18360     7870 Orangewood Dr.       Grossmont        California   \n",
       "\n",
       "      CountryRegionName  BirthDate        Education      Occupation Gender  \\\n",
       "18355         Australia 1967-08-20      High School          Manual      M   \n",
       "18356     United States 1990-11-11  Graduate Degree  Skilled Manual      F   \n",
       "18357         Australia 1992-10-13        Bachelors  Skilled Manual      F   \n",
       "18358     United States 1983-11-24  Partial College  Skilled Manual      F   \n",
       "18359            Canada 1995-06-15      High School        Clerical      F   \n",
       "18360     United States 1986-03-26  Graduate Degree    Professional      F   \n",
       "\n",
       "      MaritalStatus  HomeOwnerFlag  NumberCarsOwned  NumberChildrenAtHome  \\\n",
       "18355             M              1                1                     1   \n",
       "18356             M              0                1                     0   \n",
       "18357             S              0                2                     0   \n",
       "18358             S              0                2                     0   \n",
       "18359             S              0                0                     0   \n",
       "18360             M              1                2                     0   \n",
       "\n",
       "       TotalChildren  YearlyIncome LastUpdated  BikeBuyer  AvgMonthSpend  \n",
       "18355              2         30442  2017-03-06        NaN            NaN  \n",
       "18356              2         52953  2017-03-06        NaN            NaN  \n",
       "18357              0         60992  2017-03-06        NaN            NaN  \n",
       "18358              0         51859  2017-03-06        NaN            NaN  \n",
       "18359              0         87177  2017-03-06        NaN            NaN  \n",
       "18360              0        136856  2017-03-06        NaN            NaN  "
      ]
     },
     "execution_count": 32,
     "metadata": {},
     "output_type": "execute_result"
    }
   ],
   "source": [
    "df[df['BikeBuyer'].isnull()]"
   ]
  },
  {
   "cell_type": "code",
   "execution_count": 33,
   "id": "dea1b17a",
   "metadata": {
    "execution": {
     "iopub.execute_input": "2022-08-14T11:37:28.959919Z",
     "iopub.status.busy": "2022-08-14T11:37:28.959253Z",
     "iopub.status.idle": "2022-08-14T11:37:28.975487Z",
     "shell.execute_reply": "2022-08-14T11:37:28.974607Z"
    },
    "papermill": {
     "duration": 0.034882,
     "end_time": "2022-08-14T11:37:28.977652",
     "exception": false,
     "start_time": "2022-08-14T11:37:28.942770",
     "status": "completed"
    },
    "tags": []
   },
   "outputs": [
    {
     "data": {
      "text/plain": [
       "AddressLine1            0.000000\n",
       "City                    0.000000\n",
       "StateProvinceName       0.000000\n",
       "CountryRegionName       0.000000\n",
       "BirthDate               0.000000\n",
       "Education               0.000000\n",
       "Occupation              0.000000\n",
       "Gender                  0.000000\n",
       "MaritalStatus           0.000000\n",
       "HomeOwnerFlag           0.000000\n",
       "NumberCarsOwned         0.000000\n",
       "NumberChildrenAtHome    0.000000\n",
       "TotalChildren           0.000000\n",
       "YearlyIncome            0.000000\n",
       "LastUpdated             0.000000\n",
       "BikeBuyer               0.032678\n",
       "AvgMonthSpend           0.032678\n",
       "dtype: float64"
      ]
     },
     "execution_count": 33,
     "metadata": {},
     "output_type": "execute_result"
    }
   ],
   "source": [
    "(df.isnull().sum()/df.shape[0])*100"
   ]
  },
  {
   "cell_type": "markdown",
   "id": "cf2a4ed2",
   "metadata": {
    "papermill": {
     "duration": 0.015699,
     "end_time": "2022-08-14T11:37:29.008657",
     "exception": false,
     "start_time": "2022-08-14T11:37:28.992958",
     "status": "completed"
    },
    "tags": []
   },
   "source": [
    "As the null values are less than 20%, we can safely remove them.\n"
   ]
  },
  {
   "cell_type": "code",
   "execution_count": 34,
   "id": "1863af76",
   "metadata": {
    "execution": {
     "iopub.execute_input": "2022-08-14T11:37:29.041515Z",
     "iopub.status.busy": "2022-08-14T11:37:29.040835Z",
     "iopub.status.idle": "2022-08-14T11:37:29.051310Z",
     "shell.execute_reply": "2022-08-14T11:37:29.050118Z"
    },
    "papermill": {
     "duration": 0.029875,
     "end_time": "2022-08-14T11:37:29.053920",
     "exception": false,
     "start_time": "2022-08-14T11:37:29.024045",
     "status": "completed"
    },
    "tags": []
   },
   "outputs": [],
   "source": [
    "df.drop(index=df[df['BikeBuyer'].isnull()].index,axis=0,inplace=True)"
   ]
  },
  {
   "cell_type": "code",
   "execution_count": 35,
   "id": "4f662912",
   "metadata": {
    "execution": {
     "iopub.execute_input": "2022-08-14T11:37:29.086183Z",
     "iopub.status.busy": "2022-08-14T11:37:29.085777Z",
     "iopub.status.idle": "2022-08-14T11:37:29.103390Z",
     "shell.execute_reply": "2022-08-14T11:37:29.102108Z"
    },
    "papermill": {
     "duration": 0.036568,
     "end_time": "2022-08-14T11:37:29.105729",
     "exception": false,
     "start_time": "2022-08-14T11:37:29.069161",
     "status": "completed"
    },
    "tags": []
   },
   "outputs": [
    {
     "data": {
      "text/plain": [
       "AddressLine1            0\n",
       "City                    0\n",
       "StateProvinceName       0\n",
       "CountryRegionName       0\n",
       "BirthDate               0\n",
       "Education               0\n",
       "Occupation              0\n",
       "Gender                  0\n",
       "MaritalStatus           0\n",
       "HomeOwnerFlag           0\n",
       "NumberCarsOwned         0\n",
       "NumberChildrenAtHome    0\n",
       "TotalChildren           0\n",
       "YearlyIncome            0\n",
       "LastUpdated             0\n",
       "BikeBuyer               0\n",
       "AvgMonthSpend           0\n",
       "dtype: int64"
      ]
     },
     "execution_count": 35,
     "metadata": {},
     "output_type": "execute_result"
    }
   ],
   "source": [
    "df.isnull().sum()"
   ]
  },
  {
   "cell_type": "code",
   "execution_count": 36,
   "id": "1d68b08a",
   "metadata": {
    "execution": {
     "iopub.execute_input": "2022-08-14T11:37:29.139029Z",
     "iopub.status.busy": "2022-08-14T11:37:29.138256Z",
     "iopub.status.idle": "2022-08-14T11:37:29.145047Z",
     "shell.execute_reply": "2022-08-14T11:37:29.144205Z"
    },
    "papermill": {
     "duration": 0.025801,
     "end_time": "2022-08-14T11:37:29.147156",
     "exception": false,
     "start_time": "2022-08-14T11:37:29.121355",
     "status": "completed"
    },
    "tags": []
   },
   "outputs": [
    {
     "data": {
      "text/plain": [
       "['YearlyIncome', 'AvgMonthSpend']"
      ]
     },
     "execution_count": 36,
     "metadata": {},
     "output_type": "execute_result"
    }
   ],
   "source": [
    "num_continuous"
   ]
  },
  {
   "cell_type": "code",
   "execution_count": 37,
   "id": "cb5b0984",
   "metadata": {
    "execution": {
     "iopub.execute_input": "2022-08-14T11:37:29.180187Z",
     "iopub.status.busy": "2022-08-14T11:37:29.179535Z",
     "iopub.status.idle": "2022-08-14T11:37:29.190113Z",
     "shell.execute_reply": "2022-08-14T11:37:29.189289Z"
    },
    "papermill": {
     "duration": 0.029907,
     "end_time": "2022-08-14T11:37:29.192504",
     "exception": false,
     "start_time": "2022-08-14T11:37:29.162597",
     "status": "completed"
    },
    "tags": []
   },
   "outputs": [],
   "source": [
    "# Normalizing by min max scaler\n",
    "scaler=MinMaxScaler()\n",
    "df[['YearlyIncome_normalized','AvgMonthSpend_normalized']]=scaler.fit_transform(df[num_continuous])"
   ]
  },
  {
   "cell_type": "code",
   "execution_count": 38,
   "id": "0e07fa64",
   "metadata": {
    "execution": {
     "iopub.execute_input": "2022-08-14T11:37:29.225395Z",
     "iopub.status.busy": "2022-08-14T11:37:29.224744Z",
     "iopub.status.idle": "2022-08-14T11:37:29.235661Z",
     "shell.execute_reply": "2022-08-14T11:37:29.234795Z"
    },
    "papermill": {
     "duration": 0.030016,
     "end_time": "2022-08-14T11:37:29.237965",
     "exception": false,
     "start_time": "2022-08-14T11:37:29.207949",
     "status": "completed"
    },
    "tags": []
   },
   "outputs": [],
   "source": [
    "# Normalizing by Z score\n",
    "stdscaler=StandardScaler()\n",
    "\n",
    "df[['YearlyIncome_std','AvgMonthSpend_std']]=stdscaler.fit_transform(df[num_continuous])"
   ]
  },
  {
   "cell_type": "code",
   "execution_count": 39,
   "id": "9dc18635",
   "metadata": {
    "execution": {
     "iopub.execute_input": "2022-08-14T11:37:29.270946Z",
     "iopub.status.busy": "2022-08-14T11:37:29.270216Z",
     "iopub.status.idle": "2022-08-14T11:37:29.277827Z",
     "shell.execute_reply": "2022-08-14T11:37:29.276995Z"
    },
    "papermill": {
     "duration": 0.026557,
     "end_time": "2022-08-14T11:37:29.279965",
     "exception": false,
     "start_time": "2022-08-14T11:37:29.253408",
     "status": "completed"
    },
    "tags": []
   },
   "outputs": [],
   "source": [
    "df['Male']=pd.get_dummies(df['Gender'],drop_first=True)"
   ]
  },
  {
   "cell_type": "code",
   "execution_count": 40,
   "id": "9d30beb1",
   "metadata": {
    "execution": {
     "iopub.execute_input": "2022-08-14T11:37:29.313564Z",
     "iopub.status.busy": "2022-08-14T11:37:29.312831Z",
     "iopub.status.idle": "2022-08-14T11:37:29.320898Z",
     "shell.execute_reply": "2022-08-14T11:37:29.319761Z"
    },
    "papermill": {
     "duration": 0.027127,
     "end_time": "2022-08-14T11:37:29.323192",
     "exception": false,
     "start_time": "2022-08-14T11:37:29.296065",
     "status": "completed"
    },
    "tags": []
   },
   "outputs": [],
   "source": [
    "df['Single']=pd.get_dummies(df['MaritalStatus'],drop_first=True)"
   ]
  },
  {
   "cell_type": "code",
   "execution_count": 41,
   "id": "f7c191c4",
   "metadata": {
    "execution": {
     "iopub.execute_input": "2022-08-14T11:37:29.356107Z",
     "iopub.status.busy": "2022-08-14T11:37:29.355402Z",
     "iopub.status.idle": "2022-08-14T11:37:29.364660Z",
     "shell.execute_reply": "2022-08-14T11:37:29.363876Z"
    },
    "papermill": {
     "duration": 0.027909,
     "end_time": "2022-08-14T11:37:29.366885",
     "exception": false,
     "start_time": "2022-08-14T11:37:29.338976",
     "status": "completed"
    },
    "tags": []
   },
   "outputs": [],
   "source": [
    "df.drop(['Gender','MaritalStatus'],axis=1,inplace=True)"
   ]
  },
  {
   "cell_type": "code",
   "execution_count": 42,
   "id": "3b53edf5",
   "metadata": {
    "execution": {
     "iopub.execute_input": "2022-08-14T11:37:29.400069Z",
     "iopub.status.busy": "2022-08-14T11:37:29.399365Z",
     "iopub.status.idle": "2022-08-14T11:37:29.429297Z",
     "shell.execute_reply": "2022-08-14T11:37:29.428508Z"
    },
    "papermill": {
     "duration": 0.048611,
     "end_time": "2022-08-14T11:37:29.431303",
     "exception": false,
     "start_time": "2022-08-14T11:37:29.382692",
     "status": "completed"
    },
    "tags": []
   },
   "outputs": [
    {
     "data": {
      "text/html": [
       "<div>\n",
       "<style scoped>\n",
       "    .dataframe tbody tr th:only-of-type {\n",
       "        vertical-align: middle;\n",
       "    }\n",
       "\n",
       "    .dataframe tbody tr th {\n",
       "        vertical-align: top;\n",
       "    }\n",
       "\n",
       "    .dataframe thead th {\n",
       "        text-align: right;\n",
       "    }\n",
       "</style>\n",
       "<table border=\"1\" class=\"dataframe\">\n",
       "  <thead>\n",
       "    <tr style=\"text-align: right;\">\n",
       "      <th></th>\n",
       "      <th>AddressLine1</th>\n",
       "      <th>City</th>\n",
       "      <th>StateProvinceName</th>\n",
       "      <th>CountryRegionName</th>\n",
       "      <th>BirthDate</th>\n",
       "      <th>Education</th>\n",
       "      <th>Occupation</th>\n",
       "      <th>HomeOwnerFlag</th>\n",
       "      <th>NumberCarsOwned</th>\n",
       "      <th>NumberChildrenAtHome</th>\n",
       "      <th>TotalChildren</th>\n",
       "      <th>YearlyIncome</th>\n",
       "      <th>LastUpdated</th>\n",
       "      <th>BikeBuyer</th>\n",
       "      <th>AvgMonthSpend</th>\n",
       "      <th>YearlyIncome_normalized</th>\n",
       "      <th>AvgMonthSpend_normalized</th>\n",
       "      <th>YearlyIncome_std</th>\n",
       "      <th>AvgMonthSpend_std</th>\n",
       "      <th>Male</th>\n",
       "      <th>Single</th>\n",
       "    </tr>\n",
       "  </thead>\n",
       "  <tbody>\n",
       "    <tr>\n",
       "      <th>0</th>\n",
       "      <td>7090 C. Mount Hood</td>\n",
       "      <td>Wollongong</td>\n",
       "      <td>New South Wales</td>\n",
       "      <td>Australia</td>\n",
       "      <td>1987-11-13</td>\n",
       "      <td>Bachelors</td>\n",
       "      <td>Clerical</td>\n",
       "      <td>1</td>\n",
       "      <td>3</td>\n",
       "      <td>0</td>\n",
       "      <td>1</td>\n",
       "      <td>81916</td>\n",
       "      <td>2017-03-06</td>\n",
       "      <td>1.0</td>\n",
       "      <td>50.97</td>\n",
       "      <td>0.496842</td>\n",
       "      <td>0.324210</td>\n",
       "      <td>0.298539</td>\n",
       "      <td>-0.231886</td>\n",
       "      <td>1</td>\n",
       "      <td>0</td>\n",
       "    </tr>\n",
       "    <tr>\n",
       "      <th>1</th>\n",
       "      <td>3651 Willow Lake Rd</td>\n",
       "      <td>Shawnee</td>\n",
       "      <td>British Columbia</td>\n",
       "      <td>Canada</td>\n",
       "      <td>1972-07-21</td>\n",
       "      <td>Partial College</td>\n",
       "      <td>Clerical</td>\n",
       "      <td>1</td>\n",
       "      <td>2</td>\n",
       "      <td>1</td>\n",
       "      <td>2</td>\n",
       "      <td>81076</td>\n",
       "      <td>2017-03-06</td>\n",
       "      <td>1.0</td>\n",
       "      <td>53.11</td>\n",
       "      <td>0.489453</td>\n",
       "      <td>0.425201</td>\n",
       "      <td>0.271163</td>\n",
       "      <td>0.390582</td>\n",
       "      <td>1</td>\n",
       "      <td>0</td>\n",
       "    </tr>\n",
       "    <tr>\n",
       "      <th>2</th>\n",
       "      <td>1774 Tice Valley Blvd.</td>\n",
       "      <td>West Covina</td>\n",
       "      <td>California</td>\n",
       "      <td>United States</td>\n",
       "      <td>1985-11-09</td>\n",
       "      <td>Bachelors</td>\n",
       "      <td>Clerical</td>\n",
       "      <td>0</td>\n",
       "      <td>3</td>\n",
       "      <td>0</td>\n",
       "      <td>0</td>\n",
       "      <td>86387</td>\n",
       "      <td>2017-03-06</td>\n",
       "      <td>1.0</td>\n",
       "      <td>54.08</td>\n",
       "      <td>0.536172</td>\n",
       "      <td>0.470977</td>\n",
       "      <td>0.444250</td>\n",
       "      <td>0.672728</td>\n",
       "      <td>0</td>\n",
       "      <td>1</td>\n",
       "    </tr>\n",
       "    <tr>\n",
       "      <th>3</th>\n",
       "      <td>2103 Baldwin Dr</td>\n",
       "      <td>Liverpool</td>\n",
       "      <td>England</td>\n",
       "      <td>United Kingdom</td>\n",
       "      <td>1977-10-18</td>\n",
       "      <td>Partial College</td>\n",
       "      <td>Skilled Manual</td>\n",
       "      <td>1</td>\n",
       "      <td>2</td>\n",
       "      <td>1</td>\n",
       "      <td>2</td>\n",
       "      <td>61481</td>\n",
       "      <td>2017-03-06</td>\n",
       "      <td>1.0</td>\n",
       "      <td>56.93</td>\n",
       "      <td>0.317083</td>\n",
       "      <td>0.605474</td>\n",
       "      <td>-0.367445</td>\n",
       "      <td>1.501715</td>\n",
       "      <td>1</td>\n",
       "      <td>0</td>\n",
       "    </tr>\n",
       "    <tr>\n",
       "      <th>4</th>\n",
       "      <td>Am Gallberg 234</td>\n",
       "      <td>Werne</td>\n",
       "      <td>Nordrhein-Westfalen</td>\n",
       "      <td>Germany</td>\n",
       "      <td>1975-02-05</td>\n",
       "      <td>Partial College</td>\n",
       "      <td>Skilled Manual</td>\n",
       "      <td>1</td>\n",
       "      <td>1</td>\n",
       "      <td>0</td>\n",
       "      <td>0</td>\n",
       "      <td>51804</td>\n",
       "      <td>2017-03-06</td>\n",
       "      <td>1.0</td>\n",
       "      <td>55.41</td>\n",
       "      <td>0.231958</td>\n",
       "      <td>0.533742</td>\n",
       "      <td>-0.682822</td>\n",
       "      <td>1.059589</td>\n",
       "      <td>1</td>\n",
       "      <td>1</td>\n",
       "    </tr>\n",
       "    <tr>\n",
       "      <th>...</th>\n",
       "      <td>...</td>\n",
       "      <td>...</td>\n",
       "      <td>...</td>\n",
       "      <td>...</td>\n",
       "      <td>...</td>\n",
       "      <td>...</td>\n",
       "      <td>...</td>\n",
       "      <td>...</td>\n",
       "      <td>...</td>\n",
       "      <td>...</td>\n",
       "      <td>...</td>\n",
       "      <td>...</td>\n",
       "      <td>...</td>\n",
       "      <td>...</td>\n",
       "      <td>...</td>\n",
       "      <td>...</td>\n",
       "      <td>...</td>\n",
       "      <td>...</td>\n",
       "      <td>...</td>\n",
       "      <td>...</td>\n",
       "      <td>...</td>\n",
       "    </tr>\n",
       "    <tr>\n",
       "      <th>18350</th>\n",
       "      <td>3469 Relief Valley Ct.</td>\n",
       "      <td>Royal Oak</td>\n",
       "      <td>British Columbia</td>\n",
       "      <td>Canada</td>\n",
       "      <td>1960-09-06</td>\n",
       "      <td>Bachelors</td>\n",
       "      <td>Clerical</td>\n",
       "      <td>1</td>\n",
       "      <td>1</td>\n",
       "      <td>0</td>\n",
       "      <td>2</td>\n",
       "      <td>87320</td>\n",
       "      <td>2017-03-06</td>\n",
       "      <td>0.0</td>\n",
       "      <td>48.14</td>\n",
       "      <td>0.544379</td>\n",
       "      <td>0.190656</td>\n",
       "      <td>0.474657</td>\n",
       "      <td>-1.055055</td>\n",
       "      <td>0</td>\n",
       "      <td>0</td>\n",
       "    </tr>\n",
       "    <tr>\n",
       "      <th>18351</th>\n",
       "      <td>6126 North Sixth Street</td>\n",
       "      <td>Redmond</td>\n",
       "      <td>Washington</td>\n",
       "      <td>United States</td>\n",
       "      <td>1986-08-15</td>\n",
       "      <td>Graduate Degree</td>\n",
       "      <td>Clerical</td>\n",
       "      <td>0</td>\n",
       "      <td>1</td>\n",
       "      <td>0</td>\n",
       "      <td>0</td>\n",
       "      <td>84374</td>\n",
       "      <td>2017-03-06</td>\n",
       "      <td>1.0</td>\n",
       "      <td>50.23</td>\n",
       "      <td>0.518464</td>\n",
       "      <td>0.289287</td>\n",
       "      <td>0.378646</td>\n",
       "      <td>-0.447131</td>\n",
       "      <td>0</td>\n",
       "      <td>1</td>\n",
       "    </tr>\n",
       "    <tr>\n",
       "      <th>18352</th>\n",
       "      <td>7182 Olive Hill</td>\n",
       "      <td>Cliffside</td>\n",
       "      <td>British Columbia</td>\n",
       "      <td>Canada</td>\n",
       "      <td>1986-11-14</td>\n",
       "      <td>Graduate Degree</td>\n",
       "      <td>Skilled Manual</td>\n",
       "      <td>0</td>\n",
       "      <td>0</td>\n",
       "      <td>0</td>\n",
       "      <td>0</td>\n",
       "      <td>50961</td>\n",
       "      <td>2017-03-06</td>\n",
       "      <td>1.0</td>\n",
       "      <td>49.56</td>\n",
       "      <td>0.224543</td>\n",
       "      <td>0.257669</td>\n",
       "      <td>-0.710296</td>\n",
       "      <td>-0.642016</td>\n",
       "      <td>0</td>\n",
       "      <td>1</td>\n",
       "    </tr>\n",
       "    <tr>\n",
       "      <th>18353</th>\n",
       "      <td>487, rue Montcalm</td>\n",
       "      <td>Les Ulis</td>\n",
       "      <td>Essonne</td>\n",
       "      <td>France</td>\n",
       "      <td>1983-02-05</td>\n",
       "      <td>Partial High School</td>\n",
       "      <td>Manual</td>\n",
       "      <td>0</td>\n",
       "      <td>1</td>\n",
       "      <td>0</td>\n",
       "      <td>0</td>\n",
       "      <td>33678</td>\n",
       "      <td>2017-03-06</td>\n",
       "      <td>0.0</td>\n",
       "      <td>51.42</td>\n",
       "      <td>0.072511</td>\n",
       "      <td>0.345446</td>\n",
       "      <td>-1.273555</td>\n",
       "      <td>-0.100993</td>\n",
       "      <td>0</td>\n",
       "      <td>1</td>\n",
       "    </tr>\n",
       "    <tr>\n",
       "      <th>18354</th>\n",
       "      <td>4346 Via Rerrari</td>\n",
       "      <td>Downey</td>\n",
       "      <td>California</td>\n",
       "      <td>United States</td>\n",
       "      <td>1980-10-08</td>\n",
       "      <td>Partial College</td>\n",
       "      <td>Manual</td>\n",
       "      <td>1</td>\n",
       "      <td>0</td>\n",
       "      <td>1</td>\n",
       "      <td>2</td>\n",
       "      <td>29758</td>\n",
       "      <td>2017-03-06</td>\n",
       "      <td>1.0</td>\n",
       "      <td>52.27</td>\n",
       "      <td>0.038028</td>\n",
       "      <td>0.385559</td>\n",
       "      <td>-1.401310</td>\n",
       "      <td>0.146249</td>\n",
       "      <td>0</td>\n",
       "      <td>0</td>\n",
       "    </tr>\n",
       "  </tbody>\n",
       "</table>\n",
       "<p>18355 rows × 21 columns</p>\n",
       "</div>"
      ],
      "text/plain": [
       "                  AddressLine1         City    StateProvinceName  \\\n",
       "0           7090 C. Mount Hood   Wollongong      New South Wales   \n",
       "1          3651 Willow Lake Rd      Shawnee     British Columbia   \n",
       "2       1774 Tice Valley Blvd.  West Covina           California   \n",
       "3              2103 Baldwin Dr    Liverpool              England   \n",
       "4              Am Gallberg 234        Werne  Nordrhein-Westfalen   \n",
       "...                        ...          ...                  ...   \n",
       "18350   3469 Relief Valley Ct.    Royal Oak     British Columbia   \n",
       "18351  6126 North Sixth Street      Redmond           Washington   \n",
       "18352          7182 Olive Hill    Cliffside     British Columbia   \n",
       "18353        487, rue Montcalm     Les Ulis              Essonne   \n",
       "18354         4346 Via Rerrari       Downey           California   \n",
       "\n",
       "      CountryRegionName  BirthDate            Education      Occupation  \\\n",
       "0             Australia 1987-11-13            Bachelors        Clerical   \n",
       "1                Canada 1972-07-21      Partial College        Clerical   \n",
       "2         United States 1985-11-09            Bachelors        Clerical   \n",
       "3        United Kingdom 1977-10-18      Partial College  Skilled Manual   \n",
       "4               Germany 1975-02-05      Partial College  Skilled Manual   \n",
       "...                 ...        ...                  ...             ...   \n",
       "18350            Canada 1960-09-06            Bachelors        Clerical   \n",
       "18351     United States 1986-08-15      Graduate Degree        Clerical   \n",
       "18352            Canada 1986-11-14      Graduate Degree  Skilled Manual   \n",
       "18353            France 1983-02-05  Partial High School          Manual   \n",
       "18354     United States 1980-10-08      Partial College          Manual   \n",
       "\n",
       "       HomeOwnerFlag  NumberCarsOwned  NumberChildrenAtHome  TotalChildren  \\\n",
       "0                  1                3                     0              1   \n",
       "1                  1                2                     1              2   \n",
       "2                  0                3                     0              0   \n",
       "3                  1                2                     1              2   \n",
       "4                  1                1                     0              0   \n",
       "...              ...              ...                   ...            ...   \n",
       "18350              1                1                     0              2   \n",
       "18351              0                1                     0              0   \n",
       "18352              0                0                     0              0   \n",
       "18353              0                1                     0              0   \n",
       "18354              1                0                     1              2   \n",
       "\n",
       "       YearlyIncome LastUpdated  BikeBuyer  AvgMonthSpend  \\\n",
       "0             81916  2017-03-06        1.0          50.97   \n",
       "1             81076  2017-03-06        1.0          53.11   \n",
       "2             86387  2017-03-06        1.0          54.08   \n",
       "3             61481  2017-03-06        1.0          56.93   \n",
       "4             51804  2017-03-06        1.0          55.41   \n",
       "...             ...         ...        ...            ...   \n",
       "18350         87320  2017-03-06        0.0          48.14   \n",
       "18351         84374  2017-03-06        1.0          50.23   \n",
       "18352         50961  2017-03-06        1.0          49.56   \n",
       "18353         33678  2017-03-06        0.0          51.42   \n",
       "18354         29758  2017-03-06        1.0          52.27   \n",
       "\n",
       "       YearlyIncome_normalized  AvgMonthSpend_normalized  YearlyIncome_std  \\\n",
       "0                     0.496842                  0.324210          0.298539   \n",
       "1                     0.489453                  0.425201          0.271163   \n",
       "2                     0.536172                  0.470977          0.444250   \n",
       "3                     0.317083                  0.605474         -0.367445   \n",
       "4                     0.231958                  0.533742         -0.682822   \n",
       "...                        ...                       ...               ...   \n",
       "18350                 0.544379                  0.190656          0.474657   \n",
       "18351                 0.518464                  0.289287          0.378646   \n",
       "18352                 0.224543                  0.257669         -0.710296   \n",
       "18353                 0.072511                  0.345446         -1.273555   \n",
       "18354                 0.038028                  0.385559         -1.401310   \n",
       "\n",
       "       AvgMonthSpend_std  Male  Single  \n",
       "0              -0.231886     1       0  \n",
       "1               0.390582     1       0  \n",
       "2               0.672728     0       1  \n",
       "3               1.501715     1       0  \n",
       "4               1.059589     1       1  \n",
       "...                  ...   ...     ...  \n",
       "18350          -1.055055     0       0  \n",
       "18351          -0.447131     0       1  \n",
       "18352          -0.642016     0       1  \n",
       "18353          -0.100993     0       1  \n",
       "18354           0.146249     0       0  \n",
       "\n",
       "[18355 rows x 21 columns]"
      ]
     },
     "execution_count": 42,
     "metadata": {},
     "output_type": "execute_result"
    }
   ],
   "source": [
    "df"
   ]
  },
  {
   "cell_type": "code",
   "execution_count": 43,
   "id": "1d9c1f69",
   "metadata": {
    "execution": {
     "iopub.execute_input": "2022-08-14T11:37:29.465386Z",
     "iopub.status.busy": "2022-08-14T11:37:29.464626Z",
     "iopub.status.idle": "2022-08-14T11:37:29.472681Z",
     "shell.execute_reply": "2022-08-14T11:37:29.471893Z"
    },
    "papermill": {
     "duration": 0.027345,
     "end_time": "2022-08-14T11:37:29.474799",
     "exception": false,
     "start_time": "2022-08-14T11:37:29.447454",
     "status": "completed"
    },
    "tags": []
   },
   "outputs": [
    {
     "data": {
      "text/plain": [
       "15351"
      ]
     },
     "execution_count": 43,
     "metadata": {},
     "output_type": "execute_result"
    }
   ],
   "source": [
    "len(df['YearlyIncome'].value_counts().index)"
   ]
  },
  {
   "cell_type": "markdown",
   "id": "c3173c07",
   "metadata": {
    "papermill": {
     "duration": 0.016382,
     "end_time": "2022-08-14T11:37:29.507893",
     "exception": false,
     "start_time": "2022-08-14T11:37:29.491511",
     "status": "completed"
    },
    "tags": []
   },
   "source": [
    "#### From the above cell it is quite clear that if we plot the data as it is the plot will be unreadable,the technique of binning will be highly helpful for us.\n",
    "\n",
    "#### pd.cut(), will actually help us to divide the this huge series into several bins.\n",
    "\n",
    "#### Features such as YearlyIncome and AvgMonthSpend are perfect for binning\n"
   ]
  },
  {
   "cell_type": "code",
   "execution_count": 44,
   "id": "b3812138",
   "metadata": {
    "execution": {
     "iopub.execute_input": "2022-08-14T11:37:29.542469Z",
     "iopub.status.busy": "2022-08-14T11:37:29.541716Z",
     "iopub.status.idle": "2022-08-14T11:37:29.548757Z",
     "shell.execute_reply": "2022-08-14T11:37:29.547749Z"
    },
    "papermill": {
     "duration": 0.026687,
     "end_time": "2022-08-14T11:37:29.551010",
     "exception": false,
     "start_time": "2022-08-14T11:37:29.524323",
     "status": "completed"
    },
    "tags": []
   },
   "outputs": [
    {
     "data": {
      "text/plain": [
       "113680"
      ]
     },
     "execution_count": 44,
     "metadata": {},
     "output_type": "execute_result"
    }
   ],
   "source": [
    "YearlyIncome_min=df['YearlyIncome'].min()\n",
    "YearlyIncome_max=df['YearlyIncome'].max()\n",
    "YearlyIncome_max-YearlyIncome_min\n"
   ]
  },
  {
   "cell_type": "code",
   "execution_count": 45,
   "id": "2d4e8c55",
   "metadata": {
    "execution": {
     "iopub.execute_input": "2022-08-14T11:37:29.585864Z",
     "iopub.status.busy": "2022-08-14T11:37:29.585136Z",
     "iopub.status.idle": "2022-08-14T11:37:29.590098Z",
     "shell.execute_reply": "2022-08-14T11:37:29.589353Z"
    },
    "papermill": {
     "duration": 0.02513,
     "end_time": "2022-08-14T11:37:29.592404",
     "exception": false,
     "start_time": "2022-08-14T11:37:29.567274",
     "status": "completed"
    },
    "tags": []
   },
   "outputs": [],
   "source": [
    "bin_YearlyIncome=np.arange(YearlyIncome_min,YearlyIncome_max,step=20000)\n",
    "# arrange has stepsize whereas linspace has the length of the number of divisions\n",
    "len(bin_YearlyIncome)\n",
    "bin_YearlyIncome\n",
    "YearlyIncome_label=['below low','low','Medium','above medium','High']"
   ]
  },
  {
   "cell_type": "code",
   "execution_count": 46,
   "id": "3ba68ff1",
   "metadata": {
    "execution": {
     "iopub.execute_input": "2022-08-14T11:37:29.627381Z",
     "iopub.status.busy": "2022-08-14T11:37:29.626648Z",
     "iopub.status.idle": "2022-08-14T11:37:29.634096Z",
     "shell.execute_reply": "2022-08-14T11:37:29.633286Z"
    },
    "papermill": {
     "duration": 0.027638,
     "end_time": "2022-08-14T11:37:29.636405",
     "exception": false,
     "start_time": "2022-08-14T11:37:29.608767",
     "status": "completed"
    },
    "tags": []
   },
   "outputs": [],
   "source": [
    "df['YearlyBinned']=pd.cut(df['YearlyIncome'],bins=bin_YearlyIncome,labels=YearlyIncome_label)"
   ]
  },
  {
   "cell_type": "code",
   "execution_count": 47,
   "id": "4e511aed",
   "metadata": {
    "execution": {
     "iopub.execute_input": "2022-08-14T11:37:29.670900Z",
     "iopub.status.busy": "2022-08-14T11:37:29.670158Z",
     "iopub.status.idle": "2022-08-14T11:37:29.704360Z",
     "shell.execute_reply": "2022-08-14T11:37:29.703477Z"
    },
    "papermill": {
     "duration": 0.053836,
     "end_time": "2022-08-14T11:37:29.706708",
     "exception": false,
     "start_time": "2022-08-14T11:37:29.652872",
     "status": "completed"
    },
    "tags": []
   },
   "outputs": [
    {
     "data": {
      "text/html": [
       "<div>\n",
       "<style scoped>\n",
       "    .dataframe tbody tr th:only-of-type {\n",
       "        vertical-align: middle;\n",
       "    }\n",
       "\n",
       "    .dataframe tbody tr th {\n",
       "        vertical-align: top;\n",
       "    }\n",
       "\n",
       "    .dataframe thead th {\n",
       "        text-align: right;\n",
       "    }\n",
       "</style>\n",
       "<table border=\"1\" class=\"dataframe\">\n",
       "  <thead>\n",
       "    <tr style=\"text-align: right;\">\n",
       "      <th></th>\n",
       "      <th>AddressLine1</th>\n",
       "      <th>City</th>\n",
       "      <th>StateProvinceName</th>\n",
       "      <th>CountryRegionName</th>\n",
       "      <th>BirthDate</th>\n",
       "      <th>Education</th>\n",
       "      <th>Occupation</th>\n",
       "      <th>HomeOwnerFlag</th>\n",
       "      <th>NumberCarsOwned</th>\n",
       "      <th>NumberChildrenAtHome</th>\n",
       "      <th>TotalChildren</th>\n",
       "      <th>YearlyIncome</th>\n",
       "      <th>LastUpdated</th>\n",
       "      <th>BikeBuyer</th>\n",
       "      <th>AvgMonthSpend</th>\n",
       "      <th>YearlyIncome_normalized</th>\n",
       "      <th>AvgMonthSpend_normalized</th>\n",
       "      <th>YearlyIncome_std</th>\n",
       "      <th>AvgMonthSpend_std</th>\n",
       "      <th>Male</th>\n",
       "      <th>Single</th>\n",
       "      <th>YearlyBinned</th>\n",
       "    </tr>\n",
       "  </thead>\n",
       "  <tbody>\n",
       "    <tr>\n",
       "      <th>0</th>\n",
       "      <td>7090 C. Mount Hood</td>\n",
       "      <td>Wollongong</td>\n",
       "      <td>New South Wales</td>\n",
       "      <td>Australia</td>\n",
       "      <td>1987-11-13</td>\n",
       "      <td>Bachelors</td>\n",
       "      <td>Clerical</td>\n",
       "      <td>1</td>\n",
       "      <td>3</td>\n",
       "      <td>0</td>\n",
       "      <td>1</td>\n",
       "      <td>81916</td>\n",
       "      <td>2017-03-06</td>\n",
       "      <td>1.0</td>\n",
       "      <td>50.97</td>\n",
       "      <td>0.496842</td>\n",
       "      <td>0.324210</td>\n",
       "      <td>0.298539</td>\n",
       "      <td>-0.231886</td>\n",
       "      <td>1</td>\n",
       "      <td>0</td>\n",
       "      <td>Medium</td>\n",
       "    </tr>\n",
       "    <tr>\n",
       "      <th>1</th>\n",
       "      <td>3651 Willow Lake Rd</td>\n",
       "      <td>Shawnee</td>\n",
       "      <td>British Columbia</td>\n",
       "      <td>Canada</td>\n",
       "      <td>1972-07-21</td>\n",
       "      <td>Partial College</td>\n",
       "      <td>Clerical</td>\n",
       "      <td>1</td>\n",
       "      <td>2</td>\n",
       "      <td>1</td>\n",
       "      <td>2</td>\n",
       "      <td>81076</td>\n",
       "      <td>2017-03-06</td>\n",
       "      <td>1.0</td>\n",
       "      <td>53.11</td>\n",
       "      <td>0.489453</td>\n",
       "      <td>0.425201</td>\n",
       "      <td>0.271163</td>\n",
       "      <td>0.390582</td>\n",
       "      <td>1</td>\n",
       "      <td>0</td>\n",
       "      <td>Medium</td>\n",
       "    </tr>\n",
       "    <tr>\n",
       "      <th>2</th>\n",
       "      <td>1774 Tice Valley Blvd.</td>\n",
       "      <td>West Covina</td>\n",
       "      <td>California</td>\n",
       "      <td>United States</td>\n",
       "      <td>1985-11-09</td>\n",
       "      <td>Bachelors</td>\n",
       "      <td>Clerical</td>\n",
       "      <td>0</td>\n",
       "      <td>3</td>\n",
       "      <td>0</td>\n",
       "      <td>0</td>\n",
       "      <td>86387</td>\n",
       "      <td>2017-03-06</td>\n",
       "      <td>1.0</td>\n",
       "      <td>54.08</td>\n",
       "      <td>0.536172</td>\n",
       "      <td>0.470977</td>\n",
       "      <td>0.444250</td>\n",
       "      <td>0.672728</td>\n",
       "      <td>0</td>\n",
       "      <td>1</td>\n",
       "      <td>above medium</td>\n",
       "    </tr>\n",
       "    <tr>\n",
       "      <th>3</th>\n",
       "      <td>2103 Baldwin Dr</td>\n",
       "      <td>Liverpool</td>\n",
       "      <td>England</td>\n",
       "      <td>United Kingdom</td>\n",
       "      <td>1977-10-18</td>\n",
       "      <td>Partial College</td>\n",
       "      <td>Skilled Manual</td>\n",
       "      <td>1</td>\n",
       "      <td>2</td>\n",
       "      <td>1</td>\n",
       "      <td>2</td>\n",
       "      <td>61481</td>\n",
       "      <td>2017-03-06</td>\n",
       "      <td>1.0</td>\n",
       "      <td>56.93</td>\n",
       "      <td>0.317083</td>\n",
       "      <td>0.605474</td>\n",
       "      <td>-0.367445</td>\n",
       "      <td>1.501715</td>\n",
       "      <td>1</td>\n",
       "      <td>0</td>\n",
       "      <td>low</td>\n",
       "    </tr>\n",
       "    <tr>\n",
       "      <th>4</th>\n",
       "      <td>Am Gallberg 234</td>\n",
       "      <td>Werne</td>\n",
       "      <td>Nordrhein-Westfalen</td>\n",
       "      <td>Germany</td>\n",
       "      <td>1975-02-05</td>\n",
       "      <td>Partial College</td>\n",
       "      <td>Skilled Manual</td>\n",
       "      <td>1</td>\n",
       "      <td>1</td>\n",
       "      <td>0</td>\n",
       "      <td>0</td>\n",
       "      <td>51804</td>\n",
       "      <td>2017-03-06</td>\n",
       "      <td>1.0</td>\n",
       "      <td>55.41</td>\n",
       "      <td>0.231958</td>\n",
       "      <td>0.533742</td>\n",
       "      <td>-0.682822</td>\n",
       "      <td>1.059589</td>\n",
       "      <td>1</td>\n",
       "      <td>1</td>\n",
       "      <td>low</td>\n",
       "    </tr>\n",
       "    <tr>\n",
       "      <th>...</th>\n",
       "      <td>...</td>\n",
       "      <td>...</td>\n",
       "      <td>...</td>\n",
       "      <td>...</td>\n",
       "      <td>...</td>\n",
       "      <td>...</td>\n",
       "      <td>...</td>\n",
       "      <td>...</td>\n",
       "      <td>...</td>\n",
       "      <td>...</td>\n",
       "      <td>...</td>\n",
       "      <td>...</td>\n",
       "      <td>...</td>\n",
       "      <td>...</td>\n",
       "      <td>...</td>\n",
       "      <td>...</td>\n",
       "      <td>...</td>\n",
       "      <td>...</td>\n",
       "      <td>...</td>\n",
       "      <td>...</td>\n",
       "      <td>...</td>\n",
       "      <td>...</td>\n",
       "    </tr>\n",
       "    <tr>\n",
       "      <th>18350</th>\n",
       "      <td>3469 Relief Valley Ct.</td>\n",
       "      <td>Royal Oak</td>\n",
       "      <td>British Columbia</td>\n",
       "      <td>Canada</td>\n",
       "      <td>1960-09-06</td>\n",
       "      <td>Bachelors</td>\n",
       "      <td>Clerical</td>\n",
       "      <td>1</td>\n",
       "      <td>1</td>\n",
       "      <td>0</td>\n",
       "      <td>2</td>\n",
       "      <td>87320</td>\n",
       "      <td>2017-03-06</td>\n",
       "      <td>0.0</td>\n",
       "      <td>48.14</td>\n",
       "      <td>0.544379</td>\n",
       "      <td>0.190656</td>\n",
       "      <td>0.474657</td>\n",
       "      <td>-1.055055</td>\n",
       "      <td>0</td>\n",
       "      <td>0</td>\n",
       "      <td>above medium</td>\n",
       "    </tr>\n",
       "    <tr>\n",
       "      <th>18351</th>\n",
       "      <td>6126 North Sixth Street</td>\n",
       "      <td>Redmond</td>\n",
       "      <td>Washington</td>\n",
       "      <td>United States</td>\n",
       "      <td>1986-08-15</td>\n",
       "      <td>Graduate Degree</td>\n",
       "      <td>Clerical</td>\n",
       "      <td>0</td>\n",
       "      <td>1</td>\n",
       "      <td>0</td>\n",
       "      <td>0</td>\n",
       "      <td>84374</td>\n",
       "      <td>2017-03-06</td>\n",
       "      <td>1.0</td>\n",
       "      <td>50.23</td>\n",
       "      <td>0.518464</td>\n",
       "      <td>0.289287</td>\n",
       "      <td>0.378646</td>\n",
       "      <td>-0.447131</td>\n",
       "      <td>0</td>\n",
       "      <td>1</td>\n",
       "      <td>Medium</td>\n",
       "    </tr>\n",
       "    <tr>\n",
       "      <th>18352</th>\n",
       "      <td>7182 Olive Hill</td>\n",
       "      <td>Cliffside</td>\n",
       "      <td>British Columbia</td>\n",
       "      <td>Canada</td>\n",
       "      <td>1986-11-14</td>\n",
       "      <td>Graduate Degree</td>\n",
       "      <td>Skilled Manual</td>\n",
       "      <td>0</td>\n",
       "      <td>0</td>\n",
       "      <td>0</td>\n",
       "      <td>0</td>\n",
       "      <td>50961</td>\n",
       "      <td>2017-03-06</td>\n",
       "      <td>1.0</td>\n",
       "      <td>49.56</td>\n",
       "      <td>0.224543</td>\n",
       "      <td>0.257669</td>\n",
       "      <td>-0.710296</td>\n",
       "      <td>-0.642016</td>\n",
       "      <td>0</td>\n",
       "      <td>1</td>\n",
       "      <td>low</td>\n",
       "    </tr>\n",
       "    <tr>\n",
       "      <th>18353</th>\n",
       "      <td>487, rue Montcalm</td>\n",
       "      <td>Les Ulis</td>\n",
       "      <td>Essonne</td>\n",
       "      <td>France</td>\n",
       "      <td>1983-02-05</td>\n",
       "      <td>Partial High School</td>\n",
       "      <td>Manual</td>\n",
       "      <td>0</td>\n",
       "      <td>1</td>\n",
       "      <td>0</td>\n",
       "      <td>0</td>\n",
       "      <td>33678</td>\n",
       "      <td>2017-03-06</td>\n",
       "      <td>0.0</td>\n",
       "      <td>51.42</td>\n",
       "      <td>0.072511</td>\n",
       "      <td>0.345446</td>\n",
       "      <td>-1.273555</td>\n",
       "      <td>-0.100993</td>\n",
       "      <td>0</td>\n",
       "      <td>1</td>\n",
       "      <td>below low</td>\n",
       "    </tr>\n",
       "    <tr>\n",
       "      <th>18354</th>\n",
       "      <td>4346 Via Rerrari</td>\n",
       "      <td>Downey</td>\n",
       "      <td>California</td>\n",
       "      <td>United States</td>\n",
       "      <td>1980-10-08</td>\n",
       "      <td>Partial College</td>\n",
       "      <td>Manual</td>\n",
       "      <td>1</td>\n",
       "      <td>0</td>\n",
       "      <td>1</td>\n",
       "      <td>2</td>\n",
       "      <td>29758</td>\n",
       "      <td>2017-03-06</td>\n",
       "      <td>1.0</td>\n",
       "      <td>52.27</td>\n",
       "      <td>0.038028</td>\n",
       "      <td>0.385559</td>\n",
       "      <td>-1.401310</td>\n",
       "      <td>0.146249</td>\n",
       "      <td>0</td>\n",
       "      <td>0</td>\n",
       "      <td>below low</td>\n",
       "    </tr>\n",
       "  </tbody>\n",
       "</table>\n",
       "<p>18355 rows × 22 columns</p>\n",
       "</div>"
      ],
      "text/plain": [
       "                  AddressLine1         City    StateProvinceName  \\\n",
       "0           7090 C. Mount Hood   Wollongong      New South Wales   \n",
       "1          3651 Willow Lake Rd      Shawnee     British Columbia   \n",
       "2       1774 Tice Valley Blvd.  West Covina           California   \n",
       "3              2103 Baldwin Dr    Liverpool              England   \n",
       "4              Am Gallberg 234        Werne  Nordrhein-Westfalen   \n",
       "...                        ...          ...                  ...   \n",
       "18350   3469 Relief Valley Ct.    Royal Oak     British Columbia   \n",
       "18351  6126 North Sixth Street      Redmond           Washington   \n",
       "18352          7182 Olive Hill    Cliffside     British Columbia   \n",
       "18353        487, rue Montcalm     Les Ulis              Essonne   \n",
       "18354         4346 Via Rerrari       Downey           California   \n",
       "\n",
       "      CountryRegionName  BirthDate            Education      Occupation  \\\n",
       "0             Australia 1987-11-13            Bachelors        Clerical   \n",
       "1                Canada 1972-07-21      Partial College        Clerical   \n",
       "2         United States 1985-11-09            Bachelors        Clerical   \n",
       "3        United Kingdom 1977-10-18      Partial College  Skilled Manual   \n",
       "4               Germany 1975-02-05      Partial College  Skilled Manual   \n",
       "...                 ...        ...                  ...             ...   \n",
       "18350            Canada 1960-09-06            Bachelors        Clerical   \n",
       "18351     United States 1986-08-15      Graduate Degree        Clerical   \n",
       "18352            Canada 1986-11-14      Graduate Degree  Skilled Manual   \n",
       "18353            France 1983-02-05  Partial High School          Manual   \n",
       "18354     United States 1980-10-08      Partial College          Manual   \n",
       "\n",
       "       HomeOwnerFlag  NumberCarsOwned  NumberChildrenAtHome  TotalChildren  \\\n",
       "0                  1                3                     0              1   \n",
       "1                  1                2                     1              2   \n",
       "2                  0                3                     0              0   \n",
       "3                  1                2                     1              2   \n",
       "4                  1                1                     0              0   \n",
       "...              ...              ...                   ...            ...   \n",
       "18350              1                1                     0              2   \n",
       "18351              0                1                     0              0   \n",
       "18352              0                0                     0              0   \n",
       "18353              0                1                     0              0   \n",
       "18354              1                0                     1              2   \n",
       "\n",
       "       YearlyIncome LastUpdated  BikeBuyer  AvgMonthSpend  \\\n",
       "0             81916  2017-03-06        1.0          50.97   \n",
       "1             81076  2017-03-06        1.0          53.11   \n",
       "2             86387  2017-03-06        1.0          54.08   \n",
       "3             61481  2017-03-06        1.0          56.93   \n",
       "4             51804  2017-03-06        1.0          55.41   \n",
       "...             ...         ...        ...            ...   \n",
       "18350         87320  2017-03-06        0.0          48.14   \n",
       "18351         84374  2017-03-06        1.0          50.23   \n",
       "18352         50961  2017-03-06        1.0          49.56   \n",
       "18353         33678  2017-03-06        0.0          51.42   \n",
       "18354         29758  2017-03-06        1.0          52.27   \n",
       "\n",
       "       YearlyIncome_normalized  AvgMonthSpend_normalized  YearlyIncome_std  \\\n",
       "0                     0.496842                  0.324210          0.298539   \n",
       "1                     0.489453                  0.425201          0.271163   \n",
       "2                     0.536172                  0.470977          0.444250   \n",
       "3                     0.317083                  0.605474         -0.367445   \n",
       "4                     0.231958                  0.533742         -0.682822   \n",
       "...                        ...                       ...               ...   \n",
       "18350                 0.544379                  0.190656          0.474657   \n",
       "18351                 0.518464                  0.289287          0.378646   \n",
       "18352                 0.224543                  0.257669         -0.710296   \n",
       "18353                 0.072511                  0.345446         -1.273555   \n",
       "18354                 0.038028                  0.385559         -1.401310   \n",
       "\n",
       "       AvgMonthSpend_std  Male  Single  YearlyBinned  \n",
       "0              -0.231886     1       0        Medium  \n",
       "1               0.390582     1       0        Medium  \n",
       "2               0.672728     0       1  above medium  \n",
       "3               1.501715     1       0           low  \n",
       "4               1.059589     1       1           low  \n",
       "...                  ...   ...     ...           ...  \n",
       "18350          -1.055055     0       0  above medium  \n",
       "18351          -0.447131     0       1        Medium  \n",
       "18352          -0.642016     0       1           low  \n",
       "18353          -0.100993     0       1     below low  \n",
       "18354           0.146249     0       0     below low  \n",
       "\n",
       "[18355 rows x 22 columns]"
      ]
     },
     "execution_count": 47,
     "metadata": {},
     "output_type": "execute_result"
    }
   ],
   "source": [
    "df"
   ]
  },
  {
   "cell_type": "code",
   "execution_count": 48,
   "id": "e4458528",
   "metadata": {
    "execution": {
     "iopub.execute_input": "2022-08-14T11:37:29.742322Z",
     "iopub.status.busy": "2022-08-14T11:37:29.741897Z",
     "iopub.status.idle": "2022-08-14T11:37:29.748984Z",
     "shell.execute_reply": "2022-08-14T11:37:29.748264Z"
    },
    "papermill": {
     "duration": 0.027134,
     "end_time": "2022-08-14T11:37:29.750968",
     "exception": false,
     "start_time": "2022-08-14T11:37:29.723834",
     "status": "completed"
    },
    "tags": []
   },
   "outputs": [
    {
     "data": {
      "text/plain": [
       "21.190000000000005"
      ]
     },
     "execution_count": 48,
     "metadata": {},
     "output_type": "execute_result"
    }
   ],
   "source": [
    "AvgMonthSpend_min=df['AvgMonthSpend'].min()\n",
    "AvgMonthSpend_max=df['AvgMonthSpend'].max()\n",
    "AvgMonthSpend_max-AvgMonthSpend_min"
   ]
  },
  {
   "cell_type": "code",
   "execution_count": 49,
   "id": "e77302a6",
   "metadata": {
    "execution": {
     "iopub.execute_input": "2022-08-14T11:37:29.786433Z",
     "iopub.status.busy": "2022-08-14T11:37:29.785697Z",
     "iopub.status.idle": "2022-08-14T11:37:29.792166Z",
     "shell.execute_reply": "2022-08-14T11:37:29.790961Z"
    },
    "papermill": {
     "duration": 0.026922,
     "end_time": "2022-08-14T11:37:29.794643",
     "exception": false,
     "start_time": "2022-08-14T11:37:29.767721",
     "status": "completed"
    },
    "tags": []
   },
   "outputs": [
    {
     "name": "stdout",
     "output_type": "stream",
     "text": [
      "[44.1 49.1 54.1 59.1 64.1]\n",
      "length of AvgMonthSpend: 5\n"
     ]
    }
   ],
   "source": [
    "bin_AvgMonthSpend=np.arange(AvgMonthSpend_min,AvgMonthSpend_max,step=5)\n",
    "# arrange has stepsize whereas linspace has the length of the number of divisions\n",
    "print(bin_AvgMonthSpend)\n",
    "print('length of AvgMonthSpend:',len(bin_AvgMonthSpend))\n",
    "\n",
    "AvgMonthSpend_label=['Low','Medium','Above Medium','High']"
   ]
  },
  {
   "cell_type": "code",
   "execution_count": 50,
   "id": "35ec823a",
   "metadata": {
    "execution": {
     "iopub.execute_input": "2022-08-14T11:37:29.831041Z",
     "iopub.status.busy": "2022-08-14T11:37:29.830378Z",
     "iopub.status.idle": "2022-08-14T11:37:29.838370Z",
     "shell.execute_reply": "2022-08-14T11:37:29.837555Z"
    },
    "papermill": {
     "duration": 0.028636,
     "end_time": "2022-08-14T11:37:29.840670",
     "exception": false,
     "start_time": "2022-08-14T11:37:29.812034",
     "status": "completed"
    },
    "tags": []
   },
   "outputs": [],
   "source": [
    "# pd.cut()\n",
    "df['AvgMonthSpendBinned']=pd.cut(df['AvgMonthSpend'],bins=bin_AvgMonthSpend,labels=AvgMonthSpend_label)"
   ]
  },
  {
   "cell_type": "code",
   "execution_count": 51,
   "id": "50a4c229",
   "metadata": {
    "execution": {
     "iopub.execute_input": "2022-08-14T11:37:29.876952Z",
     "iopub.status.busy": "2022-08-14T11:37:29.875660Z",
     "iopub.status.idle": "2022-08-14T11:37:29.912563Z",
     "shell.execute_reply": "2022-08-14T11:37:29.911388Z"
    },
    "papermill": {
     "duration": 0.057543,
     "end_time": "2022-08-14T11:37:29.915102",
     "exception": false,
     "start_time": "2022-08-14T11:37:29.857559",
     "status": "completed"
    },
    "tags": []
   },
   "outputs": [
    {
     "data": {
      "text/html": [
       "<div>\n",
       "<style scoped>\n",
       "    .dataframe tbody tr th:only-of-type {\n",
       "        vertical-align: middle;\n",
       "    }\n",
       "\n",
       "    .dataframe tbody tr th {\n",
       "        vertical-align: top;\n",
       "    }\n",
       "\n",
       "    .dataframe thead th {\n",
       "        text-align: right;\n",
       "    }\n",
       "</style>\n",
       "<table border=\"1\" class=\"dataframe\">\n",
       "  <thead>\n",
       "    <tr style=\"text-align: right;\">\n",
       "      <th></th>\n",
       "      <th>AddressLine1</th>\n",
       "      <th>City</th>\n",
       "      <th>StateProvinceName</th>\n",
       "      <th>CountryRegionName</th>\n",
       "      <th>BirthDate</th>\n",
       "      <th>Education</th>\n",
       "      <th>Occupation</th>\n",
       "      <th>HomeOwnerFlag</th>\n",
       "      <th>NumberCarsOwned</th>\n",
       "      <th>NumberChildrenAtHome</th>\n",
       "      <th>TotalChildren</th>\n",
       "      <th>YearlyIncome</th>\n",
       "      <th>LastUpdated</th>\n",
       "      <th>BikeBuyer</th>\n",
       "      <th>AvgMonthSpend</th>\n",
       "      <th>YearlyIncome_normalized</th>\n",
       "      <th>AvgMonthSpend_normalized</th>\n",
       "      <th>YearlyIncome_std</th>\n",
       "      <th>AvgMonthSpend_std</th>\n",
       "      <th>Male</th>\n",
       "      <th>Single</th>\n",
       "      <th>YearlyBinned</th>\n",
       "      <th>AvgMonthSpendBinned</th>\n",
       "    </tr>\n",
       "  </thead>\n",
       "  <tbody>\n",
       "    <tr>\n",
       "      <th>0</th>\n",
       "      <td>7090 C. Mount Hood</td>\n",
       "      <td>Wollongong</td>\n",
       "      <td>New South Wales</td>\n",
       "      <td>Australia</td>\n",
       "      <td>1987-11-13</td>\n",
       "      <td>Bachelors</td>\n",
       "      <td>Clerical</td>\n",
       "      <td>1</td>\n",
       "      <td>3</td>\n",
       "      <td>0</td>\n",
       "      <td>1</td>\n",
       "      <td>81916</td>\n",
       "      <td>2017-03-06</td>\n",
       "      <td>1.0</td>\n",
       "      <td>50.97</td>\n",
       "      <td>0.496842</td>\n",
       "      <td>0.324210</td>\n",
       "      <td>0.298539</td>\n",
       "      <td>-0.231886</td>\n",
       "      <td>1</td>\n",
       "      <td>0</td>\n",
       "      <td>Medium</td>\n",
       "      <td>Medium</td>\n",
       "    </tr>\n",
       "    <tr>\n",
       "      <th>1</th>\n",
       "      <td>3651 Willow Lake Rd</td>\n",
       "      <td>Shawnee</td>\n",
       "      <td>British Columbia</td>\n",
       "      <td>Canada</td>\n",
       "      <td>1972-07-21</td>\n",
       "      <td>Partial College</td>\n",
       "      <td>Clerical</td>\n",
       "      <td>1</td>\n",
       "      <td>2</td>\n",
       "      <td>1</td>\n",
       "      <td>2</td>\n",
       "      <td>81076</td>\n",
       "      <td>2017-03-06</td>\n",
       "      <td>1.0</td>\n",
       "      <td>53.11</td>\n",
       "      <td>0.489453</td>\n",
       "      <td>0.425201</td>\n",
       "      <td>0.271163</td>\n",
       "      <td>0.390582</td>\n",
       "      <td>1</td>\n",
       "      <td>0</td>\n",
       "      <td>Medium</td>\n",
       "      <td>Medium</td>\n",
       "    </tr>\n",
       "    <tr>\n",
       "      <th>2</th>\n",
       "      <td>1774 Tice Valley Blvd.</td>\n",
       "      <td>West Covina</td>\n",
       "      <td>California</td>\n",
       "      <td>United States</td>\n",
       "      <td>1985-11-09</td>\n",
       "      <td>Bachelors</td>\n",
       "      <td>Clerical</td>\n",
       "      <td>0</td>\n",
       "      <td>3</td>\n",
       "      <td>0</td>\n",
       "      <td>0</td>\n",
       "      <td>86387</td>\n",
       "      <td>2017-03-06</td>\n",
       "      <td>1.0</td>\n",
       "      <td>54.08</td>\n",
       "      <td>0.536172</td>\n",
       "      <td>0.470977</td>\n",
       "      <td>0.444250</td>\n",
       "      <td>0.672728</td>\n",
       "      <td>0</td>\n",
       "      <td>1</td>\n",
       "      <td>above medium</td>\n",
       "      <td>Medium</td>\n",
       "    </tr>\n",
       "    <tr>\n",
       "      <th>3</th>\n",
       "      <td>2103 Baldwin Dr</td>\n",
       "      <td>Liverpool</td>\n",
       "      <td>England</td>\n",
       "      <td>United Kingdom</td>\n",
       "      <td>1977-10-18</td>\n",
       "      <td>Partial College</td>\n",
       "      <td>Skilled Manual</td>\n",
       "      <td>1</td>\n",
       "      <td>2</td>\n",
       "      <td>1</td>\n",
       "      <td>2</td>\n",
       "      <td>61481</td>\n",
       "      <td>2017-03-06</td>\n",
       "      <td>1.0</td>\n",
       "      <td>56.93</td>\n",
       "      <td>0.317083</td>\n",
       "      <td>0.605474</td>\n",
       "      <td>-0.367445</td>\n",
       "      <td>1.501715</td>\n",
       "      <td>1</td>\n",
       "      <td>0</td>\n",
       "      <td>low</td>\n",
       "      <td>Above Medium</td>\n",
       "    </tr>\n",
       "    <tr>\n",
       "      <th>4</th>\n",
       "      <td>Am Gallberg 234</td>\n",
       "      <td>Werne</td>\n",
       "      <td>Nordrhein-Westfalen</td>\n",
       "      <td>Germany</td>\n",
       "      <td>1975-02-05</td>\n",
       "      <td>Partial College</td>\n",
       "      <td>Skilled Manual</td>\n",
       "      <td>1</td>\n",
       "      <td>1</td>\n",
       "      <td>0</td>\n",
       "      <td>0</td>\n",
       "      <td>51804</td>\n",
       "      <td>2017-03-06</td>\n",
       "      <td>1.0</td>\n",
       "      <td>55.41</td>\n",
       "      <td>0.231958</td>\n",
       "      <td>0.533742</td>\n",
       "      <td>-0.682822</td>\n",
       "      <td>1.059589</td>\n",
       "      <td>1</td>\n",
       "      <td>1</td>\n",
       "      <td>low</td>\n",
       "      <td>Above Medium</td>\n",
       "    </tr>\n",
       "    <tr>\n",
       "      <th>...</th>\n",
       "      <td>...</td>\n",
       "      <td>...</td>\n",
       "      <td>...</td>\n",
       "      <td>...</td>\n",
       "      <td>...</td>\n",
       "      <td>...</td>\n",
       "      <td>...</td>\n",
       "      <td>...</td>\n",
       "      <td>...</td>\n",
       "      <td>...</td>\n",
       "      <td>...</td>\n",
       "      <td>...</td>\n",
       "      <td>...</td>\n",
       "      <td>...</td>\n",
       "      <td>...</td>\n",
       "      <td>...</td>\n",
       "      <td>...</td>\n",
       "      <td>...</td>\n",
       "      <td>...</td>\n",
       "      <td>...</td>\n",
       "      <td>...</td>\n",
       "      <td>...</td>\n",
       "      <td>...</td>\n",
       "    </tr>\n",
       "    <tr>\n",
       "      <th>18350</th>\n",
       "      <td>3469 Relief Valley Ct.</td>\n",
       "      <td>Royal Oak</td>\n",
       "      <td>British Columbia</td>\n",
       "      <td>Canada</td>\n",
       "      <td>1960-09-06</td>\n",
       "      <td>Bachelors</td>\n",
       "      <td>Clerical</td>\n",
       "      <td>1</td>\n",
       "      <td>1</td>\n",
       "      <td>0</td>\n",
       "      <td>2</td>\n",
       "      <td>87320</td>\n",
       "      <td>2017-03-06</td>\n",
       "      <td>0.0</td>\n",
       "      <td>48.14</td>\n",
       "      <td>0.544379</td>\n",
       "      <td>0.190656</td>\n",
       "      <td>0.474657</td>\n",
       "      <td>-1.055055</td>\n",
       "      <td>0</td>\n",
       "      <td>0</td>\n",
       "      <td>above medium</td>\n",
       "      <td>Low</td>\n",
       "    </tr>\n",
       "    <tr>\n",
       "      <th>18351</th>\n",
       "      <td>6126 North Sixth Street</td>\n",
       "      <td>Redmond</td>\n",
       "      <td>Washington</td>\n",
       "      <td>United States</td>\n",
       "      <td>1986-08-15</td>\n",
       "      <td>Graduate Degree</td>\n",
       "      <td>Clerical</td>\n",
       "      <td>0</td>\n",
       "      <td>1</td>\n",
       "      <td>0</td>\n",
       "      <td>0</td>\n",
       "      <td>84374</td>\n",
       "      <td>2017-03-06</td>\n",
       "      <td>1.0</td>\n",
       "      <td>50.23</td>\n",
       "      <td>0.518464</td>\n",
       "      <td>0.289287</td>\n",
       "      <td>0.378646</td>\n",
       "      <td>-0.447131</td>\n",
       "      <td>0</td>\n",
       "      <td>1</td>\n",
       "      <td>Medium</td>\n",
       "      <td>Medium</td>\n",
       "    </tr>\n",
       "    <tr>\n",
       "      <th>18352</th>\n",
       "      <td>7182 Olive Hill</td>\n",
       "      <td>Cliffside</td>\n",
       "      <td>British Columbia</td>\n",
       "      <td>Canada</td>\n",
       "      <td>1986-11-14</td>\n",
       "      <td>Graduate Degree</td>\n",
       "      <td>Skilled Manual</td>\n",
       "      <td>0</td>\n",
       "      <td>0</td>\n",
       "      <td>0</td>\n",
       "      <td>0</td>\n",
       "      <td>50961</td>\n",
       "      <td>2017-03-06</td>\n",
       "      <td>1.0</td>\n",
       "      <td>49.56</td>\n",
       "      <td>0.224543</td>\n",
       "      <td>0.257669</td>\n",
       "      <td>-0.710296</td>\n",
       "      <td>-0.642016</td>\n",
       "      <td>0</td>\n",
       "      <td>1</td>\n",
       "      <td>low</td>\n",
       "      <td>Medium</td>\n",
       "    </tr>\n",
       "    <tr>\n",
       "      <th>18353</th>\n",
       "      <td>487, rue Montcalm</td>\n",
       "      <td>Les Ulis</td>\n",
       "      <td>Essonne</td>\n",
       "      <td>France</td>\n",
       "      <td>1983-02-05</td>\n",
       "      <td>Partial High School</td>\n",
       "      <td>Manual</td>\n",
       "      <td>0</td>\n",
       "      <td>1</td>\n",
       "      <td>0</td>\n",
       "      <td>0</td>\n",
       "      <td>33678</td>\n",
       "      <td>2017-03-06</td>\n",
       "      <td>0.0</td>\n",
       "      <td>51.42</td>\n",
       "      <td>0.072511</td>\n",
       "      <td>0.345446</td>\n",
       "      <td>-1.273555</td>\n",
       "      <td>-0.100993</td>\n",
       "      <td>0</td>\n",
       "      <td>1</td>\n",
       "      <td>below low</td>\n",
       "      <td>Medium</td>\n",
       "    </tr>\n",
       "    <tr>\n",
       "      <th>18354</th>\n",
       "      <td>4346 Via Rerrari</td>\n",
       "      <td>Downey</td>\n",
       "      <td>California</td>\n",
       "      <td>United States</td>\n",
       "      <td>1980-10-08</td>\n",
       "      <td>Partial College</td>\n",
       "      <td>Manual</td>\n",
       "      <td>1</td>\n",
       "      <td>0</td>\n",
       "      <td>1</td>\n",
       "      <td>2</td>\n",
       "      <td>29758</td>\n",
       "      <td>2017-03-06</td>\n",
       "      <td>1.0</td>\n",
       "      <td>52.27</td>\n",
       "      <td>0.038028</td>\n",
       "      <td>0.385559</td>\n",
       "      <td>-1.401310</td>\n",
       "      <td>0.146249</td>\n",
       "      <td>0</td>\n",
       "      <td>0</td>\n",
       "      <td>below low</td>\n",
       "      <td>Medium</td>\n",
       "    </tr>\n",
       "  </tbody>\n",
       "</table>\n",
       "<p>18355 rows × 23 columns</p>\n",
       "</div>"
      ],
      "text/plain": [
       "                  AddressLine1         City    StateProvinceName  \\\n",
       "0           7090 C. Mount Hood   Wollongong      New South Wales   \n",
       "1          3651 Willow Lake Rd      Shawnee     British Columbia   \n",
       "2       1774 Tice Valley Blvd.  West Covina           California   \n",
       "3              2103 Baldwin Dr    Liverpool              England   \n",
       "4              Am Gallberg 234        Werne  Nordrhein-Westfalen   \n",
       "...                        ...          ...                  ...   \n",
       "18350   3469 Relief Valley Ct.    Royal Oak     British Columbia   \n",
       "18351  6126 North Sixth Street      Redmond           Washington   \n",
       "18352          7182 Olive Hill    Cliffside     British Columbia   \n",
       "18353        487, rue Montcalm     Les Ulis              Essonne   \n",
       "18354         4346 Via Rerrari       Downey           California   \n",
       "\n",
       "      CountryRegionName  BirthDate            Education      Occupation  \\\n",
       "0             Australia 1987-11-13            Bachelors        Clerical   \n",
       "1                Canada 1972-07-21      Partial College        Clerical   \n",
       "2         United States 1985-11-09            Bachelors        Clerical   \n",
       "3        United Kingdom 1977-10-18      Partial College  Skilled Manual   \n",
       "4               Germany 1975-02-05      Partial College  Skilled Manual   \n",
       "...                 ...        ...                  ...             ...   \n",
       "18350            Canada 1960-09-06            Bachelors        Clerical   \n",
       "18351     United States 1986-08-15      Graduate Degree        Clerical   \n",
       "18352            Canada 1986-11-14      Graduate Degree  Skilled Manual   \n",
       "18353            France 1983-02-05  Partial High School          Manual   \n",
       "18354     United States 1980-10-08      Partial College          Manual   \n",
       "\n",
       "       HomeOwnerFlag  NumberCarsOwned  NumberChildrenAtHome  TotalChildren  \\\n",
       "0                  1                3                     0              1   \n",
       "1                  1                2                     1              2   \n",
       "2                  0                3                     0              0   \n",
       "3                  1                2                     1              2   \n",
       "4                  1                1                     0              0   \n",
       "...              ...              ...                   ...            ...   \n",
       "18350              1                1                     0              2   \n",
       "18351              0                1                     0              0   \n",
       "18352              0                0                     0              0   \n",
       "18353              0                1                     0              0   \n",
       "18354              1                0                     1              2   \n",
       "\n",
       "       YearlyIncome LastUpdated  BikeBuyer  AvgMonthSpend  \\\n",
       "0             81916  2017-03-06        1.0          50.97   \n",
       "1             81076  2017-03-06        1.0          53.11   \n",
       "2             86387  2017-03-06        1.0          54.08   \n",
       "3             61481  2017-03-06        1.0          56.93   \n",
       "4             51804  2017-03-06        1.0          55.41   \n",
       "...             ...         ...        ...            ...   \n",
       "18350         87320  2017-03-06        0.0          48.14   \n",
       "18351         84374  2017-03-06        1.0          50.23   \n",
       "18352         50961  2017-03-06        1.0          49.56   \n",
       "18353         33678  2017-03-06        0.0          51.42   \n",
       "18354         29758  2017-03-06        1.0          52.27   \n",
       "\n",
       "       YearlyIncome_normalized  AvgMonthSpend_normalized  YearlyIncome_std  \\\n",
       "0                     0.496842                  0.324210          0.298539   \n",
       "1                     0.489453                  0.425201          0.271163   \n",
       "2                     0.536172                  0.470977          0.444250   \n",
       "3                     0.317083                  0.605474         -0.367445   \n",
       "4                     0.231958                  0.533742         -0.682822   \n",
       "...                        ...                       ...               ...   \n",
       "18350                 0.544379                  0.190656          0.474657   \n",
       "18351                 0.518464                  0.289287          0.378646   \n",
       "18352                 0.224543                  0.257669         -0.710296   \n",
       "18353                 0.072511                  0.345446         -1.273555   \n",
       "18354                 0.038028                  0.385559         -1.401310   \n",
       "\n",
       "       AvgMonthSpend_std  Male  Single  YearlyBinned AvgMonthSpendBinned  \n",
       "0              -0.231886     1       0        Medium              Medium  \n",
       "1               0.390582     1       0        Medium              Medium  \n",
       "2               0.672728     0       1  above medium              Medium  \n",
       "3               1.501715     1       0           low        Above Medium  \n",
       "4               1.059589     1       1           low        Above Medium  \n",
       "...                  ...   ...     ...           ...                 ...  \n",
       "18350          -1.055055     0       0  above medium                 Low  \n",
       "18351          -0.447131     0       1        Medium              Medium  \n",
       "18352          -0.642016     0       1           low              Medium  \n",
       "18353          -0.100993     0       1     below low              Medium  \n",
       "18354           0.146249     0       0     below low              Medium  \n",
       "\n",
       "[18355 rows x 23 columns]"
      ]
     },
     "execution_count": 51,
     "metadata": {},
     "output_type": "execute_result"
    }
   ],
   "source": [
    "df"
   ]
  }
 ],
 "metadata": {
  "kernelspec": {
   "display_name": "Python 3",
   "language": "python",
   "name": "python3"
  },
  "language_info": {
   "codemirror_mode": {
    "name": "ipython",
    "version": 3
   },
   "file_extension": ".py",
   "mimetype": "text/x-python",
   "name": "python",
   "nbconvert_exporter": "python",
   "pygments_lexer": "ipython3",
   "version": "3.7.12"
  },
  "papermill": {
   "default_parameters": {},
   "duration": 13.606161,
   "end_time": "2022-08-14T11:37:30.655022",
   "environment_variables": {},
   "exception": null,
   "input_path": "__notebook__.ipynb",
   "output_path": "__notebook__.ipynb",
   "parameters": {},
   "start_time": "2022-08-14T11:37:17.048861",
   "version": "2.3.4"
  }
 },
 "nbformat": 4,
 "nbformat_minor": 5
}
