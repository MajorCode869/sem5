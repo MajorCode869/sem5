{
 "cells": [
  {
   "cell_type": "code",
   "execution_count": 1,
   "id": "193e7fb0",
   "metadata": {
    "_cell_guid": "b1076dfc-b9ad-4769-8c92-a6c4dae69d19",
    "_uuid": "8f2839f25d086af736a60e9eeb907d3b93b6e0e5",
    "execution": {
     "iopub.execute_input": "2022-08-18T10:57:23.436064Z",
     "iopub.status.busy": "2022-08-18T10:57:23.435022Z",
     "iopub.status.idle": "2022-08-18T10:57:25.023462Z",
     "shell.execute_reply": "2022-08-18T10:57:25.022202Z"
    },
    "papermill": {
     "duration": 1.611967,
     "end_time": "2022-08-18T10:57:25.028548",
     "exception": false,
     "start_time": "2022-08-18T10:57:23.416581",
     "status": "completed"
    },
    "tags": []
   },
   "outputs": [
    {
     "name": "stdout",
     "output_type": "stream",
     "text": [
      "/kaggle/input/microsoft-adventure-works-cycles-customer-data/AWCustomers.csv\n",
      "/kaggle/input/microsoft-adventure-works-cycles-customer-data/AWTest-Classification.csv\n",
      "/kaggle/input/microsoft-adventure-works-cycles-customer-data/AWSales.csv\n",
      "/kaggle/input/microsoft-adventure-works-cycles-customer-data/AWTest-Regression.csv\n"
     ]
    }
   ],
   "source": [
    "# This Python 3 environment comes with many helpful analytics libraries installed\n",
    "# It is defined by the kaggle/python Docker image: https://github.com/kaggle/docker-python\n",
    "# For example, here's several helpful packages to load\n",
    "\n",
    "import numpy as np # linear algebra\n",
    "import pandas as pd # data processing, CSV file I/O (e.g. pd.read_csv)\n",
    "from sklearn.preprocessing import MinMaxScaler\n",
    "from sklearn.preprocessing import StandardScaler\n",
    "from sklearn.metrics.pairwise import cosine_similarity\n",
    "import seaborn as sns\n",
    "sns.set(style=\"whitegrid\", color_codes=True)\n",
    "# Input data files are available in the read-only \"../input/\" directory\n",
    "# For example, running this (by clicking run or pressing Shift+Enter) will list all files under the input directory\n",
    "pd.set_option('display.max_columns', None)\n",
    "import os\n",
    "for dirname, _, filenames in os.walk('/kaggle/input'):\n",
    "    for filename in filenames:\n",
    "        print(os.path.join(dirname, filename))\n",
    "\n",
    "# You can write up to 20GB to the current directory (/kaggle/working/) that gets preserved as output when you create a version using \"Save & Run All\" \n",
    "# You can also write temporary files to /kaggle/temp/, but they won't be saved outside of the current session\n"
   ]
  },
  {
   "cell_type": "code",
   "execution_count": 2,
   "id": "8d9298da",
   "metadata": {
    "execution": {
     "iopub.execute_input": "2022-08-18T10:57:25.060948Z",
     "iopub.status.busy": "2022-08-18T10:57:25.060444Z",
     "iopub.status.idle": "2022-08-18T10:57:25.252050Z",
     "shell.execute_reply": "2022-08-18T10:57:25.250753Z"
    },
    "papermill": {
     "duration": 0.211591,
     "end_time": "2022-08-18T10:57:25.255906",
     "exception": false,
     "start_time": "2022-08-18T10:57:25.044315",
     "status": "completed"
    },
    "tags": []
   },
   "outputs": [],
   "source": [
    "df_customer=pd.read_csv(\"../input/microsoft-adventure-works-cycles-customer-data/AWCustomers.csv\")\n",
    "df_sales=pd.read_csv(\"../input/microsoft-adventure-works-cycles-customer-data/AWSales.csv\")"
   ]
  },
  {
   "cell_type": "code",
   "execution_count": 3,
   "id": "b46752a7",
   "metadata": {
    "execution": {
     "iopub.execute_input": "2022-08-18T10:57:25.290214Z",
     "iopub.status.busy": "2022-08-18T10:57:25.289495Z",
     "iopub.status.idle": "2022-08-18T10:57:25.300498Z",
     "shell.execute_reply": "2022-08-18T10:57:25.299243Z"
    },
    "papermill": {
     "duration": 0.030308,
     "end_time": "2022-08-18T10:57:25.303297",
     "exception": false,
     "start_time": "2022-08-18T10:57:25.272989",
     "status": "completed"
    },
    "tags": []
   },
   "outputs": [
    {
     "data": {
      "text/plain": [
       "Index(['CustomerID', 'Title', 'FirstName', 'MiddleName', 'LastName', 'Suffix',\n",
       "       'AddressLine1', 'AddressLine2', 'City', 'StateProvinceName',\n",
       "       'CountryRegionName', 'PostalCode', 'PhoneNumber', 'BirthDate',\n",
       "       'Education', 'Occupation', 'Gender', 'MaritalStatus', 'HomeOwnerFlag',\n",
       "       'NumberCarsOwned', 'NumberChildrenAtHome', 'TotalChildren',\n",
       "       'YearlyIncome', 'LastUpdated'],\n",
       "      dtype='object')"
      ]
     },
     "execution_count": 3,
     "metadata": {},
     "output_type": "execute_result"
    }
   ],
   "source": [
    "df_customer.columns"
   ]
  },
  {
   "cell_type": "code",
   "execution_count": 4,
   "id": "10c11b68",
   "metadata": {
    "execution": {
     "iopub.execute_input": "2022-08-18T10:57:25.335165Z",
     "iopub.status.busy": "2022-08-18T10:57:25.334432Z",
     "iopub.status.idle": "2022-08-18T10:57:25.343459Z",
     "shell.execute_reply": "2022-08-18T10:57:25.341634Z"
    },
    "papermill": {
     "duration": 0.028693,
     "end_time": "2022-08-18T10:57:25.346614",
     "exception": false,
     "start_time": "2022-08-18T10:57:25.317921",
     "status": "completed"
    },
    "tags": []
   },
   "outputs": [
    {
     "data": {
      "text/plain": [
       "Index(['CustomerID', 'BikeBuyer', 'AvgMonthSpend'], dtype='object')"
      ]
     },
     "execution_count": 4,
     "metadata": {},
     "output_type": "execute_result"
    }
   ],
   "source": [
    "df_sales.columns"
   ]
  },
  {
   "cell_type": "code",
   "execution_count": 5,
   "id": "005fa457",
   "metadata": {
    "execution": {
     "iopub.execute_input": "2022-08-18T10:57:25.380428Z",
     "iopub.status.busy": "2022-08-18T10:57:25.379894Z",
     "iopub.status.idle": "2022-08-18T10:57:25.400681Z",
     "shell.execute_reply": "2022-08-18T10:57:25.399331Z"
    },
    "papermill": {
     "duration": 0.041684,
     "end_time": "2022-08-18T10:57:25.404626",
     "exception": false,
     "start_time": "2022-08-18T10:57:25.362942",
     "status": "completed"
    },
    "tags": []
   },
   "outputs": [],
   "source": [
    "df=pd.concat([df_customer,df_sales],axis=1)"
   ]
  },
  {
   "cell_type": "code",
   "execution_count": 6,
   "id": "b6425269",
   "metadata": {
    "execution": {
     "iopub.execute_input": "2022-08-18T10:57:25.439508Z",
     "iopub.status.busy": "2022-08-18T10:57:25.437603Z",
     "iopub.status.idle": "2022-08-18T10:57:25.448695Z",
     "shell.execute_reply": "2022-08-18T10:57:25.446994Z"
    },
    "papermill": {
     "duration": 0.031242,
     "end_time": "2022-08-18T10:57:25.451477",
     "exception": false,
     "start_time": "2022-08-18T10:57:25.420235",
     "status": "completed"
    },
    "tags": []
   },
   "outputs": [
    {
     "data": {
      "text/plain": [
       "Index(['CustomerID', 'Title', 'FirstName', 'MiddleName', 'LastName', 'Suffix',\n",
       "       'AddressLine1', 'AddressLine2', 'City', 'StateProvinceName',\n",
       "       'CountryRegionName', 'PostalCode', 'PhoneNumber', 'BirthDate',\n",
       "       'Education', 'Occupation', 'Gender', 'MaritalStatus', 'HomeOwnerFlag',\n",
       "       'NumberCarsOwned', 'NumberChildrenAtHome', 'TotalChildren',\n",
       "       'YearlyIncome', 'LastUpdated', 'CustomerID', 'BikeBuyer',\n",
       "       'AvgMonthSpend'],\n",
       "      dtype='object')"
      ]
     },
     "execution_count": 6,
     "metadata": {},
     "output_type": "execute_result"
    }
   ],
   "source": [
    "df.columns"
   ]
  },
  {
   "cell_type": "markdown",
   "id": "49a309ae",
   "metadata": {
    "execution": {
     "iopub.execute_input": "2022-08-09T02:53:15.932885Z",
     "iopub.status.busy": "2022-08-09T02:53:15.931725Z",
     "iopub.status.idle": "2022-08-09T02:53:15.939873Z",
     "shell.execute_reply": "2022-08-09T02:53:15.938566Z",
     "shell.execute_reply.started": "2022-08-09T02:53:15.932830Z"
    },
    "papermill": {
     "duration": 0.014557,
     "end_time": "2022-08-18T10:57:25.481649",
     "exception": false,
     "start_time": "2022-08-18T10:57:25.467092",
     "status": "completed"
    },
    "tags": []
   },
   "source": [
    "Number of columns in the dataset is:27"
   ]
  },
  {
   "cell_type": "code",
   "execution_count": 7,
   "id": "3ec5c0a7",
   "metadata": {
    "execution": {
     "iopub.execute_input": "2022-08-18T10:57:25.514573Z",
     "iopub.status.busy": "2022-08-18T10:57:25.514089Z",
     "iopub.status.idle": "2022-08-18T10:57:25.522210Z",
     "shell.execute_reply": "2022-08-18T10:57:25.520723Z"
    },
    "papermill": {
     "duration": 0.028535,
     "end_time": "2022-08-18T10:57:25.524954",
     "exception": false,
     "start_time": "2022-08-18T10:57:25.496419",
     "status": "completed"
    },
    "tags": []
   },
   "outputs": [
    {
     "data": {
      "text/plain": [
       "27"
      ]
     },
     "execution_count": 7,
     "metadata": {},
     "output_type": "execute_result"
    }
   ],
   "source": [
    "df.shape[1]\n"
   ]
  },
  {
   "cell_type": "code",
   "execution_count": 8,
   "id": "cb78f399",
   "metadata": {
    "execution": {
     "iopub.execute_input": "2022-08-18T10:57:25.558635Z",
     "iopub.status.busy": "2022-08-18T10:57:25.558135Z",
     "iopub.status.idle": "2022-08-18T10:57:25.600914Z",
     "shell.execute_reply": "2022-08-18T10:57:25.599746Z"
    },
    "papermill": {
     "duration": 0.062749,
     "end_time": "2022-08-18T10:57:25.603734",
     "exception": false,
     "start_time": "2022-08-18T10:57:25.540985",
     "status": "completed"
    },
    "tags": []
   },
   "outputs": [],
   "source": [
    "df.drop(['CustomerID'],axis=1,inplace=True)"
   ]
  },
  {
   "cell_type": "code",
   "execution_count": 9,
   "id": "31123cad",
   "metadata": {
    "execution": {
     "iopub.execute_input": "2022-08-18T10:57:25.635029Z",
     "iopub.status.busy": "2022-08-18T10:57:25.633884Z",
     "iopub.status.idle": "2022-08-18T10:57:25.665909Z",
     "shell.execute_reply": "2022-08-18T10:57:25.664743Z"
    },
    "papermill": {
     "duration": 0.050526,
     "end_time": "2022-08-18T10:57:25.668500",
     "exception": false,
     "start_time": "2022-08-18T10:57:25.617974",
     "status": "completed"
    },
    "tags": []
   },
   "outputs": [
    {
     "data": {
      "text/html": [
       "<div>\n",
       "<style scoped>\n",
       "    .dataframe tbody tr th:only-of-type {\n",
       "        vertical-align: middle;\n",
       "    }\n",
       "\n",
       "    .dataframe tbody tr th {\n",
       "        vertical-align: top;\n",
       "    }\n",
       "\n",
       "    .dataframe thead th {\n",
       "        text-align: right;\n",
       "    }\n",
       "</style>\n",
       "<table border=\"1\" class=\"dataframe\">\n",
       "  <thead>\n",
       "    <tr style=\"text-align: right;\">\n",
       "      <th></th>\n",
       "      <th>Title</th>\n",
       "      <th>FirstName</th>\n",
       "      <th>MiddleName</th>\n",
       "      <th>LastName</th>\n",
       "      <th>Suffix</th>\n",
       "      <th>AddressLine1</th>\n",
       "      <th>AddressLine2</th>\n",
       "      <th>City</th>\n",
       "      <th>StateProvinceName</th>\n",
       "      <th>CountryRegionName</th>\n",
       "      <th>PostalCode</th>\n",
       "      <th>PhoneNumber</th>\n",
       "      <th>BirthDate</th>\n",
       "      <th>Education</th>\n",
       "      <th>Occupation</th>\n",
       "      <th>Gender</th>\n",
       "      <th>MaritalStatus</th>\n",
       "      <th>HomeOwnerFlag</th>\n",
       "      <th>NumberCarsOwned</th>\n",
       "      <th>NumberChildrenAtHome</th>\n",
       "      <th>TotalChildren</th>\n",
       "      <th>YearlyIncome</th>\n",
       "      <th>LastUpdated</th>\n",
       "      <th>BikeBuyer</th>\n",
       "      <th>AvgMonthSpend</th>\n",
       "    </tr>\n",
       "  </thead>\n",
       "  <tbody>\n",
       "    <tr>\n",
       "      <th>0</th>\n",
       "      <td>NaN</td>\n",
       "      <td>Chad</td>\n",
       "      <td>C</td>\n",
       "      <td>Yuan</td>\n",
       "      <td>NaN</td>\n",
       "      <td>7090 C. Mount Hood</td>\n",
       "      <td>NaN</td>\n",
       "      <td>Wollongong</td>\n",
       "      <td>New South Wales</td>\n",
       "      <td>Australia</td>\n",
       "      <td>2500</td>\n",
       "      <td>1 (11) 500 555-0115</td>\n",
       "      <td>1987-11-13</td>\n",
       "      <td>Bachelors</td>\n",
       "      <td>Clerical</td>\n",
       "      <td>M</td>\n",
       "      <td>M</td>\n",
       "      <td>1</td>\n",
       "      <td>3</td>\n",
       "      <td>0</td>\n",
       "      <td>1</td>\n",
       "      <td>81916</td>\n",
       "      <td>2017-03-06</td>\n",
       "      <td>1.0</td>\n",
       "      <td>50.97</td>\n",
       "    </tr>\n",
       "    <tr>\n",
       "      <th>1</th>\n",
       "      <td>NaN</td>\n",
       "      <td>Ryan</td>\n",
       "      <td>NaN</td>\n",
       "      <td>Perry</td>\n",
       "      <td>NaN</td>\n",
       "      <td>3651 Willow Lake Rd</td>\n",
       "      <td>NaN</td>\n",
       "      <td>Shawnee</td>\n",
       "      <td>British Columbia</td>\n",
       "      <td>Canada</td>\n",
       "      <td>V9B 2C3</td>\n",
       "      <td>787-555-0136</td>\n",
       "      <td>1972-07-21</td>\n",
       "      <td>Partial College</td>\n",
       "      <td>Clerical</td>\n",
       "      <td>M</td>\n",
       "      <td>M</td>\n",
       "      <td>1</td>\n",
       "      <td>2</td>\n",
       "      <td>1</td>\n",
       "      <td>2</td>\n",
       "      <td>81076</td>\n",
       "      <td>2017-03-06</td>\n",
       "      <td>1.0</td>\n",
       "      <td>53.11</td>\n",
       "    </tr>\n",
       "    <tr>\n",
       "      <th>2</th>\n",
       "      <td>NaN</td>\n",
       "      <td>Julia</td>\n",
       "      <td>NaN</td>\n",
       "      <td>Thompson</td>\n",
       "      <td>NaN</td>\n",
       "      <td>1774 Tice Valley Blvd.</td>\n",
       "      <td>NaN</td>\n",
       "      <td>West Covina</td>\n",
       "      <td>California</td>\n",
       "      <td>United States</td>\n",
       "      <td>91791</td>\n",
       "      <td>120-555-0111</td>\n",
       "      <td>1985-11-09</td>\n",
       "      <td>Bachelors</td>\n",
       "      <td>Clerical</td>\n",
       "      <td>F</td>\n",
       "      <td>S</td>\n",
       "      <td>0</td>\n",
       "      <td>3</td>\n",
       "      <td>0</td>\n",
       "      <td>0</td>\n",
       "      <td>86387</td>\n",
       "      <td>2017-03-06</td>\n",
       "      <td>1.0</td>\n",
       "      <td>54.08</td>\n",
       "    </tr>\n",
       "    <tr>\n",
       "      <th>3</th>\n",
       "      <td>NaN</td>\n",
       "      <td>Theodore</td>\n",
       "      <td>NaN</td>\n",
       "      <td>Gomez</td>\n",
       "      <td>NaN</td>\n",
       "      <td>2103 Baldwin Dr</td>\n",
       "      <td>NaN</td>\n",
       "      <td>Liverpool</td>\n",
       "      <td>England</td>\n",
       "      <td>United Kingdom</td>\n",
       "      <td>L4 4HB</td>\n",
       "      <td>1 (11) 500 555-0167</td>\n",
       "      <td>1977-10-18</td>\n",
       "      <td>Partial College</td>\n",
       "      <td>Skilled Manual</td>\n",
       "      <td>M</td>\n",
       "      <td>M</td>\n",
       "      <td>1</td>\n",
       "      <td>2</td>\n",
       "      <td>1</td>\n",
       "      <td>2</td>\n",
       "      <td>61481</td>\n",
       "      <td>2017-03-06</td>\n",
       "      <td>1.0</td>\n",
       "      <td>56.93</td>\n",
       "    </tr>\n",
       "    <tr>\n",
       "      <th>4</th>\n",
       "      <td>NaN</td>\n",
       "      <td>Marshall</td>\n",
       "      <td>J</td>\n",
       "      <td>Shan</td>\n",
       "      <td>NaN</td>\n",
       "      <td>Am Gallberg 234</td>\n",
       "      <td>NaN</td>\n",
       "      <td>Werne</td>\n",
       "      <td>Nordrhein-Westfalen</td>\n",
       "      <td>Germany</td>\n",
       "      <td>59368</td>\n",
       "      <td>1 (11) 500 555-0113</td>\n",
       "      <td>1975-02-05</td>\n",
       "      <td>Partial College</td>\n",
       "      <td>Skilled Manual</td>\n",
       "      <td>M</td>\n",
       "      <td>S</td>\n",
       "      <td>1</td>\n",
       "      <td>1</td>\n",
       "      <td>0</td>\n",
       "      <td>0</td>\n",
       "      <td>51804</td>\n",
       "      <td>2017-03-06</td>\n",
       "      <td>1.0</td>\n",
       "      <td>55.41</td>\n",
       "    </tr>\n",
       "  </tbody>\n",
       "</table>\n",
       "</div>"
      ],
      "text/plain": [
       "  Title FirstName MiddleName  LastName Suffix            AddressLine1  \\\n",
       "0   NaN      Chad          C      Yuan    NaN      7090 C. Mount Hood   \n",
       "1   NaN      Ryan        NaN     Perry    NaN     3651 Willow Lake Rd   \n",
       "2   NaN     Julia        NaN  Thompson    NaN  1774 Tice Valley Blvd.   \n",
       "3   NaN  Theodore        NaN     Gomez    NaN         2103 Baldwin Dr   \n",
       "4   NaN  Marshall          J      Shan    NaN         Am Gallberg 234   \n",
       "\n",
       "  AddressLine2         City    StateProvinceName CountryRegionName PostalCode  \\\n",
       "0          NaN   Wollongong      New South Wales         Australia       2500   \n",
       "1          NaN      Shawnee     British Columbia            Canada    V9B 2C3   \n",
       "2          NaN  West Covina           California     United States      91791   \n",
       "3          NaN    Liverpool              England    United Kingdom     L4 4HB   \n",
       "4          NaN        Werne  Nordrhein-Westfalen           Germany      59368   \n",
       "\n",
       "           PhoneNumber   BirthDate        Education      Occupation Gender  \\\n",
       "0  1 (11) 500 555-0115  1987-11-13        Bachelors        Clerical      M   \n",
       "1         787-555-0136  1972-07-21  Partial College        Clerical      M   \n",
       "2         120-555-0111  1985-11-09        Bachelors        Clerical      F   \n",
       "3  1 (11) 500 555-0167  1977-10-18  Partial College  Skilled Manual      M   \n",
       "4  1 (11) 500 555-0113  1975-02-05  Partial College  Skilled Manual      M   \n",
       "\n",
       "  MaritalStatus  HomeOwnerFlag  NumberCarsOwned  NumberChildrenAtHome  \\\n",
       "0             M              1                3                     0   \n",
       "1             M              1                2                     1   \n",
       "2             S              0                3                     0   \n",
       "3             M              1                2                     1   \n",
       "4             S              1                1                     0   \n",
       "\n",
       "   TotalChildren  YearlyIncome LastUpdated  BikeBuyer  AvgMonthSpend  \n",
       "0              1         81916  2017-03-06        1.0          50.97  \n",
       "1              2         81076  2017-03-06        1.0          53.11  \n",
       "2              0         86387  2017-03-06        1.0          54.08  \n",
       "3              2         61481  2017-03-06        1.0          56.93  \n",
       "4              0         51804  2017-03-06        1.0          55.41  "
      ]
     },
     "execution_count": 9,
     "metadata": {},
     "output_type": "execute_result"
    }
   ],
   "source": [
    "df.head()"
   ]
  },
  {
   "cell_type": "code",
   "execution_count": 10,
   "id": "5830337e",
   "metadata": {
    "execution": {
     "iopub.execute_input": "2022-08-18T10:57:25.700397Z",
     "iopub.status.busy": "2022-08-18T10:57:25.699856Z",
     "iopub.status.idle": "2022-08-18T10:57:25.726420Z",
     "shell.execute_reply": "2022-08-18T10:57:25.725329Z"
    },
    "papermill": {
     "duration": 0.045358,
     "end_time": "2022-08-18T10:57:25.729024",
     "exception": false,
     "start_time": "2022-08-18T10:57:25.683666",
     "status": "completed"
    },
    "tags": []
   },
   "outputs": [
    {
     "data": {
      "text/html": [
       "<div>\n",
       "<style scoped>\n",
       "    .dataframe tbody tr th:only-of-type {\n",
       "        vertical-align: middle;\n",
       "    }\n",
       "\n",
       "    .dataframe tbody tr th {\n",
       "        vertical-align: top;\n",
       "    }\n",
       "\n",
       "    .dataframe thead th {\n",
       "        text-align: right;\n",
       "    }\n",
       "</style>\n",
       "<table border=\"1\" class=\"dataframe\">\n",
       "  <thead>\n",
       "    <tr style=\"text-align: right;\">\n",
       "      <th></th>\n",
       "      <th>Title</th>\n",
       "      <th>FirstName</th>\n",
       "      <th>MiddleName</th>\n",
       "      <th>LastName</th>\n",
       "      <th>Suffix</th>\n",
       "      <th>AddressLine1</th>\n",
       "      <th>AddressLine2</th>\n",
       "      <th>City</th>\n",
       "      <th>StateProvinceName</th>\n",
       "      <th>CountryRegionName</th>\n",
       "      <th>PostalCode</th>\n",
       "      <th>PhoneNumber</th>\n",
       "      <th>BirthDate</th>\n",
       "      <th>Education</th>\n",
       "      <th>Occupation</th>\n",
       "      <th>Gender</th>\n",
       "      <th>MaritalStatus</th>\n",
       "      <th>HomeOwnerFlag</th>\n",
       "      <th>NumberCarsOwned</th>\n",
       "      <th>NumberChildrenAtHome</th>\n",
       "      <th>TotalChildren</th>\n",
       "      <th>YearlyIncome</th>\n",
       "      <th>LastUpdated</th>\n",
       "      <th>BikeBuyer</th>\n",
       "      <th>AvgMonthSpend</th>\n",
       "    </tr>\n",
       "  </thead>\n",
       "  <tbody>\n",
       "    <tr>\n",
       "      <th>18356</th>\n",
       "      <td>NaN</td>\n",
       "      <td>Grace</td>\n",
       "      <td>C</td>\n",
       "      <td>Bailey</td>\n",
       "      <td>NaN</td>\n",
       "      <td>6627 Camelback Ct.</td>\n",
       "      <td>NaN</td>\n",
       "      <td>Coronado</td>\n",
       "      <td>California</td>\n",
       "      <td>United States</td>\n",
       "      <td>92118</td>\n",
       "      <td>292-555-0130</td>\n",
       "      <td>1990-11-11</td>\n",
       "      <td>Graduate Degree</td>\n",
       "      <td>Skilled Manual</td>\n",
       "      <td>F</td>\n",
       "      <td>M</td>\n",
       "      <td>0</td>\n",
       "      <td>1</td>\n",
       "      <td>0</td>\n",
       "      <td>2</td>\n",
       "      <td>52953</td>\n",
       "      <td>2017-03-06</td>\n",
       "      <td>NaN</td>\n",
       "      <td>NaN</td>\n",
       "    </tr>\n",
       "    <tr>\n",
       "      <th>18357</th>\n",
       "      <td>NaN</td>\n",
       "      <td>Tasha</td>\n",
       "      <td>NaN</td>\n",
       "      <td>Deng</td>\n",
       "      <td>NaN</td>\n",
       "      <td>9627 Kendall Rd</td>\n",
       "      <td>NaN</td>\n",
       "      <td>Port Macquarie</td>\n",
       "      <td>New South Wales</td>\n",
       "      <td>Australia</td>\n",
       "      <td>2444</td>\n",
       "      <td>1 (11) 500 555-0171</td>\n",
       "      <td>1992-10-13</td>\n",
       "      <td>Bachelors</td>\n",
       "      <td>Skilled Manual</td>\n",
       "      <td>F</td>\n",
       "      <td>S</td>\n",
       "      <td>0</td>\n",
       "      <td>2</td>\n",
       "      <td>0</td>\n",
       "      <td>0</td>\n",
       "      <td>60992</td>\n",
       "      <td>2017-03-06</td>\n",
       "      <td>NaN</td>\n",
       "      <td>NaN</td>\n",
       "    </tr>\n",
       "    <tr>\n",
       "      <th>18358</th>\n",
       "      <td>NaN</td>\n",
       "      <td>Jaclyn</td>\n",
       "      <td>NaN</td>\n",
       "      <td>Zhang</td>\n",
       "      <td>NaN</td>\n",
       "      <td>4364 Viera Avenue</td>\n",
       "      <td>NaN</td>\n",
       "      <td>Beaverton</td>\n",
       "      <td>Oregon</td>\n",
       "      <td>United States</td>\n",
       "      <td>97005</td>\n",
       "      <td>819-555-0110</td>\n",
       "      <td>1983-11-24</td>\n",
       "      <td>Partial College</td>\n",
       "      <td>Skilled Manual</td>\n",
       "      <td>F</td>\n",
       "      <td>S</td>\n",
       "      <td>0</td>\n",
       "      <td>2</td>\n",
       "      <td>0</td>\n",
       "      <td>0</td>\n",
       "      <td>51859</td>\n",
       "      <td>2017-03-06</td>\n",
       "      <td>NaN</td>\n",
       "      <td>NaN</td>\n",
       "    </tr>\n",
       "    <tr>\n",
       "      <th>18359</th>\n",
       "      <td>NaN</td>\n",
       "      <td>Erin</td>\n",
       "      <td>I</td>\n",
       "      <td>Reed</td>\n",
       "      <td>NaN</td>\n",
       "      <td>3866 Mt. Everest Court</td>\n",
       "      <td>NaN</td>\n",
       "      <td>Vancouver</td>\n",
       "      <td>British Columbia</td>\n",
       "      <td>Canada</td>\n",
       "      <td>V7L 4J4</td>\n",
       "      <td>791-555-0118</td>\n",
       "      <td>1995-06-15</td>\n",
       "      <td>High School</td>\n",
       "      <td>Clerical</td>\n",
       "      <td>F</td>\n",
       "      <td>S</td>\n",
       "      <td>0</td>\n",
       "      <td>0</td>\n",
       "      <td>0</td>\n",
       "      <td>0</td>\n",
       "      <td>87177</td>\n",
       "      <td>2017-03-06</td>\n",
       "      <td>NaN</td>\n",
       "      <td>NaN</td>\n",
       "    </tr>\n",
       "    <tr>\n",
       "      <th>18360</th>\n",
       "      <td>NaN</td>\n",
       "      <td>Amanda</td>\n",
       "      <td>NaN</td>\n",
       "      <td>Perry</td>\n",
       "      <td>NaN</td>\n",
       "      <td>7870 Orangewood Dr.</td>\n",
       "      <td>NaN</td>\n",
       "      <td>Grossmont</td>\n",
       "      <td>California</td>\n",
       "      <td>United States</td>\n",
       "      <td>91941</td>\n",
       "      <td>553-555-0122</td>\n",
       "      <td>1986-03-26</td>\n",
       "      <td>Graduate Degree</td>\n",
       "      <td>Professional</td>\n",
       "      <td>F</td>\n",
       "      <td>M</td>\n",
       "      <td>1</td>\n",
       "      <td>2</td>\n",
       "      <td>0</td>\n",
       "      <td>0</td>\n",
       "      <td>136856</td>\n",
       "      <td>2017-03-06</td>\n",
       "      <td>NaN</td>\n",
       "      <td>NaN</td>\n",
       "    </tr>\n",
       "  </tbody>\n",
       "</table>\n",
       "</div>"
      ],
      "text/plain": [
       "      Title FirstName MiddleName LastName Suffix            AddressLine1  \\\n",
       "18356   NaN     Grace          C   Bailey    NaN      6627 Camelback Ct.   \n",
       "18357   NaN     Tasha        NaN     Deng    NaN         9627 Kendall Rd   \n",
       "18358   NaN    Jaclyn        NaN    Zhang    NaN       4364 Viera Avenue   \n",
       "18359   NaN      Erin          I     Reed    NaN  3866 Mt. Everest Court   \n",
       "18360   NaN    Amanda        NaN    Perry    NaN     7870 Orangewood Dr.   \n",
       "\n",
       "      AddressLine2            City StateProvinceName CountryRegionName  \\\n",
       "18356          NaN        Coronado        California     United States   \n",
       "18357          NaN  Port Macquarie   New South Wales         Australia   \n",
       "18358          NaN       Beaverton            Oregon     United States   \n",
       "18359          NaN       Vancouver  British Columbia            Canada   \n",
       "18360          NaN       Grossmont        California     United States   \n",
       "\n",
       "      PostalCode          PhoneNumber   BirthDate        Education  \\\n",
       "18356      92118         292-555-0130  1990-11-11  Graduate Degree   \n",
       "18357       2444  1 (11) 500 555-0171  1992-10-13        Bachelors   \n",
       "18358      97005         819-555-0110  1983-11-24  Partial College   \n",
       "18359    V7L 4J4         791-555-0118  1995-06-15      High School   \n",
       "18360      91941         553-555-0122  1986-03-26  Graduate Degree   \n",
       "\n",
       "           Occupation Gender MaritalStatus  HomeOwnerFlag  NumberCarsOwned  \\\n",
       "18356  Skilled Manual      F             M              0                1   \n",
       "18357  Skilled Manual      F             S              0                2   \n",
       "18358  Skilled Manual      F             S              0                2   \n",
       "18359        Clerical      F             S              0                0   \n",
       "18360    Professional      F             M              1                2   \n",
       "\n",
       "       NumberChildrenAtHome  TotalChildren  YearlyIncome LastUpdated  \\\n",
       "18356                     0              2         52953  2017-03-06   \n",
       "18357                     0              0         60992  2017-03-06   \n",
       "18358                     0              0         51859  2017-03-06   \n",
       "18359                     0              0         87177  2017-03-06   \n",
       "18360                     0              0        136856  2017-03-06   \n",
       "\n",
       "       BikeBuyer  AvgMonthSpend  \n",
       "18356        NaN            NaN  \n",
       "18357        NaN            NaN  \n",
       "18358        NaN            NaN  \n",
       "18359        NaN            NaN  \n",
       "18360        NaN            NaN  "
      ]
     },
     "execution_count": 10,
     "metadata": {},
     "output_type": "execute_result"
    }
   ],
   "source": [
    "df.tail()"
   ]
  },
  {
   "cell_type": "code",
   "execution_count": 11,
   "id": "b6811eea",
   "metadata": {
    "execution": {
     "iopub.execute_input": "2022-08-18T10:57:25.763199Z",
     "iopub.status.busy": "2022-08-18T10:57:25.762315Z",
     "iopub.status.idle": "2022-08-18T10:57:25.773864Z",
     "shell.execute_reply": "2022-08-18T10:57:25.772741Z"
    },
    "papermill": {
     "duration": 0.032192,
     "end_time": "2022-08-18T10:57:25.776713",
     "exception": false,
     "start_time": "2022-08-18T10:57:25.744521",
     "status": "completed"
    },
    "tags": []
   },
   "outputs": [],
   "source": [
    "df.drop(['Title','FirstName','MiddleName','LastName','Suffix','AddressLine2'],axis=1,inplace=True)"
   ]
  },
  {
   "cell_type": "code",
   "execution_count": 12,
   "id": "943cada0",
   "metadata": {
    "execution": {
     "iopub.execute_input": "2022-08-18T10:57:25.811150Z",
     "iopub.status.busy": "2022-08-18T10:57:25.810317Z",
     "iopub.status.idle": "2022-08-18T10:57:25.823829Z",
     "shell.execute_reply": "2022-08-18T10:57:25.822675Z"
    },
    "papermill": {
     "duration": 0.034599,
     "end_time": "2022-08-18T10:57:25.826484",
     "exception": false,
     "start_time": "2022-08-18T10:57:25.791885",
     "status": "completed"
    },
    "tags": []
   },
   "outputs": [],
   "source": [
    "df.drop(['PhoneNumber'],axis=1,inplace=True)"
   ]
  },
  {
   "cell_type": "code",
   "execution_count": 13,
   "id": "e74cee46",
   "metadata": {
    "execution": {
     "iopub.execute_input": "2022-08-18T10:57:25.860728Z",
     "iopub.status.busy": "2022-08-18T10:57:25.859873Z",
     "iopub.status.idle": "2022-08-18T10:57:25.869993Z",
     "shell.execute_reply": "2022-08-18T10:57:25.868617Z"
    },
    "papermill": {
     "duration": 0.03129,
     "end_time": "2022-08-18T10:57:25.872728",
     "exception": false,
     "start_time": "2022-08-18T10:57:25.841438",
     "status": "completed"
    },
    "tags": []
   },
   "outputs": [],
   "source": [
    "df.drop(['PostalCode'],axis=1,inplace=True)"
   ]
  },
  {
   "cell_type": "code",
   "execution_count": 14,
   "id": "eb283c12",
   "metadata": {
    "execution": {
     "iopub.execute_input": "2022-08-18T10:57:25.905724Z",
     "iopub.status.busy": "2022-08-18T10:57:25.904773Z",
     "iopub.status.idle": "2022-08-18T10:57:25.911964Z",
     "shell.execute_reply": "2022-08-18T10:57:25.911103Z"
    },
    "papermill": {
     "duration": 0.026471,
     "end_time": "2022-08-18T10:57:25.914229",
     "exception": false,
     "start_time": "2022-08-18T10:57:25.887758",
     "status": "completed"
    },
    "tags": []
   },
   "outputs": [
    {
     "data": {
      "text/plain": [
       "(17,)"
      ]
     },
     "execution_count": 14,
     "metadata": {},
     "output_type": "execute_result"
    }
   ],
   "source": [
    "df.columns.shape"
   ]
  },
  {
   "cell_type": "code",
   "execution_count": 15,
   "id": "1b2e241e",
   "metadata": {
    "execution": {
     "iopub.execute_input": "2022-08-18T10:57:25.947059Z",
     "iopub.status.busy": "2022-08-18T10:57:25.946624Z",
     "iopub.status.idle": "2022-08-18T10:57:25.991476Z",
     "shell.execute_reply": "2022-08-18T10:57:25.990073Z"
    },
    "papermill": {
     "duration": 0.065258,
     "end_time": "2022-08-18T10:57:25.994588",
     "exception": false,
     "start_time": "2022-08-18T10:57:25.929330",
     "status": "completed"
    },
    "tags": []
   },
   "outputs": [
    {
     "data": {
      "text/html": [
       "<div>\n",
       "<style scoped>\n",
       "    .dataframe tbody tr th:only-of-type {\n",
       "        vertical-align: middle;\n",
       "    }\n",
       "\n",
       "    .dataframe tbody tr th {\n",
       "        vertical-align: top;\n",
       "    }\n",
       "\n",
       "    .dataframe thead th {\n",
       "        text-align: right;\n",
       "    }\n",
       "</style>\n",
       "<table border=\"1\" class=\"dataframe\">\n",
       "  <thead>\n",
       "    <tr style=\"text-align: right;\">\n",
       "      <th></th>\n",
       "      <th>HomeOwnerFlag</th>\n",
       "      <th>NumberCarsOwned</th>\n",
       "      <th>NumberChildrenAtHome</th>\n",
       "      <th>TotalChildren</th>\n",
       "      <th>YearlyIncome</th>\n",
       "      <th>BikeBuyer</th>\n",
       "      <th>AvgMonthSpend</th>\n",
       "    </tr>\n",
       "  </thead>\n",
       "  <tbody>\n",
       "    <tr>\n",
       "      <th>count</th>\n",
       "      <td>18361.000000</td>\n",
       "      <td>18361.000000</td>\n",
       "      <td>18361.000000</td>\n",
       "      <td>18361.000000</td>\n",
       "      <td>18361.000000</td>\n",
       "      <td>18355.00000</td>\n",
       "      <td>18355.000000</td>\n",
       "    </tr>\n",
       "    <tr>\n",
       "      <th>mean</th>\n",
       "      <td>0.610588</td>\n",
       "      <td>1.270301</td>\n",
       "      <td>0.338162</td>\n",
       "      <td>0.850389</td>\n",
       "      <td>72754.779642</td>\n",
       "      <td>0.55173</td>\n",
       "      <td>51.767207</td>\n",
       "    </tr>\n",
       "    <tr>\n",
       "      <th>std</th>\n",
       "      <td>0.487630</td>\n",
       "      <td>0.913989</td>\n",
       "      <td>0.568957</td>\n",
       "      <td>0.927315</td>\n",
       "      <td>30686.014313</td>\n",
       "      <td>0.49733</td>\n",
       "      <td>3.438024</td>\n",
       "    </tr>\n",
       "    <tr>\n",
       "      <th>min</th>\n",
       "      <td>0.000000</td>\n",
       "      <td>0.000000</td>\n",
       "      <td>0.000000</td>\n",
       "      <td>0.000000</td>\n",
       "      <td>25435.000000</td>\n",
       "      <td>0.00000</td>\n",
       "      <td>44.100000</td>\n",
       "    </tr>\n",
       "    <tr>\n",
       "      <th>25%</th>\n",
       "      <td>0.000000</td>\n",
       "      <td>1.000000</td>\n",
       "      <td>0.000000</td>\n",
       "      <td>0.000000</td>\n",
       "      <td>53312.000000</td>\n",
       "      <td>0.00000</td>\n",
       "      <td>49.410000</td>\n",
       "    </tr>\n",
       "    <tr>\n",
       "      <th>50%</th>\n",
       "      <td>1.000000</td>\n",
       "      <td>1.000000</td>\n",
       "      <td>0.000000</td>\n",
       "      <td>0.000000</td>\n",
       "      <td>61851.000000</td>\n",
       "      <td>1.00000</td>\n",
       "      <td>51.420000</td>\n",
       "    </tr>\n",
       "    <tr>\n",
       "      <th>75%</th>\n",
       "      <td>1.000000</td>\n",
       "      <td>2.000000</td>\n",
       "      <td>1.000000</td>\n",
       "      <td>2.000000</td>\n",
       "      <td>87410.000000</td>\n",
       "      <td>1.00000</td>\n",
       "      <td>53.600000</td>\n",
       "    </tr>\n",
       "    <tr>\n",
       "      <th>max</th>\n",
       "      <td>1.000000</td>\n",
       "      <td>5.000000</td>\n",
       "      <td>3.000000</td>\n",
       "      <td>3.000000</td>\n",
       "      <td>139115.000000</td>\n",
       "      <td>1.00000</td>\n",
       "      <td>65.290000</td>\n",
       "    </tr>\n",
       "  </tbody>\n",
       "</table>\n",
       "</div>"
      ],
      "text/plain": [
       "       HomeOwnerFlag  NumberCarsOwned  NumberChildrenAtHome  TotalChildren  \\\n",
       "count   18361.000000     18361.000000          18361.000000   18361.000000   \n",
       "mean        0.610588         1.270301              0.338162       0.850389   \n",
       "std         0.487630         0.913989              0.568957       0.927315   \n",
       "min         0.000000         0.000000              0.000000       0.000000   \n",
       "25%         0.000000         1.000000              0.000000       0.000000   \n",
       "50%         1.000000         1.000000              0.000000       0.000000   \n",
       "75%         1.000000         2.000000              1.000000       2.000000   \n",
       "max         1.000000         5.000000              3.000000       3.000000   \n",
       "\n",
       "        YearlyIncome    BikeBuyer  AvgMonthSpend  \n",
       "count   18361.000000  18355.00000   18355.000000  \n",
       "mean    72754.779642      0.55173      51.767207  \n",
       "std     30686.014313      0.49733       3.438024  \n",
       "min     25435.000000      0.00000      44.100000  \n",
       "25%     53312.000000      0.00000      49.410000  \n",
       "50%     61851.000000      1.00000      51.420000  \n",
       "75%     87410.000000      1.00000      53.600000  \n",
       "max    139115.000000      1.00000      65.290000  "
      ]
     },
     "execution_count": 15,
     "metadata": {},
     "output_type": "execute_result"
    }
   ],
   "source": [
    "df.describe()"
   ]
  },
  {
   "cell_type": "code",
   "execution_count": 16,
   "id": "17950b99",
   "metadata": {
    "execution": {
     "iopub.execute_input": "2022-08-18T10:57:26.033196Z",
     "iopub.status.busy": "2022-08-18T10:57:26.032388Z",
     "iopub.status.idle": "2022-08-18T10:57:26.059744Z",
     "shell.execute_reply": "2022-08-18T10:57:26.058343Z"
    },
    "papermill": {
     "duration": 0.04914,
     "end_time": "2022-08-18T10:57:26.063542",
     "exception": false,
     "start_time": "2022-08-18T10:57:26.014402",
     "status": "completed"
    },
    "tags": []
   },
   "outputs": [
    {
     "name": "stdout",
     "output_type": "stream",
     "text": [
      "<class 'pandas.core.frame.DataFrame'>\n",
      "RangeIndex: 18361 entries, 0 to 18360\n",
      "Data columns (total 17 columns):\n",
      " #   Column                Non-Null Count  Dtype  \n",
      "---  ------                --------------  -----  \n",
      " 0   AddressLine1          18361 non-null  object \n",
      " 1   City                  18361 non-null  object \n",
      " 2   StateProvinceName     18361 non-null  object \n",
      " 3   CountryRegionName     18361 non-null  object \n",
      " 4   BirthDate             18361 non-null  object \n",
      " 5   Education             18361 non-null  object \n",
      " 6   Occupation            18361 non-null  object \n",
      " 7   Gender                18361 non-null  object \n",
      " 8   MaritalStatus         18361 non-null  object \n",
      " 9   HomeOwnerFlag         18361 non-null  int64  \n",
      " 10  NumberCarsOwned       18361 non-null  int64  \n",
      " 11  NumberChildrenAtHome  18361 non-null  int64  \n",
      " 12  TotalChildren         18361 non-null  int64  \n",
      " 13  YearlyIncome          18361 non-null  int64  \n",
      " 14  LastUpdated           18361 non-null  object \n",
      " 15  BikeBuyer             18355 non-null  float64\n",
      " 16  AvgMonthSpend         18355 non-null  float64\n",
      "dtypes: float64(2), int64(5), object(10)\n",
      "memory usage: 2.4+ MB\n"
     ]
    }
   ],
   "source": [
    "df.info()"
   ]
  },
  {
   "cell_type": "code",
   "execution_count": 17,
   "id": "d4b00090",
   "metadata": {
    "execution": {
     "iopub.execute_input": "2022-08-18T10:57:26.100667Z",
     "iopub.status.busy": "2022-08-18T10:57:26.100205Z",
     "iopub.status.idle": "2022-08-18T10:57:26.115777Z",
     "shell.execute_reply": "2022-08-18T10:57:26.114788Z"
    },
    "papermill": {
     "duration": 0.037694,
     "end_time": "2022-08-18T10:57:26.118409",
     "exception": false,
     "start_time": "2022-08-18T10:57:26.080715",
     "status": "completed"
    },
    "tags": []
   },
   "outputs": [],
   "source": [
    "df.BirthDate=pd.to_datetime(df.BirthDate)\n"
   ]
  },
  {
   "cell_type": "code",
   "execution_count": 18,
   "id": "69616d87",
   "metadata": {
    "execution": {
     "iopub.execute_input": "2022-08-18T10:57:26.154546Z",
     "iopub.status.busy": "2022-08-18T10:57:26.153811Z",
     "iopub.status.idle": "2022-08-18T10:57:26.164548Z",
     "shell.execute_reply": "2022-08-18T10:57:26.163163Z"
    },
    "papermill": {
     "duration": 0.033026,
     "end_time": "2022-08-18T10:57:26.167693",
     "exception": false,
     "start_time": "2022-08-18T10:57:26.134667",
     "status": "completed"
    },
    "tags": []
   },
   "outputs": [
    {
     "data": {
      "text/plain": [
       "0       1987-11-13\n",
       "1       1972-07-21\n",
       "2       1985-11-09\n",
       "3       1977-10-18\n",
       "4       1975-02-05\n",
       "           ...    \n",
       "18356   1990-11-11\n",
       "18357   1992-10-13\n",
       "18358   1983-11-24\n",
       "18359   1995-06-15\n",
       "18360   1986-03-26\n",
       "Name: BirthDate, Length: 18361, dtype: datetime64[ns]"
      ]
     },
     "execution_count": 18,
     "metadata": {},
     "output_type": "execute_result"
    }
   ],
   "source": [
    "df.BirthDate"
   ]
  },
  {
   "cell_type": "code",
   "execution_count": 19,
   "id": "e0428644",
   "metadata": {
    "execution": {
     "iopub.execute_input": "2022-08-18T10:57:26.202612Z",
     "iopub.status.busy": "2022-08-18T10:57:26.201822Z",
     "iopub.status.idle": "2022-08-18T10:57:26.212512Z",
     "shell.execute_reply": "2022-08-18T10:57:26.211523Z"
    },
    "papermill": {
     "duration": 0.030956,
     "end_time": "2022-08-18T10:57:26.215381",
     "exception": false,
     "start_time": "2022-08-18T10:57:26.184425",
     "status": "completed"
    },
    "tags": []
   },
   "outputs": [],
   "source": [
    "df.LastUpdated=pd.to_datetime(df.LastUpdated)"
   ]
  },
  {
   "cell_type": "code",
   "execution_count": 20,
   "id": "f8581253",
   "metadata": {
    "execution": {
     "iopub.execute_input": "2022-08-18T10:57:26.248932Z",
     "iopub.status.busy": "2022-08-18T10:57:26.248133Z",
     "iopub.status.idle": "2022-08-18T10:57:26.270137Z",
     "shell.execute_reply": "2022-08-18T10:57:26.268557Z"
    },
    "papermill": {
     "duration": 0.042267,
     "end_time": "2022-08-18T10:57:26.273222",
     "exception": false,
     "start_time": "2022-08-18T10:57:26.230955",
     "status": "completed"
    },
    "tags": []
   },
   "outputs": [
    {
     "name": "stdout",
     "output_type": "stream",
     "text": [
      "<class 'pandas.core.frame.DataFrame'>\n",
      "RangeIndex: 18361 entries, 0 to 18360\n",
      "Data columns (total 17 columns):\n",
      " #   Column                Non-Null Count  Dtype         \n",
      "---  ------                --------------  -----         \n",
      " 0   AddressLine1          18361 non-null  object        \n",
      " 1   City                  18361 non-null  object        \n",
      " 2   StateProvinceName     18361 non-null  object        \n",
      " 3   CountryRegionName     18361 non-null  object        \n",
      " 4   BirthDate             18361 non-null  datetime64[ns]\n",
      " 5   Education             18361 non-null  object        \n",
      " 6   Occupation            18361 non-null  object        \n",
      " 7   Gender                18361 non-null  object        \n",
      " 8   MaritalStatus         18361 non-null  object        \n",
      " 9   HomeOwnerFlag         18361 non-null  int64         \n",
      " 10  NumberCarsOwned       18361 non-null  int64         \n",
      " 11  NumberChildrenAtHome  18361 non-null  int64         \n",
      " 12  TotalChildren         18361 non-null  int64         \n",
      " 13  YearlyIncome          18361 non-null  int64         \n",
      " 14  LastUpdated           18361 non-null  datetime64[ns]\n",
      " 15  BikeBuyer             18355 non-null  float64       \n",
      " 16  AvgMonthSpend         18355 non-null  float64       \n",
      "dtypes: datetime64[ns](2), float64(2), int64(5), object(8)\n",
      "memory usage: 2.4+ MB\n"
     ]
    }
   ],
   "source": [
    "df.info()"
   ]
  },
  {
   "cell_type": "code",
   "execution_count": 21,
   "id": "f7c032fa",
   "metadata": {
    "execution": {
     "iopub.execute_input": "2022-08-18T10:57:26.309281Z",
     "iopub.status.busy": "2022-08-18T10:57:26.308599Z",
     "iopub.status.idle": "2022-08-18T10:57:26.316175Z",
     "shell.execute_reply": "2022-08-18T10:57:26.314536Z"
    },
    "papermill": {
     "duration": 0.028967,
     "end_time": "2022-08-18T10:57:26.318748",
     "exception": false,
     "start_time": "2022-08-18T10:57:26.289781",
     "status": "completed"
    },
    "tags": []
   },
   "outputs": [],
   "source": [
    "var_cat=[]\n",
    "var_num=[]\n",
    "for c in df.columns:\n",
    "    if df[c].dtype=='object':\n",
    "        var_cat.append(c)\n",
    "    if (df[c].dtype=='int64'or df[c].dtype=='float64'):\n",
    "         var_num.append(c)\n",
    "            \n",
    "        \n",
    " \n",
    "    "
   ]
  },
  {
   "cell_type": "code",
   "execution_count": 22,
   "id": "28b8c8dc",
   "metadata": {
    "execution": {
     "iopub.execute_input": "2022-08-18T10:57:26.353991Z",
     "iopub.status.busy": "2022-08-18T10:57:26.353235Z",
     "iopub.status.idle": "2022-08-18T10:57:26.358369Z",
     "shell.execute_reply": "2022-08-18T10:57:26.357333Z"
    },
    "papermill": {
     "duration": 0.026263,
     "end_time": "2022-08-18T10:57:26.361584",
     "exception": false,
     "start_time": "2022-08-18T10:57:26.335321",
     "status": "completed"
    },
    "tags": []
   },
   "outputs": [
    {
     "name": "stdout",
     "output_type": "stream",
     "text": [
      "Categorical Variables:  ['AddressLine1', 'City', 'StateProvinceName', 'CountryRegionName', 'Education', 'Occupation', 'Gender', 'MaritalStatus']\n"
     ]
    }
   ],
   "source": [
    "print(\"Categorical Variables: \",var_cat)\n"
   ]
  },
  {
   "cell_type": "code",
   "execution_count": 23,
   "id": "6ccb4793",
   "metadata": {
    "execution": {
     "iopub.execute_input": "2022-08-18T10:57:26.396679Z",
     "iopub.status.busy": "2022-08-18T10:57:26.395875Z",
     "iopub.status.idle": "2022-08-18T10:57:26.418774Z",
     "shell.execute_reply": "2022-08-18T10:57:26.417399Z"
    },
    "papermill": {
     "duration": 0.044284,
     "end_time": "2022-08-18T10:57:26.422327",
     "exception": false,
     "start_time": "2022-08-18T10:57:26.378043",
     "status": "completed"
    },
    "tags": []
   },
   "outputs": [],
   "source": [
    "cat_ordinal=[]\n",
    "cat_nominal=[]\n",
    "for c in var_cat:\n",
    "    if (df[c].nunique()) >5:\n",
    "        cat_nominal.append(c)\n",
    "    else:\n",
    "        cat_ordinal.append(c)\n"
   ]
  },
  {
   "cell_type": "code",
   "execution_count": 24,
   "id": "87d0c2a5",
   "metadata": {
    "execution": {
     "iopub.execute_input": "2022-08-18T10:57:26.459230Z",
     "iopub.status.busy": "2022-08-18T10:57:26.458806Z",
     "iopub.status.idle": "2022-08-18T10:57:26.465641Z",
     "shell.execute_reply": "2022-08-18T10:57:26.464522Z"
    },
    "papermill": {
     "duration": 0.027219,
     "end_time": "2022-08-18T10:57:26.468108",
     "exception": false,
     "start_time": "2022-08-18T10:57:26.440889",
     "status": "completed"
    },
    "tags": []
   },
   "outputs": [
    {
     "data": {
      "text/plain": [
       "['AddressLine1', 'City', 'StateProvinceName', 'CountryRegionName']"
      ]
     },
     "execution_count": 24,
     "metadata": {},
     "output_type": "execute_result"
    }
   ],
   "source": [
    "cat_nominal\n"
   ]
  },
  {
   "cell_type": "code",
   "execution_count": 25,
   "id": "ce19ec9b",
   "metadata": {
    "execution": {
     "iopub.execute_input": "2022-08-18T10:57:26.504306Z",
     "iopub.status.busy": "2022-08-18T10:57:26.503545Z",
     "iopub.status.idle": "2022-08-18T10:57:26.510387Z",
     "shell.execute_reply": "2022-08-18T10:57:26.509113Z"
    },
    "papermill": {
     "duration": 0.027965,
     "end_time": "2022-08-18T10:57:26.513066",
     "exception": false,
     "start_time": "2022-08-18T10:57:26.485101",
     "status": "completed"
    },
    "tags": []
   },
   "outputs": [
    {
     "data": {
      "text/plain": [
       "['Education', 'Occupation', 'Gender', 'MaritalStatus']"
      ]
     },
     "execution_count": 25,
     "metadata": {},
     "output_type": "execute_result"
    }
   ],
   "source": [
    "cat_ordinal"
   ]
  },
  {
   "cell_type": "markdown",
   "id": "3146c539",
   "metadata": {
    "papermill": {
     "duration": 0.01626,
     "end_time": "2022-08-18T10:57:26.546706",
     "exception": false,
     "start_time": "2022-08-18T10:57:26.530446",
     "status": "completed"
    },
    "tags": []
   },
   "source": [
    "Education is truly ordinal, Occupation should be in nominal and Gender,MaritalStatus can be OHE"
   ]
  },
  {
   "cell_type": "code",
   "execution_count": 26,
   "id": "dbeccc81",
   "metadata": {
    "execution": {
     "iopub.execute_input": "2022-08-18T10:57:26.581756Z",
     "iopub.status.busy": "2022-08-18T10:57:26.581228Z",
     "iopub.status.idle": "2022-08-18T10:57:26.593597Z",
     "shell.execute_reply": "2022-08-18T10:57:26.592291Z"
    },
    "papermill": {
     "duration": 0.033619,
     "end_time": "2022-08-18T10:57:26.596919",
     "exception": false,
     "start_time": "2022-08-18T10:57:26.563300",
     "status": "completed"
    },
    "tags": []
   },
   "outputs": [],
   "source": [
    "num_discrete=[]\n",
    "num_continuous=[]\n",
    "for c in var_num:\n",
    "    if (df[c].nunique()) >10:\n",
    "        num_continuous.append(c)\n",
    "    else:\n",
    "        num_discrete.append(c)"
   ]
  },
  {
   "cell_type": "code",
   "execution_count": 27,
   "id": "d493c757",
   "metadata": {
    "execution": {
     "iopub.execute_input": "2022-08-18T10:57:26.634426Z",
     "iopub.status.busy": "2022-08-18T10:57:26.633295Z",
     "iopub.status.idle": "2022-08-18T10:57:26.640866Z",
     "shell.execute_reply": "2022-08-18T10:57:26.639690Z"
    },
    "papermill": {
     "duration": 0.028791,
     "end_time": "2022-08-18T10:57:26.643404",
     "exception": false,
     "start_time": "2022-08-18T10:57:26.614613",
     "status": "completed"
    },
    "tags": []
   },
   "outputs": [
    {
     "data": {
      "text/plain": [
       "['HomeOwnerFlag',\n",
       " 'NumberCarsOwned',\n",
       " 'NumberChildrenAtHome',\n",
       " 'TotalChildren',\n",
       " 'BikeBuyer']"
      ]
     },
     "execution_count": 27,
     "metadata": {},
     "output_type": "execute_result"
    }
   ],
   "source": [
    "num_discrete"
   ]
  },
  {
   "cell_type": "code",
   "execution_count": 28,
   "id": "0b2d800c",
   "metadata": {
    "execution": {
     "iopub.execute_input": "2022-08-18T10:57:26.679613Z",
     "iopub.status.busy": "2022-08-18T10:57:26.679169Z",
     "iopub.status.idle": "2022-08-18T10:57:26.686464Z",
     "shell.execute_reply": "2022-08-18T10:57:26.685107Z"
    },
    "papermill": {
     "duration": 0.02842,
     "end_time": "2022-08-18T10:57:26.688990",
     "exception": false,
     "start_time": "2022-08-18T10:57:26.660570",
     "status": "completed"
    },
    "tags": []
   },
   "outputs": [
    {
     "data": {
      "text/plain": [
       "['YearlyIncome', 'AvgMonthSpend']"
      ]
     },
     "execution_count": 28,
     "metadata": {},
     "output_type": "execute_result"
    }
   ],
   "source": [
    "num_continuous\n"
   ]
  },
  {
   "cell_type": "code",
   "execution_count": 29,
   "id": "5833d81c",
   "metadata": {
    "execution": {
     "iopub.execute_input": "2022-08-18T10:57:26.724851Z",
     "iopub.status.busy": "2022-08-18T10:57:26.724413Z",
     "iopub.status.idle": "2022-08-18T10:57:26.747354Z",
     "shell.execute_reply": "2022-08-18T10:57:26.745883Z"
    },
    "papermill": {
     "duration": 0.044409,
     "end_time": "2022-08-18T10:57:26.750535",
     "exception": false,
     "start_time": "2022-08-18T10:57:26.706126",
     "status": "completed"
    },
    "tags": []
   },
   "outputs": [
    {
     "name": "stdout",
     "output_type": "stream",
     "text": [
      "<class 'pandas.core.frame.DataFrame'>\n",
      "RangeIndex: 18361 entries, 0 to 18360\n",
      "Data columns (total 17 columns):\n",
      " #   Column                Non-Null Count  Dtype         \n",
      "---  ------                --------------  -----         \n",
      " 0   AddressLine1          18361 non-null  object        \n",
      " 1   City                  18361 non-null  object        \n",
      " 2   StateProvinceName     18361 non-null  object        \n",
      " 3   CountryRegionName     18361 non-null  object        \n",
      " 4   BirthDate             18361 non-null  datetime64[ns]\n",
      " 5   Education             18361 non-null  object        \n",
      " 6   Occupation            18361 non-null  object        \n",
      " 7   Gender                18361 non-null  object        \n",
      " 8   MaritalStatus         18361 non-null  object        \n",
      " 9   HomeOwnerFlag         18361 non-null  int64         \n",
      " 10  NumberCarsOwned       18361 non-null  int64         \n",
      " 11  NumberChildrenAtHome  18361 non-null  int64         \n",
      " 12  TotalChildren         18361 non-null  int64         \n",
      " 13  YearlyIncome          18361 non-null  int64         \n",
      " 14  LastUpdated           18361 non-null  datetime64[ns]\n",
      " 15  BikeBuyer             18355 non-null  float64       \n",
      " 16  AvgMonthSpend         18355 non-null  float64       \n",
      "dtypes: datetime64[ns](2), float64(2), int64(5), object(8)\n",
      "memory usage: 2.4+ MB\n"
     ]
    }
   ],
   "source": [
    "df.info()"
   ]
  },
  {
   "cell_type": "markdown",
   "id": "3b74355f",
   "metadata": {
    "papermill": {
     "duration": 0.016388,
     "end_time": "2022-08-18T10:57:26.784101",
     "exception": false,
     "start_time": "2022-08-18T10:57:26.767713",
     "status": "completed"
    },
    "tags": []
   },
   "source": [
    "BirthDate and Last Updated are datetime features"
   ]
  },
  {
   "cell_type": "code",
   "execution_count": 30,
   "id": "dad7bb7c",
   "metadata": {
    "execution": {
     "iopub.execute_input": "2022-08-18T10:57:26.820113Z",
     "iopub.status.busy": "2022-08-18T10:57:26.819718Z",
     "iopub.status.idle": "2022-08-18T10:57:26.826167Z",
     "shell.execute_reply": "2022-08-18T10:57:26.825211Z"
    },
    "papermill": {
     "duration": 0.027545,
     "end_time": "2022-08-18T10:57:26.828525",
     "exception": false,
     "start_time": "2022-08-18T10:57:26.800980",
     "status": "completed"
    },
    "tags": []
   },
   "outputs": [
    {
     "data": {
      "text/plain": [
       "(18361, 17)"
      ]
     },
     "execution_count": 30,
     "metadata": {},
     "output_type": "execute_result"
    }
   ],
   "source": [
    "df.shape"
   ]
  },
  {
   "cell_type": "code",
   "execution_count": 31,
   "id": "c3df86b6",
   "metadata": {
    "execution": {
     "iopub.execute_input": "2022-08-18T10:57:26.866739Z",
     "iopub.status.busy": "2022-08-18T10:57:26.866330Z",
     "iopub.status.idle": "2022-08-18T10:57:26.884586Z",
     "shell.execute_reply": "2022-08-18T10:57:26.883219Z"
    },
    "papermill": {
     "duration": 0.040064,
     "end_time": "2022-08-18T10:57:26.887196",
     "exception": false,
     "start_time": "2022-08-18T10:57:26.847132",
     "status": "completed"
    },
    "tags": []
   },
   "outputs": [
    {
     "data": {
      "text/plain": [
       "AddressLine1            0\n",
       "City                    0\n",
       "StateProvinceName       0\n",
       "CountryRegionName       0\n",
       "BirthDate               0\n",
       "Education               0\n",
       "Occupation              0\n",
       "Gender                  0\n",
       "MaritalStatus           0\n",
       "HomeOwnerFlag           0\n",
       "NumberCarsOwned         0\n",
       "NumberChildrenAtHome    0\n",
       "TotalChildren           0\n",
       "YearlyIncome            0\n",
       "LastUpdated             0\n",
       "BikeBuyer               6\n",
       "AvgMonthSpend           6\n",
       "dtype: int64"
      ]
     },
     "execution_count": 31,
     "metadata": {},
     "output_type": "execute_result"
    }
   ],
   "source": [
    "df.isnull().sum()"
   ]
  },
  {
   "cell_type": "code",
   "execution_count": 32,
   "id": "d3d74f37",
   "metadata": {
    "execution": {
     "iopub.execute_input": "2022-08-18T10:57:26.924206Z",
     "iopub.status.busy": "2022-08-18T10:57:26.923787Z",
     "iopub.status.idle": "2022-08-18T10:57:26.948996Z",
     "shell.execute_reply": "2022-08-18T10:57:26.947770Z"
    },
    "papermill": {
     "duration": 0.046736,
     "end_time": "2022-08-18T10:57:26.951718",
     "exception": false,
     "start_time": "2022-08-18T10:57:26.904982",
     "status": "completed"
    },
    "tags": []
   },
   "outputs": [
    {
     "data": {
      "text/html": [
       "<div>\n",
       "<style scoped>\n",
       "    .dataframe tbody tr th:only-of-type {\n",
       "        vertical-align: middle;\n",
       "    }\n",
       "\n",
       "    .dataframe tbody tr th {\n",
       "        vertical-align: top;\n",
       "    }\n",
       "\n",
       "    .dataframe thead th {\n",
       "        text-align: right;\n",
       "    }\n",
       "</style>\n",
       "<table border=\"1\" class=\"dataframe\">\n",
       "  <thead>\n",
       "    <tr style=\"text-align: right;\">\n",
       "      <th></th>\n",
       "      <th>AddressLine1</th>\n",
       "      <th>City</th>\n",
       "      <th>StateProvinceName</th>\n",
       "      <th>CountryRegionName</th>\n",
       "      <th>BirthDate</th>\n",
       "      <th>Education</th>\n",
       "      <th>Occupation</th>\n",
       "      <th>Gender</th>\n",
       "      <th>MaritalStatus</th>\n",
       "      <th>HomeOwnerFlag</th>\n",
       "      <th>NumberCarsOwned</th>\n",
       "      <th>NumberChildrenAtHome</th>\n",
       "      <th>TotalChildren</th>\n",
       "      <th>YearlyIncome</th>\n",
       "      <th>LastUpdated</th>\n",
       "      <th>BikeBuyer</th>\n",
       "      <th>AvgMonthSpend</th>\n",
       "    </tr>\n",
       "  </thead>\n",
       "  <tbody>\n",
       "    <tr>\n",
       "      <th>18355</th>\n",
       "      <td>8527 Rock Oak Road</td>\n",
       "      <td>Melton</td>\n",
       "      <td>Victoria</td>\n",
       "      <td>Australia</td>\n",
       "      <td>1967-08-20</td>\n",
       "      <td>High School</td>\n",
       "      <td>Manual</td>\n",
       "      <td>M</td>\n",
       "      <td>M</td>\n",
       "      <td>1</td>\n",
       "      <td>1</td>\n",
       "      <td>1</td>\n",
       "      <td>2</td>\n",
       "      <td>30442</td>\n",
       "      <td>2017-03-06</td>\n",
       "      <td>NaN</td>\n",
       "      <td>NaN</td>\n",
       "    </tr>\n",
       "    <tr>\n",
       "      <th>18356</th>\n",
       "      <td>6627 Camelback Ct.</td>\n",
       "      <td>Coronado</td>\n",
       "      <td>California</td>\n",
       "      <td>United States</td>\n",
       "      <td>1990-11-11</td>\n",
       "      <td>Graduate Degree</td>\n",
       "      <td>Skilled Manual</td>\n",
       "      <td>F</td>\n",
       "      <td>M</td>\n",
       "      <td>0</td>\n",
       "      <td>1</td>\n",
       "      <td>0</td>\n",
       "      <td>2</td>\n",
       "      <td>52953</td>\n",
       "      <td>2017-03-06</td>\n",
       "      <td>NaN</td>\n",
       "      <td>NaN</td>\n",
       "    </tr>\n",
       "    <tr>\n",
       "      <th>18357</th>\n",
       "      <td>9627 Kendall Rd</td>\n",
       "      <td>Port Macquarie</td>\n",
       "      <td>New South Wales</td>\n",
       "      <td>Australia</td>\n",
       "      <td>1992-10-13</td>\n",
       "      <td>Bachelors</td>\n",
       "      <td>Skilled Manual</td>\n",
       "      <td>F</td>\n",
       "      <td>S</td>\n",
       "      <td>0</td>\n",
       "      <td>2</td>\n",
       "      <td>0</td>\n",
       "      <td>0</td>\n",
       "      <td>60992</td>\n",
       "      <td>2017-03-06</td>\n",
       "      <td>NaN</td>\n",
       "      <td>NaN</td>\n",
       "    </tr>\n",
       "    <tr>\n",
       "      <th>18358</th>\n",
       "      <td>4364 Viera Avenue</td>\n",
       "      <td>Beaverton</td>\n",
       "      <td>Oregon</td>\n",
       "      <td>United States</td>\n",
       "      <td>1983-11-24</td>\n",
       "      <td>Partial College</td>\n",
       "      <td>Skilled Manual</td>\n",
       "      <td>F</td>\n",
       "      <td>S</td>\n",
       "      <td>0</td>\n",
       "      <td>2</td>\n",
       "      <td>0</td>\n",
       "      <td>0</td>\n",
       "      <td>51859</td>\n",
       "      <td>2017-03-06</td>\n",
       "      <td>NaN</td>\n",
       "      <td>NaN</td>\n",
       "    </tr>\n",
       "    <tr>\n",
       "      <th>18359</th>\n",
       "      <td>3866 Mt. Everest Court</td>\n",
       "      <td>Vancouver</td>\n",
       "      <td>British Columbia</td>\n",
       "      <td>Canada</td>\n",
       "      <td>1995-06-15</td>\n",
       "      <td>High School</td>\n",
       "      <td>Clerical</td>\n",
       "      <td>F</td>\n",
       "      <td>S</td>\n",
       "      <td>0</td>\n",
       "      <td>0</td>\n",
       "      <td>0</td>\n",
       "      <td>0</td>\n",
       "      <td>87177</td>\n",
       "      <td>2017-03-06</td>\n",
       "      <td>NaN</td>\n",
       "      <td>NaN</td>\n",
       "    </tr>\n",
       "    <tr>\n",
       "      <th>18360</th>\n",
       "      <td>7870 Orangewood Dr.</td>\n",
       "      <td>Grossmont</td>\n",
       "      <td>California</td>\n",
       "      <td>United States</td>\n",
       "      <td>1986-03-26</td>\n",
       "      <td>Graduate Degree</td>\n",
       "      <td>Professional</td>\n",
       "      <td>F</td>\n",
       "      <td>M</td>\n",
       "      <td>1</td>\n",
       "      <td>2</td>\n",
       "      <td>0</td>\n",
       "      <td>0</td>\n",
       "      <td>136856</td>\n",
       "      <td>2017-03-06</td>\n",
       "      <td>NaN</td>\n",
       "      <td>NaN</td>\n",
       "    </tr>\n",
       "  </tbody>\n",
       "</table>\n",
       "</div>"
      ],
      "text/plain": [
       "                 AddressLine1            City StateProvinceName  \\\n",
       "18355      8527 Rock Oak Road          Melton          Victoria   \n",
       "18356      6627 Camelback Ct.        Coronado        California   \n",
       "18357         9627 Kendall Rd  Port Macquarie   New South Wales   \n",
       "18358       4364 Viera Avenue       Beaverton            Oregon   \n",
       "18359  3866 Mt. Everest Court       Vancouver  British Columbia   \n",
       "18360     7870 Orangewood Dr.       Grossmont        California   \n",
       "\n",
       "      CountryRegionName  BirthDate        Education      Occupation Gender  \\\n",
       "18355         Australia 1967-08-20      High School          Manual      M   \n",
       "18356     United States 1990-11-11  Graduate Degree  Skilled Manual      F   \n",
       "18357         Australia 1992-10-13        Bachelors  Skilled Manual      F   \n",
       "18358     United States 1983-11-24  Partial College  Skilled Manual      F   \n",
       "18359            Canada 1995-06-15      High School        Clerical      F   \n",
       "18360     United States 1986-03-26  Graduate Degree    Professional      F   \n",
       "\n",
       "      MaritalStatus  HomeOwnerFlag  NumberCarsOwned  NumberChildrenAtHome  \\\n",
       "18355             M              1                1                     1   \n",
       "18356             M              0                1                     0   \n",
       "18357             S              0                2                     0   \n",
       "18358             S              0                2                     0   \n",
       "18359             S              0                0                     0   \n",
       "18360             M              1                2                     0   \n",
       "\n",
       "       TotalChildren  YearlyIncome LastUpdated  BikeBuyer  AvgMonthSpend  \n",
       "18355              2         30442  2017-03-06        NaN            NaN  \n",
       "18356              2         52953  2017-03-06        NaN            NaN  \n",
       "18357              0         60992  2017-03-06        NaN            NaN  \n",
       "18358              0         51859  2017-03-06        NaN            NaN  \n",
       "18359              0         87177  2017-03-06        NaN            NaN  \n",
       "18360              0        136856  2017-03-06        NaN            NaN  "
      ]
     },
     "execution_count": 32,
     "metadata": {},
     "output_type": "execute_result"
    }
   ],
   "source": [
    "df[df['BikeBuyer'].isnull()]"
   ]
  },
  {
   "cell_type": "code",
   "execution_count": 33,
   "id": "1cec4863",
   "metadata": {
    "execution": {
     "iopub.execute_input": "2022-08-18T10:57:26.991292Z",
     "iopub.status.busy": "2022-08-18T10:57:26.990864Z",
     "iopub.status.idle": "2022-08-18T10:57:27.016450Z",
     "shell.execute_reply": "2022-08-18T10:57:27.015515Z"
    },
    "papermill": {
     "duration": 0.048702,
     "end_time": "2022-08-18T10:57:27.019941",
     "exception": false,
     "start_time": "2022-08-18T10:57:26.971239",
     "status": "completed"
    },
    "tags": []
   },
   "outputs": [
    {
     "data": {
      "text/plain": [
       "AddressLine1            0.000000\n",
       "City                    0.000000\n",
       "StateProvinceName       0.000000\n",
       "CountryRegionName       0.000000\n",
       "BirthDate               0.000000\n",
       "Education               0.000000\n",
       "Occupation              0.000000\n",
       "Gender                  0.000000\n",
       "MaritalStatus           0.000000\n",
       "HomeOwnerFlag           0.000000\n",
       "NumberCarsOwned         0.000000\n",
       "NumberChildrenAtHome    0.000000\n",
       "TotalChildren           0.000000\n",
       "YearlyIncome            0.000000\n",
       "LastUpdated             0.000000\n",
       "BikeBuyer               0.032678\n",
       "AvgMonthSpend           0.032678\n",
       "dtype: float64"
      ]
     },
     "execution_count": 33,
     "metadata": {},
     "output_type": "execute_result"
    }
   ],
   "source": [
    "(df.isnull().sum()/df.shape[0])*100"
   ]
  },
  {
   "cell_type": "markdown",
   "id": "56fb213b",
   "metadata": {
    "papermill": {
     "duration": 0.016973,
     "end_time": "2022-08-18T10:57:27.056764",
     "exception": false,
     "start_time": "2022-08-18T10:57:27.039791",
     "status": "completed"
    },
    "tags": []
   },
   "source": [
    "As the null values are less than 20%, we can safely remove them.\n"
   ]
  },
  {
   "cell_type": "code",
   "execution_count": 34,
   "id": "25d2e245",
   "metadata": {
    "execution": {
     "iopub.execute_input": "2022-08-18T10:57:27.096251Z",
     "iopub.status.busy": "2022-08-18T10:57:27.095627Z",
     "iopub.status.idle": "2022-08-18T10:57:27.106859Z",
     "shell.execute_reply": "2022-08-18T10:57:27.105770Z"
    },
    "papermill": {
     "duration": 0.033819,
     "end_time": "2022-08-18T10:57:27.109463",
     "exception": false,
     "start_time": "2022-08-18T10:57:27.075644",
     "status": "completed"
    },
    "tags": []
   },
   "outputs": [],
   "source": [
    "df.drop(index=df[df['BikeBuyer'].isnull()].index,axis=0,inplace=True)"
   ]
  },
  {
   "cell_type": "code",
   "execution_count": 35,
   "id": "27c824a4",
   "metadata": {
    "execution": {
     "iopub.execute_input": "2022-08-18T10:57:27.151129Z",
     "iopub.status.busy": "2022-08-18T10:57:27.150504Z",
     "iopub.status.idle": "2022-08-18T10:57:27.167684Z",
     "shell.execute_reply": "2022-08-18T10:57:27.166494Z"
    },
    "papermill": {
     "duration": 0.041549,
     "end_time": "2022-08-18T10:57:27.170160",
     "exception": false,
     "start_time": "2022-08-18T10:57:27.128611",
     "status": "completed"
    },
    "tags": []
   },
   "outputs": [
    {
     "data": {
      "text/plain": [
       "AddressLine1            0\n",
       "City                    0\n",
       "StateProvinceName       0\n",
       "CountryRegionName       0\n",
       "BirthDate               0\n",
       "Education               0\n",
       "Occupation              0\n",
       "Gender                  0\n",
       "MaritalStatus           0\n",
       "HomeOwnerFlag           0\n",
       "NumberCarsOwned         0\n",
       "NumberChildrenAtHome    0\n",
       "TotalChildren           0\n",
       "YearlyIncome            0\n",
       "LastUpdated             0\n",
       "BikeBuyer               0\n",
       "AvgMonthSpend           0\n",
       "dtype: int64"
      ]
     },
     "execution_count": 35,
     "metadata": {},
     "output_type": "execute_result"
    }
   ],
   "source": [
    "df.isnull().sum()"
   ]
  },
  {
   "cell_type": "code",
   "execution_count": 36,
   "id": "855fe2b1",
   "metadata": {
    "execution": {
     "iopub.execute_input": "2022-08-18T10:57:27.207626Z",
     "iopub.status.busy": "2022-08-18T10:57:27.207061Z",
     "iopub.status.idle": "2022-08-18T10:57:27.215617Z",
     "shell.execute_reply": "2022-08-18T10:57:27.214341Z"
    },
    "papermill": {
     "duration": 0.030388,
     "end_time": "2022-08-18T10:57:27.218229",
     "exception": false,
     "start_time": "2022-08-18T10:57:27.187841",
     "status": "completed"
    },
    "tags": []
   },
   "outputs": [
    {
     "data": {
      "text/plain": [
       "['YearlyIncome', 'AvgMonthSpend']"
      ]
     },
     "execution_count": 36,
     "metadata": {},
     "output_type": "execute_result"
    }
   ],
   "source": [
    "num_continuous"
   ]
  },
  {
   "cell_type": "code",
   "execution_count": 37,
   "id": "7373dd7a",
   "metadata": {
    "execution": {
     "iopub.execute_input": "2022-08-18T10:57:27.256305Z",
     "iopub.status.busy": "2022-08-18T10:57:27.255643Z",
     "iopub.status.idle": "2022-08-18T10:57:27.267645Z",
     "shell.execute_reply": "2022-08-18T10:57:27.266661Z"
    },
    "papermill": {
     "duration": 0.034085,
     "end_time": "2022-08-18T10:57:27.270244",
     "exception": false,
     "start_time": "2022-08-18T10:57:27.236159",
     "status": "completed"
    },
    "tags": []
   },
   "outputs": [],
   "source": [
    "# Normalizing by min max scaler\n",
    "scaler=MinMaxScaler()\n",
    "df[['YearlyIncome_normalized','AvgMonthSpend_normalized']]=scaler.fit_transform(df[num_continuous])"
   ]
  },
  {
   "cell_type": "code",
   "execution_count": 38,
   "id": "d4f0a633",
   "metadata": {
    "execution": {
     "iopub.execute_input": "2022-08-18T10:57:27.308118Z",
     "iopub.status.busy": "2022-08-18T10:57:27.307499Z",
     "iopub.status.idle": "2022-08-18T10:57:27.319428Z",
     "shell.execute_reply": "2022-08-18T10:57:27.318432Z"
    },
    "papermill": {
     "duration": 0.033788,
     "end_time": "2022-08-18T10:57:27.322165",
     "exception": false,
     "start_time": "2022-08-18T10:57:27.288377",
     "status": "completed"
    },
    "tags": []
   },
   "outputs": [],
   "source": [
    "# Normalizing by Z score\n",
    "stdscaler=StandardScaler()\n",
    "\n",
    "df[['YearlyIncome_std','AvgMonthSpend_std']]=stdscaler.fit_transform(df[num_continuous])"
   ]
  },
  {
   "cell_type": "code",
   "execution_count": 39,
   "id": "86264b9d",
   "metadata": {
    "execution": {
     "iopub.execute_input": "2022-08-18T10:57:27.364055Z",
     "iopub.status.busy": "2022-08-18T10:57:27.363368Z",
     "iopub.status.idle": "2022-08-18T10:57:27.372831Z",
     "shell.execute_reply": "2022-08-18T10:57:27.371403Z"
    },
    "papermill": {
     "duration": 0.033878,
     "end_time": "2022-08-18T10:57:27.376019",
     "exception": false,
     "start_time": "2022-08-18T10:57:27.342141",
     "status": "completed"
    },
    "tags": []
   },
   "outputs": [],
   "source": [
    "df['Male']=pd.get_dummies(df['Gender'],drop_first=True)"
   ]
  },
  {
   "cell_type": "code",
   "execution_count": 40,
   "id": "4ca65324",
   "metadata": {
    "execution": {
     "iopub.execute_input": "2022-08-18T10:57:27.415632Z",
     "iopub.status.busy": "2022-08-18T10:57:27.414870Z",
     "iopub.status.idle": "2022-08-18T10:57:27.423768Z",
     "shell.execute_reply": "2022-08-18T10:57:27.422858Z"
    },
    "papermill": {
     "duration": 0.031708,
     "end_time": "2022-08-18T10:57:27.426475",
     "exception": false,
     "start_time": "2022-08-18T10:57:27.394767",
     "status": "completed"
    },
    "tags": []
   },
   "outputs": [],
   "source": [
    "df['Single']=pd.get_dummies(df['MaritalStatus'],drop_first=True)"
   ]
  },
  {
   "cell_type": "code",
   "execution_count": 41,
   "id": "53b538e5",
   "metadata": {
    "execution": {
     "iopub.execute_input": "2022-08-18T10:57:27.464606Z",
     "iopub.status.busy": "2022-08-18T10:57:27.463920Z",
     "iopub.status.idle": "2022-08-18T10:57:27.474646Z",
     "shell.execute_reply": "2022-08-18T10:57:27.473620Z"
    },
    "papermill": {
     "duration": 0.033714,
     "end_time": "2022-08-18T10:57:27.477500",
     "exception": false,
     "start_time": "2022-08-18T10:57:27.443786",
     "status": "completed"
    },
    "tags": []
   },
   "outputs": [],
   "source": [
    "df.drop(['Gender','MaritalStatus'],axis=1,inplace=True)"
   ]
  },
  {
   "cell_type": "code",
   "execution_count": 42,
   "id": "c268a66c",
   "metadata": {
    "execution": {
     "iopub.execute_input": "2022-08-18T10:57:27.518551Z",
     "iopub.status.busy": "2022-08-18T10:57:27.517674Z",
     "iopub.status.idle": "2022-08-18T10:57:27.554605Z",
     "shell.execute_reply": "2022-08-18T10:57:27.553367Z"
    },
    "papermill": {
     "duration": 0.062175,
     "end_time": "2022-08-18T10:57:27.557537",
     "exception": false,
     "start_time": "2022-08-18T10:57:27.495362",
     "status": "completed"
    },
    "tags": []
   },
   "outputs": [
    {
     "data": {
      "text/html": [
       "<div>\n",
       "<style scoped>\n",
       "    .dataframe tbody tr th:only-of-type {\n",
       "        vertical-align: middle;\n",
       "    }\n",
       "\n",
       "    .dataframe tbody tr th {\n",
       "        vertical-align: top;\n",
       "    }\n",
       "\n",
       "    .dataframe thead th {\n",
       "        text-align: right;\n",
       "    }\n",
       "</style>\n",
       "<table border=\"1\" class=\"dataframe\">\n",
       "  <thead>\n",
       "    <tr style=\"text-align: right;\">\n",
       "      <th></th>\n",
       "      <th>AddressLine1</th>\n",
       "      <th>City</th>\n",
       "      <th>StateProvinceName</th>\n",
       "      <th>CountryRegionName</th>\n",
       "      <th>BirthDate</th>\n",
       "      <th>Education</th>\n",
       "      <th>Occupation</th>\n",
       "      <th>HomeOwnerFlag</th>\n",
       "      <th>NumberCarsOwned</th>\n",
       "      <th>NumberChildrenAtHome</th>\n",
       "      <th>TotalChildren</th>\n",
       "      <th>YearlyIncome</th>\n",
       "      <th>LastUpdated</th>\n",
       "      <th>BikeBuyer</th>\n",
       "      <th>AvgMonthSpend</th>\n",
       "      <th>YearlyIncome_normalized</th>\n",
       "      <th>AvgMonthSpend_normalized</th>\n",
       "      <th>YearlyIncome_std</th>\n",
       "      <th>AvgMonthSpend_std</th>\n",
       "      <th>Male</th>\n",
       "      <th>Single</th>\n",
       "    </tr>\n",
       "  </thead>\n",
       "  <tbody>\n",
       "    <tr>\n",
       "      <th>0</th>\n",
       "      <td>7090 C. Mount Hood</td>\n",
       "      <td>Wollongong</td>\n",
       "      <td>New South Wales</td>\n",
       "      <td>Australia</td>\n",
       "      <td>1987-11-13</td>\n",
       "      <td>Bachelors</td>\n",
       "      <td>Clerical</td>\n",
       "      <td>1</td>\n",
       "      <td>3</td>\n",
       "      <td>0</td>\n",
       "      <td>1</td>\n",
       "      <td>81916</td>\n",
       "      <td>2017-03-06</td>\n",
       "      <td>1.0</td>\n",
       "      <td>50.97</td>\n",
       "      <td>0.496842</td>\n",
       "      <td>0.324210</td>\n",
       "      <td>0.298539</td>\n",
       "      <td>-0.231886</td>\n",
       "      <td>1</td>\n",
       "      <td>0</td>\n",
       "    </tr>\n",
       "    <tr>\n",
       "      <th>1</th>\n",
       "      <td>3651 Willow Lake Rd</td>\n",
       "      <td>Shawnee</td>\n",
       "      <td>British Columbia</td>\n",
       "      <td>Canada</td>\n",
       "      <td>1972-07-21</td>\n",
       "      <td>Partial College</td>\n",
       "      <td>Clerical</td>\n",
       "      <td>1</td>\n",
       "      <td>2</td>\n",
       "      <td>1</td>\n",
       "      <td>2</td>\n",
       "      <td>81076</td>\n",
       "      <td>2017-03-06</td>\n",
       "      <td>1.0</td>\n",
       "      <td>53.11</td>\n",
       "      <td>0.489453</td>\n",
       "      <td>0.425201</td>\n",
       "      <td>0.271163</td>\n",
       "      <td>0.390582</td>\n",
       "      <td>1</td>\n",
       "      <td>0</td>\n",
       "    </tr>\n",
       "    <tr>\n",
       "      <th>2</th>\n",
       "      <td>1774 Tice Valley Blvd.</td>\n",
       "      <td>West Covina</td>\n",
       "      <td>California</td>\n",
       "      <td>United States</td>\n",
       "      <td>1985-11-09</td>\n",
       "      <td>Bachelors</td>\n",
       "      <td>Clerical</td>\n",
       "      <td>0</td>\n",
       "      <td>3</td>\n",
       "      <td>0</td>\n",
       "      <td>0</td>\n",
       "      <td>86387</td>\n",
       "      <td>2017-03-06</td>\n",
       "      <td>1.0</td>\n",
       "      <td>54.08</td>\n",
       "      <td>0.536172</td>\n",
       "      <td>0.470977</td>\n",
       "      <td>0.444250</td>\n",
       "      <td>0.672728</td>\n",
       "      <td>0</td>\n",
       "      <td>1</td>\n",
       "    </tr>\n",
       "    <tr>\n",
       "      <th>3</th>\n",
       "      <td>2103 Baldwin Dr</td>\n",
       "      <td>Liverpool</td>\n",
       "      <td>England</td>\n",
       "      <td>United Kingdom</td>\n",
       "      <td>1977-10-18</td>\n",
       "      <td>Partial College</td>\n",
       "      <td>Skilled Manual</td>\n",
       "      <td>1</td>\n",
       "      <td>2</td>\n",
       "      <td>1</td>\n",
       "      <td>2</td>\n",
       "      <td>61481</td>\n",
       "      <td>2017-03-06</td>\n",
       "      <td>1.0</td>\n",
       "      <td>56.93</td>\n",
       "      <td>0.317083</td>\n",
       "      <td>0.605474</td>\n",
       "      <td>-0.367445</td>\n",
       "      <td>1.501715</td>\n",
       "      <td>1</td>\n",
       "      <td>0</td>\n",
       "    </tr>\n",
       "    <tr>\n",
       "      <th>4</th>\n",
       "      <td>Am Gallberg 234</td>\n",
       "      <td>Werne</td>\n",
       "      <td>Nordrhein-Westfalen</td>\n",
       "      <td>Germany</td>\n",
       "      <td>1975-02-05</td>\n",
       "      <td>Partial College</td>\n",
       "      <td>Skilled Manual</td>\n",
       "      <td>1</td>\n",
       "      <td>1</td>\n",
       "      <td>0</td>\n",
       "      <td>0</td>\n",
       "      <td>51804</td>\n",
       "      <td>2017-03-06</td>\n",
       "      <td>1.0</td>\n",
       "      <td>55.41</td>\n",
       "      <td>0.231958</td>\n",
       "      <td>0.533742</td>\n",
       "      <td>-0.682822</td>\n",
       "      <td>1.059589</td>\n",
       "      <td>1</td>\n",
       "      <td>1</td>\n",
       "    </tr>\n",
       "    <tr>\n",
       "      <th>...</th>\n",
       "      <td>...</td>\n",
       "      <td>...</td>\n",
       "      <td>...</td>\n",
       "      <td>...</td>\n",
       "      <td>...</td>\n",
       "      <td>...</td>\n",
       "      <td>...</td>\n",
       "      <td>...</td>\n",
       "      <td>...</td>\n",
       "      <td>...</td>\n",
       "      <td>...</td>\n",
       "      <td>...</td>\n",
       "      <td>...</td>\n",
       "      <td>...</td>\n",
       "      <td>...</td>\n",
       "      <td>...</td>\n",
       "      <td>...</td>\n",
       "      <td>...</td>\n",
       "      <td>...</td>\n",
       "      <td>...</td>\n",
       "      <td>...</td>\n",
       "    </tr>\n",
       "    <tr>\n",
       "      <th>18350</th>\n",
       "      <td>3469 Relief Valley Ct.</td>\n",
       "      <td>Royal Oak</td>\n",
       "      <td>British Columbia</td>\n",
       "      <td>Canada</td>\n",
       "      <td>1960-09-06</td>\n",
       "      <td>Bachelors</td>\n",
       "      <td>Clerical</td>\n",
       "      <td>1</td>\n",
       "      <td>1</td>\n",
       "      <td>0</td>\n",
       "      <td>2</td>\n",
       "      <td>87320</td>\n",
       "      <td>2017-03-06</td>\n",
       "      <td>0.0</td>\n",
       "      <td>48.14</td>\n",
       "      <td>0.544379</td>\n",
       "      <td>0.190656</td>\n",
       "      <td>0.474657</td>\n",
       "      <td>-1.055055</td>\n",
       "      <td>0</td>\n",
       "      <td>0</td>\n",
       "    </tr>\n",
       "    <tr>\n",
       "      <th>18351</th>\n",
       "      <td>6126 North Sixth Street</td>\n",
       "      <td>Redmond</td>\n",
       "      <td>Washington</td>\n",
       "      <td>United States</td>\n",
       "      <td>1986-08-15</td>\n",
       "      <td>Graduate Degree</td>\n",
       "      <td>Clerical</td>\n",
       "      <td>0</td>\n",
       "      <td>1</td>\n",
       "      <td>0</td>\n",
       "      <td>0</td>\n",
       "      <td>84374</td>\n",
       "      <td>2017-03-06</td>\n",
       "      <td>1.0</td>\n",
       "      <td>50.23</td>\n",
       "      <td>0.518464</td>\n",
       "      <td>0.289287</td>\n",
       "      <td>0.378646</td>\n",
       "      <td>-0.447131</td>\n",
       "      <td>0</td>\n",
       "      <td>1</td>\n",
       "    </tr>\n",
       "    <tr>\n",
       "      <th>18352</th>\n",
       "      <td>7182 Olive Hill</td>\n",
       "      <td>Cliffside</td>\n",
       "      <td>British Columbia</td>\n",
       "      <td>Canada</td>\n",
       "      <td>1986-11-14</td>\n",
       "      <td>Graduate Degree</td>\n",
       "      <td>Skilled Manual</td>\n",
       "      <td>0</td>\n",
       "      <td>0</td>\n",
       "      <td>0</td>\n",
       "      <td>0</td>\n",
       "      <td>50961</td>\n",
       "      <td>2017-03-06</td>\n",
       "      <td>1.0</td>\n",
       "      <td>49.56</td>\n",
       "      <td>0.224543</td>\n",
       "      <td>0.257669</td>\n",
       "      <td>-0.710296</td>\n",
       "      <td>-0.642016</td>\n",
       "      <td>0</td>\n",
       "      <td>1</td>\n",
       "    </tr>\n",
       "    <tr>\n",
       "      <th>18353</th>\n",
       "      <td>487, rue Montcalm</td>\n",
       "      <td>Les Ulis</td>\n",
       "      <td>Essonne</td>\n",
       "      <td>France</td>\n",
       "      <td>1983-02-05</td>\n",
       "      <td>Partial High School</td>\n",
       "      <td>Manual</td>\n",
       "      <td>0</td>\n",
       "      <td>1</td>\n",
       "      <td>0</td>\n",
       "      <td>0</td>\n",
       "      <td>33678</td>\n",
       "      <td>2017-03-06</td>\n",
       "      <td>0.0</td>\n",
       "      <td>51.42</td>\n",
       "      <td>0.072511</td>\n",
       "      <td>0.345446</td>\n",
       "      <td>-1.273555</td>\n",
       "      <td>-0.100993</td>\n",
       "      <td>0</td>\n",
       "      <td>1</td>\n",
       "    </tr>\n",
       "    <tr>\n",
       "      <th>18354</th>\n",
       "      <td>4346 Via Rerrari</td>\n",
       "      <td>Downey</td>\n",
       "      <td>California</td>\n",
       "      <td>United States</td>\n",
       "      <td>1980-10-08</td>\n",
       "      <td>Partial College</td>\n",
       "      <td>Manual</td>\n",
       "      <td>1</td>\n",
       "      <td>0</td>\n",
       "      <td>1</td>\n",
       "      <td>2</td>\n",
       "      <td>29758</td>\n",
       "      <td>2017-03-06</td>\n",
       "      <td>1.0</td>\n",
       "      <td>52.27</td>\n",
       "      <td>0.038028</td>\n",
       "      <td>0.385559</td>\n",
       "      <td>-1.401310</td>\n",
       "      <td>0.146249</td>\n",
       "      <td>0</td>\n",
       "      <td>0</td>\n",
       "    </tr>\n",
       "  </tbody>\n",
       "</table>\n",
       "<p>18355 rows × 21 columns</p>\n",
       "</div>"
      ],
      "text/plain": [
       "                  AddressLine1         City    StateProvinceName  \\\n",
       "0           7090 C. Mount Hood   Wollongong      New South Wales   \n",
       "1          3651 Willow Lake Rd      Shawnee     British Columbia   \n",
       "2       1774 Tice Valley Blvd.  West Covina           California   \n",
       "3              2103 Baldwin Dr    Liverpool              England   \n",
       "4              Am Gallberg 234        Werne  Nordrhein-Westfalen   \n",
       "...                        ...          ...                  ...   \n",
       "18350   3469 Relief Valley Ct.    Royal Oak     British Columbia   \n",
       "18351  6126 North Sixth Street      Redmond           Washington   \n",
       "18352          7182 Olive Hill    Cliffside     British Columbia   \n",
       "18353        487, rue Montcalm     Les Ulis              Essonne   \n",
       "18354         4346 Via Rerrari       Downey           California   \n",
       "\n",
       "      CountryRegionName  BirthDate            Education      Occupation  \\\n",
       "0             Australia 1987-11-13            Bachelors        Clerical   \n",
       "1                Canada 1972-07-21      Partial College        Clerical   \n",
       "2         United States 1985-11-09            Bachelors        Clerical   \n",
       "3        United Kingdom 1977-10-18      Partial College  Skilled Manual   \n",
       "4               Germany 1975-02-05      Partial College  Skilled Manual   \n",
       "...                 ...        ...                  ...             ...   \n",
       "18350            Canada 1960-09-06            Bachelors        Clerical   \n",
       "18351     United States 1986-08-15      Graduate Degree        Clerical   \n",
       "18352            Canada 1986-11-14      Graduate Degree  Skilled Manual   \n",
       "18353            France 1983-02-05  Partial High School          Manual   \n",
       "18354     United States 1980-10-08      Partial College          Manual   \n",
       "\n",
       "       HomeOwnerFlag  NumberCarsOwned  NumberChildrenAtHome  TotalChildren  \\\n",
       "0                  1                3                     0              1   \n",
       "1                  1                2                     1              2   \n",
       "2                  0                3                     0              0   \n",
       "3                  1                2                     1              2   \n",
       "4                  1                1                     0              0   \n",
       "...              ...              ...                   ...            ...   \n",
       "18350              1                1                     0              2   \n",
       "18351              0                1                     0              0   \n",
       "18352              0                0                     0              0   \n",
       "18353              0                1                     0              0   \n",
       "18354              1                0                     1              2   \n",
       "\n",
       "       YearlyIncome LastUpdated  BikeBuyer  AvgMonthSpend  \\\n",
       "0             81916  2017-03-06        1.0          50.97   \n",
       "1             81076  2017-03-06        1.0          53.11   \n",
       "2             86387  2017-03-06        1.0          54.08   \n",
       "3             61481  2017-03-06        1.0          56.93   \n",
       "4             51804  2017-03-06        1.0          55.41   \n",
       "...             ...         ...        ...            ...   \n",
       "18350         87320  2017-03-06        0.0          48.14   \n",
       "18351         84374  2017-03-06        1.0          50.23   \n",
       "18352         50961  2017-03-06        1.0          49.56   \n",
       "18353         33678  2017-03-06        0.0          51.42   \n",
       "18354         29758  2017-03-06        1.0          52.27   \n",
       "\n",
       "       YearlyIncome_normalized  AvgMonthSpend_normalized  YearlyIncome_std  \\\n",
       "0                     0.496842                  0.324210          0.298539   \n",
       "1                     0.489453                  0.425201          0.271163   \n",
       "2                     0.536172                  0.470977          0.444250   \n",
       "3                     0.317083                  0.605474         -0.367445   \n",
       "4                     0.231958                  0.533742         -0.682822   \n",
       "...                        ...                       ...               ...   \n",
       "18350                 0.544379                  0.190656          0.474657   \n",
       "18351                 0.518464                  0.289287          0.378646   \n",
       "18352                 0.224543                  0.257669         -0.710296   \n",
       "18353                 0.072511                  0.345446         -1.273555   \n",
       "18354                 0.038028                  0.385559         -1.401310   \n",
       "\n",
       "       AvgMonthSpend_std  Male  Single  \n",
       "0              -0.231886     1       0  \n",
       "1               0.390582     1       0  \n",
       "2               0.672728     0       1  \n",
       "3               1.501715     1       0  \n",
       "4               1.059589     1       1  \n",
       "...                  ...   ...     ...  \n",
       "18350          -1.055055     0       0  \n",
       "18351          -0.447131     0       1  \n",
       "18352          -0.642016     0       1  \n",
       "18353          -0.100993     0       1  \n",
       "18354           0.146249     0       0  \n",
       "\n",
       "[18355 rows x 21 columns]"
      ]
     },
     "execution_count": 42,
     "metadata": {},
     "output_type": "execute_result"
    }
   ],
   "source": [
    "df"
   ]
  },
  {
   "cell_type": "code",
   "execution_count": 43,
   "id": "19eb9c01",
   "metadata": {
    "execution": {
     "iopub.execute_input": "2022-08-18T10:57:27.597711Z",
     "iopub.status.busy": "2022-08-18T10:57:27.596923Z",
     "iopub.status.idle": "2022-08-18T10:57:27.608396Z",
     "shell.execute_reply": "2022-08-18T10:57:27.607078Z"
    },
    "papermill": {
     "duration": 0.034754,
     "end_time": "2022-08-18T10:57:27.610992",
     "exception": false,
     "start_time": "2022-08-18T10:57:27.576238",
     "status": "completed"
    },
    "tags": []
   },
   "outputs": [
    {
     "data": {
      "text/plain": [
       "15351"
      ]
     },
     "execution_count": 43,
     "metadata": {},
     "output_type": "execute_result"
    }
   ],
   "source": [
    "len(df['YearlyIncome'].value_counts().index)"
   ]
  },
  {
   "cell_type": "markdown",
   "id": "13f3df8f",
   "metadata": {
    "papermill": {
     "duration": 0.019321,
     "end_time": "2022-08-18T10:57:27.649017",
     "exception": false,
     "start_time": "2022-08-18T10:57:27.629696",
     "status": "completed"
    },
    "tags": []
   },
   "source": [
    "#### From the above cell it is quite clear that if we plot the data as it is the plot will be unreadable,the technique of binning will be highly helpful for us.\n",
    "\n",
    "#### pd.cut(), will actually help us to divide the this huge series into several bins.\n",
    "\n",
    "#### Features such as YearlyIncome and AvgMonthSpend are perfect for binning\n"
   ]
  },
  {
   "cell_type": "code",
   "execution_count": 44,
   "id": "5efc0ff7",
   "metadata": {
    "execution": {
     "iopub.execute_input": "2022-08-18T10:57:27.690770Z",
     "iopub.status.busy": "2022-08-18T10:57:27.690056Z",
     "iopub.status.idle": "2022-08-18T10:57:27.697873Z",
     "shell.execute_reply": "2022-08-18T10:57:27.696885Z"
    },
    "papermill": {
     "duration": 0.033,
     "end_time": "2022-08-18T10:57:27.701198",
     "exception": false,
     "start_time": "2022-08-18T10:57:27.668198",
     "status": "completed"
    },
    "tags": []
   },
   "outputs": [
    {
     "data": {
      "text/plain": [
       "113680"
      ]
     },
     "execution_count": 44,
     "metadata": {},
     "output_type": "execute_result"
    }
   ],
   "source": [
    "YearlyIncome_min=df['YearlyIncome'].min()\n",
    "YearlyIncome_max=df['YearlyIncome'].max()\n",
    "YearlyIncome_max-YearlyIncome_min\n"
   ]
  },
  {
   "cell_type": "code",
   "execution_count": 45,
   "id": "fc907f7b",
   "metadata": {
    "execution": {
     "iopub.execute_input": "2022-08-18T10:57:27.741618Z",
     "iopub.status.busy": "2022-08-18T10:57:27.741030Z",
     "iopub.status.idle": "2022-08-18T10:57:27.748424Z",
     "shell.execute_reply": "2022-08-18T10:57:27.746952Z"
    },
    "papermill": {
     "duration": 0.03091,
     "end_time": "2022-08-18T10:57:27.751219",
     "exception": false,
     "start_time": "2022-08-18T10:57:27.720309",
     "status": "completed"
    },
    "tags": []
   },
   "outputs": [],
   "source": [
    "bin_YearlyIncome=np.arange(YearlyIncome_min,YearlyIncome_max,step=20000)\n",
    "# arrange has stepsize whereas linspace has the length of the number of divisions\n",
    "len(bin_YearlyIncome)\n",
    "bin_YearlyIncome\n",
    "YearlyIncome_label=['below low','low','Medium','above medium','High']"
   ]
  },
  {
   "cell_type": "code",
   "execution_count": 46,
   "id": "db8a7721",
   "metadata": {
    "execution": {
     "iopub.execute_input": "2022-08-18T10:57:27.792058Z",
     "iopub.status.busy": "2022-08-18T10:57:27.791625Z",
     "iopub.status.idle": "2022-08-18T10:57:27.801281Z",
     "shell.execute_reply": "2022-08-18T10:57:27.800164Z"
    },
    "papermill": {
     "duration": 0.032966,
     "end_time": "2022-08-18T10:57:27.803853",
     "exception": false,
     "start_time": "2022-08-18T10:57:27.770887",
     "status": "completed"
    },
    "tags": []
   },
   "outputs": [],
   "source": [
    "df['YearlyBinned']=pd.cut(df['YearlyIncome'],bins=bin_YearlyIncome,labels=YearlyIncome_label)"
   ]
  },
  {
   "cell_type": "code",
   "execution_count": 47,
   "id": "a76d7e0d",
   "metadata": {
    "execution": {
     "iopub.execute_input": "2022-08-18T10:57:27.845891Z",
     "iopub.status.busy": "2022-08-18T10:57:27.844915Z",
     "iopub.status.idle": "2022-08-18T10:57:27.885211Z",
     "shell.execute_reply": "2022-08-18T10:57:27.884038Z"
    },
    "papermill": {
     "duration": 0.064704,
     "end_time": "2022-08-18T10:57:27.888035",
     "exception": false,
     "start_time": "2022-08-18T10:57:27.823331",
     "status": "completed"
    },
    "tags": []
   },
   "outputs": [
    {
     "data": {
      "text/html": [
       "<div>\n",
       "<style scoped>\n",
       "    .dataframe tbody tr th:only-of-type {\n",
       "        vertical-align: middle;\n",
       "    }\n",
       "\n",
       "    .dataframe tbody tr th {\n",
       "        vertical-align: top;\n",
       "    }\n",
       "\n",
       "    .dataframe thead th {\n",
       "        text-align: right;\n",
       "    }\n",
       "</style>\n",
       "<table border=\"1\" class=\"dataframe\">\n",
       "  <thead>\n",
       "    <tr style=\"text-align: right;\">\n",
       "      <th></th>\n",
       "      <th>AddressLine1</th>\n",
       "      <th>City</th>\n",
       "      <th>StateProvinceName</th>\n",
       "      <th>CountryRegionName</th>\n",
       "      <th>BirthDate</th>\n",
       "      <th>Education</th>\n",
       "      <th>Occupation</th>\n",
       "      <th>HomeOwnerFlag</th>\n",
       "      <th>NumberCarsOwned</th>\n",
       "      <th>NumberChildrenAtHome</th>\n",
       "      <th>TotalChildren</th>\n",
       "      <th>YearlyIncome</th>\n",
       "      <th>LastUpdated</th>\n",
       "      <th>BikeBuyer</th>\n",
       "      <th>AvgMonthSpend</th>\n",
       "      <th>YearlyIncome_normalized</th>\n",
       "      <th>AvgMonthSpend_normalized</th>\n",
       "      <th>YearlyIncome_std</th>\n",
       "      <th>AvgMonthSpend_std</th>\n",
       "      <th>Male</th>\n",
       "      <th>Single</th>\n",
       "      <th>YearlyBinned</th>\n",
       "    </tr>\n",
       "  </thead>\n",
       "  <tbody>\n",
       "    <tr>\n",
       "      <th>0</th>\n",
       "      <td>7090 C. Mount Hood</td>\n",
       "      <td>Wollongong</td>\n",
       "      <td>New South Wales</td>\n",
       "      <td>Australia</td>\n",
       "      <td>1987-11-13</td>\n",
       "      <td>Bachelors</td>\n",
       "      <td>Clerical</td>\n",
       "      <td>1</td>\n",
       "      <td>3</td>\n",
       "      <td>0</td>\n",
       "      <td>1</td>\n",
       "      <td>81916</td>\n",
       "      <td>2017-03-06</td>\n",
       "      <td>1.0</td>\n",
       "      <td>50.97</td>\n",
       "      <td>0.496842</td>\n",
       "      <td>0.324210</td>\n",
       "      <td>0.298539</td>\n",
       "      <td>-0.231886</td>\n",
       "      <td>1</td>\n",
       "      <td>0</td>\n",
       "      <td>Medium</td>\n",
       "    </tr>\n",
       "    <tr>\n",
       "      <th>1</th>\n",
       "      <td>3651 Willow Lake Rd</td>\n",
       "      <td>Shawnee</td>\n",
       "      <td>British Columbia</td>\n",
       "      <td>Canada</td>\n",
       "      <td>1972-07-21</td>\n",
       "      <td>Partial College</td>\n",
       "      <td>Clerical</td>\n",
       "      <td>1</td>\n",
       "      <td>2</td>\n",
       "      <td>1</td>\n",
       "      <td>2</td>\n",
       "      <td>81076</td>\n",
       "      <td>2017-03-06</td>\n",
       "      <td>1.0</td>\n",
       "      <td>53.11</td>\n",
       "      <td>0.489453</td>\n",
       "      <td>0.425201</td>\n",
       "      <td>0.271163</td>\n",
       "      <td>0.390582</td>\n",
       "      <td>1</td>\n",
       "      <td>0</td>\n",
       "      <td>Medium</td>\n",
       "    </tr>\n",
       "    <tr>\n",
       "      <th>2</th>\n",
       "      <td>1774 Tice Valley Blvd.</td>\n",
       "      <td>West Covina</td>\n",
       "      <td>California</td>\n",
       "      <td>United States</td>\n",
       "      <td>1985-11-09</td>\n",
       "      <td>Bachelors</td>\n",
       "      <td>Clerical</td>\n",
       "      <td>0</td>\n",
       "      <td>3</td>\n",
       "      <td>0</td>\n",
       "      <td>0</td>\n",
       "      <td>86387</td>\n",
       "      <td>2017-03-06</td>\n",
       "      <td>1.0</td>\n",
       "      <td>54.08</td>\n",
       "      <td>0.536172</td>\n",
       "      <td>0.470977</td>\n",
       "      <td>0.444250</td>\n",
       "      <td>0.672728</td>\n",
       "      <td>0</td>\n",
       "      <td>1</td>\n",
       "      <td>above medium</td>\n",
       "    </tr>\n",
       "    <tr>\n",
       "      <th>3</th>\n",
       "      <td>2103 Baldwin Dr</td>\n",
       "      <td>Liverpool</td>\n",
       "      <td>England</td>\n",
       "      <td>United Kingdom</td>\n",
       "      <td>1977-10-18</td>\n",
       "      <td>Partial College</td>\n",
       "      <td>Skilled Manual</td>\n",
       "      <td>1</td>\n",
       "      <td>2</td>\n",
       "      <td>1</td>\n",
       "      <td>2</td>\n",
       "      <td>61481</td>\n",
       "      <td>2017-03-06</td>\n",
       "      <td>1.0</td>\n",
       "      <td>56.93</td>\n",
       "      <td>0.317083</td>\n",
       "      <td>0.605474</td>\n",
       "      <td>-0.367445</td>\n",
       "      <td>1.501715</td>\n",
       "      <td>1</td>\n",
       "      <td>0</td>\n",
       "      <td>low</td>\n",
       "    </tr>\n",
       "    <tr>\n",
       "      <th>4</th>\n",
       "      <td>Am Gallberg 234</td>\n",
       "      <td>Werne</td>\n",
       "      <td>Nordrhein-Westfalen</td>\n",
       "      <td>Germany</td>\n",
       "      <td>1975-02-05</td>\n",
       "      <td>Partial College</td>\n",
       "      <td>Skilled Manual</td>\n",
       "      <td>1</td>\n",
       "      <td>1</td>\n",
       "      <td>0</td>\n",
       "      <td>0</td>\n",
       "      <td>51804</td>\n",
       "      <td>2017-03-06</td>\n",
       "      <td>1.0</td>\n",
       "      <td>55.41</td>\n",
       "      <td>0.231958</td>\n",
       "      <td>0.533742</td>\n",
       "      <td>-0.682822</td>\n",
       "      <td>1.059589</td>\n",
       "      <td>1</td>\n",
       "      <td>1</td>\n",
       "      <td>low</td>\n",
       "    </tr>\n",
       "    <tr>\n",
       "      <th>...</th>\n",
       "      <td>...</td>\n",
       "      <td>...</td>\n",
       "      <td>...</td>\n",
       "      <td>...</td>\n",
       "      <td>...</td>\n",
       "      <td>...</td>\n",
       "      <td>...</td>\n",
       "      <td>...</td>\n",
       "      <td>...</td>\n",
       "      <td>...</td>\n",
       "      <td>...</td>\n",
       "      <td>...</td>\n",
       "      <td>...</td>\n",
       "      <td>...</td>\n",
       "      <td>...</td>\n",
       "      <td>...</td>\n",
       "      <td>...</td>\n",
       "      <td>...</td>\n",
       "      <td>...</td>\n",
       "      <td>...</td>\n",
       "      <td>...</td>\n",
       "      <td>...</td>\n",
       "    </tr>\n",
       "    <tr>\n",
       "      <th>18350</th>\n",
       "      <td>3469 Relief Valley Ct.</td>\n",
       "      <td>Royal Oak</td>\n",
       "      <td>British Columbia</td>\n",
       "      <td>Canada</td>\n",
       "      <td>1960-09-06</td>\n",
       "      <td>Bachelors</td>\n",
       "      <td>Clerical</td>\n",
       "      <td>1</td>\n",
       "      <td>1</td>\n",
       "      <td>0</td>\n",
       "      <td>2</td>\n",
       "      <td>87320</td>\n",
       "      <td>2017-03-06</td>\n",
       "      <td>0.0</td>\n",
       "      <td>48.14</td>\n",
       "      <td>0.544379</td>\n",
       "      <td>0.190656</td>\n",
       "      <td>0.474657</td>\n",
       "      <td>-1.055055</td>\n",
       "      <td>0</td>\n",
       "      <td>0</td>\n",
       "      <td>above medium</td>\n",
       "    </tr>\n",
       "    <tr>\n",
       "      <th>18351</th>\n",
       "      <td>6126 North Sixth Street</td>\n",
       "      <td>Redmond</td>\n",
       "      <td>Washington</td>\n",
       "      <td>United States</td>\n",
       "      <td>1986-08-15</td>\n",
       "      <td>Graduate Degree</td>\n",
       "      <td>Clerical</td>\n",
       "      <td>0</td>\n",
       "      <td>1</td>\n",
       "      <td>0</td>\n",
       "      <td>0</td>\n",
       "      <td>84374</td>\n",
       "      <td>2017-03-06</td>\n",
       "      <td>1.0</td>\n",
       "      <td>50.23</td>\n",
       "      <td>0.518464</td>\n",
       "      <td>0.289287</td>\n",
       "      <td>0.378646</td>\n",
       "      <td>-0.447131</td>\n",
       "      <td>0</td>\n",
       "      <td>1</td>\n",
       "      <td>Medium</td>\n",
       "    </tr>\n",
       "    <tr>\n",
       "      <th>18352</th>\n",
       "      <td>7182 Olive Hill</td>\n",
       "      <td>Cliffside</td>\n",
       "      <td>British Columbia</td>\n",
       "      <td>Canada</td>\n",
       "      <td>1986-11-14</td>\n",
       "      <td>Graduate Degree</td>\n",
       "      <td>Skilled Manual</td>\n",
       "      <td>0</td>\n",
       "      <td>0</td>\n",
       "      <td>0</td>\n",
       "      <td>0</td>\n",
       "      <td>50961</td>\n",
       "      <td>2017-03-06</td>\n",
       "      <td>1.0</td>\n",
       "      <td>49.56</td>\n",
       "      <td>0.224543</td>\n",
       "      <td>0.257669</td>\n",
       "      <td>-0.710296</td>\n",
       "      <td>-0.642016</td>\n",
       "      <td>0</td>\n",
       "      <td>1</td>\n",
       "      <td>low</td>\n",
       "    </tr>\n",
       "    <tr>\n",
       "      <th>18353</th>\n",
       "      <td>487, rue Montcalm</td>\n",
       "      <td>Les Ulis</td>\n",
       "      <td>Essonne</td>\n",
       "      <td>France</td>\n",
       "      <td>1983-02-05</td>\n",
       "      <td>Partial High School</td>\n",
       "      <td>Manual</td>\n",
       "      <td>0</td>\n",
       "      <td>1</td>\n",
       "      <td>0</td>\n",
       "      <td>0</td>\n",
       "      <td>33678</td>\n",
       "      <td>2017-03-06</td>\n",
       "      <td>0.0</td>\n",
       "      <td>51.42</td>\n",
       "      <td>0.072511</td>\n",
       "      <td>0.345446</td>\n",
       "      <td>-1.273555</td>\n",
       "      <td>-0.100993</td>\n",
       "      <td>0</td>\n",
       "      <td>1</td>\n",
       "      <td>below low</td>\n",
       "    </tr>\n",
       "    <tr>\n",
       "      <th>18354</th>\n",
       "      <td>4346 Via Rerrari</td>\n",
       "      <td>Downey</td>\n",
       "      <td>California</td>\n",
       "      <td>United States</td>\n",
       "      <td>1980-10-08</td>\n",
       "      <td>Partial College</td>\n",
       "      <td>Manual</td>\n",
       "      <td>1</td>\n",
       "      <td>0</td>\n",
       "      <td>1</td>\n",
       "      <td>2</td>\n",
       "      <td>29758</td>\n",
       "      <td>2017-03-06</td>\n",
       "      <td>1.0</td>\n",
       "      <td>52.27</td>\n",
       "      <td>0.038028</td>\n",
       "      <td>0.385559</td>\n",
       "      <td>-1.401310</td>\n",
       "      <td>0.146249</td>\n",
       "      <td>0</td>\n",
       "      <td>0</td>\n",
       "      <td>below low</td>\n",
       "    </tr>\n",
       "  </tbody>\n",
       "</table>\n",
       "<p>18355 rows × 22 columns</p>\n",
       "</div>"
      ],
      "text/plain": [
       "                  AddressLine1         City    StateProvinceName  \\\n",
       "0           7090 C. Mount Hood   Wollongong      New South Wales   \n",
       "1          3651 Willow Lake Rd      Shawnee     British Columbia   \n",
       "2       1774 Tice Valley Blvd.  West Covina           California   \n",
       "3              2103 Baldwin Dr    Liverpool              England   \n",
       "4              Am Gallberg 234        Werne  Nordrhein-Westfalen   \n",
       "...                        ...          ...                  ...   \n",
       "18350   3469 Relief Valley Ct.    Royal Oak     British Columbia   \n",
       "18351  6126 North Sixth Street      Redmond           Washington   \n",
       "18352          7182 Olive Hill    Cliffside     British Columbia   \n",
       "18353        487, rue Montcalm     Les Ulis              Essonne   \n",
       "18354         4346 Via Rerrari       Downey           California   \n",
       "\n",
       "      CountryRegionName  BirthDate            Education      Occupation  \\\n",
       "0             Australia 1987-11-13            Bachelors        Clerical   \n",
       "1                Canada 1972-07-21      Partial College        Clerical   \n",
       "2         United States 1985-11-09            Bachelors        Clerical   \n",
       "3        United Kingdom 1977-10-18      Partial College  Skilled Manual   \n",
       "4               Germany 1975-02-05      Partial College  Skilled Manual   \n",
       "...                 ...        ...                  ...             ...   \n",
       "18350            Canada 1960-09-06            Bachelors        Clerical   \n",
       "18351     United States 1986-08-15      Graduate Degree        Clerical   \n",
       "18352            Canada 1986-11-14      Graduate Degree  Skilled Manual   \n",
       "18353            France 1983-02-05  Partial High School          Manual   \n",
       "18354     United States 1980-10-08      Partial College          Manual   \n",
       "\n",
       "       HomeOwnerFlag  NumberCarsOwned  NumberChildrenAtHome  TotalChildren  \\\n",
       "0                  1                3                     0              1   \n",
       "1                  1                2                     1              2   \n",
       "2                  0                3                     0              0   \n",
       "3                  1                2                     1              2   \n",
       "4                  1                1                     0              0   \n",
       "...              ...              ...                   ...            ...   \n",
       "18350              1                1                     0              2   \n",
       "18351              0                1                     0              0   \n",
       "18352              0                0                     0              0   \n",
       "18353              0                1                     0              0   \n",
       "18354              1                0                     1              2   \n",
       "\n",
       "       YearlyIncome LastUpdated  BikeBuyer  AvgMonthSpend  \\\n",
       "0             81916  2017-03-06        1.0          50.97   \n",
       "1             81076  2017-03-06        1.0          53.11   \n",
       "2             86387  2017-03-06        1.0          54.08   \n",
       "3             61481  2017-03-06        1.0          56.93   \n",
       "4             51804  2017-03-06        1.0          55.41   \n",
       "...             ...         ...        ...            ...   \n",
       "18350         87320  2017-03-06        0.0          48.14   \n",
       "18351         84374  2017-03-06        1.0          50.23   \n",
       "18352         50961  2017-03-06        1.0          49.56   \n",
       "18353         33678  2017-03-06        0.0          51.42   \n",
       "18354         29758  2017-03-06        1.0          52.27   \n",
       "\n",
       "       YearlyIncome_normalized  AvgMonthSpend_normalized  YearlyIncome_std  \\\n",
       "0                     0.496842                  0.324210          0.298539   \n",
       "1                     0.489453                  0.425201          0.271163   \n",
       "2                     0.536172                  0.470977          0.444250   \n",
       "3                     0.317083                  0.605474         -0.367445   \n",
       "4                     0.231958                  0.533742         -0.682822   \n",
       "...                        ...                       ...               ...   \n",
       "18350                 0.544379                  0.190656          0.474657   \n",
       "18351                 0.518464                  0.289287          0.378646   \n",
       "18352                 0.224543                  0.257669         -0.710296   \n",
       "18353                 0.072511                  0.345446         -1.273555   \n",
       "18354                 0.038028                  0.385559         -1.401310   \n",
       "\n",
       "       AvgMonthSpend_std  Male  Single  YearlyBinned  \n",
       "0              -0.231886     1       0        Medium  \n",
       "1               0.390582     1       0        Medium  \n",
       "2               0.672728     0       1  above medium  \n",
       "3               1.501715     1       0           low  \n",
       "4               1.059589     1       1           low  \n",
       "...                  ...   ...     ...           ...  \n",
       "18350          -1.055055     0       0  above medium  \n",
       "18351          -0.447131     0       1        Medium  \n",
       "18352          -0.642016     0       1           low  \n",
       "18353          -0.100993     0       1     below low  \n",
       "18354           0.146249     0       0     below low  \n",
       "\n",
       "[18355 rows x 22 columns]"
      ]
     },
     "execution_count": 47,
     "metadata": {},
     "output_type": "execute_result"
    }
   ],
   "source": [
    "df"
   ]
  },
  {
   "cell_type": "code",
   "execution_count": 48,
   "id": "65586f4b",
   "metadata": {
    "execution": {
     "iopub.execute_input": "2022-08-18T10:57:27.932470Z",
     "iopub.status.busy": "2022-08-18T10:57:27.931010Z",
     "iopub.status.idle": "2022-08-18T10:57:27.941246Z",
     "shell.execute_reply": "2022-08-18T10:57:27.939692Z"
    },
    "papermill": {
     "duration": 0.035731,
     "end_time": "2022-08-18T10:57:27.944180",
     "exception": false,
     "start_time": "2022-08-18T10:57:27.908449",
     "status": "completed"
    },
    "tags": []
   },
   "outputs": [
    {
     "data": {
      "text/plain": [
       "21.190000000000005"
      ]
     },
     "execution_count": 48,
     "metadata": {},
     "output_type": "execute_result"
    }
   ],
   "source": [
    "AvgMonthSpend_min=df['AvgMonthSpend'].min()\n",
    "AvgMonthSpend_max=df['AvgMonthSpend'].max()\n",
    "AvgMonthSpend_max-AvgMonthSpend_min"
   ]
  },
  {
   "cell_type": "code",
   "execution_count": 49,
   "id": "abbf57d3",
   "metadata": {
    "execution": {
     "iopub.execute_input": "2022-08-18T10:57:27.985279Z",
     "iopub.status.busy": "2022-08-18T10:57:27.984362Z",
     "iopub.status.idle": "2022-08-18T10:57:27.994368Z",
     "shell.execute_reply": "2022-08-18T10:57:27.992313Z"
    },
    "papermill": {
     "duration": 0.033691,
     "end_time": "2022-08-18T10:57:27.997181",
     "exception": false,
     "start_time": "2022-08-18T10:57:27.963490",
     "status": "completed"
    },
    "tags": []
   },
   "outputs": [
    {
     "name": "stdout",
     "output_type": "stream",
     "text": [
      "[44.1 49.1 54.1 59.1 64.1]\n",
      "length of AvgMonthSpend: 5\n"
     ]
    }
   ],
   "source": [
    "bin_AvgMonthSpend=np.arange(AvgMonthSpend_min,AvgMonthSpend_max,step=5)\n",
    "# arrange has stepsize whereas linspace has the length of the number of divisions\n",
    "print(bin_AvgMonthSpend)\n",
    "print('length of AvgMonthSpend:',len(bin_AvgMonthSpend))\n",
    "\n",
    "AvgMonthSpend_label=['Low','Medium','Above Medium','High']"
   ]
  },
  {
   "cell_type": "code",
   "execution_count": 50,
   "id": "cb2d226b",
   "metadata": {
    "execution": {
     "iopub.execute_input": "2022-08-18T10:57:28.044178Z",
     "iopub.status.busy": "2022-08-18T10:57:28.043702Z",
     "iopub.status.idle": "2022-08-18T10:57:28.053765Z",
     "shell.execute_reply": "2022-08-18T10:57:28.052389Z"
    },
    "papermill": {
     "duration": 0.037447,
     "end_time": "2022-08-18T10:57:28.057465",
     "exception": false,
     "start_time": "2022-08-18T10:57:28.020018",
     "status": "completed"
    },
    "tags": []
   },
   "outputs": [],
   "source": [
    "# pd.cut()\n",
    "df['AvgMonthSpendBinned']=pd.cut(df['AvgMonthSpend'],bins=bin_AvgMonthSpend,labels=AvgMonthSpend_label)"
   ]
  },
  {
   "cell_type": "code",
   "execution_count": 51,
   "id": "4297a202",
   "metadata": {
    "execution": {
     "iopub.execute_input": "2022-08-18T10:57:28.097928Z",
     "iopub.status.busy": "2022-08-18T10:57:28.097513Z",
     "iopub.status.idle": "2022-08-18T10:57:28.138879Z",
     "shell.execute_reply": "2022-08-18T10:57:28.137734Z"
    },
    "papermill": {
     "duration": 0.064773,
     "end_time": "2022-08-18T10:57:28.141452",
     "exception": false,
     "start_time": "2022-08-18T10:57:28.076679",
     "status": "completed"
    },
    "tags": []
   },
   "outputs": [
    {
     "data": {
      "text/html": [
       "<div>\n",
       "<style scoped>\n",
       "    .dataframe tbody tr th:only-of-type {\n",
       "        vertical-align: middle;\n",
       "    }\n",
       "\n",
       "    .dataframe tbody tr th {\n",
       "        vertical-align: top;\n",
       "    }\n",
       "\n",
       "    .dataframe thead th {\n",
       "        text-align: right;\n",
       "    }\n",
       "</style>\n",
       "<table border=\"1\" class=\"dataframe\">\n",
       "  <thead>\n",
       "    <tr style=\"text-align: right;\">\n",
       "      <th></th>\n",
       "      <th>AddressLine1</th>\n",
       "      <th>City</th>\n",
       "      <th>StateProvinceName</th>\n",
       "      <th>CountryRegionName</th>\n",
       "      <th>BirthDate</th>\n",
       "      <th>Education</th>\n",
       "      <th>Occupation</th>\n",
       "      <th>HomeOwnerFlag</th>\n",
       "      <th>NumberCarsOwned</th>\n",
       "      <th>NumberChildrenAtHome</th>\n",
       "      <th>TotalChildren</th>\n",
       "      <th>YearlyIncome</th>\n",
       "      <th>LastUpdated</th>\n",
       "      <th>BikeBuyer</th>\n",
       "      <th>AvgMonthSpend</th>\n",
       "      <th>YearlyIncome_normalized</th>\n",
       "      <th>AvgMonthSpend_normalized</th>\n",
       "      <th>YearlyIncome_std</th>\n",
       "      <th>AvgMonthSpend_std</th>\n",
       "      <th>Male</th>\n",
       "      <th>Single</th>\n",
       "      <th>YearlyBinned</th>\n",
       "      <th>AvgMonthSpendBinned</th>\n",
       "    </tr>\n",
       "  </thead>\n",
       "  <tbody>\n",
       "    <tr>\n",
       "      <th>0</th>\n",
       "      <td>7090 C. Mount Hood</td>\n",
       "      <td>Wollongong</td>\n",
       "      <td>New South Wales</td>\n",
       "      <td>Australia</td>\n",
       "      <td>1987-11-13</td>\n",
       "      <td>Bachelors</td>\n",
       "      <td>Clerical</td>\n",
       "      <td>1</td>\n",
       "      <td>3</td>\n",
       "      <td>0</td>\n",
       "      <td>1</td>\n",
       "      <td>81916</td>\n",
       "      <td>2017-03-06</td>\n",
       "      <td>1.0</td>\n",
       "      <td>50.97</td>\n",
       "      <td>0.496842</td>\n",
       "      <td>0.324210</td>\n",
       "      <td>0.298539</td>\n",
       "      <td>-0.231886</td>\n",
       "      <td>1</td>\n",
       "      <td>0</td>\n",
       "      <td>Medium</td>\n",
       "      <td>Medium</td>\n",
       "    </tr>\n",
       "    <tr>\n",
       "      <th>1</th>\n",
       "      <td>3651 Willow Lake Rd</td>\n",
       "      <td>Shawnee</td>\n",
       "      <td>British Columbia</td>\n",
       "      <td>Canada</td>\n",
       "      <td>1972-07-21</td>\n",
       "      <td>Partial College</td>\n",
       "      <td>Clerical</td>\n",
       "      <td>1</td>\n",
       "      <td>2</td>\n",
       "      <td>1</td>\n",
       "      <td>2</td>\n",
       "      <td>81076</td>\n",
       "      <td>2017-03-06</td>\n",
       "      <td>1.0</td>\n",
       "      <td>53.11</td>\n",
       "      <td>0.489453</td>\n",
       "      <td>0.425201</td>\n",
       "      <td>0.271163</td>\n",
       "      <td>0.390582</td>\n",
       "      <td>1</td>\n",
       "      <td>0</td>\n",
       "      <td>Medium</td>\n",
       "      <td>Medium</td>\n",
       "    </tr>\n",
       "    <tr>\n",
       "      <th>2</th>\n",
       "      <td>1774 Tice Valley Blvd.</td>\n",
       "      <td>West Covina</td>\n",
       "      <td>California</td>\n",
       "      <td>United States</td>\n",
       "      <td>1985-11-09</td>\n",
       "      <td>Bachelors</td>\n",
       "      <td>Clerical</td>\n",
       "      <td>0</td>\n",
       "      <td>3</td>\n",
       "      <td>0</td>\n",
       "      <td>0</td>\n",
       "      <td>86387</td>\n",
       "      <td>2017-03-06</td>\n",
       "      <td>1.0</td>\n",
       "      <td>54.08</td>\n",
       "      <td>0.536172</td>\n",
       "      <td>0.470977</td>\n",
       "      <td>0.444250</td>\n",
       "      <td>0.672728</td>\n",
       "      <td>0</td>\n",
       "      <td>1</td>\n",
       "      <td>above medium</td>\n",
       "      <td>Medium</td>\n",
       "    </tr>\n",
       "    <tr>\n",
       "      <th>3</th>\n",
       "      <td>2103 Baldwin Dr</td>\n",
       "      <td>Liverpool</td>\n",
       "      <td>England</td>\n",
       "      <td>United Kingdom</td>\n",
       "      <td>1977-10-18</td>\n",
       "      <td>Partial College</td>\n",
       "      <td>Skilled Manual</td>\n",
       "      <td>1</td>\n",
       "      <td>2</td>\n",
       "      <td>1</td>\n",
       "      <td>2</td>\n",
       "      <td>61481</td>\n",
       "      <td>2017-03-06</td>\n",
       "      <td>1.0</td>\n",
       "      <td>56.93</td>\n",
       "      <td>0.317083</td>\n",
       "      <td>0.605474</td>\n",
       "      <td>-0.367445</td>\n",
       "      <td>1.501715</td>\n",
       "      <td>1</td>\n",
       "      <td>0</td>\n",
       "      <td>low</td>\n",
       "      <td>Above Medium</td>\n",
       "    </tr>\n",
       "    <tr>\n",
       "      <th>4</th>\n",
       "      <td>Am Gallberg 234</td>\n",
       "      <td>Werne</td>\n",
       "      <td>Nordrhein-Westfalen</td>\n",
       "      <td>Germany</td>\n",
       "      <td>1975-02-05</td>\n",
       "      <td>Partial College</td>\n",
       "      <td>Skilled Manual</td>\n",
       "      <td>1</td>\n",
       "      <td>1</td>\n",
       "      <td>0</td>\n",
       "      <td>0</td>\n",
       "      <td>51804</td>\n",
       "      <td>2017-03-06</td>\n",
       "      <td>1.0</td>\n",
       "      <td>55.41</td>\n",
       "      <td>0.231958</td>\n",
       "      <td>0.533742</td>\n",
       "      <td>-0.682822</td>\n",
       "      <td>1.059589</td>\n",
       "      <td>1</td>\n",
       "      <td>1</td>\n",
       "      <td>low</td>\n",
       "      <td>Above Medium</td>\n",
       "    </tr>\n",
       "    <tr>\n",
       "      <th>...</th>\n",
       "      <td>...</td>\n",
       "      <td>...</td>\n",
       "      <td>...</td>\n",
       "      <td>...</td>\n",
       "      <td>...</td>\n",
       "      <td>...</td>\n",
       "      <td>...</td>\n",
       "      <td>...</td>\n",
       "      <td>...</td>\n",
       "      <td>...</td>\n",
       "      <td>...</td>\n",
       "      <td>...</td>\n",
       "      <td>...</td>\n",
       "      <td>...</td>\n",
       "      <td>...</td>\n",
       "      <td>...</td>\n",
       "      <td>...</td>\n",
       "      <td>...</td>\n",
       "      <td>...</td>\n",
       "      <td>...</td>\n",
       "      <td>...</td>\n",
       "      <td>...</td>\n",
       "      <td>...</td>\n",
       "    </tr>\n",
       "    <tr>\n",
       "      <th>18350</th>\n",
       "      <td>3469 Relief Valley Ct.</td>\n",
       "      <td>Royal Oak</td>\n",
       "      <td>British Columbia</td>\n",
       "      <td>Canada</td>\n",
       "      <td>1960-09-06</td>\n",
       "      <td>Bachelors</td>\n",
       "      <td>Clerical</td>\n",
       "      <td>1</td>\n",
       "      <td>1</td>\n",
       "      <td>0</td>\n",
       "      <td>2</td>\n",
       "      <td>87320</td>\n",
       "      <td>2017-03-06</td>\n",
       "      <td>0.0</td>\n",
       "      <td>48.14</td>\n",
       "      <td>0.544379</td>\n",
       "      <td>0.190656</td>\n",
       "      <td>0.474657</td>\n",
       "      <td>-1.055055</td>\n",
       "      <td>0</td>\n",
       "      <td>0</td>\n",
       "      <td>above medium</td>\n",
       "      <td>Low</td>\n",
       "    </tr>\n",
       "    <tr>\n",
       "      <th>18351</th>\n",
       "      <td>6126 North Sixth Street</td>\n",
       "      <td>Redmond</td>\n",
       "      <td>Washington</td>\n",
       "      <td>United States</td>\n",
       "      <td>1986-08-15</td>\n",
       "      <td>Graduate Degree</td>\n",
       "      <td>Clerical</td>\n",
       "      <td>0</td>\n",
       "      <td>1</td>\n",
       "      <td>0</td>\n",
       "      <td>0</td>\n",
       "      <td>84374</td>\n",
       "      <td>2017-03-06</td>\n",
       "      <td>1.0</td>\n",
       "      <td>50.23</td>\n",
       "      <td>0.518464</td>\n",
       "      <td>0.289287</td>\n",
       "      <td>0.378646</td>\n",
       "      <td>-0.447131</td>\n",
       "      <td>0</td>\n",
       "      <td>1</td>\n",
       "      <td>Medium</td>\n",
       "      <td>Medium</td>\n",
       "    </tr>\n",
       "    <tr>\n",
       "      <th>18352</th>\n",
       "      <td>7182 Olive Hill</td>\n",
       "      <td>Cliffside</td>\n",
       "      <td>British Columbia</td>\n",
       "      <td>Canada</td>\n",
       "      <td>1986-11-14</td>\n",
       "      <td>Graduate Degree</td>\n",
       "      <td>Skilled Manual</td>\n",
       "      <td>0</td>\n",
       "      <td>0</td>\n",
       "      <td>0</td>\n",
       "      <td>0</td>\n",
       "      <td>50961</td>\n",
       "      <td>2017-03-06</td>\n",
       "      <td>1.0</td>\n",
       "      <td>49.56</td>\n",
       "      <td>0.224543</td>\n",
       "      <td>0.257669</td>\n",
       "      <td>-0.710296</td>\n",
       "      <td>-0.642016</td>\n",
       "      <td>0</td>\n",
       "      <td>1</td>\n",
       "      <td>low</td>\n",
       "      <td>Medium</td>\n",
       "    </tr>\n",
       "    <tr>\n",
       "      <th>18353</th>\n",
       "      <td>487, rue Montcalm</td>\n",
       "      <td>Les Ulis</td>\n",
       "      <td>Essonne</td>\n",
       "      <td>France</td>\n",
       "      <td>1983-02-05</td>\n",
       "      <td>Partial High School</td>\n",
       "      <td>Manual</td>\n",
       "      <td>0</td>\n",
       "      <td>1</td>\n",
       "      <td>0</td>\n",
       "      <td>0</td>\n",
       "      <td>33678</td>\n",
       "      <td>2017-03-06</td>\n",
       "      <td>0.0</td>\n",
       "      <td>51.42</td>\n",
       "      <td>0.072511</td>\n",
       "      <td>0.345446</td>\n",
       "      <td>-1.273555</td>\n",
       "      <td>-0.100993</td>\n",
       "      <td>0</td>\n",
       "      <td>1</td>\n",
       "      <td>below low</td>\n",
       "      <td>Medium</td>\n",
       "    </tr>\n",
       "    <tr>\n",
       "      <th>18354</th>\n",
       "      <td>4346 Via Rerrari</td>\n",
       "      <td>Downey</td>\n",
       "      <td>California</td>\n",
       "      <td>United States</td>\n",
       "      <td>1980-10-08</td>\n",
       "      <td>Partial College</td>\n",
       "      <td>Manual</td>\n",
       "      <td>1</td>\n",
       "      <td>0</td>\n",
       "      <td>1</td>\n",
       "      <td>2</td>\n",
       "      <td>29758</td>\n",
       "      <td>2017-03-06</td>\n",
       "      <td>1.0</td>\n",
       "      <td>52.27</td>\n",
       "      <td>0.038028</td>\n",
       "      <td>0.385559</td>\n",
       "      <td>-1.401310</td>\n",
       "      <td>0.146249</td>\n",
       "      <td>0</td>\n",
       "      <td>0</td>\n",
       "      <td>below low</td>\n",
       "      <td>Medium</td>\n",
       "    </tr>\n",
       "  </tbody>\n",
       "</table>\n",
       "<p>18355 rows × 23 columns</p>\n",
       "</div>"
      ],
      "text/plain": [
       "                  AddressLine1         City    StateProvinceName  \\\n",
       "0           7090 C. Mount Hood   Wollongong      New South Wales   \n",
       "1          3651 Willow Lake Rd      Shawnee     British Columbia   \n",
       "2       1774 Tice Valley Blvd.  West Covina           California   \n",
       "3              2103 Baldwin Dr    Liverpool              England   \n",
       "4              Am Gallberg 234        Werne  Nordrhein-Westfalen   \n",
       "...                        ...          ...                  ...   \n",
       "18350   3469 Relief Valley Ct.    Royal Oak     British Columbia   \n",
       "18351  6126 North Sixth Street      Redmond           Washington   \n",
       "18352          7182 Olive Hill    Cliffside     British Columbia   \n",
       "18353        487, rue Montcalm     Les Ulis              Essonne   \n",
       "18354         4346 Via Rerrari       Downey           California   \n",
       "\n",
       "      CountryRegionName  BirthDate            Education      Occupation  \\\n",
       "0             Australia 1987-11-13            Bachelors        Clerical   \n",
       "1                Canada 1972-07-21      Partial College        Clerical   \n",
       "2         United States 1985-11-09            Bachelors        Clerical   \n",
       "3        United Kingdom 1977-10-18      Partial College  Skilled Manual   \n",
       "4               Germany 1975-02-05      Partial College  Skilled Manual   \n",
       "...                 ...        ...                  ...             ...   \n",
       "18350            Canada 1960-09-06            Bachelors        Clerical   \n",
       "18351     United States 1986-08-15      Graduate Degree        Clerical   \n",
       "18352            Canada 1986-11-14      Graduate Degree  Skilled Manual   \n",
       "18353            France 1983-02-05  Partial High School          Manual   \n",
       "18354     United States 1980-10-08      Partial College          Manual   \n",
       "\n",
       "       HomeOwnerFlag  NumberCarsOwned  NumberChildrenAtHome  TotalChildren  \\\n",
       "0                  1                3                     0              1   \n",
       "1                  1                2                     1              2   \n",
       "2                  0                3                     0              0   \n",
       "3                  1                2                     1              2   \n",
       "4                  1                1                     0              0   \n",
       "...              ...              ...                   ...            ...   \n",
       "18350              1                1                     0              2   \n",
       "18351              0                1                     0              0   \n",
       "18352              0                0                     0              0   \n",
       "18353              0                1                     0              0   \n",
       "18354              1                0                     1              2   \n",
       "\n",
       "       YearlyIncome LastUpdated  BikeBuyer  AvgMonthSpend  \\\n",
       "0             81916  2017-03-06        1.0          50.97   \n",
       "1             81076  2017-03-06        1.0          53.11   \n",
       "2             86387  2017-03-06        1.0          54.08   \n",
       "3             61481  2017-03-06        1.0          56.93   \n",
       "4             51804  2017-03-06        1.0          55.41   \n",
       "...             ...         ...        ...            ...   \n",
       "18350         87320  2017-03-06        0.0          48.14   \n",
       "18351         84374  2017-03-06        1.0          50.23   \n",
       "18352         50961  2017-03-06        1.0          49.56   \n",
       "18353         33678  2017-03-06        0.0          51.42   \n",
       "18354         29758  2017-03-06        1.0          52.27   \n",
       "\n",
       "       YearlyIncome_normalized  AvgMonthSpend_normalized  YearlyIncome_std  \\\n",
       "0                     0.496842                  0.324210          0.298539   \n",
       "1                     0.489453                  0.425201          0.271163   \n",
       "2                     0.536172                  0.470977          0.444250   \n",
       "3                     0.317083                  0.605474         -0.367445   \n",
       "4                     0.231958                  0.533742         -0.682822   \n",
       "...                        ...                       ...               ...   \n",
       "18350                 0.544379                  0.190656          0.474657   \n",
       "18351                 0.518464                  0.289287          0.378646   \n",
       "18352                 0.224543                  0.257669         -0.710296   \n",
       "18353                 0.072511                  0.345446         -1.273555   \n",
       "18354                 0.038028                  0.385559         -1.401310   \n",
       "\n",
       "       AvgMonthSpend_std  Male  Single  YearlyBinned AvgMonthSpendBinned  \n",
       "0              -0.231886     1       0        Medium              Medium  \n",
       "1               0.390582     1       0        Medium              Medium  \n",
       "2               0.672728     0       1  above medium              Medium  \n",
       "3               1.501715     1       0           low        Above Medium  \n",
       "4               1.059589     1       1           low        Above Medium  \n",
       "...                  ...   ...     ...           ...                 ...  \n",
       "18350          -1.055055     0       0  above medium                 Low  \n",
       "18351          -0.447131     0       1        Medium              Medium  \n",
       "18352          -0.642016     0       1           low              Medium  \n",
       "18353          -0.100993     0       1     below low              Medium  \n",
       "18354           0.146249     0       0     below low              Medium  \n",
       "\n",
       "[18355 rows x 23 columns]"
      ]
     },
     "execution_count": 51,
     "metadata": {},
     "output_type": "execute_result"
    }
   ],
   "source": [
    "df"
   ]
  },
  {
   "cell_type": "code",
   "execution_count": 52,
   "id": "eb75746e",
   "metadata": {
    "execution": {
     "iopub.execute_input": "2022-08-18T10:57:28.184486Z",
     "iopub.status.busy": "2022-08-18T10:57:28.183601Z",
     "iopub.status.idle": "2022-08-18T10:57:28.189073Z",
     "shell.execute_reply": "2022-08-18T10:57:28.188065Z"
    },
    "papermill": {
     "duration": 0.030479,
     "end_time": "2022-08-18T10:57:28.191630",
     "exception": false,
     "start_time": "2022-08-18T10:57:28.161151",
     "status": "completed"
    },
    "tags": []
   },
   "outputs": [],
   "source": [
    "# PART-III\n",
    "# Make sure each attribute is transformed in a same scale for numeric attributes and Binarization for each nominal attribute, and each discretized numeric attribute to standardization. Make sure to apply a correct similarity measure for nominal (one hot encoding)/binary attributes and numeric attributes respectively.\n",
    "# (a) Calculate Similarity in Simple Matching, Jaccard Similarity, and Cosine Similarity between two following objects of your transformed input data.\n",
    "# (b) Calculate Correlation between two features Commute Distance and Yearly Income\n",
    "# helpful article\n",
    "# https://towardsdatascience.com/familiarity-with-coefficients-of-similarity-73697d357acf\n",
    "# imp diff between "
   ]
  },
  {
   "cell_type": "code",
   "execution_count": 53,
   "id": "b1eda059",
   "metadata": {
    "execution": {
     "iopub.execute_input": "2022-08-18T10:57:28.234543Z",
     "iopub.status.busy": "2022-08-18T10:57:28.233692Z",
     "iopub.status.idle": "2022-08-18T10:57:28.239407Z",
     "shell.execute_reply": "2022-08-18T10:57:28.238409Z"
    },
    "papermill": {
     "duration": 0.030817,
     "end_time": "2022-08-18T10:57:28.241921",
     "exception": false,
     "start_time": "2022-08-18T10:57:28.211104",
     "status": "completed"
    },
    "tags": []
   },
   "outputs": [],
   "source": [
    "# Jaccard Similarity = (number of observations in both sets) / (number in either set)\n",
    "def jaccard(list1, list2):\n",
    "    intersection = len(list(set(list1).intersection(list2)))\n",
    "    union = (len(list1) + len(list2)) - intersection\n",
    "    return float(intersection) / union"
   ]
  },
  {
   "cell_type": "code",
   "execution_count": 54,
   "id": "e99feaea",
   "metadata": {
    "execution": {
     "iopub.execute_input": "2022-08-18T10:57:28.283647Z",
     "iopub.status.busy": "2022-08-18T10:57:28.282810Z",
     "iopub.status.idle": "2022-08-18T10:57:28.293760Z",
     "shell.execute_reply": "2022-08-18T10:57:28.292648Z"
    },
    "papermill": {
     "duration": 0.034901,
     "end_time": "2022-08-18T10:57:28.296144",
     "exception": false,
     "start_time": "2022-08-18T10:57:28.261243",
     "status": "completed"
    },
    "tags": []
   },
   "outputs": [
    {
     "data": {
      "text/plain": [
       "5.448403617740002e-05"
      ]
     },
     "execution_count": 54,
     "metadata": {},
     "output_type": "execute_result"
    }
   ],
   "source": [
    "\n",
    "jaccard(df['Male'],df['Single'])"
   ]
  },
  {
   "cell_type": "code",
   "execution_count": null,
   "id": "7d91facb",
   "metadata": {
    "papermill": {
     "duration": 0.020312,
     "end_time": "2022-08-18T10:57:28.336913",
     "exception": false,
     "start_time": "2022-08-18T10:57:28.316601",
     "status": "completed"
    },
    "tags": []
   },
   "outputs": [],
   "source": []
  },
  {
   "cell_type": "code",
   "execution_count": null,
   "id": "750700fb",
   "metadata": {
    "papermill": {
     "duration": 0.020113,
     "end_time": "2022-08-18T10:57:28.377204",
     "exception": false,
     "start_time": "2022-08-18T10:57:28.357091",
     "status": "completed"
    },
    "tags": []
   },
   "outputs": [],
   "source": []
  },
  {
   "cell_type": "code",
   "execution_count": 55,
   "id": "223514a7",
   "metadata": {
    "execution": {
     "iopub.execute_input": "2022-08-18T10:57:28.420333Z",
     "iopub.status.busy": "2022-08-18T10:57:28.419462Z",
     "iopub.status.idle": "2022-08-18T10:57:28.442254Z",
     "shell.execute_reply": "2022-08-18T10:57:28.440119Z"
    },
    "papermill": {
     "duration": 0.049053,
     "end_time": "2022-08-18T10:57:28.447157",
     "exception": false,
     "start_time": "2022-08-18T10:57:28.398104",
     "status": "completed"
    },
    "tags": []
   },
   "outputs": [
    {
     "name": "stdout",
     "output_type": "stream",
     "text": [
      "[[1 1 0 ... 0 0 0]]\n",
      "[[0 0 1 ... 1 1 0]]\n",
      "cosine similarity is:\n",
      " [[0.45939671]]\n"
     ]
    }
   ],
   "source": [
    "# print(\"Correlation is\",np.corrcoef(df['Male'],df['Single']))\n",
    "# Cosine accepts a 2-D array,so we need to convert the series to numpy array\n",
    "# 1.Using values method\n",
    "# 2.Using Pandas.Series.to_numpy()\n",
    "a=np.array([df['Male'].to_numpy()])\n",
    "print(a)\n",
    "b=np.array([df['Single'].values])\n",
    "print(b)\n",
    "print('cosine similarity is:\\n',cosine_similarity(a,b))\n"
   ]
  },
  {
   "cell_type": "code",
   "execution_count": 56,
   "id": "bc52099b",
   "metadata": {
    "execution": {
     "iopub.execute_input": "2022-08-18T10:57:28.557158Z",
     "iopub.status.busy": "2022-08-18T10:57:28.556427Z",
     "iopub.status.idle": "2022-08-18T10:57:28.568773Z",
     "shell.execute_reply": "2022-08-18T10:57:28.567897Z"
    },
    "papermill": {
     "duration": 0.070379,
     "end_time": "2022-08-18T10:57:28.571155",
     "exception": false,
     "start_time": "2022-08-18T10:57:28.500776",
     "status": "completed"
    },
    "tags": []
   },
   "outputs": [
    {
     "data": {
      "text/plain": [
       "0.012202883547392651"
      ]
     },
     "execution_count": 56,
     "metadata": {},
     "output_type": "execute_result"
    }
   ],
   "source": [
    "# b part\n",
    "# let's calculate correlation between yearlyIncome and avgmonthspend\n",
    "# np.corrcoef() OR\n",
    "df['YearlyIncome'].corr(df['AvgMonthSpend'])"
   ]
  },
  {
   "cell_type": "code",
   "execution_count": null,
   "id": "a087c98a",
   "metadata": {
    "papermill": {
     "duration": 0.019983,
     "end_time": "2022-08-18T10:57:28.612735",
     "exception": false,
     "start_time": "2022-08-18T10:57:28.592752",
     "status": "completed"
    },
    "tags": []
   },
   "outputs": [],
   "source": []
  }
 ],
 "metadata": {
  "kernelspec": {
   "display_name": "Python 3",
   "language": "python",
   "name": "python3"
  },
  "language_info": {
   "codemirror_mode": {
    "name": "ipython",
    "version": 3
   },
   "file_extension": ".py",
   "mimetype": "text/x-python",
   "name": "python",
   "nbconvert_exporter": "python",
   "pygments_lexer": "ipython3",
   "version": "3.7.12"
  },
  "papermill": {
   "default_parameters": {},
   "duration": 16.965442,
   "end_time": "2022-08-18T10:57:29.659679",
   "environment_variables": {},
   "exception": null,
   "input_path": "__notebook__.ipynb",
   "output_path": "__notebook__.ipynb",
   "parameters": {},
   "start_time": "2022-08-18T10:57:12.694237",
   "version": "2.3.4"
  }
 },
 "nbformat": 4,
 "nbformat_minor": 5
}
