{
 "cells": [
  {
   "cell_type": "code",
   "execution_count": 1,
   "id": "991dc403",
   "metadata": {
    "_cell_guid": "b1076dfc-b9ad-4769-8c92-a6c4dae69d19",
    "_uuid": "8f2839f25d086af736a60e9eeb907d3b93b6e0e5",
    "execution": {
     "iopub.execute_input": "2022-08-16T13:11:32.158477Z",
     "iopub.status.busy": "2022-08-16T13:11:32.158049Z",
     "iopub.status.idle": "2022-08-16T13:11:33.453072Z",
     "shell.execute_reply": "2022-08-16T13:11:33.451830Z"
    },
    "papermill": {
     "duration": 1.314857,
     "end_time": "2022-08-16T13:11:33.455616",
     "exception": false,
     "start_time": "2022-08-16T13:11:32.140759",
     "status": "completed"
    },
    "tags": []
   },
   "outputs": [
    {
     "name": "stdout",
     "output_type": "stream",
     "text": [
      "/kaggle/input/microsoft-adventure-works-cycles-customer-data/AWCustomers.csv\n",
      "/kaggle/input/microsoft-adventure-works-cycles-customer-data/AWTest-Classification.csv\n",
      "/kaggle/input/microsoft-adventure-works-cycles-customer-data/AWSales.csv\n",
      "/kaggle/input/microsoft-adventure-works-cycles-customer-data/AWTest-Regression.csv\n"
     ]
    }
   ],
   "source": [
    "# This Python 3 environment comes with many helpful analytics libraries installed\n",
    "# It is defined by the kaggle/python Docker image: https://github.com/kaggle/docker-python\n",
    "# For example, here's several helpful packages to load\n",
    "\n",
    "import numpy as np # linear algebra\n",
    "import pandas as pd # data processing, CSV file I/O (e.g. pd.read_csv)\n",
    "from sklearn.preprocessing import MinMaxScaler\n",
    "from sklearn.preprocessing import StandardScaler\n",
    "from sklearn.metrics.pairwise import cosine_similarity\n",
    "import seaborn as sns\n",
    "sns.set(style=\"whitegrid\", color_codes=True)\n",
    "# Input data files are available in the read-only \"../input/\" directory\n",
    "# For example, running this (by clicking run or pressing Shift+Enter) will list all files under the input directory\n",
    "pd.set_option('display.max_columns', None)\n",
    "import os\n",
    "for dirname, _, filenames in os.walk('/kaggle/input'):\n",
    "    for filename in filenames:\n",
    "        print(os.path.join(dirname, filename))\n",
    "\n",
    "# You can write up to 20GB to the current directory (/kaggle/working/) that gets preserved as output when you create a version using \"Save & Run All\" \n",
    "# You can also write temporary files to /kaggle/temp/, but they won't be saved outside of the current session\n"
   ]
  },
  {
   "cell_type": "code",
   "execution_count": 2,
   "id": "28c743ae",
   "metadata": {
    "execution": {
     "iopub.execute_input": "2022-08-16T13:11:33.485063Z",
     "iopub.status.busy": "2022-08-16T13:11:33.484388Z",
     "iopub.status.idle": "2022-08-16T13:11:33.660568Z",
     "shell.execute_reply": "2022-08-16T13:11:33.659326Z"
    },
    "papermill": {
     "duration": 0.19439,
     "end_time": "2022-08-16T13:11:33.663752",
     "exception": false,
     "start_time": "2022-08-16T13:11:33.469362",
     "status": "completed"
    },
    "tags": []
   },
   "outputs": [],
   "source": [
    "df_customer=pd.read_csv(\"../input/microsoft-adventure-works-cycles-customer-data/AWCustomers.csv\")\n",
    "df_sales=pd.read_csv(\"../input/microsoft-adventure-works-cycles-customer-data/AWSales.csv\")"
   ]
  },
  {
   "cell_type": "code",
   "execution_count": 3,
   "id": "62fe3af9",
   "metadata": {
    "execution": {
     "iopub.execute_input": "2022-08-16T13:11:33.697708Z",
     "iopub.status.busy": "2022-08-16T13:11:33.697300Z",
     "iopub.status.idle": "2022-08-16T13:11:33.707345Z",
     "shell.execute_reply": "2022-08-16T13:11:33.706063Z"
    },
    "papermill": {
     "duration": 0.03037,
     "end_time": "2022-08-16T13:11:33.710187",
     "exception": false,
     "start_time": "2022-08-16T13:11:33.679817",
     "status": "completed"
    },
    "tags": []
   },
   "outputs": [
    {
     "data": {
      "text/plain": [
       "Index(['CustomerID', 'Title', 'FirstName', 'MiddleName', 'LastName', 'Suffix',\n",
       "       'AddressLine1', 'AddressLine2', 'City', 'StateProvinceName',\n",
       "       'CountryRegionName', 'PostalCode', 'PhoneNumber', 'BirthDate',\n",
       "       'Education', 'Occupation', 'Gender', 'MaritalStatus', 'HomeOwnerFlag',\n",
       "       'NumberCarsOwned', 'NumberChildrenAtHome', 'TotalChildren',\n",
       "       'YearlyIncome', 'LastUpdated'],\n",
       "      dtype='object')"
      ]
     },
     "execution_count": 3,
     "metadata": {},
     "output_type": "execute_result"
    }
   ],
   "source": [
    "df_customer.columns"
   ]
  },
  {
   "cell_type": "code",
   "execution_count": 4,
   "id": "4ade17b3",
   "metadata": {
    "execution": {
     "iopub.execute_input": "2022-08-16T13:11:33.741161Z",
     "iopub.status.busy": "2022-08-16T13:11:33.740376Z",
     "iopub.status.idle": "2022-08-16T13:11:33.747305Z",
     "shell.execute_reply": "2022-08-16T13:11:33.746420Z"
    },
    "papermill": {
     "duration": 0.024442,
     "end_time": "2022-08-16T13:11:33.749466",
     "exception": false,
     "start_time": "2022-08-16T13:11:33.725024",
     "status": "completed"
    },
    "tags": []
   },
   "outputs": [
    {
     "data": {
      "text/plain": [
       "Index(['CustomerID', 'BikeBuyer', 'AvgMonthSpend'], dtype='object')"
      ]
     },
     "execution_count": 4,
     "metadata": {},
     "output_type": "execute_result"
    }
   ],
   "source": [
    "df_sales.columns"
   ]
  },
  {
   "cell_type": "code",
   "execution_count": 5,
   "id": "dbc3c4c3",
   "metadata": {
    "execution": {
     "iopub.execute_input": "2022-08-16T13:11:33.782607Z",
     "iopub.status.busy": "2022-08-16T13:11:33.781615Z",
     "iopub.status.idle": "2022-08-16T13:11:33.798420Z",
     "shell.execute_reply": "2022-08-16T13:11:33.797416Z"
    },
    "papermill": {
     "duration": 0.034505,
     "end_time": "2022-08-16T13:11:33.800907",
     "exception": false,
     "start_time": "2022-08-16T13:11:33.766402",
     "status": "completed"
    },
    "tags": []
   },
   "outputs": [],
   "source": [
    "df=pd.concat([df_customer,df_sales],axis=1)"
   ]
  },
  {
   "cell_type": "code",
   "execution_count": 6,
   "id": "59ab2f31",
   "metadata": {
    "execution": {
     "iopub.execute_input": "2022-08-16T13:11:33.830783Z",
     "iopub.status.busy": "2022-08-16T13:11:33.829986Z",
     "iopub.status.idle": "2022-08-16T13:11:33.837017Z",
     "shell.execute_reply": "2022-08-16T13:11:33.836184Z"
    },
    "papermill": {
     "duration": 0.024524,
     "end_time": "2022-08-16T13:11:33.839268",
     "exception": false,
     "start_time": "2022-08-16T13:11:33.814744",
     "status": "completed"
    },
    "tags": []
   },
   "outputs": [
    {
     "data": {
      "text/plain": [
       "Index(['CustomerID', 'Title', 'FirstName', 'MiddleName', 'LastName', 'Suffix',\n",
       "       'AddressLine1', 'AddressLine2', 'City', 'StateProvinceName',\n",
       "       'CountryRegionName', 'PostalCode', 'PhoneNumber', 'BirthDate',\n",
       "       'Education', 'Occupation', 'Gender', 'MaritalStatus', 'HomeOwnerFlag',\n",
       "       'NumberCarsOwned', 'NumberChildrenAtHome', 'TotalChildren',\n",
       "       'YearlyIncome', 'LastUpdated', 'CustomerID', 'BikeBuyer',\n",
       "       'AvgMonthSpend'],\n",
       "      dtype='object')"
      ]
     },
     "execution_count": 6,
     "metadata": {},
     "output_type": "execute_result"
    }
   ],
   "source": [
    "df.columns"
   ]
  },
  {
   "cell_type": "markdown",
   "id": "b5edaf83",
   "metadata": {
    "execution": {
     "iopub.execute_input": "2022-08-09T02:53:15.932885Z",
     "iopub.status.busy": "2022-08-09T02:53:15.931725Z",
     "iopub.status.idle": "2022-08-09T02:53:15.939873Z",
     "shell.execute_reply": "2022-08-09T02:53:15.938566Z",
     "shell.execute_reply.started": "2022-08-09T02:53:15.932830Z"
    },
    "papermill": {
     "duration": 0.013626,
     "end_time": "2022-08-16T13:11:33.866739",
     "exception": false,
     "start_time": "2022-08-16T13:11:33.853113",
     "status": "completed"
    },
    "tags": []
   },
   "source": [
    "Number of columns in the dataset is:27"
   ]
  },
  {
   "cell_type": "code",
   "execution_count": 7,
   "id": "1acee1fd",
   "metadata": {
    "execution": {
     "iopub.execute_input": "2022-08-16T13:11:33.897161Z",
     "iopub.status.busy": "2022-08-16T13:11:33.896355Z",
     "iopub.status.idle": "2022-08-16T13:11:33.903217Z",
     "shell.execute_reply": "2022-08-16T13:11:33.902367Z"
    },
    "papermill": {
     "duration": 0.024601,
     "end_time": "2022-08-16T13:11:33.905386",
     "exception": false,
     "start_time": "2022-08-16T13:11:33.880785",
     "status": "completed"
    },
    "tags": []
   },
   "outputs": [
    {
     "data": {
      "text/plain": [
       "27"
      ]
     },
     "execution_count": 7,
     "metadata": {},
     "output_type": "execute_result"
    }
   ],
   "source": [
    "df.shape[1]\n"
   ]
  },
  {
   "cell_type": "code",
   "execution_count": 8,
   "id": "a39022f3",
   "metadata": {
    "execution": {
     "iopub.execute_input": "2022-08-16T13:11:33.935633Z",
     "iopub.status.busy": "2022-08-16T13:11:33.934837Z",
     "iopub.status.idle": "2022-08-16T13:11:33.973689Z",
     "shell.execute_reply": "2022-08-16T13:11:33.972485Z"
    },
    "papermill": {
     "duration": 0.057335,
     "end_time": "2022-08-16T13:11:33.976716",
     "exception": false,
     "start_time": "2022-08-16T13:11:33.919381",
     "status": "completed"
    },
    "tags": []
   },
   "outputs": [],
   "source": [
    "df.drop(['CustomerID'],axis=1,inplace=True)"
   ]
  },
  {
   "cell_type": "code",
   "execution_count": 9,
   "id": "de9a9f72",
   "metadata": {
    "execution": {
     "iopub.execute_input": "2022-08-16T13:11:34.009765Z",
     "iopub.status.busy": "2022-08-16T13:11:34.008975Z",
     "iopub.status.idle": "2022-08-16T13:11:34.037350Z",
     "shell.execute_reply": "2022-08-16T13:11:34.036126Z"
    },
    "papermill": {
     "duration": 0.046423,
     "end_time": "2022-08-16T13:11:34.039822",
     "exception": false,
     "start_time": "2022-08-16T13:11:33.993399",
     "status": "completed"
    },
    "tags": []
   },
   "outputs": [
    {
     "data": {
      "text/html": [
       "<div>\n",
       "<style scoped>\n",
       "    .dataframe tbody tr th:only-of-type {\n",
       "        vertical-align: middle;\n",
       "    }\n",
       "\n",
       "    .dataframe tbody tr th {\n",
       "        vertical-align: top;\n",
       "    }\n",
       "\n",
       "    .dataframe thead th {\n",
       "        text-align: right;\n",
       "    }\n",
       "</style>\n",
       "<table border=\"1\" class=\"dataframe\">\n",
       "  <thead>\n",
       "    <tr style=\"text-align: right;\">\n",
       "      <th></th>\n",
       "      <th>Title</th>\n",
       "      <th>FirstName</th>\n",
       "      <th>MiddleName</th>\n",
       "      <th>LastName</th>\n",
       "      <th>Suffix</th>\n",
       "      <th>AddressLine1</th>\n",
       "      <th>AddressLine2</th>\n",
       "      <th>City</th>\n",
       "      <th>StateProvinceName</th>\n",
       "      <th>CountryRegionName</th>\n",
       "      <th>PostalCode</th>\n",
       "      <th>PhoneNumber</th>\n",
       "      <th>BirthDate</th>\n",
       "      <th>Education</th>\n",
       "      <th>Occupation</th>\n",
       "      <th>Gender</th>\n",
       "      <th>MaritalStatus</th>\n",
       "      <th>HomeOwnerFlag</th>\n",
       "      <th>NumberCarsOwned</th>\n",
       "      <th>NumberChildrenAtHome</th>\n",
       "      <th>TotalChildren</th>\n",
       "      <th>YearlyIncome</th>\n",
       "      <th>LastUpdated</th>\n",
       "      <th>BikeBuyer</th>\n",
       "      <th>AvgMonthSpend</th>\n",
       "    </tr>\n",
       "  </thead>\n",
       "  <tbody>\n",
       "    <tr>\n",
       "      <th>0</th>\n",
       "      <td>NaN</td>\n",
       "      <td>Chad</td>\n",
       "      <td>C</td>\n",
       "      <td>Yuan</td>\n",
       "      <td>NaN</td>\n",
       "      <td>7090 C. Mount Hood</td>\n",
       "      <td>NaN</td>\n",
       "      <td>Wollongong</td>\n",
       "      <td>New South Wales</td>\n",
       "      <td>Australia</td>\n",
       "      <td>2500</td>\n",
       "      <td>1 (11) 500 555-0115</td>\n",
       "      <td>1987-11-13</td>\n",
       "      <td>Bachelors</td>\n",
       "      <td>Clerical</td>\n",
       "      <td>M</td>\n",
       "      <td>M</td>\n",
       "      <td>1</td>\n",
       "      <td>3</td>\n",
       "      <td>0</td>\n",
       "      <td>1</td>\n",
       "      <td>81916</td>\n",
       "      <td>2017-03-06</td>\n",
       "      <td>1.0</td>\n",
       "      <td>50.97</td>\n",
       "    </tr>\n",
       "    <tr>\n",
       "      <th>1</th>\n",
       "      <td>NaN</td>\n",
       "      <td>Ryan</td>\n",
       "      <td>NaN</td>\n",
       "      <td>Perry</td>\n",
       "      <td>NaN</td>\n",
       "      <td>3651 Willow Lake Rd</td>\n",
       "      <td>NaN</td>\n",
       "      <td>Shawnee</td>\n",
       "      <td>British Columbia</td>\n",
       "      <td>Canada</td>\n",
       "      <td>V9B 2C3</td>\n",
       "      <td>787-555-0136</td>\n",
       "      <td>1972-07-21</td>\n",
       "      <td>Partial College</td>\n",
       "      <td>Clerical</td>\n",
       "      <td>M</td>\n",
       "      <td>M</td>\n",
       "      <td>1</td>\n",
       "      <td>2</td>\n",
       "      <td>1</td>\n",
       "      <td>2</td>\n",
       "      <td>81076</td>\n",
       "      <td>2017-03-06</td>\n",
       "      <td>1.0</td>\n",
       "      <td>53.11</td>\n",
       "    </tr>\n",
       "    <tr>\n",
       "      <th>2</th>\n",
       "      <td>NaN</td>\n",
       "      <td>Julia</td>\n",
       "      <td>NaN</td>\n",
       "      <td>Thompson</td>\n",
       "      <td>NaN</td>\n",
       "      <td>1774 Tice Valley Blvd.</td>\n",
       "      <td>NaN</td>\n",
       "      <td>West Covina</td>\n",
       "      <td>California</td>\n",
       "      <td>United States</td>\n",
       "      <td>91791</td>\n",
       "      <td>120-555-0111</td>\n",
       "      <td>1985-11-09</td>\n",
       "      <td>Bachelors</td>\n",
       "      <td>Clerical</td>\n",
       "      <td>F</td>\n",
       "      <td>S</td>\n",
       "      <td>0</td>\n",
       "      <td>3</td>\n",
       "      <td>0</td>\n",
       "      <td>0</td>\n",
       "      <td>86387</td>\n",
       "      <td>2017-03-06</td>\n",
       "      <td>1.0</td>\n",
       "      <td>54.08</td>\n",
       "    </tr>\n",
       "    <tr>\n",
       "      <th>3</th>\n",
       "      <td>NaN</td>\n",
       "      <td>Theodore</td>\n",
       "      <td>NaN</td>\n",
       "      <td>Gomez</td>\n",
       "      <td>NaN</td>\n",
       "      <td>2103 Baldwin Dr</td>\n",
       "      <td>NaN</td>\n",
       "      <td>Liverpool</td>\n",
       "      <td>England</td>\n",
       "      <td>United Kingdom</td>\n",
       "      <td>L4 4HB</td>\n",
       "      <td>1 (11) 500 555-0167</td>\n",
       "      <td>1977-10-18</td>\n",
       "      <td>Partial College</td>\n",
       "      <td>Skilled Manual</td>\n",
       "      <td>M</td>\n",
       "      <td>M</td>\n",
       "      <td>1</td>\n",
       "      <td>2</td>\n",
       "      <td>1</td>\n",
       "      <td>2</td>\n",
       "      <td>61481</td>\n",
       "      <td>2017-03-06</td>\n",
       "      <td>1.0</td>\n",
       "      <td>56.93</td>\n",
       "    </tr>\n",
       "    <tr>\n",
       "      <th>4</th>\n",
       "      <td>NaN</td>\n",
       "      <td>Marshall</td>\n",
       "      <td>J</td>\n",
       "      <td>Shan</td>\n",
       "      <td>NaN</td>\n",
       "      <td>Am Gallberg 234</td>\n",
       "      <td>NaN</td>\n",
       "      <td>Werne</td>\n",
       "      <td>Nordrhein-Westfalen</td>\n",
       "      <td>Germany</td>\n",
       "      <td>59368</td>\n",
       "      <td>1 (11) 500 555-0113</td>\n",
       "      <td>1975-02-05</td>\n",
       "      <td>Partial College</td>\n",
       "      <td>Skilled Manual</td>\n",
       "      <td>M</td>\n",
       "      <td>S</td>\n",
       "      <td>1</td>\n",
       "      <td>1</td>\n",
       "      <td>0</td>\n",
       "      <td>0</td>\n",
       "      <td>51804</td>\n",
       "      <td>2017-03-06</td>\n",
       "      <td>1.0</td>\n",
       "      <td>55.41</td>\n",
       "    </tr>\n",
       "  </tbody>\n",
       "</table>\n",
       "</div>"
      ],
      "text/plain": [
       "  Title FirstName MiddleName  LastName Suffix            AddressLine1  \\\n",
       "0   NaN      Chad          C      Yuan    NaN      7090 C. Mount Hood   \n",
       "1   NaN      Ryan        NaN     Perry    NaN     3651 Willow Lake Rd   \n",
       "2   NaN     Julia        NaN  Thompson    NaN  1774 Tice Valley Blvd.   \n",
       "3   NaN  Theodore        NaN     Gomez    NaN         2103 Baldwin Dr   \n",
       "4   NaN  Marshall          J      Shan    NaN         Am Gallberg 234   \n",
       "\n",
       "  AddressLine2         City    StateProvinceName CountryRegionName PostalCode  \\\n",
       "0          NaN   Wollongong      New South Wales         Australia       2500   \n",
       "1          NaN      Shawnee     British Columbia            Canada    V9B 2C3   \n",
       "2          NaN  West Covina           California     United States      91791   \n",
       "3          NaN    Liverpool              England    United Kingdom     L4 4HB   \n",
       "4          NaN        Werne  Nordrhein-Westfalen           Germany      59368   \n",
       "\n",
       "           PhoneNumber   BirthDate        Education      Occupation Gender  \\\n",
       "0  1 (11) 500 555-0115  1987-11-13        Bachelors        Clerical      M   \n",
       "1         787-555-0136  1972-07-21  Partial College        Clerical      M   \n",
       "2         120-555-0111  1985-11-09        Bachelors        Clerical      F   \n",
       "3  1 (11) 500 555-0167  1977-10-18  Partial College  Skilled Manual      M   \n",
       "4  1 (11) 500 555-0113  1975-02-05  Partial College  Skilled Manual      M   \n",
       "\n",
       "  MaritalStatus  HomeOwnerFlag  NumberCarsOwned  NumberChildrenAtHome  \\\n",
       "0             M              1                3                     0   \n",
       "1             M              1                2                     1   \n",
       "2             S              0                3                     0   \n",
       "3             M              1                2                     1   \n",
       "4             S              1                1                     0   \n",
       "\n",
       "   TotalChildren  YearlyIncome LastUpdated  BikeBuyer  AvgMonthSpend  \n",
       "0              1         81916  2017-03-06        1.0          50.97  \n",
       "1              2         81076  2017-03-06        1.0          53.11  \n",
       "2              0         86387  2017-03-06        1.0          54.08  \n",
       "3              2         61481  2017-03-06        1.0          56.93  \n",
       "4              0         51804  2017-03-06        1.0          55.41  "
      ]
     },
     "execution_count": 9,
     "metadata": {},
     "output_type": "execute_result"
    }
   ],
   "source": [
    "df.head()"
   ]
  },
  {
   "cell_type": "code",
   "execution_count": 10,
   "id": "b792d3c8",
   "metadata": {
    "execution": {
     "iopub.execute_input": "2022-08-16T13:11:34.070347Z",
     "iopub.status.busy": "2022-08-16T13:11:34.069925Z",
     "iopub.status.idle": "2022-08-16T13:11:34.095665Z",
     "shell.execute_reply": "2022-08-16T13:11:34.094602Z"
    },
    "papermill": {
     "duration": 0.043755,
     "end_time": "2022-08-16T13:11:34.098080",
     "exception": false,
     "start_time": "2022-08-16T13:11:34.054325",
     "status": "completed"
    },
    "tags": []
   },
   "outputs": [
    {
     "data": {
      "text/html": [
       "<div>\n",
       "<style scoped>\n",
       "    .dataframe tbody tr th:only-of-type {\n",
       "        vertical-align: middle;\n",
       "    }\n",
       "\n",
       "    .dataframe tbody tr th {\n",
       "        vertical-align: top;\n",
       "    }\n",
       "\n",
       "    .dataframe thead th {\n",
       "        text-align: right;\n",
       "    }\n",
       "</style>\n",
       "<table border=\"1\" class=\"dataframe\">\n",
       "  <thead>\n",
       "    <tr style=\"text-align: right;\">\n",
       "      <th></th>\n",
       "      <th>Title</th>\n",
       "      <th>FirstName</th>\n",
       "      <th>MiddleName</th>\n",
       "      <th>LastName</th>\n",
       "      <th>Suffix</th>\n",
       "      <th>AddressLine1</th>\n",
       "      <th>AddressLine2</th>\n",
       "      <th>City</th>\n",
       "      <th>StateProvinceName</th>\n",
       "      <th>CountryRegionName</th>\n",
       "      <th>PostalCode</th>\n",
       "      <th>PhoneNumber</th>\n",
       "      <th>BirthDate</th>\n",
       "      <th>Education</th>\n",
       "      <th>Occupation</th>\n",
       "      <th>Gender</th>\n",
       "      <th>MaritalStatus</th>\n",
       "      <th>HomeOwnerFlag</th>\n",
       "      <th>NumberCarsOwned</th>\n",
       "      <th>NumberChildrenAtHome</th>\n",
       "      <th>TotalChildren</th>\n",
       "      <th>YearlyIncome</th>\n",
       "      <th>LastUpdated</th>\n",
       "      <th>BikeBuyer</th>\n",
       "      <th>AvgMonthSpend</th>\n",
       "    </tr>\n",
       "  </thead>\n",
       "  <tbody>\n",
       "    <tr>\n",
       "      <th>18356</th>\n",
       "      <td>NaN</td>\n",
       "      <td>Grace</td>\n",
       "      <td>C</td>\n",
       "      <td>Bailey</td>\n",
       "      <td>NaN</td>\n",
       "      <td>6627 Camelback Ct.</td>\n",
       "      <td>NaN</td>\n",
       "      <td>Coronado</td>\n",
       "      <td>California</td>\n",
       "      <td>United States</td>\n",
       "      <td>92118</td>\n",
       "      <td>292-555-0130</td>\n",
       "      <td>1990-11-11</td>\n",
       "      <td>Graduate Degree</td>\n",
       "      <td>Skilled Manual</td>\n",
       "      <td>F</td>\n",
       "      <td>M</td>\n",
       "      <td>0</td>\n",
       "      <td>1</td>\n",
       "      <td>0</td>\n",
       "      <td>2</td>\n",
       "      <td>52953</td>\n",
       "      <td>2017-03-06</td>\n",
       "      <td>NaN</td>\n",
       "      <td>NaN</td>\n",
       "    </tr>\n",
       "    <tr>\n",
       "      <th>18357</th>\n",
       "      <td>NaN</td>\n",
       "      <td>Tasha</td>\n",
       "      <td>NaN</td>\n",
       "      <td>Deng</td>\n",
       "      <td>NaN</td>\n",
       "      <td>9627 Kendall Rd</td>\n",
       "      <td>NaN</td>\n",
       "      <td>Port Macquarie</td>\n",
       "      <td>New South Wales</td>\n",
       "      <td>Australia</td>\n",
       "      <td>2444</td>\n",
       "      <td>1 (11) 500 555-0171</td>\n",
       "      <td>1992-10-13</td>\n",
       "      <td>Bachelors</td>\n",
       "      <td>Skilled Manual</td>\n",
       "      <td>F</td>\n",
       "      <td>S</td>\n",
       "      <td>0</td>\n",
       "      <td>2</td>\n",
       "      <td>0</td>\n",
       "      <td>0</td>\n",
       "      <td>60992</td>\n",
       "      <td>2017-03-06</td>\n",
       "      <td>NaN</td>\n",
       "      <td>NaN</td>\n",
       "    </tr>\n",
       "    <tr>\n",
       "      <th>18358</th>\n",
       "      <td>NaN</td>\n",
       "      <td>Jaclyn</td>\n",
       "      <td>NaN</td>\n",
       "      <td>Zhang</td>\n",
       "      <td>NaN</td>\n",
       "      <td>4364 Viera Avenue</td>\n",
       "      <td>NaN</td>\n",
       "      <td>Beaverton</td>\n",
       "      <td>Oregon</td>\n",
       "      <td>United States</td>\n",
       "      <td>97005</td>\n",
       "      <td>819-555-0110</td>\n",
       "      <td>1983-11-24</td>\n",
       "      <td>Partial College</td>\n",
       "      <td>Skilled Manual</td>\n",
       "      <td>F</td>\n",
       "      <td>S</td>\n",
       "      <td>0</td>\n",
       "      <td>2</td>\n",
       "      <td>0</td>\n",
       "      <td>0</td>\n",
       "      <td>51859</td>\n",
       "      <td>2017-03-06</td>\n",
       "      <td>NaN</td>\n",
       "      <td>NaN</td>\n",
       "    </tr>\n",
       "    <tr>\n",
       "      <th>18359</th>\n",
       "      <td>NaN</td>\n",
       "      <td>Erin</td>\n",
       "      <td>I</td>\n",
       "      <td>Reed</td>\n",
       "      <td>NaN</td>\n",
       "      <td>3866 Mt. Everest Court</td>\n",
       "      <td>NaN</td>\n",
       "      <td>Vancouver</td>\n",
       "      <td>British Columbia</td>\n",
       "      <td>Canada</td>\n",
       "      <td>V7L 4J4</td>\n",
       "      <td>791-555-0118</td>\n",
       "      <td>1995-06-15</td>\n",
       "      <td>High School</td>\n",
       "      <td>Clerical</td>\n",
       "      <td>F</td>\n",
       "      <td>S</td>\n",
       "      <td>0</td>\n",
       "      <td>0</td>\n",
       "      <td>0</td>\n",
       "      <td>0</td>\n",
       "      <td>87177</td>\n",
       "      <td>2017-03-06</td>\n",
       "      <td>NaN</td>\n",
       "      <td>NaN</td>\n",
       "    </tr>\n",
       "    <tr>\n",
       "      <th>18360</th>\n",
       "      <td>NaN</td>\n",
       "      <td>Amanda</td>\n",
       "      <td>NaN</td>\n",
       "      <td>Perry</td>\n",
       "      <td>NaN</td>\n",
       "      <td>7870 Orangewood Dr.</td>\n",
       "      <td>NaN</td>\n",
       "      <td>Grossmont</td>\n",
       "      <td>California</td>\n",
       "      <td>United States</td>\n",
       "      <td>91941</td>\n",
       "      <td>553-555-0122</td>\n",
       "      <td>1986-03-26</td>\n",
       "      <td>Graduate Degree</td>\n",
       "      <td>Professional</td>\n",
       "      <td>F</td>\n",
       "      <td>M</td>\n",
       "      <td>1</td>\n",
       "      <td>2</td>\n",
       "      <td>0</td>\n",
       "      <td>0</td>\n",
       "      <td>136856</td>\n",
       "      <td>2017-03-06</td>\n",
       "      <td>NaN</td>\n",
       "      <td>NaN</td>\n",
       "    </tr>\n",
       "  </tbody>\n",
       "</table>\n",
       "</div>"
      ],
      "text/plain": [
       "      Title FirstName MiddleName LastName Suffix            AddressLine1  \\\n",
       "18356   NaN     Grace          C   Bailey    NaN      6627 Camelback Ct.   \n",
       "18357   NaN     Tasha        NaN     Deng    NaN         9627 Kendall Rd   \n",
       "18358   NaN    Jaclyn        NaN    Zhang    NaN       4364 Viera Avenue   \n",
       "18359   NaN      Erin          I     Reed    NaN  3866 Mt. Everest Court   \n",
       "18360   NaN    Amanda        NaN    Perry    NaN     7870 Orangewood Dr.   \n",
       "\n",
       "      AddressLine2            City StateProvinceName CountryRegionName  \\\n",
       "18356          NaN        Coronado        California     United States   \n",
       "18357          NaN  Port Macquarie   New South Wales         Australia   \n",
       "18358          NaN       Beaverton            Oregon     United States   \n",
       "18359          NaN       Vancouver  British Columbia            Canada   \n",
       "18360          NaN       Grossmont        California     United States   \n",
       "\n",
       "      PostalCode          PhoneNumber   BirthDate        Education  \\\n",
       "18356      92118         292-555-0130  1990-11-11  Graduate Degree   \n",
       "18357       2444  1 (11) 500 555-0171  1992-10-13        Bachelors   \n",
       "18358      97005         819-555-0110  1983-11-24  Partial College   \n",
       "18359    V7L 4J4         791-555-0118  1995-06-15      High School   \n",
       "18360      91941         553-555-0122  1986-03-26  Graduate Degree   \n",
       "\n",
       "           Occupation Gender MaritalStatus  HomeOwnerFlag  NumberCarsOwned  \\\n",
       "18356  Skilled Manual      F             M              0                1   \n",
       "18357  Skilled Manual      F             S              0                2   \n",
       "18358  Skilled Manual      F             S              0                2   \n",
       "18359        Clerical      F             S              0                0   \n",
       "18360    Professional      F             M              1                2   \n",
       "\n",
       "       NumberChildrenAtHome  TotalChildren  YearlyIncome LastUpdated  \\\n",
       "18356                     0              2         52953  2017-03-06   \n",
       "18357                     0              0         60992  2017-03-06   \n",
       "18358                     0              0         51859  2017-03-06   \n",
       "18359                     0              0         87177  2017-03-06   \n",
       "18360                     0              0        136856  2017-03-06   \n",
       "\n",
       "       BikeBuyer  AvgMonthSpend  \n",
       "18356        NaN            NaN  \n",
       "18357        NaN            NaN  \n",
       "18358        NaN            NaN  \n",
       "18359        NaN            NaN  \n",
       "18360        NaN            NaN  "
      ]
     },
     "execution_count": 10,
     "metadata": {},
     "output_type": "execute_result"
    }
   ],
   "source": [
    "df.tail()"
   ]
  },
  {
   "cell_type": "code",
   "execution_count": 11,
   "id": "3fe6db7f",
   "metadata": {
    "execution": {
     "iopub.execute_input": "2022-08-16T13:11:34.129854Z",
     "iopub.status.busy": "2022-08-16T13:11:34.129093Z",
     "iopub.status.idle": "2022-08-16T13:11:34.138839Z",
     "shell.execute_reply": "2022-08-16T13:11:34.138097Z"
    },
    "papermill": {
     "duration": 0.02819,
     "end_time": "2022-08-16T13:11:34.141170",
     "exception": false,
     "start_time": "2022-08-16T13:11:34.112980",
     "status": "completed"
    },
    "tags": []
   },
   "outputs": [],
   "source": [
    "df.drop(['Title','FirstName','MiddleName','LastName','Suffix','AddressLine2'],axis=1,inplace=True)"
   ]
  },
  {
   "cell_type": "code",
   "execution_count": 12,
   "id": "2f8e5f03",
   "metadata": {
    "execution": {
     "iopub.execute_input": "2022-08-16T13:11:34.172893Z",
     "iopub.status.busy": "2022-08-16T13:11:34.172157Z",
     "iopub.status.idle": "2022-08-16T13:11:34.183835Z",
     "shell.execute_reply": "2022-08-16T13:11:34.183074Z"
    },
    "papermill": {
     "duration": 0.030554,
     "end_time": "2022-08-16T13:11:34.186236",
     "exception": false,
     "start_time": "2022-08-16T13:11:34.155682",
     "status": "completed"
    },
    "tags": []
   },
   "outputs": [],
   "source": [
    "df.drop(['PhoneNumber'],axis=1,inplace=True)"
   ]
  },
  {
   "cell_type": "code",
   "execution_count": 13,
   "id": "c30ff71f",
   "metadata": {
    "execution": {
     "iopub.execute_input": "2022-08-16T13:11:34.217315Z",
     "iopub.status.busy": "2022-08-16T13:11:34.216885Z",
     "iopub.status.idle": "2022-08-16T13:11:34.225494Z",
     "shell.execute_reply": "2022-08-16T13:11:34.224658Z"
    },
    "papermill": {
     "duration": 0.027106,
     "end_time": "2022-08-16T13:11:34.227852",
     "exception": false,
     "start_time": "2022-08-16T13:11:34.200746",
     "status": "completed"
    },
    "tags": []
   },
   "outputs": [],
   "source": [
    "df.drop(['PostalCode'],axis=1,inplace=True)"
   ]
  },
  {
   "cell_type": "code",
   "execution_count": 14,
   "id": "698ef575",
   "metadata": {
    "execution": {
     "iopub.execute_input": "2022-08-16T13:11:34.260164Z",
     "iopub.status.busy": "2022-08-16T13:11:34.259349Z",
     "iopub.status.idle": "2022-08-16T13:11:34.266524Z",
     "shell.execute_reply": "2022-08-16T13:11:34.265500Z"
    },
    "papermill": {
     "duration": 0.025527,
     "end_time": "2022-08-16T13:11:34.268832",
     "exception": false,
     "start_time": "2022-08-16T13:11:34.243305",
     "status": "completed"
    },
    "tags": []
   },
   "outputs": [
    {
     "data": {
      "text/plain": [
       "(17,)"
      ]
     },
     "execution_count": 14,
     "metadata": {},
     "output_type": "execute_result"
    }
   ],
   "source": [
    "df.columns.shape"
   ]
  },
  {
   "cell_type": "code",
   "execution_count": 15,
   "id": "17dee190",
   "metadata": {
    "execution": {
     "iopub.execute_input": "2022-08-16T13:11:34.300598Z",
     "iopub.status.busy": "2022-08-16T13:11:34.299779Z",
     "iopub.status.idle": "2022-08-16T13:11:34.339563Z",
     "shell.execute_reply": "2022-08-16T13:11:34.338009Z"
    },
    "papermill": {
     "duration": 0.058839,
     "end_time": "2022-08-16T13:11:34.342431",
     "exception": false,
     "start_time": "2022-08-16T13:11:34.283592",
     "status": "completed"
    },
    "tags": []
   },
   "outputs": [
    {
     "data": {
      "text/html": [
       "<div>\n",
       "<style scoped>\n",
       "    .dataframe tbody tr th:only-of-type {\n",
       "        vertical-align: middle;\n",
       "    }\n",
       "\n",
       "    .dataframe tbody tr th {\n",
       "        vertical-align: top;\n",
       "    }\n",
       "\n",
       "    .dataframe thead th {\n",
       "        text-align: right;\n",
       "    }\n",
       "</style>\n",
       "<table border=\"1\" class=\"dataframe\">\n",
       "  <thead>\n",
       "    <tr style=\"text-align: right;\">\n",
       "      <th></th>\n",
       "      <th>HomeOwnerFlag</th>\n",
       "      <th>NumberCarsOwned</th>\n",
       "      <th>NumberChildrenAtHome</th>\n",
       "      <th>TotalChildren</th>\n",
       "      <th>YearlyIncome</th>\n",
       "      <th>BikeBuyer</th>\n",
       "      <th>AvgMonthSpend</th>\n",
       "    </tr>\n",
       "  </thead>\n",
       "  <tbody>\n",
       "    <tr>\n",
       "      <th>count</th>\n",
       "      <td>18361.000000</td>\n",
       "      <td>18361.000000</td>\n",
       "      <td>18361.000000</td>\n",
       "      <td>18361.000000</td>\n",
       "      <td>18361.000000</td>\n",
       "      <td>18355.00000</td>\n",
       "      <td>18355.000000</td>\n",
       "    </tr>\n",
       "    <tr>\n",
       "      <th>mean</th>\n",
       "      <td>0.610588</td>\n",
       "      <td>1.270301</td>\n",
       "      <td>0.338162</td>\n",
       "      <td>0.850389</td>\n",
       "      <td>72754.779642</td>\n",
       "      <td>0.55173</td>\n",
       "      <td>51.767207</td>\n",
       "    </tr>\n",
       "    <tr>\n",
       "      <th>std</th>\n",
       "      <td>0.487630</td>\n",
       "      <td>0.913989</td>\n",
       "      <td>0.568957</td>\n",
       "      <td>0.927315</td>\n",
       "      <td>30686.014313</td>\n",
       "      <td>0.49733</td>\n",
       "      <td>3.438024</td>\n",
       "    </tr>\n",
       "    <tr>\n",
       "      <th>min</th>\n",
       "      <td>0.000000</td>\n",
       "      <td>0.000000</td>\n",
       "      <td>0.000000</td>\n",
       "      <td>0.000000</td>\n",
       "      <td>25435.000000</td>\n",
       "      <td>0.00000</td>\n",
       "      <td>44.100000</td>\n",
       "    </tr>\n",
       "    <tr>\n",
       "      <th>25%</th>\n",
       "      <td>0.000000</td>\n",
       "      <td>1.000000</td>\n",
       "      <td>0.000000</td>\n",
       "      <td>0.000000</td>\n",
       "      <td>53312.000000</td>\n",
       "      <td>0.00000</td>\n",
       "      <td>49.410000</td>\n",
       "    </tr>\n",
       "    <tr>\n",
       "      <th>50%</th>\n",
       "      <td>1.000000</td>\n",
       "      <td>1.000000</td>\n",
       "      <td>0.000000</td>\n",
       "      <td>0.000000</td>\n",
       "      <td>61851.000000</td>\n",
       "      <td>1.00000</td>\n",
       "      <td>51.420000</td>\n",
       "    </tr>\n",
       "    <tr>\n",
       "      <th>75%</th>\n",
       "      <td>1.000000</td>\n",
       "      <td>2.000000</td>\n",
       "      <td>1.000000</td>\n",
       "      <td>2.000000</td>\n",
       "      <td>87410.000000</td>\n",
       "      <td>1.00000</td>\n",
       "      <td>53.600000</td>\n",
       "    </tr>\n",
       "    <tr>\n",
       "      <th>max</th>\n",
       "      <td>1.000000</td>\n",
       "      <td>5.000000</td>\n",
       "      <td>3.000000</td>\n",
       "      <td>3.000000</td>\n",
       "      <td>139115.000000</td>\n",
       "      <td>1.00000</td>\n",
       "      <td>65.290000</td>\n",
       "    </tr>\n",
       "  </tbody>\n",
       "</table>\n",
       "</div>"
      ],
      "text/plain": [
       "       HomeOwnerFlag  NumberCarsOwned  NumberChildrenAtHome  TotalChildren  \\\n",
       "count   18361.000000     18361.000000          18361.000000   18361.000000   \n",
       "mean        0.610588         1.270301              0.338162       0.850389   \n",
       "std         0.487630         0.913989              0.568957       0.927315   \n",
       "min         0.000000         0.000000              0.000000       0.000000   \n",
       "25%         0.000000         1.000000              0.000000       0.000000   \n",
       "50%         1.000000         1.000000              0.000000       0.000000   \n",
       "75%         1.000000         2.000000              1.000000       2.000000   \n",
       "max         1.000000         5.000000              3.000000       3.000000   \n",
       "\n",
       "        YearlyIncome    BikeBuyer  AvgMonthSpend  \n",
       "count   18361.000000  18355.00000   18355.000000  \n",
       "mean    72754.779642      0.55173      51.767207  \n",
       "std     30686.014313      0.49733       3.438024  \n",
       "min     25435.000000      0.00000      44.100000  \n",
       "25%     53312.000000      0.00000      49.410000  \n",
       "50%     61851.000000      1.00000      51.420000  \n",
       "75%     87410.000000      1.00000      53.600000  \n",
       "max    139115.000000      1.00000      65.290000  "
      ]
     },
     "execution_count": 15,
     "metadata": {},
     "output_type": "execute_result"
    }
   ],
   "source": [
    "df.describe()"
   ]
  },
  {
   "cell_type": "code",
   "execution_count": 16,
   "id": "1bf4d43b",
   "metadata": {
    "execution": {
     "iopub.execute_input": "2022-08-16T13:11:34.374872Z",
     "iopub.status.busy": "2022-08-16T13:11:34.374409Z",
     "iopub.status.idle": "2022-08-16T13:11:34.402078Z",
     "shell.execute_reply": "2022-08-16T13:11:34.400724Z"
    },
    "papermill": {
     "duration": 0.046601,
     "end_time": "2022-08-16T13:11:34.404440",
     "exception": false,
     "start_time": "2022-08-16T13:11:34.357839",
     "status": "completed"
    },
    "tags": []
   },
   "outputs": [
    {
     "name": "stdout",
     "output_type": "stream",
     "text": [
      "<class 'pandas.core.frame.DataFrame'>\n",
      "RangeIndex: 18361 entries, 0 to 18360\n",
      "Data columns (total 17 columns):\n",
      " #   Column                Non-Null Count  Dtype  \n",
      "---  ------                --------------  -----  \n",
      " 0   AddressLine1          18361 non-null  object \n",
      " 1   City                  18361 non-null  object \n",
      " 2   StateProvinceName     18361 non-null  object \n",
      " 3   CountryRegionName     18361 non-null  object \n",
      " 4   BirthDate             18361 non-null  object \n",
      " 5   Education             18361 non-null  object \n",
      " 6   Occupation            18361 non-null  object \n",
      " 7   Gender                18361 non-null  object \n",
      " 8   MaritalStatus         18361 non-null  object \n",
      " 9   HomeOwnerFlag         18361 non-null  int64  \n",
      " 10  NumberCarsOwned       18361 non-null  int64  \n",
      " 11  NumberChildrenAtHome  18361 non-null  int64  \n",
      " 12  TotalChildren         18361 non-null  int64  \n",
      " 13  YearlyIncome          18361 non-null  int64  \n",
      " 14  LastUpdated           18361 non-null  object \n",
      " 15  BikeBuyer             18355 non-null  float64\n",
      " 16  AvgMonthSpend         18355 non-null  float64\n",
      "dtypes: float64(2), int64(5), object(10)\n",
      "memory usage: 2.4+ MB\n"
     ]
    }
   ],
   "source": [
    "df.info()"
   ]
  },
  {
   "cell_type": "code",
   "execution_count": 17,
   "id": "27ca58aa",
   "metadata": {
    "execution": {
     "iopub.execute_input": "2022-08-16T13:11:34.437326Z",
     "iopub.status.busy": "2022-08-16T13:11:34.436273Z",
     "iopub.status.idle": "2022-08-16T13:11:34.449370Z",
     "shell.execute_reply": "2022-08-16T13:11:34.448154Z"
    },
    "papermill": {
     "duration": 0.032117,
     "end_time": "2022-08-16T13:11:34.451822",
     "exception": false,
     "start_time": "2022-08-16T13:11:34.419705",
     "status": "completed"
    },
    "tags": []
   },
   "outputs": [],
   "source": [
    "df.BirthDate=pd.to_datetime(df.BirthDate)\n"
   ]
  },
  {
   "cell_type": "code",
   "execution_count": 18,
   "id": "4b5b0e61",
   "metadata": {
    "execution": {
     "iopub.execute_input": "2022-08-16T13:11:34.484646Z",
     "iopub.status.busy": "2022-08-16T13:11:34.483900Z",
     "iopub.status.idle": "2022-08-16T13:11:34.491928Z",
     "shell.execute_reply": "2022-08-16T13:11:34.491151Z"
    },
    "papermill": {
     "duration": 0.026886,
     "end_time": "2022-08-16T13:11:34.494006",
     "exception": false,
     "start_time": "2022-08-16T13:11:34.467120",
     "status": "completed"
    },
    "tags": []
   },
   "outputs": [
    {
     "data": {
      "text/plain": [
       "0       1987-11-13\n",
       "1       1972-07-21\n",
       "2       1985-11-09\n",
       "3       1977-10-18\n",
       "4       1975-02-05\n",
       "           ...    \n",
       "18356   1990-11-11\n",
       "18357   1992-10-13\n",
       "18358   1983-11-24\n",
       "18359   1995-06-15\n",
       "18360   1986-03-26\n",
       "Name: BirthDate, Length: 18361, dtype: datetime64[ns]"
      ]
     },
     "execution_count": 18,
     "metadata": {},
     "output_type": "execute_result"
    }
   ],
   "source": [
    "df.BirthDate"
   ]
  },
  {
   "cell_type": "code",
   "execution_count": 19,
   "id": "407a93c7",
   "metadata": {
    "execution": {
     "iopub.execute_input": "2022-08-16T13:11:34.527231Z",
     "iopub.status.busy": "2022-08-16T13:11:34.526502Z",
     "iopub.status.idle": "2022-08-16T13:11:34.536888Z",
     "shell.execute_reply": "2022-08-16T13:11:34.535620Z"
    },
    "papermill": {
     "duration": 0.029962,
     "end_time": "2022-08-16T13:11:34.539405",
     "exception": false,
     "start_time": "2022-08-16T13:11:34.509443",
     "status": "completed"
    },
    "tags": []
   },
   "outputs": [],
   "source": [
    "df.LastUpdated=pd.to_datetime(df.LastUpdated)"
   ]
  },
  {
   "cell_type": "code",
   "execution_count": 20,
   "id": "8504a30d",
   "metadata": {
    "execution": {
     "iopub.execute_input": "2022-08-16T13:11:34.571695Z",
     "iopub.status.busy": "2022-08-16T13:11:34.571292Z",
     "iopub.status.idle": "2022-08-16T13:11:34.594051Z",
     "shell.execute_reply": "2022-08-16T13:11:34.592741Z"
    },
    "papermill": {
     "duration": 0.041344,
     "end_time": "2022-08-16T13:11:34.596141",
     "exception": false,
     "start_time": "2022-08-16T13:11:34.554797",
     "status": "completed"
    },
    "tags": []
   },
   "outputs": [
    {
     "name": "stdout",
     "output_type": "stream",
     "text": [
      "<class 'pandas.core.frame.DataFrame'>\n",
      "RangeIndex: 18361 entries, 0 to 18360\n",
      "Data columns (total 17 columns):\n",
      " #   Column                Non-Null Count  Dtype         \n",
      "---  ------                --------------  -----         \n",
      " 0   AddressLine1          18361 non-null  object        \n",
      " 1   City                  18361 non-null  object        \n",
      " 2   StateProvinceName     18361 non-null  object        \n",
      " 3   CountryRegionName     18361 non-null  object        \n",
      " 4   BirthDate             18361 non-null  datetime64[ns]\n",
      " 5   Education             18361 non-null  object        \n",
      " 6   Occupation            18361 non-null  object        \n",
      " 7   Gender                18361 non-null  object        \n",
      " 8   MaritalStatus         18361 non-null  object        \n",
      " 9   HomeOwnerFlag         18361 non-null  int64         \n",
      " 10  NumberCarsOwned       18361 non-null  int64         \n",
      " 11  NumberChildrenAtHome  18361 non-null  int64         \n",
      " 12  TotalChildren         18361 non-null  int64         \n",
      " 13  YearlyIncome          18361 non-null  int64         \n",
      " 14  LastUpdated           18361 non-null  datetime64[ns]\n",
      " 15  BikeBuyer             18355 non-null  float64       \n",
      " 16  AvgMonthSpend         18355 non-null  float64       \n",
      "dtypes: datetime64[ns](2), float64(2), int64(5), object(8)\n",
      "memory usage: 2.4+ MB\n"
     ]
    }
   ],
   "source": [
    "df.info()"
   ]
  },
  {
   "cell_type": "code",
   "execution_count": 21,
   "id": "7d37c8b6",
   "metadata": {
    "execution": {
     "iopub.execute_input": "2022-08-16T13:11:34.629421Z",
     "iopub.status.busy": "2022-08-16T13:11:34.628340Z",
     "iopub.status.idle": "2022-08-16T13:11:34.635363Z",
     "shell.execute_reply": "2022-08-16T13:11:34.634156Z"
    },
    "papermill": {
     "duration": 0.026089,
     "end_time": "2022-08-16T13:11:34.637593",
     "exception": false,
     "start_time": "2022-08-16T13:11:34.611504",
     "status": "completed"
    },
    "tags": []
   },
   "outputs": [],
   "source": [
    "var_cat=[]\n",
    "var_num=[]\n",
    "for c in df.columns:\n",
    "    if df[c].dtype=='object':\n",
    "        var_cat.append(c)\n",
    "    if (df[c].dtype=='int64'or df[c].dtype=='float64'):\n",
    "         var_num.append(c)\n",
    "            \n",
    "        \n",
    " \n",
    "    "
   ]
  },
  {
   "cell_type": "code",
   "execution_count": 22,
   "id": "784d711b",
   "metadata": {
    "execution": {
     "iopub.execute_input": "2022-08-16T13:11:34.670318Z",
     "iopub.status.busy": "2022-08-16T13:11:34.669637Z",
     "iopub.status.idle": "2022-08-16T13:11:34.675476Z",
     "shell.execute_reply": "2022-08-16T13:11:34.674088Z"
    },
    "papermill": {
     "duration": 0.025026,
     "end_time": "2022-08-16T13:11:34.677865",
     "exception": false,
     "start_time": "2022-08-16T13:11:34.652839",
     "status": "completed"
    },
    "tags": []
   },
   "outputs": [
    {
     "name": "stdout",
     "output_type": "stream",
     "text": [
      "Categorical Variables:  ['AddressLine1', 'City', 'StateProvinceName', 'CountryRegionName', 'Education', 'Occupation', 'Gender', 'MaritalStatus']\n"
     ]
    }
   ],
   "source": [
    "print(\"Categorical Variables: \",var_cat)\n"
   ]
  },
  {
   "cell_type": "code",
   "execution_count": 23,
   "id": "b5a48151",
   "metadata": {
    "execution": {
     "iopub.execute_input": "2022-08-16T13:11:34.711223Z",
     "iopub.status.busy": "2022-08-16T13:11:34.710584Z",
     "iopub.status.idle": "2022-08-16T13:11:34.730769Z",
     "shell.execute_reply": "2022-08-16T13:11:34.729591Z"
    },
    "papermill": {
     "duration": 0.03991,
     "end_time": "2022-08-16T13:11:34.733442",
     "exception": false,
     "start_time": "2022-08-16T13:11:34.693532",
     "status": "completed"
    },
    "tags": []
   },
   "outputs": [],
   "source": [
    "cat_ordinal=[]\n",
    "cat_nominal=[]\n",
    "for c in var_cat:\n",
    "    if (df[c].nunique()) >5:\n",
    "        cat_nominal.append(c)\n",
    "    else:\n",
    "        cat_ordinal.append(c)\n"
   ]
  },
  {
   "cell_type": "code",
   "execution_count": 24,
   "id": "80ac6e56",
   "metadata": {
    "execution": {
     "iopub.execute_input": "2022-08-16T13:11:34.766426Z",
     "iopub.status.busy": "2022-08-16T13:11:34.765740Z",
     "iopub.status.idle": "2022-08-16T13:11:34.772907Z",
     "shell.execute_reply": "2022-08-16T13:11:34.771757Z"
    },
    "papermill": {
     "duration": 0.026088,
     "end_time": "2022-08-16T13:11:34.775149",
     "exception": false,
     "start_time": "2022-08-16T13:11:34.749061",
     "status": "completed"
    },
    "tags": []
   },
   "outputs": [
    {
     "data": {
      "text/plain": [
       "['AddressLine1', 'City', 'StateProvinceName', 'CountryRegionName']"
      ]
     },
     "execution_count": 24,
     "metadata": {},
     "output_type": "execute_result"
    }
   ],
   "source": [
    "cat_nominal\n"
   ]
  },
  {
   "cell_type": "code",
   "execution_count": 25,
   "id": "9764f29e",
   "metadata": {
    "execution": {
     "iopub.execute_input": "2022-08-16T13:11:34.808436Z",
     "iopub.status.busy": "2022-08-16T13:11:34.808003Z",
     "iopub.status.idle": "2022-08-16T13:11:34.814659Z",
     "shell.execute_reply": "2022-08-16T13:11:34.813520Z"
    },
    "papermill": {
     "duration": 0.025943,
     "end_time": "2022-08-16T13:11:34.816962",
     "exception": false,
     "start_time": "2022-08-16T13:11:34.791019",
     "status": "completed"
    },
    "tags": []
   },
   "outputs": [
    {
     "data": {
      "text/plain": [
       "['Education', 'Occupation', 'Gender', 'MaritalStatus']"
      ]
     },
     "execution_count": 25,
     "metadata": {},
     "output_type": "execute_result"
    }
   ],
   "source": [
    "cat_ordinal"
   ]
  },
  {
   "cell_type": "markdown",
   "id": "fbdcce3e",
   "metadata": {
    "papermill": {
     "duration": 0.015406,
     "end_time": "2022-08-16T13:11:34.848116",
     "exception": false,
     "start_time": "2022-08-16T13:11:34.832710",
     "status": "completed"
    },
    "tags": []
   },
   "source": [
    "Education is truly ordinal, Occupation should be in nominal and Gender,MaritalStatus can be OHE"
   ]
  },
  {
   "cell_type": "code",
   "execution_count": 26,
   "id": "cc5f3a4f",
   "metadata": {
    "execution": {
     "iopub.execute_input": "2022-08-16T13:11:34.880863Z",
     "iopub.status.busy": "2022-08-16T13:11:34.880454Z",
     "iopub.status.idle": "2022-08-16T13:11:34.890273Z",
     "shell.execute_reply": "2022-08-16T13:11:34.889100Z"
    },
    "papermill": {
     "duration": 0.029032,
     "end_time": "2022-08-16T13:11:34.892755",
     "exception": false,
     "start_time": "2022-08-16T13:11:34.863723",
     "status": "completed"
    },
    "tags": []
   },
   "outputs": [],
   "source": [
    "num_discrete=[]\n",
    "num_continuous=[]\n",
    "for c in var_num:\n",
    "    if (df[c].nunique()) >10:\n",
    "        num_continuous.append(c)\n",
    "    else:\n",
    "        num_discrete.append(c)"
   ]
  },
  {
   "cell_type": "code",
   "execution_count": 27,
   "id": "a825b9fd",
   "metadata": {
    "execution": {
     "iopub.execute_input": "2022-08-16T13:11:34.926654Z",
     "iopub.status.busy": "2022-08-16T13:11:34.925820Z",
     "iopub.status.idle": "2022-08-16T13:11:34.932184Z",
     "shell.execute_reply": "2022-08-16T13:11:34.931405Z"
    },
    "papermill": {
     "duration": 0.0257,
     "end_time": "2022-08-16T13:11:34.934235",
     "exception": false,
     "start_time": "2022-08-16T13:11:34.908535",
     "status": "completed"
    },
    "tags": []
   },
   "outputs": [
    {
     "data": {
      "text/plain": [
       "['HomeOwnerFlag',\n",
       " 'NumberCarsOwned',\n",
       " 'NumberChildrenAtHome',\n",
       " 'TotalChildren',\n",
       " 'BikeBuyer']"
      ]
     },
     "execution_count": 27,
     "metadata": {},
     "output_type": "execute_result"
    }
   ],
   "source": [
    "num_discrete"
   ]
  },
  {
   "cell_type": "code",
   "execution_count": 28,
   "id": "b55413e4",
   "metadata": {
    "execution": {
     "iopub.execute_input": "2022-08-16T13:11:34.967501Z",
     "iopub.status.busy": "2022-08-16T13:11:34.967142Z",
     "iopub.status.idle": "2022-08-16T13:11:34.974087Z",
     "shell.execute_reply": "2022-08-16T13:11:34.972994Z"
    },
    "papermill": {
     "duration": 0.026123,
     "end_time": "2022-08-16T13:11:34.976189",
     "exception": false,
     "start_time": "2022-08-16T13:11:34.950066",
     "status": "completed"
    },
    "tags": []
   },
   "outputs": [
    {
     "data": {
      "text/plain": [
       "['YearlyIncome', 'AvgMonthSpend']"
      ]
     },
     "execution_count": 28,
     "metadata": {},
     "output_type": "execute_result"
    }
   ],
   "source": [
    "num_continuous\n"
   ]
  },
  {
   "cell_type": "code",
   "execution_count": 29,
   "id": "d71015b1",
   "metadata": {
    "execution": {
     "iopub.execute_input": "2022-08-16T13:11:35.014007Z",
     "iopub.status.busy": "2022-08-16T13:11:35.013362Z",
     "iopub.status.idle": "2022-08-16T13:11:35.039725Z",
     "shell.execute_reply": "2022-08-16T13:11:35.038292Z"
    },
    "papermill": {
     "duration": 0.051015,
     "end_time": "2022-08-16T13:11:35.044079",
     "exception": false,
     "start_time": "2022-08-16T13:11:34.993064",
     "status": "completed"
    },
    "tags": []
   },
   "outputs": [
    {
     "name": "stdout",
     "output_type": "stream",
     "text": [
      "<class 'pandas.core.frame.DataFrame'>\n",
      "RangeIndex: 18361 entries, 0 to 18360\n",
      "Data columns (total 17 columns):\n",
      " #   Column                Non-Null Count  Dtype         \n",
      "---  ------                --------------  -----         \n",
      " 0   AddressLine1          18361 non-null  object        \n",
      " 1   City                  18361 non-null  object        \n",
      " 2   StateProvinceName     18361 non-null  object        \n",
      " 3   CountryRegionName     18361 non-null  object        \n",
      " 4   BirthDate             18361 non-null  datetime64[ns]\n",
      " 5   Education             18361 non-null  object        \n",
      " 6   Occupation            18361 non-null  object        \n",
      " 7   Gender                18361 non-null  object        \n",
      " 8   MaritalStatus         18361 non-null  object        \n",
      " 9   HomeOwnerFlag         18361 non-null  int64         \n",
      " 10  NumberCarsOwned       18361 non-null  int64         \n",
      " 11  NumberChildrenAtHome  18361 non-null  int64         \n",
      " 12  TotalChildren         18361 non-null  int64         \n",
      " 13  YearlyIncome          18361 non-null  int64         \n",
      " 14  LastUpdated           18361 non-null  datetime64[ns]\n",
      " 15  BikeBuyer             18355 non-null  float64       \n",
      " 16  AvgMonthSpend         18355 non-null  float64       \n",
      "dtypes: datetime64[ns](2), float64(2), int64(5), object(8)\n",
      "memory usage: 2.4+ MB\n"
     ]
    }
   ],
   "source": [
    "df.info()"
   ]
  },
  {
   "cell_type": "markdown",
   "id": "1a2765f5",
   "metadata": {
    "papermill": {
     "duration": 0.019196,
     "end_time": "2022-08-16T13:11:35.083499",
     "exception": false,
     "start_time": "2022-08-16T13:11:35.064303",
     "status": "completed"
    },
    "tags": []
   },
   "source": [
    "BirthDate and Last Updated are datetime features"
   ]
  },
  {
   "cell_type": "code",
   "execution_count": 30,
   "id": "f7643d9f",
   "metadata": {
    "execution": {
     "iopub.execute_input": "2022-08-16T13:11:35.120472Z",
     "iopub.status.busy": "2022-08-16T13:11:35.119186Z",
     "iopub.status.idle": "2022-08-16T13:11:35.125791Z",
     "shell.execute_reply": "2022-08-16T13:11:35.125064Z"
    },
    "papermill": {
     "duration": 0.0257,
     "end_time": "2022-08-16T13:11:35.127693",
     "exception": false,
     "start_time": "2022-08-16T13:11:35.101993",
     "status": "completed"
    },
    "tags": []
   },
   "outputs": [
    {
     "data": {
      "text/plain": [
       "(18361, 17)"
      ]
     },
     "execution_count": 30,
     "metadata": {},
     "output_type": "execute_result"
    }
   ],
   "source": [
    "df.shape"
   ]
  },
  {
   "cell_type": "code",
   "execution_count": 31,
   "id": "50d3ad86",
   "metadata": {
    "execution": {
     "iopub.execute_input": "2022-08-16T13:11:35.161371Z",
     "iopub.status.busy": "2022-08-16T13:11:35.160994Z",
     "iopub.status.idle": "2022-08-16T13:11:35.176914Z",
     "shell.execute_reply": "2022-08-16T13:11:35.175789Z"
    },
    "papermill": {
     "duration": 0.035662,
     "end_time": "2022-08-16T13:11:35.179338",
     "exception": false,
     "start_time": "2022-08-16T13:11:35.143676",
     "status": "completed"
    },
    "tags": []
   },
   "outputs": [
    {
     "data": {
      "text/plain": [
       "AddressLine1            0\n",
       "City                    0\n",
       "StateProvinceName       0\n",
       "CountryRegionName       0\n",
       "BirthDate               0\n",
       "Education               0\n",
       "Occupation              0\n",
       "Gender                  0\n",
       "MaritalStatus           0\n",
       "HomeOwnerFlag           0\n",
       "NumberCarsOwned         0\n",
       "NumberChildrenAtHome    0\n",
       "TotalChildren           0\n",
       "YearlyIncome            0\n",
       "LastUpdated             0\n",
       "BikeBuyer               6\n",
       "AvgMonthSpend           6\n",
       "dtype: int64"
      ]
     },
     "execution_count": 31,
     "metadata": {},
     "output_type": "execute_result"
    }
   ],
   "source": [
    "df.isnull().sum()"
   ]
  },
  {
   "cell_type": "code",
   "execution_count": 32,
   "id": "8bb8d835",
   "metadata": {
    "execution": {
     "iopub.execute_input": "2022-08-16T13:11:35.213697Z",
     "iopub.status.busy": "2022-08-16T13:11:35.213267Z",
     "iopub.status.idle": "2022-08-16T13:11:35.236764Z",
     "shell.execute_reply": "2022-08-16T13:11:35.235610Z"
    },
    "papermill": {
     "duration": 0.043254,
     "end_time": "2022-08-16T13:11:35.239018",
     "exception": false,
     "start_time": "2022-08-16T13:11:35.195764",
     "status": "completed"
    },
    "tags": []
   },
   "outputs": [
    {
     "data": {
      "text/html": [
       "<div>\n",
       "<style scoped>\n",
       "    .dataframe tbody tr th:only-of-type {\n",
       "        vertical-align: middle;\n",
       "    }\n",
       "\n",
       "    .dataframe tbody tr th {\n",
       "        vertical-align: top;\n",
       "    }\n",
       "\n",
       "    .dataframe thead th {\n",
       "        text-align: right;\n",
       "    }\n",
       "</style>\n",
       "<table border=\"1\" class=\"dataframe\">\n",
       "  <thead>\n",
       "    <tr style=\"text-align: right;\">\n",
       "      <th></th>\n",
       "      <th>AddressLine1</th>\n",
       "      <th>City</th>\n",
       "      <th>StateProvinceName</th>\n",
       "      <th>CountryRegionName</th>\n",
       "      <th>BirthDate</th>\n",
       "      <th>Education</th>\n",
       "      <th>Occupation</th>\n",
       "      <th>Gender</th>\n",
       "      <th>MaritalStatus</th>\n",
       "      <th>HomeOwnerFlag</th>\n",
       "      <th>NumberCarsOwned</th>\n",
       "      <th>NumberChildrenAtHome</th>\n",
       "      <th>TotalChildren</th>\n",
       "      <th>YearlyIncome</th>\n",
       "      <th>LastUpdated</th>\n",
       "      <th>BikeBuyer</th>\n",
       "      <th>AvgMonthSpend</th>\n",
       "    </tr>\n",
       "  </thead>\n",
       "  <tbody>\n",
       "    <tr>\n",
       "      <th>18355</th>\n",
       "      <td>8527 Rock Oak Road</td>\n",
       "      <td>Melton</td>\n",
       "      <td>Victoria</td>\n",
       "      <td>Australia</td>\n",
       "      <td>1967-08-20</td>\n",
       "      <td>High School</td>\n",
       "      <td>Manual</td>\n",
       "      <td>M</td>\n",
       "      <td>M</td>\n",
       "      <td>1</td>\n",
       "      <td>1</td>\n",
       "      <td>1</td>\n",
       "      <td>2</td>\n",
       "      <td>30442</td>\n",
       "      <td>2017-03-06</td>\n",
       "      <td>NaN</td>\n",
       "      <td>NaN</td>\n",
       "    </tr>\n",
       "    <tr>\n",
       "      <th>18356</th>\n",
       "      <td>6627 Camelback Ct.</td>\n",
       "      <td>Coronado</td>\n",
       "      <td>California</td>\n",
       "      <td>United States</td>\n",
       "      <td>1990-11-11</td>\n",
       "      <td>Graduate Degree</td>\n",
       "      <td>Skilled Manual</td>\n",
       "      <td>F</td>\n",
       "      <td>M</td>\n",
       "      <td>0</td>\n",
       "      <td>1</td>\n",
       "      <td>0</td>\n",
       "      <td>2</td>\n",
       "      <td>52953</td>\n",
       "      <td>2017-03-06</td>\n",
       "      <td>NaN</td>\n",
       "      <td>NaN</td>\n",
       "    </tr>\n",
       "    <tr>\n",
       "      <th>18357</th>\n",
       "      <td>9627 Kendall Rd</td>\n",
       "      <td>Port Macquarie</td>\n",
       "      <td>New South Wales</td>\n",
       "      <td>Australia</td>\n",
       "      <td>1992-10-13</td>\n",
       "      <td>Bachelors</td>\n",
       "      <td>Skilled Manual</td>\n",
       "      <td>F</td>\n",
       "      <td>S</td>\n",
       "      <td>0</td>\n",
       "      <td>2</td>\n",
       "      <td>0</td>\n",
       "      <td>0</td>\n",
       "      <td>60992</td>\n",
       "      <td>2017-03-06</td>\n",
       "      <td>NaN</td>\n",
       "      <td>NaN</td>\n",
       "    </tr>\n",
       "    <tr>\n",
       "      <th>18358</th>\n",
       "      <td>4364 Viera Avenue</td>\n",
       "      <td>Beaverton</td>\n",
       "      <td>Oregon</td>\n",
       "      <td>United States</td>\n",
       "      <td>1983-11-24</td>\n",
       "      <td>Partial College</td>\n",
       "      <td>Skilled Manual</td>\n",
       "      <td>F</td>\n",
       "      <td>S</td>\n",
       "      <td>0</td>\n",
       "      <td>2</td>\n",
       "      <td>0</td>\n",
       "      <td>0</td>\n",
       "      <td>51859</td>\n",
       "      <td>2017-03-06</td>\n",
       "      <td>NaN</td>\n",
       "      <td>NaN</td>\n",
       "    </tr>\n",
       "    <tr>\n",
       "      <th>18359</th>\n",
       "      <td>3866 Mt. Everest Court</td>\n",
       "      <td>Vancouver</td>\n",
       "      <td>British Columbia</td>\n",
       "      <td>Canada</td>\n",
       "      <td>1995-06-15</td>\n",
       "      <td>High School</td>\n",
       "      <td>Clerical</td>\n",
       "      <td>F</td>\n",
       "      <td>S</td>\n",
       "      <td>0</td>\n",
       "      <td>0</td>\n",
       "      <td>0</td>\n",
       "      <td>0</td>\n",
       "      <td>87177</td>\n",
       "      <td>2017-03-06</td>\n",
       "      <td>NaN</td>\n",
       "      <td>NaN</td>\n",
       "    </tr>\n",
       "    <tr>\n",
       "      <th>18360</th>\n",
       "      <td>7870 Orangewood Dr.</td>\n",
       "      <td>Grossmont</td>\n",
       "      <td>California</td>\n",
       "      <td>United States</td>\n",
       "      <td>1986-03-26</td>\n",
       "      <td>Graduate Degree</td>\n",
       "      <td>Professional</td>\n",
       "      <td>F</td>\n",
       "      <td>M</td>\n",
       "      <td>1</td>\n",
       "      <td>2</td>\n",
       "      <td>0</td>\n",
       "      <td>0</td>\n",
       "      <td>136856</td>\n",
       "      <td>2017-03-06</td>\n",
       "      <td>NaN</td>\n",
       "      <td>NaN</td>\n",
       "    </tr>\n",
       "  </tbody>\n",
       "</table>\n",
       "</div>"
      ],
      "text/plain": [
       "                 AddressLine1            City StateProvinceName  \\\n",
       "18355      8527 Rock Oak Road          Melton          Victoria   \n",
       "18356      6627 Camelback Ct.        Coronado        California   \n",
       "18357         9627 Kendall Rd  Port Macquarie   New South Wales   \n",
       "18358       4364 Viera Avenue       Beaverton            Oregon   \n",
       "18359  3866 Mt. Everest Court       Vancouver  British Columbia   \n",
       "18360     7870 Orangewood Dr.       Grossmont        California   \n",
       "\n",
       "      CountryRegionName  BirthDate        Education      Occupation Gender  \\\n",
       "18355         Australia 1967-08-20      High School          Manual      M   \n",
       "18356     United States 1990-11-11  Graduate Degree  Skilled Manual      F   \n",
       "18357         Australia 1992-10-13        Bachelors  Skilled Manual      F   \n",
       "18358     United States 1983-11-24  Partial College  Skilled Manual      F   \n",
       "18359            Canada 1995-06-15      High School        Clerical      F   \n",
       "18360     United States 1986-03-26  Graduate Degree    Professional      F   \n",
       "\n",
       "      MaritalStatus  HomeOwnerFlag  NumberCarsOwned  NumberChildrenAtHome  \\\n",
       "18355             M              1                1                     1   \n",
       "18356             M              0                1                     0   \n",
       "18357             S              0                2                     0   \n",
       "18358             S              0                2                     0   \n",
       "18359             S              0                0                     0   \n",
       "18360             M              1                2                     0   \n",
       "\n",
       "       TotalChildren  YearlyIncome LastUpdated  BikeBuyer  AvgMonthSpend  \n",
       "18355              2         30442  2017-03-06        NaN            NaN  \n",
       "18356              2         52953  2017-03-06        NaN            NaN  \n",
       "18357              0         60992  2017-03-06        NaN            NaN  \n",
       "18358              0         51859  2017-03-06        NaN            NaN  \n",
       "18359              0         87177  2017-03-06        NaN            NaN  \n",
       "18360              0        136856  2017-03-06        NaN            NaN  "
      ]
     },
     "execution_count": 32,
     "metadata": {},
     "output_type": "execute_result"
    }
   ],
   "source": [
    "df[df['BikeBuyer'].isnull()]"
   ]
  },
  {
   "cell_type": "code",
   "execution_count": 33,
   "id": "b47a8e3f",
   "metadata": {
    "execution": {
     "iopub.execute_input": "2022-08-16T13:11:35.274263Z",
     "iopub.status.busy": "2022-08-16T13:11:35.273854Z",
     "iopub.status.idle": "2022-08-16T13:11:35.291611Z",
     "shell.execute_reply": "2022-08-16T13:11:35.290530Z"
    },
    "papermill": {
     "duration": 0.038204,
     "end_time": "2022-08-16T13:11:35.293892",
     "exception": false,
     "start_time": "2022-08-16T13:11:35.255688",
     "status": "completed"
    },
    "tags": []
   },
   "outputs": [
    {
     "data": {
      "text/plain": [
       "AddressLine1            0.000000\n",
       "City                    0.000000\n",
       "StateProvinceName       0.000000\n",
       "CountryRegionName       0.000000\n",
       "BirthDate               0.000000\n",
       "Education               0.000000\n",
       "Occupation              0.000000\n",
       "Gender                  0.000000\n",
       "MaritalStatus           0.000000\n",
       "HomeOwnerFlag           0.000000\n",
       "NumberCarsOwned         0.000000\n",
       "NumberChildrenAtHome    0.000000\n",
       "TotalChildren           0.000000\n",
       "YearlyIncome            0.000000\n",
       "LastUpdated             0.000000\n",
       "BikeBuyer               0.032678\n",
       "AvgMonthSpend           0.032678\n",
       "dtype: float64"
      ]
     },
     "execution_count": 33,
     "metadata": {},
     "output_type": "execute_result"
    }
   ],
   "source": [
    "(df.isnull().sum()/df.shape[0])*100"
   ]
  },
  {
   "cell_type": "markdown",
   "id": "bf075275",
   "metadata": {
    "papermill": {
     "duration": 0.016385,
     "end_time": "2022-08-16T13:11:35.326909",
     "exception": false,
     "start_time": "2022-08-16T13:11:35.310524",
     "status": "completed"
    },
    "tags": []
   },
   "source": [
    "As the null values are less than 20%, we can safely remove them.\n"
   ]
  },
  {
   "cell_type": "code",
   "execution_count": 34,
   "id": "f6dd679d",
   "metadata": {
    "execution": {
     "iopub.execute_input": "2022-08-16T13:11:35.361948Z",
     "iopub.status.busy": "2022-08-16T13:11:35.361523Z",
     "iopub.status.idle": "2022-08-16T13:11:35.372601Z",
     "shell.execute_reply": "2022-08-16T13:11:35.371501Z"
    },
    "papermill": {
     "duration": 0.031411,
     "end_time": "2022-08-16T13:11:35.374947",
     "exception": false,
     "start_time": "2022-08-16T13:11:35.343536",
     "status": "completed"
    },
    "tags": []
   },
   "outputs": [],
   "source": [
    "df.drop(index=df[df['BikeBuyer'].isnull()].index,axis=0,inplace=True)"
   ]
  },
  {
   "cell_type": "code",
   "execution_count": 35,
   "id": "f751807b",
   "metadata": {
    "execution": {
     "iopub.execute_input": "2022-08-16T13:11:35.410282Z",
     "iopub.status.busy": "2022-08-16T13:11:35.409542Z",
     "iopub.status.idle": "2022-08-16T13:11:35.426822Z",
     "shell.execute_reply": "2022-08-16T13:11:35.425553Z"
    },
    "papermill": {
     "duration": 0.037551,
     "end_time": "2022-08-16T13:11:35.429207",
     "exception": false,
     "start_time": "2022-08-16T13:11:35.391656",
     "status": "completed"
    },
    "tags": []
   },
   "outputs": [
    {
     "data": {
      "text/plain": [
       "AddressLine1            0\n",
       "City                    0\n",
       "StateProvinceName       0\n",
       "CountryRegionName       0\n",
       "BirthDate               0\n",
       "Education               0\n",
       "Occupation              0\n",
       "Gender                  0\n",
       "MaritalStatus           0\n",
       "HomeOwnerFlag           0\n",
       "NumberCarsOwned         0\n",
       "NumberChildrenAtHome    0\n",
       "TotalChildren           0\n",
       "YearlyIncome            0\n",
       "LastUpdated             0\n",
       "BikeBuyer               0\n",
       "AvgMonthSpend           0\n",
       "dtype: int64"
      ]
     },
     "execution_count": 35,
     "metadata": {},
     "output_type": "execute_result"
    }
   ],
   "source": [
    "df.isnull().sum()"
   ]
  },
  {
   "cell_type": "code",
   "execution_count": 36,
   "id": "58e9ef3e",
   "metadata": {
    "execution": {
     "iopub.execute_input": "2022-08-16T13:11:35.464450Z",
     "iopub.status.busy": "2022-08-16T13:11:35.464001Z",
     "iopub.status.idle": "2022-08-16T13:11:35.469827Z",
     "shell.execute_reply": "2022-08-16T13:11:35.469096Z"
    },
    "papermill": {
     "duration": 0.025692,
     "end_time": "2022-08-16T13:11:35.471829",
     "exception": false,
     "start_time": "2022-08-16T13:11:35.446137",
     "status": "completed"
    },
    "tags": []
   },
   "outputs": [
    {
     "data": {
      "text/plain": [
       "['YearlyIncome', 'AvgMonthSpend']"
      ]
     },
     "execution_count": 36,
     "metadata": {},
     "output_type": "execute_result"
    }
   ],
   "source": [
    "num_continuous"
   ]
  },
  {
   "cell_type": "code",
   "execution_count": 37,
   "id": "d320a10a",
   "metadata": {
    "execution": {
     "iopub.execute_input": "2022-08-16T13:11:35.507019Z",
     "iopub.status.busy": "2022-08-16T13:11:35.506627Z",
     "iopub.status.idle": "2022-08-16T13:11:35.517899Z",
     "shell.execute_reply": "2022-08-16T13:11:35.516824Z"
    },
    "papermill": {
     "duration": 0.031348,
     "end_time": "2022-08-16T13:11:35.519929",
     "exception": false,
     "start_time": "2022-08-16T13:11:35.488581",
     "status": "completed"
    },
    "tags": []
   },
   "outputs": [],
   "source": [
    "# Normalizing by min max scaler\n",
    "scaler=MinMaxScaler()\n",
    "df[['YearlyIncome_normalized','AvgMonthSpend_normalized']]=scaler.fit_transform(df[num_continuous])"
   ]
  },
  {
   "cell_type": "code",
   "execution_count": 38,
   "id": "a9f03b2e",
   "metadata": {
    "execution": {
     "iopub.execute_input": "2022-08-16T13:11:35.555477Z",
     "iopub.status.busy": "2022-08-16T13:11:35.555108Z",
     "iopub.status.idle": "2022-08-16T13:11:35.566780Z",
     "shell.execute_reply": "2022-08-16T13:11:35.565611Z"
    },
    "papermill": {
     "duration": 0.032453,
     "end_time": "2022-08-16T13:11:35.569296",
     "exception": false,
     "start_time": "2022-08-16T13:11:35.536843",
     "status": "completed"
    },
    "tags": []
   },
   "outputs": [],
   "source": [
    "# Normalizing by Z score\n",
    "stdscaler=StandardScaler()\n",
    "\n",
    "df[['YearlyIncome_std','AvgMonthSpend_std']]=stdscaler.fit_transform(df[num_continuous])"
   ]
  },
  {
   "cell_type": "code",
   "execution_count": 39,
   "id": "dab88314",
   "metadata": {
    "execution": {
     "iopub.execute_input": "2022-08-16T13:11:35.604921Z",
     "iopub.status.busy": "2022-08-16T13:11:35.604558Z",
     "iopub.status.idle": "2022-08-16T13:11:35.613083Z",
     "shell.execute_reply": "2022-08-16T13:11:35.612192Z"
    },
    "papermill": {
     "duration": 0.029205,
     "end_time": "2022-08-16T13:11:35.615374",
     "exception": false,
     "start_time": "2022-08-16T13:11:35.586169",
     "status": "completed"
    },
    "tags": []
   },
   "outputs": [],
   "source": [
    "df['Male']=pd.get_dummies(df['Gender'],drop_first=True)"
   ]
  },
  {
   "cell_type": "code",
   "execution_count": 40,
   "id": "ab61c2fd",
   "metadata": {
    "execution": {
     "iopub.execute_input": "2022-08-16T13:11:35.650789Z",
     "iopub.status.busy": "2022-08-16T13:11:35.650425Z",
     "iopub.status.idle": "2022-08-16T13:11:35.658697Z",
     "shell.execute_reply": "2022-08-16T13:11:35.657708Z"
    },
    "papermill": {
     "duration": 0.028897,
     "end_time": "2022-08-16T13:11:35.661075",
     "exception": false,
     "start_time": "2022-08-16T13:11:35.632178",
     "status": "completed"
    },
    "tags": []
   },
   "outputs": [],
   "source": [
    "df['Single']=pd.get_dummies(df['MaritalStatus'],drop_first=True)"
   ]
  },
  {
   "cell_type": "code",
   "execution_count": 41,
   "id": "f18a83ef",
   "metadata": {
    "execution": {
     "iopub.execute_input": "2022-08-16T13:11:35.697254Z",
     "iopub.status.busy": "2022-08-16T13:11:35.696881Z",
     "iopub.status.idle": "2022-08-16T13:11:35.705059Z",
     "shell.execute_reply": "2022-08-16T13:11:35.704255Z"
    },
    "papermill": {
     "duration": 0.028615,
     "end_time": "2022-08-16T13:11:35.707143",
     "exception": false,
     "start_time": "2022-08-16T13:11:35.678528",
     "status": "completed"
    },
    "tags": []
   },
   "outputs": [],
   "source": [
    "df.drop(['Gender','MaritalStatus'],axis=1,inplace=True)"
   ]
  },
  {
   "cell_type": "code",
   "execution_count": 42,
   "id": "47cceccf",
   "metadata": {
    "execution": {
     "iopub.execute_input": "2022-08-16T13:11:35.742856Z",
     "iopub.status.busy": "2022-08-16T13:11:35.742108Z",
     "iopub.status.idle": "2022-08-16T13:11:35.772297Z",
     "shell.execute_reply": "2022-08-16T13:11:35.771103Z"
    },
    "papermill": {
     "duration": 0.050836,
     "end_time": "2022-08-16T13:11:35.774804",
     "exception": false,
     "start_time": "2022-08-16T13:11:35.723968",
     "status": "completed"
    },
    "tags": []
   },
   "outputs": [
    {
     "data": {
      "text/html": [
       "<div>\n",
       "<style scoped>\n",
       "    .dataframe tbody tr th:only-of-type {\n",
       "        vertical-align: middle;\n",
       "    }\n",
       "\n",
       "    .dataframe tbody tr th {\n",
       "        vertical-align: top;\n",
       "    }\n",
       "\n",
       "    .dataframe thead th {\n",
       "        text-align: right;\n",
       "    }\n",
       "</style>\n",
       "<table border=\"1\" class=\"dataframe\">\n",
       "  <thead>\n",
       "    <tr style=\"text-align: right;\">\n",
       "      <th></th>\n",
       "      <th>AddressLine1</th>\n",
       "      <th>City</th>\n",
       "      <th>StateProvinceName</th>\n",
       "      <th>CountryRegionName</th>\n",
       "      <th>BirthDate</th>\n",
       "      <th>Education</th>\n",
       "      <th>Occupation</th>\n",
       "      <th>HomeOwnerFlag</th>\n",
       "      <th>NumberCarsOwned</th>\n",
       "      <th>NumberChildrenAtHome</th>\n",
       "      <th>TotalChildren</th>\n",
       "      <th>YearlyIncome</th>\n",
       "      <th>LastUpdated</th>\n",
       "      <th>BikeBuyer</th>\n",
       "      <th>AvgMonthSpend</th>\n",
       "      <th>YearlyIncome_normalized</th>\n",
       "      <th>AvgMonthSpend_normalized</th>\n",
       "      <th>YearlyIncome_std</th>\n",
       "      <th>AvgMonthSpend_std</th>\n",
       "      <th>Male</th>\n",
       "      <th>Single</th>\n",
       "    </tr>\n",
       "  </thead>\n",
       "  <tbody>\n",
       "    <tr>\n",
       "      <th>0</th>\n",
       "      <td>7090 C. Mount Hood</td>\n",
       "      <td>Wollongong</td>\n",
       "      <td>New South Wales</td>\n",
       "      <td>Australia</td>\n",
       "      <td>1987-11-13</td>\n",
       "      <td>Bachelors</td>\n",
       "      <td>Clerical</td>\n",
       "      <td>1</td>\n",
       "      <td>3</td>\n",
       "      <td>0</td>\n",
       "      <td>1</td>\n",
       "      <td>81916</td>\n",
       "      <td>2017-03-06</td>\n",
       "      <td>1.0</td>\n",
       "      <td>50.97</td>\n",
       "      <td>0.496842</td>\n",
       "      <td>0.324210</td>\n",
       "      <td>0.298539</td>\n",
       "      <td>-0.231886</td>\n",
       "      <td>1</td>\n",
       "      <td>0</td>\n",
       "    </tr>\n",
       "    <tr>\n",
       "      <th>1</th>\n",
       "      <td>3651 Willow Lake Rd</td>\n",
       "      <td>Shawnee</td>\n",
       "      <td>British Columbia</td>\n",
       "      <td>Canada</td>\n",
       "      <td>1972-07-21</td>\n",
       "      <td>Partial College</td>\n",
       "      <td>Clerical</td>\n",
       "      <td>1</td>\n",
       "      <td>2</td>\n",
       "      <td>1</td>\n",
       "      <td>2</td>\n",
       "      <td>81076</td>\n",
       "      <td>2017-03-06</td>\n",
       "      <td>1.0</td>\n",
       "      <td>53.11</td>\n",
       "      <td>0.489453</td>\n",
       "      <td>0.425201</td>\n",
       "      <td>0.271163</td>\n",
       "      <td>0.390582</td>\n",
       "      <td>1</td>\n",
       "      <td>0</td>\n",
       "    </tr>\n",
       "    <tr>\n",
       "      <th>2</th>\n",
       "      <td>1774 Tice Valley Blvd.</td>\n",
       "      <td>West Covina</td>\n",
       "      <td>California</td>\n",
       "      <td>United States</td>\n",
       "      <td>1985-11-09</td>\n",
       "      <td>Bachelors</td>\n",
       "      <td>Clerical</td>\n",
       "      <td>0</td>\n",
       "      <td>3</td>\n",
       "      <td>0</td>\n",
       "      <td>0</td>\n",
       "      <td>86387</td>\n",
       "      <td>2017-03-06</td>\n",
       "      <td>1.0</td>\n",
       "      <td>54.08</td>\n",
       "      <td>0.536172</td>\n",
       "      <td>0.470977</td>\n",
       "      <td>0.444250</td>\n",
       "      <td>0.672728</td>\n",
       "      <td>0</td>\n",
       "      <td>1</td>\n",
       "    </tr>\n",
       "    <tr>\n",
       "      <th>3</th>\n",
       "      <td>2103 Baldwin Dr</td>\n",
       "      <td>Liverpool</td>\n",
       "      <td>England</td>\n",
       "      <td>United Kingdom</td>\n",
       "      <td>1977-10-18</td>\n",
       "      <td>Partial College</td>\n",
       "      <td>Skilled Manual</td>\n",
       "      <td>1</td>\n",
       "      <td>2</td>\n",
       "      <td>1</td>\n",
       "      <td>2</td>\n",
       "      <td>61481</td>\n",
       "      <td>2017-03-06</td>\n",
       "      <td>1.0</td>\n",
       "      <td>56.93</td>\n",
       "      <td>0.317083</td>\n",
       "      <td>0.605474</td>\n",
       "      <td>-0.367445</td>\n",
       "      <td>1.501715</td>\n",
       "      <td>1</td>\n",
       "      <td>0</td>\n",
       "    </tr>\n",
       "    <tr>\n",
       "      <th>4</th>\n",
       "      <td>Am Gallberg 234</td>\n",
       "      <td>Werne</td>\n",
       "      <td>Nordrhein-Westfalen</td>\n",
       "      <td>Germany</td>\n",
       "      <td>1975-02-05</td>\n",
       "      <td>Partial College</td>\n",
       "      <td>Skilled Manual</td>\n",
       "      <td>1</td>\n",
       "      <td>1</td>\n",
       "      <td>0</td>\n",
       "      <td>0</td>\n",
       "      <td>51804</td>\n",
       "      <td>2017-03-06</td>\n",
       "      <td>1.0</td>\n",
       "      <td>55.41</td>\n",
       "      <td>0.231958</td>\n",
       "      <td>0.533742</td>\n",
       "      <td>-0.682822</td>\n",
       "      <td>1.059589</td>\n",
       "      <td>1</td>\n",
       "      <td>1</td>\n",
       "    </tr>\n",
       "    <tr>\n",
       "      <th>...</th>\n",
       "      <td>...</td>\n",
       "      <td>...</td>\n",
       "      <td>...</td>\n",
       "      <td>...</td>\n",
       "      <td>...</td>\n",
       "      <td>...</td>\n",
       "      <td>...</td>\n",
       "      <td>...</td>\n",
       "      <td>...</td>\n",
       "      <td>...</td>\n",
       "      <td>...</td>\n",
       "      <td>...</td>\n",
       "      <td>...</td>\n",
       "      <td>...</td>\n",
       "      <td>...</td>\n",
       "      <td>...</td>\n",
       "      <td>...</td>\n",
       "      <td>...</td>\n",
       "      <td>...</td>\n",
       "      <td>...</td>\n",
       "      <td>...</td>\n",
       "    </tr>\n",
       "    <tr>\n",
       "      <th>18350</th>\n",
       "      <td>3469 Relief Valley Ct.</td>\n",
       "      <td>Royal Oak</td>\n",
       "      <td>British Columbia</td>\n",
       "      <td>Canada</td>\n",
       "      <td>1960-09-06</td>\n",
       "      <td>Bachelors</td>\n",
       "      <td>Clerical</td>\n",
       "      <td>1</td>\n",
       "      <td>1</td>\n",
       "      <td>0</td>\n",
       "      <td>2</td>\n",
       "      <td>87320</td>\n",
       "      <td>2017-03-06</td>\n",
       "      <td>0.0</td>\n",
       "      <td>48.14</td>\n",
       "      <td>0.544379</td>\n",
       "      <td>0.190656</td>\n",
       "      <td>0.474657</td>\n",
       "      <td>-1.055055</td>\n",
       "      <td>0</td>\n",
       "      <td>0</td>\n",
       "    </tr>\n",
       "    <tr>\n",
       "      <th>18351</th>\n",
       "      <td>6126 North Sixth Street</td>\n",
       "      <td>Redmond</td>\n",
       "      <td>Washington</td>\n",
       "      <td>United States</td>\n",
       "      <td>1986-08-15</td>\n",
       "      <td>Graduate Degree</td>\n",
       "      <td>Clerical</td>\n",
       "      <td>0</td>\n",
       "      <td>1</td>\n",
       "      <td>0</td>\n",
       "      <td>0</td>\n",
       "      <td>84374</td>\n",
       "      <td>2017-03-06</td>\n",
       "      <td>1.0</td>\n",
       "      <td>50.23</td>\n",
       "      <td>0.518464</td>\n",
       "      <td>0.289287</td>\n",
       "      <td>0.378646</td>\n",
       "      <td>-0.447131</td>\n",
       "      <td>0</td>\n",
       "      <td>1</td>\n",
       "    </tr>\n",
       "    <tr>\n",
       "      <th>18352</th>\n",
       "      <td>7182 Olive Hill</td>\n",
       "      <td>Cliffside</td>\n",
       "      <td>British Columbia</td>\n",
       "      <td>Canada</td>\n",
       "      <td>1986-11-14</td>\n",
       "      <td>Graduate Degree</td>\n",
       "      <td>Skilled Manual</td>\n",
       "      <td>0</td>\n",
       "      <td>0</td>\n",
       "      <td>0</td>\n",
       "      <td>0</td>\n",
       "      <td>50961</td>\n",
       "      <td>2017-03-06</td>\n",
       "      <td>1.0</td>\n",
       "      <td>49.56</td>\n",
       "      <td>0.224543</td>\n",
       "      <td>0.257669</td>\n",
       "      <td>-0.710296</td>\n",
       "      <td>-0.642016</td>\n",
       "      <td>0</td>\n",
       "      <td>1</td>\n",
       "    </tr>\n",
       "    <tr>\n",
       "      <th>18353</th>\n",
       "      <td>487, rue Montcalm</td>\n",
       "      <td>Les Ulis</td>\n",
       "      <td>Essonne</td>\n",
       "      <td>France</td>\n",
       "      <td>1983-02-05</td>\n",
       "      <td>Partial High School</td>\n",
       "      <td>Manual</td>\n",
       "      <td>0</td>\n",
       "      <td>1</td>\n",
       "      <td>0</td>\n",
       "      <td>0</td>\n",
       "      <td>33678</td>\n",
       "      <td>2017-03-06</td>\n",
       "      <td>0.0</td>\n",
       "      <td>51.42</td>\n",
       "      <td>0.072511</td>\n",
       "      <td>0.345446</td>\n",
       "      <td>-1.273555</td>\n",
       "      <td>-0.100993</td>\n",
       "      <td>0</td>\n",
       "      <td>1</td>\n",
       "    </tr>\n",
       "    <tr>\n",
       "      <th>18354</th>\n",
       "      <td>4346 Via Rerrari</td>\n",
       "      <td>Downey</td>\n",
       "      <td>California</td>\n",
       "      <td>United States</td>\n",
       "      <td>1980-10-08</td>\n",
       "      <td>Partial College</td>\n",
       "      <td>Manual</td>\n",
       "      <td>1</td>\n",
       "      <td>0</td>\n",
       "      <td>1</td>\n",
       "      <td>2</td>\n",
       "      <td>29758</td>\n",
       "      <td>2017-03-06</td>\n",
       "      <td>1.0</td>\n",
       "      <td>52.27</td>\n",
       "      <td>0.038028</td>\n",
       "      <td>0.385559</td>\n",
       "      <td>-1.401310</td>\n",
       "      <td>0.146249</td>\n",
       "      <td>0</td>\n",
       "      <td>0</td>\n",
       "    </tr>\n",
       "  </tbody>\n",
       "</table>\n",
       "<p>18355 rows × 21 columns</p>\n",
       "</div>"
      ],
      "text/plain": [
       "                  AddressLine1         City    StateProvinceName  \\\n",
       "0           7090 C. Mount Hood   Wollongong      New South Wales   \n",
       "1          3651 Willow Lake Rd      Shawnee     British Columbia   \n",
       "2       1774 Tice Valley Blvd.  West Covina           California   \n",
       "3              2103 Baldwin Dr    Liverpool              England   \n",
       "4              Am Gallberg 234        Werne  Nordrhein-Westfalen   \n",
       "...                        ...          ...                  ...   \n",
       "18350   3469 Relief Valley Ct.    Royal Oak     British Columbia   \n",
       "18351  6126 North Sixth Street      Redmond           Washington   \n",
       "18352          7182 Olive Hill    Cliffside     British Columbia   \n",
       "18353        487, rue Montcalm     Les Ulis              Essonne   \n",
       "18354         4346 Via Rerrari       Downey           California   \n",
       "\n",
       "      CountryRegionName  BirthDate            Education      Occupation  \\\n",
       "0             Australia 1987-11-13            Bachelors        Clerical   \n",
       "1                Canada 1972-07-21      Partial College        Clerical   \n",
       "2         United States 1985-11-09            Bachelors        Clerical   \n",
       "3        United Kingdom 1977-10-18      Partial College  Skilled Manual   \n",
       "4               Germany 1975-02-05      Partial College  Skilled Manual   \n",
       "...                 ...        ...                  ...             ...   \n",
       "18350            Canada 1960-09-06            Bachelors        Clerical   \n",
       "18351     United States 1986-08-15      Graduate Degree        Clerical   \n",
       "18352            Canada 1986-11-14      Graduate Degree  Skilled Manual   \n",
       "18353            France 1983-02-05  Partial High School          Manual   \n",
       "18354     United States 1980-10-08      Partial College          Manual   \n",
       "\n",
       "       HomeOwnerFlag  NumberCarsOwned  NumberChildrenAtHome  TotalChildren  \\\n",
       "0                  1                3                     0              1   \n",
       "1                  1                2                     1              2   \n",
       "2                  0                3                     0              0   \n",
       "3                  1                2                     1              2   \n",
       "4                  1                1                     0              0   \n",
       "...              ...              ...                   ...            ...   \n",
       "18350              1                1                     0              2   \n",
       "18351              0                1                     0              0   \n",
       "18352              0                0                     0              0   \n",
       "18353              0                1                     0              0   \n",
       "18354              1                0                     1              2   \n",
       "\n",
       "       YearlyIncome LastUpdated  BikeBuyer  AvgMonthSpend  \\\n",
       "0             81916  2017-03-06        1.0          50.97   \n",
       "1             81076  2017-03-06        1.0          53.11   \n",
       "2             86387  2017-03-06        1.0          54.08   \n",
       "3             61481  2017-03-06        1.0          56.93   \n",
       "4             51804  2017-03-06        1.0          55.41   \n",
       "...             ...         ...        ...            ...   \n",
       "18350         87320  2017-03-06        0.0          48.14   \n",
       "18351         84374  2017-03-06        1.0          50.23   \n",
       "18352         50961  2017-03-06        1.0          49.56   \n",
       "18353         33678  2017-03-06        0.0          51.42   \n",
       "18354         29758  2017-03-06        1.0          52.27   \n",
       "\n",
       "       YearlyIncome_normalized  AvgMonthSpend_normalized  YearlyIncome_std  \\\n",
       "0                     0.496842                  0.324210          0.298539   \n",
       "1                     0.489453                  0.425201          0.271163   \n",
       "2                     0.536172                  0.470977          0.444250   \n",
       "3                     0.317083                  0.605474         -0.367445   \n",
       "4                     0.231958                  0.533742         -0.682822   \n",
       "...                        ...                       ...               ...   \n",
       "18350                 0.544379                  0.190656          0.474657   \n",
       "18351                 0.518464                  0.289287          0.378646   \n",
       "18352                 0.224543                  0.257669         -0.710296   \n",
       "18353                 0.072511                  0.345446         -1.273555   \n",
       "18354                 0.038028                  0.385559         -1.401310   \n",
       "\n",
       "       AvgMonthSpend_std  Male  Single  \n",
       "0              -0.231886     1       0  \n",
       "1               0.390582     1       0  \n",
       "2               0.672728     0       1  \n",
       "3               1.501715     1       0  \n",
       "4               1.059589     1       1  \n",
       "...                  ...   ...     ...  \n",
       "18350          -1.055055     0       0  \n",
       "18351          -0.447131     0       1  \n",
       "18352          -0.642016     0       1  \n",
       "18353          -0.100993     0       1  \n",
       "18354           0.146249     0       0  \n",
       "\n",
       "[18355 rows x 21 columns]"
      ]
     },
     "execution_count": 42,
     "metadata": {},
     "output_type": "execute_result"
    }
   ],
   "source": [
    "df"
   ]
  },
  {
   "cell_type": "code",
   "execution_count": 43,
   "id": "ba645c49",
   "metadata": {
    "execution": {
     "iopub.execute_input": "2022-08-16T13:11:35.812123Z",
     "iopub.status.busy": "2022-08-16T13:11:35.811669Z",
     "iopub.status.idle": "2022-08-16T13:11:35.820708Z",
     "shell.execute_reply": "2022-08-16T13:11:35.819669Z"
    },
    "papermill": {
     "duration": 0.029933,
     "end_time": "2022-08-16T13:11:35.822750",
     "exception": false,
     "start_time": "2022-08-16T13:11:35.792817",
     "status": "completed"
    },
    "tags": []
   },
   "outputs": [
    {
     "data": {
      "text/plain": [
       "15351"
      ]
     },
     "execution_count": 43,
     "metadata": {},
     "output_type": "execute_result"
    }
   ],
   "source": [
    "len(df['YearlyIncome'].value_counts().index)"
   ]
  },
  {
   "cell_type": "markdown",
   "id": "1adf1399",
   "metadata": {
    "papermill": {
     "duration": 0.017087,
     "end_time": "2022-08-16T13:11:35.857477",
     "exception": false,
     "start_time": "2022-08-16T13:11:35.840390",
     "status": "completed"
    },
    "tags": []
   },
   "source": [
    "#### From the above cell it is quite clear that if we plot the data as it is the plot will be unreadable,the technique of binning will be highly helpful for us.\n",
    "\n",
    "#### pd.cut(), will actually help us to divide the this huge series into several bins.\n",
    "\n",
    "#### Features such as YearlyIncome and AvgMonthSpend are perfect for binning\n"
   ]
  },
  {
   "cell_type": "code",
   "execution_count": 44,
   "id": "ee81c88d",
   "metadata": {
    "execution": {
     "iopub.execute_input": "2022-08-16T13:11:35.894212Z",
     "iopub.status.busy": "2022-08-16T13:11:35.893791Z",
     "iopub.status.idle": "2022-08-16T13:11:35.901486Z",
     "shell.execute_reply": "2022-08-16T13:11:35.900389Z"
    },
    "papermill": {
     "duration": 0.028784,
     "end_time": "2022-08-16T13:11:35.903643",
     "exception": false,
     "start_time": "2022-08-16T13:11:35.874859",
     "status": "completed"
    },
    "tags": []
   },
   "outputs": [
    {
     "data": {
      "text/plain": [
       "113680"
      ]
     },
     "execution_count": 44,
     "metadata": {},
     "output_type": "execute_result"
    }
   ],
   "source": [
    "YearlyIncome_min=df['YearlyIncome'].min()\n",
    "YearlyIncome_max=df['YearlyIncome'].max()\n",
    "YearlyIncome_max-YearlyIncome_min\n"
   ]
  },
  {
   "cell_type": "code",
   "execution_count": 45,
   "id": "cbba7cf7",
   "metadata": {
    "execution": {
     "iopub.execute_input": "2022-08-16T13:11:35.940947Z",
     "iopub.status.busy": "2022-08-16T13:11:35.940297Z",
     "iopub.status.idle": "2022-08-16T13:11:35.945736Z",
     "shell.execute_reply": "2022-08-16T13:11:35.944964Z"
    },
    "papermill": {
     "duration": 0.026425,
     "end_time": "2022-08-16T13:11:35.947791",
     "exception": false,
     "start_time": "2022-08-16T13:11:35.921366",
     "status": "completed"
    },
    "tags": []
   },
   "outputs": [],
   "source": [
    "bin_YearlyIncome=np.arange(YearlyIncome_min,YearlyIncome_max,step=20000)\n",
    "# arrange has stepsize whereas linspace has the length of the number of divisions\n",
    "len(bin_YearlyIncome)\n",
    "bin_YearlyIncome\n",
    "YearlyIncome_label=['below low','low','Medium','above medium','High']"
   ]
  },
  {
   "cell_type": "code",
   "execution_count": 46,
   "id": "674b5290",
   "metadata": {
    "execution": {
     "iopub.execute_input": "2022-08-16T13:11:35.985311Z",
     "iopub.status.busy": "2022-08-16T13:11:35.984871Z",
     "iopub.status.idle": "2022-08-16T13:11:35.994556Z",
     "shell.execute_reply": "2022-08-16T13:11:35.993277Z"
    },
    "papermill": {
     "duration": 0.031948,
     "end_time": "2022-08-16T13:11:35.997431",
     "exception": false,
     "start_time": "2022-08-16T13:11:35.965483",
     "status": "completed"
    },
    "tags": []
   },
   "outputs": [],
   "source": [
    "df['YearlyBinned']=pd.cut(df['YearlyIncome'],bins=bin_YearlyIncome,labels=YearlyIncome_label)"
   ]
  },
  {
   "cell_type": "code",
   "execution_count": 47,
   "id": "6d8d68d7",
   "metadata": {
    "execution": {
     "iopub.execute_input": "2022-08-16T13:11:36.036125Z",
     "iopub.status.busy": "2022-08-16T13:11:36.035310Z",
     "iopub.status.idle": "2022-08-16T13:11:36.070369Z",
     "shell.execute_reply": "2022-08-16T13:11:36.069248Z"
    },
    "papermill": {
     "duration": 0.057347,
     "end_time": "2022-08-16T13:11:36.072886",
     "exception": false,
     "start_time": "2022-08-16T13:11:36.015539",
     "status": "completed"
    },
    "tags": []
   },
   "outputs": [
    {
     "data": {
      "text/html": [
       "<div>\n",
       "<style scoped>\n",
       "    .dataframe tbody tr th:only-of-type {\n",
       "        vertical-align: middle;\n",
       "    }\n",
       "\n",
       "    .dataframe tbody tr th {\n",
       "        vertical-align: top;\n",
       "    }\n",
       "\n",
       "    .dataframe thead th {\n",
       "        text-align: right;\n",
       "    }\n",
       "</style>\n",
       "<table border=\"1\" class=\"dataframe\">\n",
       "  <thead>\n",
       "    <tr style=\"text-align: right;\">\n",
       "      <th></th>\n",
       "      <th>AddressLine1</th>\n",
       "      <th>City</th>\n",
       "      <th>StateProvinceName</th>\n",
       "      <th>CountryRegionName</th>\n",
       "      <th>BirthDate</th>\n",
       "      <th>Education</th>\n",
       "      <th>Occupation</th>\n",
       "      <th>HomeOwnerFlag</th>\n",
       "      <th>NumberCarsOwned</th>\n",
       "      <th>NumberChildrenAtHome</th>\n",
       "      <th>TotalChildren</th>\n",
       "      <th>YearlyIncome</th>\n",
       "      <th>LastUpdated</th>\n",
       "      <th>BikeBuyer</th>\n",
       "      <th>AvgMonthSpend</th>\n",
       "      <th>YearlyIncome_normalized</th>\n",
       "      <th>AvgMonthSpend_normalized</th>\n",
       "      <th>YearlyIncome_std</th>\n",
       "      <th>AvgMonthSpend_std</th>\n",
       "      <th>Male</th>\n",
       "      <th>Single</th>\n",
       "      <th>YearlyBinned</th>\n",
       "    </tr>\n",
       "  </thead>\n",
       "  <tbody>\n",
       "    <tr>\n",
       "      <th>0</th>\n",
       "      <td>7090 C. Mount Hood</td>\n",
       "      <td>Wollongong</td>\n",
       "      <td>New South Wales</td>\n",
       "      <td>Australia</td>\n",
       "      <td>1987-11-13</td>\n",
       "      <td>Bachelors</td>\n",
       "      <td>Clerical</td>\n",
       "      <td>1</td>\n",
       "      <td>3</td>\n",
       "      <td>0</td>\n",
       "      <td>1</td>\n",
       "      <td>81916</td>\n",
       "      <td>2017-03-06</td>\n",
       "      <td>1.0</td>\n",
       "      <td>50.97</td>\n",
       "      <td>0.496842</td>\n",
       "      <td>0.324210</td>\n",
       "      <td>0.298539</td>\n",
       "      <td>-0.231886</td>\n",
       "      <td>1</td>\n",
       "      <td>0</td>\n",
       "      <td>Medium</td>\n",
       "    </tr>\n",
       "    <tr>\n",
       "      <th>1</th>\n",
       "      <td>3651 Willow Lake Rd</td>\n",
       "      <td>Shawnee</td>\n",
       "      <td>British Columbia</td>\n",
       "      <td>Canada</td>\n",
       "      <td>1972-07-21</td>\n",
       "      <td>Partial College</td>\n",
       "      <td>Clerical</td>\n",
       "      <td>1</td>\n",
       "      <td>2</td>\n",
       "      <td>1</td>\n",
       "      <td>2</td>\n",
       "      <td>81076</td>\n",
       "      <td>2017-03-06</td>\n",
       "      <td>1.0</td>\n",
       "      <td>53.11</td>\n",
       "      <td>0.489453</td>\n",
       "      <td>0.425201</td>\n",
       "      <td>0.271163</td>\n",
       "      <td>0.390582</td>\n",
       "      <td>1</td>\n",
       "      <td>0</td>\n",
       "      <td>Medium</td>\n",
       "    </tr>\n",
       "    <tr>\n",
       "      <th>2</th>\n",
       "      <td>1774 Tice Valley Blvd.</td>\n",
       "      <td>West Covina</td>\n",
       "      <td>California</td>\n",
       "      <td>United States</td>\n",
       "      <td>1985-11-09</td>\n",
       "      <td>Bachelors</td>\n",
       "      <td>Clerical</td>\n",
       "      <td>0</td>\n",
       "      <td>3</td>\n",
       "      <td>0</td>\n",
       "      <td>0</td>\n",
       "      <td>86387</td>\n",
       "      <td>2017-03-06</td>\n",
       "      <td>1.0</td>\n",
       "      <td>54.08</td>\n",
       "      <td>0.536172</td>\n",
       "      <td>0.470977</td>\n",
       "      <td>0.444250</td>\n",
       "      <td>0.672728</td>\n",
       "      <td>0</td>\n",
       "      <td>1</td>\n",
       "      <td>above medium</td>\n",
       "    </tr>\n",
       "    <tr>\n",
       "      <th>3</th>\n",
       "      <td>2103 Baldwin Dr</td>\n",
       "      <td>Liverpool</td>\n",
       "      <td>England</td>\n",
       "      <td>United Kingdom</td>\n",
       "      <td>1977-10-18</td>\n",
       "      <td>Partial College</td>\n",
       "      <td>Skilled Manual</td>\n",
       "      <td>1</td>\n",
       "      <td>2</td>\n",
       "      <td>1</td>\n",
       "      <td>2</td>\n",
       "      <td>61481</td>\n",
       "      <td>2017-03-06</td>\n",
       "      <td>1.0</td>\n",
       "      <td>56.93</td>\n",
       "      <td>0.317083</td>\n",
       "      <td>0.605474</td>\n",
       "      <td>-0.367445</td>\n",
       "      <td>1.501715</td>\n",
       "      <td>1</td>\n",
       "      <td>0</td>\n",
       "      <td>low</td>\n",
       "    </tr>\n",
       "    <tr>\n",
       "      <th>4</th>\n",
       "      <td>Am Gallberg 234</td>\n",
       "      <td>Werne</td>\n",
       "      <td>Nordrhein-Westfalen</td>\n",
       "      <td>Germany</td>\n",
       "      <td>1975-02-05</td>\n",
       "      <td>Partial College</td>\n",
       "      <td>Skilled Manual</td>\n",
       "      <td>1</td>\n",
       "      <td>1</td>\n",
       "      <td>0</td>\n",
       "      <td>0</td>\n",
       "      <td>51804</td>\n",
       "      <td>2017-03-06</td>\n",
       "      <td>1.0</td>\n",
       "      <td>55.41</td>\n",
       "      <td>0.231958</td>\n",
       "      <td>0.533742</td>\n",
       "      <td>-0.682822</td>\n",
       "      <td>1.059589</td>\n",
       "      <td>1</td>\n",
       "      <td>1</td>\n",
       "      <td>low</td>\n",
       "    </tr>\n",
       "    <tr>\n",
       "      <th>...</th>\n",
       "      <td>...</td>\n",
       "      <td>...</td>\n",
       "      <td>...</td>\n",
       "      <td>...</td>\n",
       "      <td>...</td>\n",
       "      <td>...</td>\n",
       "      <td>...</td>\n",
       "      <td>...</td>\n",
       "      <td>...</td>\n",
       "      <td>...</td>\n",
       "      <td>...</td>\n",
       "      <td>...</td>\n",
       "      <td>...</td>\n",
       "      <td>...</td>\n",
       "      <td>...</td>\n",
       "      <td>...</td>\n",
       "      <td>...</td>\n",
       "      <td>...</td>\n",
       "      <td>...</td>\n",
       "      <td>...</td>\n",
       "      <td>...</td>\n",
       "      <td>...</td>\n",
       "    </tr>\n",
       "    <tr>\n",
       "      <th>18350</th>\n",
       "      <td>3469 Relief Valley Ct.</td>\n",
       "      <td>Royal Oak</td>\n",
       "      <td>British Columbia</td>\n",
       "      <td>Canada</td>\n",
       "      <td>1960-09-06</td>\n",
       "      <td>Bachelors</td>\n",
       "      <td>Clerical</td>\n",
       "      <td>1</td>\n",
       "      <td>1</td>\n",
       "      <td>0</td>\n",
       "      <td>2</td>\n",
       "      <td>87320</td>\n",
       "      <td>2017-03-06</td>\n",
       "      <td>0.0</td>\n",
       "      <td>48.14</td>\n",
       "      <td>0.544379</td>\n",
       "      <td>0.190656</td>\n",
       "      <td>0.474657</td>\n",
       "      <td>-1.055055</td>\n",
       "      <td>0</td>\n",
       "      <td>0</td>\n",
       "      <td>above medium</td>\n",
       "    </tr>\n",
       "    <tr>\n",
       "      <th>18351</th>\n",
       "      <td>6126 North Sixth Street</td>\n",
       "      <td>Redmond</td>\n",
       "      <td>Washington</td>\n",
       "      <td>United States</td>\n",
       "      <td>1986-08-15</td>\n",
       "      <td>Graduate Degree</td>\n",
       "      <td>Clerical</td>\n",
       "      <td>0</td>\n",
       "      <td>1</td>\n",
       "      <td>0</td>\n",
       "      <td>0</td>\n",
       "      <td>84374</td>\n",
       "      <td>2017-03-06</td>\n",
       "      <td>1.0</td>\n",
       "      <td>50.23</td>\n",
       "      <td>0.518464</td>\n",
       "      <td>0.289287</td>\n",
       "      <td>0.378646</td>\n",
       "      <td>-0.447131</td>\n",
       "      <td>0</td>\n",
       "      <td>1</td>\n",
       "      <td>Medium</td>\n",
       "    </tr>\n",
       "    <tr>\n",
       "      <th>18352</th>\n",
       "      <td>7182 Olive Hill</td>\n",
       "      <td>Cliffside</td>\n",
       "      <td>British Columbia</td>\n",
       "      <td>Canada</td>\n",
       "      <td>1986-11-14</td>\n",
       "      <td>Graduate Degree</td>\n",
       "      <td>Skilled Manual</td>\n",
       "      <td>0</td>\n",
       "      <td>0</td>\n",
       "      <td>0</td>\n",
       "      <td>0</td>\n",
       "      <td>50961</td>\n",
       "      <td>2017-03-06</td>\n",
       "      <td>1.0</td>\n",
       "      <td>49.56</td>\n",
       "      <td>0.224543</td>\n",
       "      <td>0.257669</td>\n",
       "      <td>-0.710296</td>\n",
       "      <td>-0.642016</td>\n",
       "      <td>0</td>\n",
       "      <td>1</td>\n",
       "      <td>low</td>\n",
       "    </tr>\n",
       "    <tr>\n",
       "      <th>18353</th>\n",
       "      <td>487, rue Montcalm</td>\n",
       "      <td>Les Ulis</td>\n",
       "      <td>Essonne</td>\n",
       "      <td>France</td>\n",
       "      <td>1983-02-05</td>\n",
       "      <td>Partial High School</td>\n",
       "      <td>Manual</td>\n",
       "      <td>0</td>\n",
       "      <td>1</td>\n",
       "      <td>0</td>\n",
       "      <td>0</td>\n",
       "      <td>33678</td>\n",
       "      <td>2017-03-06</td>\n",
       "      <td>0.0</td>\n",
       "      <td>51.42</td>\n",
       "      <td>0.072511</td>\n",
       "      <td>0.345446</td>\n",
       "      <td>-1.273555</td>\n",
       "      <td>-0.100993</td>\n",
       "      <td>0</td>\n",
       "      <td>1</td>\n",
       "      <td>below low</td>\n",
       "    </tr>\n",
       "    <tr>\n",
       "      <th>18354</th>\n",
       "      <td>4346 Via Rerrari</td>\n",
       "      <td>Downey</td>\n",
       "      <td>California</td>\n",
       "      <td>United States</td>\n",
       "      <td>1980-10-08</td>\n",
       "      <td>Partial College</td>\n",
       "      <td>Manual</td>\n",
       "      <td>1</td>\n",
       "      <td>0</td>\n",
       "      <td>1</td>\n",
       "      <td>2</td>\n",
       "      <td>29758</td>\n",
       "      <td>2017-03-06</td>\n",
       "      <td>1.0</td>\n",
       "      <td>52.27</td>\n",
       "      <td>0.038028</td>\n",
       "      <td>0.385559</td>\n",
       "      <td>-1.401310</td>\n",
       "      <td>0.146249</td>\n",
       "      <td>0</td>\n",
       "      <td>0</td>\n",
       "      <td>below low</td>\n",
       "    </tr>\n",
       "  </tbody>\n",
       "</table>\n",
       "<p>18355 rows × 22 columns</p>\n",
       "</div>"
      ],
      "text/plain": [
       "                  AddressLine1         City    StateProvinceName  \\\n",
       "0           7090 C. Mount Hood   Wollongong      New South Wales   \n",
       "1          3651 Willow Lake Rd      Shawnee     British Columbia   \n",
       "2       1774 Tice Valley Blvd.  West Covina           California   \n",
       "3              2103 Baldwin Dr    Liverpool              England   \n",
       "4              Am Gallberg 234        Werne  Nordrhein-Westfalen   \n",
       "...                        ...          ...                  ...   \n",
       "18350   3469 Relief Valley Ct.    Royal Oak     British Columbia   \n",
       "18351  6126 North Sixth Street      Redmond           Washington   \n",
       "18352          7182 Olive Hill    Cliffside     British Columbia   \n",
       "18353        487, rue Montcalm     Les Ulis              Essonne   \n",
       "18354         4346 Via Rerrari       Downey           California   \n",
       "\n",
       "      CountryRegionName  BirthDate            Education      Occupation  \\\n",
       "0             Australia 1987-11-13            Bachelors        Clerical   \n",
       "1                Canada 1972-07-21      Partial College        Clerical   \n",
       "2         United States 1985-11-09            Bachelors        Clerical   \n",
       "3        United Kingdom 1977-10-18      Partial College  Skilled Manual   \n",
       "4               Germany 1975-02-05      Partial College  Skilled Manual   \n",
       "...                 ...        ...                  ...             ...   \n",
       "18350            Canada 1960-09-06            Bachelors        Clerical   \n",
       "18351     United States 1986-08-15      Graduate Degree        Clerical   \n",
       "18352            Canada 1986-11-14      Graduate Degree  Skilled Manual   \n",
       "18353            France 1983-02-05  Partial High School          Manual   \n",
       "18354     United States 1980-10-08      Partial College          Manual   \n",
       "\n",
       "       HomeOwnerFlag  NumberCarsOwned  NumberChildrenAtHome  TotalChildren  \\\n",
       "0                  1                3                     0              1   \n",
       "1                  1                2                     1              2   \n",
       "2                  0                3                     0              0   \n",
       "3                  1                2                     1              2   \n",
       "4                  1                1                     0              0   \n",
       "...              ...              ...                   ...            ...   \n",
       "18350              1                1                     0              2   \n",
       "18351              0                1                     0              0   \n",
       "18352              0                0                     0              0   \n",
       "18353              0                1                     0              0   \n",
       "18354              1                0                     1              2   \n",
       "\n",
       "       YearlyIncome LastUpdated  BikeBuyer  AvgMonthSpend  \\\n",
       "0             81916  2017-03-06        1.0          50.97   \n",
       "1             81076  2017-03-06        1.0          53.11   \n",
       "2             86387  2017-03-06        1.0          54.08   \n",
       "3             61481  2017-03-06        1.0          56.93   \n",
       "4             51804  2017-03-06        1.0          55.41   \n",
       "...             ...         ...        ...            ...   \n",
       "18350         87320  2017-03-06        0.0          48.14   \n",
       "18351         84374  2017-03-06        1.0          50.23   \n",
       "18352         50961  2017-03-06        1.0          49.56   \n",
       "18353         33678  2017-03-06        0.0          51.42   \n",
       "18354         29758  2017-03-06        1.0          52.27   \n",
       "\n",
       "       YearlyIncome_normalized  AvgMonthSpend_normalized  YearlyIncome_std  \\\n",
       "0                     0.496842                  0.324210          0.298539   \n",
       "1                     0.489453                  0.425201          0.271163   \n",
       "2                     0.536172                  0.470977          0.444250   \n",
       "3                     0.317083                  0.605474         -0.367445   \n",
       "4                     0.231958                  0.533742         -0.682822   \n",
       "...                        ...                       ...               ...   \n",
       "18350                 0.544379                  0.190656          0.474657   \n",
       "18351                 0.518464                  0.289287          0.378646   \n",
       "18352                 0.224543                  0.257669         -0.710296   \n",
       "18353                 0.072511                  0.345446         -1.273555   \n",
       "18354                 0.038028                  0.385559         -1.401310   \n",
       "\n",
       "       AvgMonthSpend_std  Male  Single  YearlyBinned  \n",
       "0              -0.231886     1       0        Medium  \n",
       "1               0.390582     1       0        Medium  \n",
       "2               0.672728     0       1  above medium  \n",
       "3               1.501715     1       0           low  \n",
       "4               1.059589     1       1           low  \n",
       "...                  ...   ...     ...           ...  \n",
       "18350          -1.055055     0       0  above medium  \n",
       "18351          -0.447131     0       1        Medium  \n",
       "18352          -0.642016     0       1           low  \n",
       "18353          -0.100993     0       1     below low  \n",
       "18354           0.146249     0       0     below low  \n",
       "\n",
       "[18355 rows x 22 columns]"
      ]
     },
     "execution_count": 47,
     "metadata": {},
     "output_type": "execute_result"
    }
   ],
   "source": [
    "df"
   ]
  },
  {
   "cell_type": "code",
   "execution_count": 48,
   "id": "9778daa9",
   "metadata": {
    "execution": {
     "iopub.execute_input": "2022-08-16T13:11:36.111829Z",
     "iopub.status.busy": "2022-08-16T13:11:36.110848Z",
     "iopub.status.idle": "2022-08-16T13:11:36.120051Z",
     "shell.execute_reply": "2022-08-16T13:11:36.119195Z"
    },
    "papermill": {
     "duration": 0.030897,
     "end_time": "2022-08-16T13:11:36.122268",
     "exception": false,
     "start_time": "2022-08-16T13:11:36.091371",
     "status": "completed"
    },
    "tags": []
   },
   "outputs": [
    {
     "data": {
      "text/plain": [
       "21.190000000000005"
      ]
     },
     "execution_count": 48,
     "metadata": {},
     "output_type": "execute_result"
    }
   ],
   "source": [
    "AvgMonthSpend_min=df['AvgMonthSpend'].min()\n",
    "AvgMonthSpend_max=df['AvgMonthSpend'].max()\n",
    "AvgMonthSpend_max-AvgMonthSpend_min"
   ]
  },
  {
   "cell_type": "code",
   "execution_count": 49,
   "id": "a1e491e3",
   "metadata": {
    "execution": {
     "iopub.execute_input": "2022-08-16T13:11:36.161240Z",
     "iopub.status.busy": "2022-08-16T13:11:36.160448Z",
     "iopub.status.idle": "2022-08-16T13:11:36.167876Z",
     "shell.execute_reply": "2022-08-16T13:11:36.166779Z"
    },
    "papermill": {
     "duration": 0.029646,
     "end_time": "2022-08-16T13:11:36.170150",
     "exception": false,
     "start_time": "2022-08-16T13:11:36.140504",
     "status": "completed"
    },
    "tags": []
   },
   "outputs": [
    {
     "name": "stdout",
     "output_type": "stream",
     "text": [
      "[44.1 49.1 54.1 59.1 64.1]\n",
      "length of AvgMonthSpend: 5\n"
     ]
    }
   ],
   "source": [
    "bin_AvgMonthSpend=np.arange(AvgMonthSpend_min,AvgMonthSpend_max,step=5)\n",
    "# arrange has stepsize whereas linspace has the length of the number of divisions\n",
    "print(bin_AvgMonthSpend)\n",
    "print('length of AvgMonthSpend:',len(bin_AvgMonthSpend))\n",
    "\n",
    "AvgMonthSpend_label=['Low','Medium','Above Medium','High']"
   ]
  },
  {
   "cell_type": "code",
   "execution_count": 50,
   "id": "f7b04f9a",
   "metadata": {
    "execution": {
     "iopub.execute_input": "2022-08-16T13:11:36.209225Z",
     "iopub.status.busy": "2022-08-16T13:11:36.208443Z",
     "iopub.status.idle": "2022-08-16T13:11:36.216056Z",
     "shell.execute_reply": "2022-08-16T13:11:36.215302Z"
    },
    "papermill": {
     "duration": 0.029765,
     "end_time": "2022-08-16T13:11:36.218281",
     "exception": false,
     "start_time": "2022-08-16T13:11:36.188516",
     "status": "completed"
    },
    "tags": []
   },
   "outputs": [],
   "source": [
    "# pd.cut()\n",
    "df['AvgMonthSpendBinned']=pd.cut(df['AvgMonthSpend'],bins=bin_AvgMonthSpend,labels=AvgMonthSpend_label)"
   ]
  },
  {
   "cell_type": "code",
   "execution_count": 51,
   "id": "7ea1ec52",
   "metadata": {
    "execution": {
     "iopub.execute_input": "2022-08-16T13:11:36.257229Z",
     "iopub.status.busy": "2022-08-16T13:11:36.256784Z",
     "iopub.status.idle": "2022-08-16T13:11:36.292758Z",
     "shell.execute_reply": "2022-08-16T13:11:36.291555Z"
    },
    "papermill": {
     "duration": 0.058116,
     "end_time": "2022-08-16T13:11:36.295247",
     "exception": false,
     "start_time": "2022-08-16T13:11:36.237131",
     "status": "completed"
    },
    "tags": []
   },
   "outputs": [
    {
     "data": {
      "text/html": [
       "<div>\n",
       "<style scoped>\n",
       "    .dataframe tbody tr th:only-of-type {\n",
       "        vertical-align: middle;\n",
       "    }\n",
       "\n",
       "    .dataframe tbody tr th {\n",
       "        vertical-align: top;\n",
       "    }\n",
       "\n",
       "    .dataframe thead th {\n",
       "        text-align: right;\n",
       "    }\n",
       "</style>\n",
       "<table border=\"1\" class=\"dataframe\">\n",
       "  <thead>\n",
       "    <tr style=\"text-align: right;\">\n",
       "      <th></th>\n",
       "      <th>AddressLine1</th>\n",
       "      <th>City</th>\n",
       "      <th>StateProvinceName</th>\n",
       "      <th>CountryRegionName</th>\n",
       "      <th>BirthDate</th>\n",
       "      <th>Education</th>\n",
       "      <th>Occupation</th>\n",
       "      <th>HomeOwnerFlag</th>\n",
       "      <th>NumberCarsOwned</th>\n",
       "      <th>NumberChildrenAtHome</th>\n",
       "      <th>TotalChildren</th>\n",
       "      <th>YearlyIncome</th>\n",
       "      <th>LastUpdated</th>\n",
       "      <th>BikeBuyer</th>\n",
       "      <th>AvgMonthSpend</th>\n",
       "      <th>YearlyIncome_normalized</th>\n",
       "      <th>AvgMonthSpend_normalized</th>\n",
       "      <th>YearlyIncome_std</th>\n",
       "      <th>AvgMonthSpend_std</th>\n",
       "      <th>Male</th>\n",
       "      <th>Single</th>\n",
       "      <th>YearlyBinned</th>\n",
       "      <th>AvgMonthSpendBinned</th>\n",
       "    </tr>\n",
       "  </thead>\n",
       "  <tbody>\n",
       "    <tr>\n",
       "      <th>0</th>\n",
       "      <td>7090 C. Mount Hood</td>\n",
       "      <td>Wollongong</td>\n",
       "      <td>New South Wales</td>\n",
       "      <td>Australia</td>\n",
       "      <td>1987-11-13</td>\n",
       "      <td>Bachelors</td>\n",
       "      <td>Clerical</td>\n",
       "      <td>1</td>\n",
       "      <td>3</td>\n",
       "      <td>0</td>\n",
       "      <td>1</td>\n",
       "      <td>81916</td>\n",
       "      <td>2017-03-06</td>\n",
       "      <td>1.0</td>\n",
       "      <td>50.97</td>\n",
       "      <td>0.496842</td>\n",
       "      <td>0.324210</td>\n",
       "      <td>0.298539</td>\n",
       "      <td>-0.231886</td>\n",
       "      <td>1</td>\n",
       "      <td>0</td>\n",
       "      <td>Medium</td>\n",
       "      <td>Medium</td>\n",
       "    </tr>\n",
       "    <tr>\n",
       "      <th>1</th>\n",
       "      <td>3651 Willow Lake Rd</td>\n",
       "      <td>Shawnee</td>\n",
       "      <td>British Columbia</td>\n",
       "      <td>Canada</td>\n",
       "      <td>1972-07-21</td>\n",
       "      <td>Partial College</td>\n",
       "      <td>Clerical</td>\n",
       "      <td>1</td>\n",
       "      <td>2</td>\n",
       "      <td>1</td>\n",
       "      <td>2</td>\n",
       "      <td>81076</td>\n",
       "      <td>2017-03-06</td>\n",
       "      <td>1.0</td>\n",
       "      <td>53.11</td>\n",
       "      <td>0.489453</td>\n",
       "      <td>0.425201</td>\n",
       "      <td>0.271163</td>\n",
       "      <td>0.390582</td>\n",
       "      <td>1</td>\n",
       "      <td>0</td>\n",
       "      <td>Medium</td>\n",
       "      <td>Medium</td>\n",
       "    </tr>\n",
       "    <tr>\n",
       "      <th>2</th>\n",
       "      <td>1774 Tice Valley Blvd.</td>\n",
       "      <td>West Covina</td>\n",
       "      <td>California</td>\n",
       "      <td>United States</td>\n",
       "      <td>1985-11-09</td>\n",
       "      <td>Bachelors</td>\n",
       "      <td>Clerical</td>\n",
       "      <td>0</td>\n",
       "      <td>3</td>\n",
       "      <td>0</td>\n",
       "      <td>0</td>\n",
       "      <td>86387</td>\n",
       "      <td>2017-03-06</td>\n",
       "      <td>1.0</td>\n",
       "      <td>54.08</td>\n",
       "      <td>0.536172</td>\n",
       "      <td>0.470977</td>\n",
       "      <td>0.444250</td>\n",
       "      <td>0.672728</td>\n",
       "      <td>0</td>\n",
       "      <td>1</td>\n",
       "      <td>above medium</td>\n",
       "      <td>Medium</td>\n",
       "    </tr>\n",
       "    <tr>\n",
       "      <th>3</th>\n",
       "      <td>2103 Baldwin Dr</td>\n",
       "      <td>Liverpool</td>\n",
       "      <td>England</td>\n",
       "      <td>United Kingdom</td>\n",
       "      <td>1977-10-18</td>\n",
       "      <td>Partial College</td>\n",
       "      <td>Skilled Manual</td>\n",
       "      <td>1</td>\n",
       "      <td>2</td>\n",
       "      <td>1</td>\n",
       "      <td>2</td>\n",
       "      <td>61481</td>\n",
       "      <td>2017-03-06</td>\n",
       "      <td>1.0</td>\n",
       "      <td>56.93</td>\n",
       "      <td>0.317083</td>\n",
       "      <td>0.605474</td>\n",
       "      <td>-0.367445</td>\n",
       "      <td>1.501715</td>\n",
       "      <td>1</td>\n",
       "      <td>0</td>\n",
       "      <td>low</td>\n",
       "      <td>Above Medium</td>\n",
       "    </tr>\n",
       "    <tr>\n",
       "      <th>4</th>\n",
       "      <td>Am Gallberg 234</td>\n",
       "      <td>Werne</td>\n",
       "      <td>Nordrhein-Westfalen</td>\n",
       "      <td>Germany</td>\n",
       "      <td>1975-02-05</td>\n",
       "      <td>Partial College</td>\n",
       "      <td>Skilled Manual</td>\n",
       "      <td>1</td>\n",
       "      <td>1</td>\n",
       "      <td>0</td>\n",
       "      <td>0</td>\n",
       "      <td>51804</td>\n",
       "      <td>2017-03-06</td>\n",
       "      <td>1.0</td>\n",
       "      <td>55.41</td>\n",
       "      <td>0.231958</td>\n",
       "      <td>0.533742</td>\n",
       "      <td>-0.682822</td>\n",
       "      <td>1.059589</td>\n",
       "      <td>1</td>\n",
       "      <td>1</td>\n",
       "      <td>low</td>\n",
       "      <td>Above Medium</td>\n",
       "    </tr>\n",
       "    <tr>\n",
       "      <th>...</th>\n",
       "      <td>...</td>\n",
       "      <td>...</td>\n",
       "      <td>...</td>\n",
       "      <td>...</td>\n",
       "      <td>...</td>\n",
       "      <td>...</td>\n",
       "      <td>...</td>\n",
       "      <td>...</td>\n",
       "      <td>...</td>\n",
       "      <td>...</td>\n",
       "      <td>...</td>\n",
       "      <td>...</td>\n",
       "      <td>...</td>\n",
       "      <td>...</td>\n",
       "      <td>...</td>\n",
       "      <td>...</td>\n",
       "      <td>...</td>\n",
       "      <td>...</td>\n",
       "      <td>...</td>\n",
       "      <td>...</td>\n",
       "      <td>...</td>\n",
       "      <td>...</td>\n",
       "      <td>...</td>\n",
       "    </tr>\n",
       "    <tr>\n",
       "      <th>18350</th>\n",
       "      <td>3469 Relief Valley Ct.</td>\n",
       "      <td>Royal Oak</td>\n",
       "      <td>British Columbia</td>\n",
       "      <td>Canada</td>\n",
       "      <td>1960-09-06</td>\n",
       "      <td>Bachelors</td>\n",
       "      <td>Clerical</td>\n",
       "      <td>1</td>\n",
       "      <td>1</td>\n",
       "      <td>0</td>\n",
       "      <td>2</td>\n",
       "      <td>87320</td>\n",
       "      <td>2017-03-06</td>\n",
       "      <td>0.0</td>\n",
       "      <td>48.14</td>\n",
       "      <td>0.544379</td>\n",
       "      <td>0.190656</td>\n",
       "      <td>0.474657</td>\n",
       "      <td>-1.055055</td>\n",
       "      <td>0</td>\n",
       "      <td>0</td>\n",
       "      <td>above medium</td>\n",
       "      <td>Low</td>\n",
       "    </tr>\n",
       "    <tr>\n",
       "      <th>18351</th>\n",
       "      <td>6126 North Sixth Street</td>\n",
       "      <td>Redmond</td>\n",
       "      <td>Washington</td>\n",
       "      <td>United States</td>\n",
       "      <td>1986-08-15</td>\n",
       "      <td>Graduate Degree</td>\n",
       "      <td>Clerical</td>\n",
       "      <td>0</td>\n",
       "      <td>1</td>\n",
       "      <td>0</td>\n",
       "      <td>0</td>\n",
       "      <td>84374</td>\n",
       "      <td>2017-03-06</td>\n",
       "      <td>1.0</td>\n",
       "      <td>50.23</td>\n",
       "      <td>0.518464</td>\n",
       "      <td>0.289287</td>\n",
       "      <td>0.378646</td>\n",
       "      <td>-0.447131</td>\n",
       "      <td>0</td>\n",
       "      <td>1</td>\n",
       "      <td>Medium</td>\n",
       "      <td>Medium</td>\n",
       "    </tr>\n",
       "    <tr>\n",
       "      <th>18352</th>\n",
       "      <td>7182 Olive Hill</td>\n",
       "      <td>Cliffside</td>\n",
       "      <td>British Columbia</td>\n",
       "      <td>Canada</td>\n",
       "      <td>1986-11-14</td>\n",
       "      <td>Graduate Degree</td>\n",
       "      <td>Skilled Manual</td>\n",
       "      <td>0</td>\n",
       "      <td>0</td>\n",
       "      <td>0</td>\n",
       "      <td>0</td>\n",
       "      <td>50961</td>\n",
       "      <td>2017-03-06</td>\n",
       "      <td>1.0</td>\n",
       "      <td>49.56</td>\n",
       "      <td>0.224543</td>\n",
       "      <td>0.257669</td>\n",
       "      <td>-0.710296</td>\n",
       "      <td>-0.642016</td>\n",
       "      <td>0</td>\n",
       "      <td>1</td>\n",
       "      <td>low</td>\n",
       "      <td>Medium</td>\n",
       "    </tr>\n",
       "    <tr>\n",
       "      <th>18353</th>\n",
       "      <td>487, rue Montcalm</td>\n",
       "      <td>Les Ulis</td>\n",
       "      <td>Essonne</td>\n",
       "      <td>France</td>\n",
       "      <td>1983-02-05</td>\n",
       "      <td>Partial High School</td>\n",
       "      <td>Manual</td>\n",
       "      <td>0</td>\n",
       "      <td>1</td>\n",
       "      <td>0</td>\n",
       "      <td>0</td>\n",
       "      <td>33678</td>\n",
       "      <td>2017-03-06</td>\n",
       "      <td>0.0</td>\n",
       "      <td>51.42</td>\n",
       "      <td>0.072511</td>\n",
       "      <td>0.345446</td>\n",
       "      <td>-1.273555</td>\n",
       "      <td>-0.100993</td>\n",
       "      <td>0</td>\n",
       "      <td>1</td>\n",
       "      <td>below low</td>\n",
       "      <td>Medium</td>\n",
       "    </tr>\n",
       "    <tr>\n",
       "      <th>18354</th>\n",
       "      <td>4346 Via Rerrari</td>\n",
       "      <td>Downey</td>\n",
       "      <td>California</td>\n",
       "      <td>United States</td>\n",
       "      <td>1980-10-08</td>\n",
       "      <td>Partial College</td>\n",
       "      <td>Manual</td>\n",
       "      <td>1</td>\n",
       "      <td>0</td>\n",
       "      <td>1</td>\n",
       "      <td>2</td>\n",
       "      <td>29758</td>\n",
       "      <td>2017-03-06</td>\n",
       "      <td>1.0</td>\n",
       "      <td>52.27</td>\n",
       "      <td>0.038028</td>\n",
       "      <td>0.385559</td>\n",
       "      <td>-1.401310</td>\n",
       "      <td>0.146249</td>\n",
       "      <td>0</td>\n",
       "      <td>0</td>\n",
       "      <td>below low</td>\n",
       "      <td>Medium</td>\n",
       "    </tr>\n",
       "  </tbody>\n",
       "</table>\n",
       "<p>18355 rows × 23 columns</p>\n",
       "</div>"
      ],
      "text/plain": [
       "                  AddressLine1         City    StateProvinceName  \\\n",
       "0           7090 C. Mount Hood   Wollongong      New South Wales   \n",
       "1          3651 Willow Lake Rd      Shawnee     British Columbia   \n",
       "2       1774 Tice Valley Blvd.  West Covina           California   \n",
       "3              2103 Baldwin Dr    Liverpool              England   \n",
       "4              Am Gallberg 234        Werne  Nordrhein-Westfalen   \n",
       "...                        ...          ...                  ...   \n",
       "18350   3469 Relief Valley Ct.    Royal Oak     British Columbia   \n",
       "18351  6126 North Sixth Street      Redmond           Washington   \n",
       "18352          7182 Olive Hill    Cliffside     British Columbia   \n",
       "18353        487, rue Montcalm     Les Ulis              Essonne   \n",
       "18354         4346 Via Rerrari       Downey           California   \n",
       "\n",
       "      CountryRegionName  BirthDate            Education      Occupation  \\\n",
       "0             Australia 1987-11-13            Bachelors        Clerical   \n",
       "1                Canada 1972-07-21      Partial College        Clerical   \n",
       "2         United States 1985-11-09            Bachelors        Clerical   \n",
       "3        United Kingdom 1977-10-18      Partial College  Skilled Manual   \n",
       "4               Germany 1975-02-05      Partial College  Skilled Manual   \n",
       "...                 ...        ...                  ...             ...   \n",
       "18350            Canada 1960-09-06            Bachelors        Clerical   \n",
       "18351     United States 1986-08-15      Graduate Degree        Clerical   \n",
       "18352            Canada 1986-11-14      Graduate Degree  Skilled Manual   \n",
       "18353            France 1983-02-05  Partial High School          Manual   \n",
       "18354     United States 1980-10-08      Partial College          Manual   \n",
       "\n",
       "       HomeOwnerFlag  NumberCarsOwned  NumberChildrenAtHome  TotalChildren  \\\n",
       "0                  1                3                     0              1   \n",
       "1                  1                2                     1              2   \n",
       "2                  0                3                     0              0   \n",
       "3                  1                2                     1              2   \n",
       "4                  1                1                     0              0   \n",
       "...              ...              ...                   ...            ...   \n",
       "18350              1                1                     0              2   \n",
       "18351              0                1                     0              0   \n",
       "18352              0                0                     0              0   \n",
       "18353              0                1                     0              0   \n",
       "18354              1                0                     1              2   \n",
       "\n",
       "       YearlyIncome LastUpdated  BikeBuyer  AvgMonthSpend  \\\n",
       "0             81916  2017-03-06        1.0          50.97   \n",
       "1             81076  2017-03-06        1.0          53.11   \n",
       "2             86387  2017-03-06        1.0          54.08   \n",
       "3             61481  2017-03-06        1.0          56.93   \n",
       "4             51804  2017-03-06        1.0          55.41   \n",
       "...             ...         ...        ...            ...   \n",
       "18350         87320  2017-03-06        0.0          48.14   \n",
       "18351         84374  2017-03-06        1.0          50.23   \n",
       "18352         50961  2017-03-06        1.0          49.56   \n",
       "18353         33678  2017-03-06        0.0          51.42   \n",
       "18354         29758  2017-03-06        1.0          52.27   \n",
       "\n",
       "       YearlyIncome_normalized  AvgMonthSpend_normalized  YearlyIncome_std  \\\n",
       "0                     0.496842                  0.324210          0.298539   \n",
       "1                     0.489453                  0.425201          0.271163   \n",
       "2                     0.536172                  0.470977          0.444250   \n",
       "3                     0.317083                  0.605474         -0.367445   \n",
       "4                     0.231958                  0.533742         -0.682822   \n",
       "...                        ...                       ...               ...   \n",
       "18350                 0.544379                  0.190656          0.474657   \n",
       "18351                 0.518464                  0.289287          0.378646   \n",
       "18352                 0.224543                  0.257669         -0.710296   \n",
       "18353                 0.072511                  0.345446         -1.273555   \n",
       "18354                 0.038028                  0.385559         -1.401310   \n",
       "\n",
       "       AvgMonthSpend_std  Male  Single  YearlyBinned AvgMonthSpendBinned  \n",
       "0              -0.231886     1       0        Medium              Medium  \n",
       "1               0.390582     1       0        Medium              Medium  \n",
       "2               0.672728     0       1  above medium              Medium  \n",
       "3               1.501715     1       0           low        Above Medium  \n",
       "4               1.059589     1       1           low        Above Medium  \n",
       "...                  ...   ...     ...           ...                 ...  \n",
       "18350          -1.055055     0       0  above medium                 Low  \n",
       "18351          -0.447131     0       1        Medium              Medium  \n",
       "18352          -0.642016     0       1           low              Medium  \n",
       "18353          -0.100993     0       1     below low              Medium  \n",
       "18354           0.146249     0       0     below low              Medium  \n",
       "\n",
       "[18355 rows x 23 columns]"
      ]
     },
     "execution_count": 51,
     "metadata": {},
     "output_type": "execute_result"
    }
   ],
   "source": [
    "df"
   ]
  },
  {
   "cell_type": "code",
   "execution_count": 52,
   "id": "ce43500e",
   "metadata": {
    "execution": {
     "iopub.execute_input": "2022-08-16T13:11:36.335372Z",
     "iopub.status.busy": "2022-08-16T13:11:36.334548Z",
     "iopub.status.idle": "2022-08-16T13:11:36.339868Z",
     "shell.execute_reply": "2022-08-16T13:11:36.338985Z"
    },
    "papermill": {
     "duration": 0.027761,
     "end_time": "2022-08-16T13:11:36.342173",
     "exception": false,
     "start_time": "2022-08-16T13:11:36.314412",
     "status": "completed"
    },
    "tags": []
   },
   "outputs": [],
   "source": [
    "# PART-III\n",
    "# Make sure each attribute is transformed in a same scale for numeric attributes and Binarization for each nominal attribute, and each discretized numeric attribute to standardization. Make sure to apply a correct similarity measure for nominal (one hot encoding)/binary attributes and numeric attributes respectively.\n",
    "# (a) Calculate Similarity in Simple Matching, Jaccard Similarity, and Cosine Similarity between two following objects of your transformed input data.\n",
    "# (b) Calculate Correlation between two features Commute Distance and Yearly Income\n",
    "# helpful article\n",
    "# https://towardsdatascience.com/familiarity-with-coefficients-of-similarity-73697d357acf\n",
    "# imp diff between "
   ]
  },
  {
   "cell_type": "code",
   "execution_count": 53,
   "id": "3ae735d3",
   "metadata": {
    "execution": {
     "iopub.execute_input": "2022-08-16T13:11:36.382574Z",
     "iopub.status.busy": "2022-08-16T13:11:36.381382Z",
     "iopub.status.idle": "2022-08-16T13:11:36.387624Z",
     "shell.execute_reply": "2022-08-16T13:11:36.386793Z"
    },
    "papermill": {
     "duration": 0.029042,
     "end_time": "2022-08-16T13:11:36.389863",
     "exception": false,
     "start_time": "2022-08-16T13:11:36.360821",
     "status": "completed"
    },
    "tags": []
   },
   "outputs": [],
   "source": [
    "# Jaccard Similarity = (number of observations in both sets) / (number in either set)\n",
    "def jaccard(list1, list2):\n",
    "    intersection = len(list(set(list1).intersection(list2)))\n",
    "    union = (len(list1) + len(list2)) - intersection\n",
    "    return float(intersection) / union"
   ]
  },
  {
   "cell_type": "code",
   "execution_count": 54,
   "id": "af93db26",
   "metadata": {
    "execution": {
     "iopub.execute_input": "2022-08-16T13:11:36.429780Z",
     "iopub.status.busy": "2022-08-16T13:11:36.428750Z",
     "iopub.status.idle": "2022-08-16T13:11:36.439989Z",
     "shell.execute_reply": "2022-08-16T13:11:36.439117Z"
    },
    "papermill": {
     "duration": 0.033487,
     "end_time": "2022-08-16T13:11:36.442323",
     "exception": false,
     "start_time": "2022-08-16T13:11:36.408836",
     "status": "completed"
    },
    "tags": []
   },
   "outputs": [
    {
     "data": {
      "text/plain": [
       "5.448403617740002e-05"
      ]
     },
     "execution_count": 54,
     "metadata": {},
     "output_type": "execute_result"
    }
   ],
   "source": [
    "\n",
    "jaccard(df['Male'],df['Single'])"
   ]
  },
  {
   "cell_type": "code",
   "execution_count": null,
   "id": "d0f89705",
   "metadata": {
    "papermill": {
     "duration": 0.018505,
     "end_time": "2022-08-16T13:11:36.479658",
     "exception": false,
     "start_time": "2022-08-16T13:11:36.461153",
     "status": "completed"
    },
    "tags": []
   },
   "outputs": [],
   "source": []
  },
  {
   "cell_type": "code",
   "execution_count": null,
   "id": "32fbe352",
   "metadata": {
    "papermill": {
     "duration": 0.018585,
     "end_time": "2022-08-16T13:11:36.517067",
     "exception": false,
     "start_time": "2022-08-16T13:11:36.498482",
     "status": "completed"
    },
    "tags": []
   },
   "outputs": [],
   "source": []
  },
  {
   "cell_type": "code",
   "execution_count": 55,
   "id": "4fe4ab35",
   "metadata": {
    "execution": {
     "iopub.execute_input": "2022-08-16T13:11:36.557440Z",
     "iopub.status.busy": "2022-08-16T13:11:36.556271Z",
     "iopub.status.idle": "2022-08-16T13:11:36.571246Z",
     "shell.execute_reply": "2022-08-16T13:11:36.569745Z"
    },
    "papermill": {
     "duration": 0.040315,
     "end_time": "2022-08-16T13:11:36.576071",
     "exception": false,
     "start_time": "2022-08-16T13:11:36.535756",
     "status": "completed"
    },
    "tags": []
   },
   "outputs": [
    {
     "name": "stdout",
     "output_type": "stream",
     "text": [
      "[[1 1 0 ... 0 0 0]]\n",
      "[[0 0 1 ... 1 1 0]]\n",
      "cosine similarity is:\n",
      " [[0.45939671]]\n"
     ]
    }
   ],
   "source": [
    "# print(\"Correlation is\",np.corrcoef(df['Male'],df['Single']))\n",
    "# Cosine accepts a 2-D array,so we need to convert the series to numpy array\n",
    "# 1.Using values method\n",
    "# 2.Using Pandas.Series.to_numpy()\n",
    "a=np.array([df['Male'].to_numpy()])\n",
    "print(a)\n",
    "b=np.array([df['Single'].values])\n",
    "print(b)\n",
    "print('cosine similarity is:\\n',cosine_similarity(a,b))\n"
   ]
  },
  {
   "cell_type": "code",
   "execution_count": null,
   "id": "3f203624",
   "metadata": {
    "papermill": {
     "duration": 0.0488,
     "end_time": "2022-08-16T13:11:36.674622",
     "exception": false,
     "start_time": "2022-08-16T13:11:36.625822",
     "status": "completed"
    },
    "tags": []
   },
   "outputs": [],
   "source": []
  },
  {
   "cell_type": "code",
   "execution_count": null,
   "id": "b5bf849a",
   "metadata": {
    "papermill": {
     "duration": 0.019385,
     "end_time": "2022-08-16T13:11:36.721494",
     "exception": false,
     "start_time": "2022-08-16T13:11:36.702109",
     "status": "completed"
    },
    "tags": []
   },
   "outputs": [],
   "source": []
  }
 ],
 "metadata": {
  "kernelspec": {
   "display_name": "Python 3",
   "language": "python",
   "name": "python3"
  },
  "language_info": {
   "codemirror_mode": {
    "name": "ipython",
    "version": 3
   },
   "file_extension": ".py",
   "mimetype": "text/x-python",
   "name": "python",
   "nbconvert_exporter": "python",
   "pygments_lexer": "ipython3",
   "version": "3.7.12"
  },
  "papermill": {
   "default_parameters": {},
   "duration": 14.437939,
   "end_time": "2022-08-16T13:11:37.462732",
   "environment_variables": {},
   "exception": null,
   "input_path": "__notebook__.ipynb",
   "output_path": "__notebook__.ipynb",
   "parameters": {},
   "start_time": "2022-08-16T13:11:23.024793",
   "version": "2.3.4"
  }
 },
 "nbformat": 4,
 "nbformat_minor": 5
}
