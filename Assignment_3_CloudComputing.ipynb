{
  "nbformat": 4,
  "nbformat_minor": 0,
  "metadata": {
    "colab": {
      "name": "Assignment_3_CloudComputing.ipynb",
      "provenance": [],
      "authorship_tag": "ABX9TyPQw77Jmu9T07NJoNXEvDnf",
      "include_colab_link": true
    },
    "kernelspec": {
      "name": "python3",
      "display_name": "Python 3"
    },
    "language_info": {
      "name": "python"
    }
  },
  "cells": [
    {
      "cell_type": "markdown",
      "metadata": {
        "id": "view-in-github",
        "colab_type": "text"
      },
      "source": [
        "<a href=\"https://colab.research.google.com/github/MajorCode869/sem5/blob/main/Assignment_3_CloudComputing.ipynb\" target=\"_parent\"><img src=\"https://colab.research.google.com/assets/colab-badge.svg\" alt=\"Open In Colab\"/></a>"
      ]
    },
    {
      "cell_type": "code",
      "execution_count": null,
      "metadata": {
        "id": "cE_3lpdeXCtb"
      },
      "outputs": [],
      "source": [
        ""
      ]
    },
    {
      "cell_type": "code",
      "source": [
        "import numpy as np"
      ],
      "metadata": {
        "id": "S0yqwUvlXUHG"
      },
      "execution_count": 2,
      "outputs": []
    },
    {
      "cell_type": "markdown",
      "source": [
        "1. Write a Python program to sum all the items in a list"
      ],
      "metadata": {
        "id": "y7z544JpXpw3"
      }
    },
    {
      "cell_type": "code",
      "source": [
        "list_1=np.random.randint(0,50,50)"
      ],
      "metadata": {
        "id": "zj2atvDtXWhV"
      },
      "execution_count": 3,
      "outputs": []
    },
    {
      "cell_type": "code",
      "source": [
        "sum(list_1)"
      ],
      "metadata": {
        "colab": {
          "base_uri": "https://localhost:8080/"
        },
        "id": "BZJq0DMOYWUp",
        "outputId": "74e0997b-c2f4-4bb2-cdb4-06ecc23692b7"
      },
      "execution_count": 4,
      "outputs": [
        {
          "output_type": "execute_result",
          "data": {
            "text/plain": [
              "1211"
            ]
          },
          "metadata": {},
          "execution_count": 4
        }
      ]
    },
    {
      "cell_type": "markdown",
      "source": [
        "2.Write a Python program to get the largest number from a list."
      ],
      "metadata": {
        "id": "Kxu5NkT6YZaL"
      }
    },
    {
      "cell_type": "code",
      "source": [
        "max(list_1)"
      ],
      "metadata": {
        "colab": {
          "base_uri": "https://localhost:8080/"
        },
        "id": "-PEtozf_YgGa",
        "outputId": "35eadde6-18cf-4946-e0cc-58443eb3664e"
      },
      "execution_count": 5,
      "outputs": [
        {
          "output_type": "execute_result",
          "data": {
            "text/plain": [
              "49"
            ]
          },
          "metadata": {},
          "execution_count": 5
        }
      ]
    },
    {
      "cell_type": "markdown",
      "source": [
        "\n",
        "3. Write a Python program to get a list, sorted in increasing order by the last element in each tuple from a given list of non-empty tuples"
      ],
      "metadata": {
        "id": "QMbMcxiOYoEt"
      }
    },
    {
      "cell_type": "code",
      "source": [
        "list_of_tuples = [(1,3,4),\n",
        "                  (9,1,7),\n",
        "                  (5,8,2)]\n",
        "\n",
        "sorted(list_of_tuples, key=lambda x: x[-1])"
      ],
      "metadata": {
        "id": "Dtsy7LKQYsNq"
      },
      "execution_count": null,
      "outputs": []
    },
    {
      "cell_type": "markdown",
      "source": [
        "4. Write a Python program to remove duplicates from a list"
      ],
      "metadata": {
        "id": "lPzWhcWcaCc8"
      }
    },
    {
      "cell_type": "code",
      "source": [
        "\n",
        "set_1=set(list_1)\n",
        "list_2=list(set_1)\n",
        "list_2"
      ],
      "metadata": {
        "colab": {
          "base_uri": "https://localhost:8080/"
        },
        "id": "7OVGdgILaK6H",
        "outputId": "f90c8bd8-b994-4b2a-e5b8-2e77bc928e37"
      },
      "execution_count": 7,
      "outputs": [
        {
          "output_type": "execute_result",
          "data": {
            "text/plain": [
              "[0,\n",
              " 1,\n",
              " 2,\n",
              " 3,\n",
              " 4,\n",
              " 5,\n",
              " 6,\n",
              " 7,\n",
              " 9,\n",
              " 11,\n",
              " 13,\n",
              " 18,\n",
              " 20,\n",
              " 26,\n",
              " 27,\n",
              " 28,\n",
              " 30,\n",
              " 31,\n",
              " 32,\n",
              " 33,\n",
              " 34,\n",
              " 35,\n",
              " 36,\n",
              " 38,\n",
              " 39,\n",
              " 40,\n",
              " 42,\n",
              " 44,\n",
              " 45,\n",
              " 47,\n",
              " 48,\n",
              " 49]"
            ]
          },
          "metadata": {},
          "execution_count": 7
        }
      ]
    },
    {
      "cell_type": "markdown",
      "source": [
        "5. Write a Python program to find the list of words that are longer than n from a given list of words"
      ],
      "metadata": {
        "id": "jf-y0LQhaiu2"
      }
    },
    {
      "cell_type": "code",
      "source": [
        "names=['lsknd','gnkjvnkwjefgnvjdfvdsn','fnjsadn','ngnefkjnjkasd','vndkjgvjdfdngdsvn']\n",
        "list_3=[name for name in names if len(name)<8 ]\n",
        "list_3"
      ],
      "metadata": {
        "colab": {
          "base_uri": "https://localhost:8080/"
        },
        "id": "sOGU6mtgaoXG",
        "outputId": "bb4614f9-03eb-438c-b82e-85412fb2679f"
      },
      "execution_count": 8,
      "outputs": [
        {
          "output_type": "execute_result",
          "data": {
            "text/plain": [
              "['lsknd', 'fnjsadn']"
            ]
          },
          "metadata": {},
          "execution_count": 8
        }
      ]
    },
    {
      "cell_type": "markdown",
      "source": [
        "\n",
        "6. Write a Python program to get the difference between the two lists"
      ],
      "metadata": {
        "id": "ERKVb43AbV7Z"
      }
    },
    {
      "cell_type": "code",
      "source": [
        "list_4=[7,6,9,10]\n",
        "list_5=[10,6,5,6]\n",
        "print(set(list_4)-set(list_5))"
      ],
      "metadata": {
        "colab": {
          "base_uri": "https://localhost:8080/"
        },
        "id": "5mVD7tjMbZ9k",
        "outputId": "8a122102-e6b8-47c4-f2fe-a10b705cb0ea"
      },
      "execution_count": 10,
      "outputs": [
        {
          "output_type": "stream",
          "name": "stdout",
          "text": [
            "{9, 7}\n"
          ]
        }
      ]
    },
    {
      "cell_type": "markdown",
      "source": [
        "7.Write a Python script to add a key to a dictionary"
      ],
      "metadata": {
        "id": "2n0tbdOBcX7F"
      }
    },
    {
      "cell_type": "code",
      "source": [
        "\n",
        "d = {0:10, 1:20}\n",
        "print(d)\n",
        "d.update({2:30})\n",
        "print(d)"
      ],
      "metadata": {
        "colab": {
          "base_uri": "https://localhost:8080/"
        },
        "id": "uk4owB-XcYm6",
        "outputId": "41349f97-01d9-46b0-b332-0f0e1f1b3402"
      },
      "execution_count": 12,
      "outputs": [
        {
          "output_type": "stream",
          "name": "stdout",
          "text": [
            "{0: 10, 1: 20}\n",
            "{0: 10, 1: 20, 2: 30}\n"
          ]
        }
      ]
    },
    {
      "cell_type": "code",
      "source": [
        ""
      ],
      "metadata": {
        "id": "00TfZIWidGj6"
      },
      "execution_count": 14,
      "outputs": []
    },
    {
      "cell_type": "code",
      "source": [
        ""
      ],
      "metadata": {
        "id": "KYkpj7vWd7ko"
      },
      "execution_count": null,
      "outputs": []
    },
    {
      "cell_type": "markdown",
      "source": [
        "Write a Python script to concatenate following dictionaries to create a new one."
      ],
      "metadata": {
        "id": "Cj139ju4cm-G"
      }
    },
    {
      "cell_type": "code",
      "source": [
        "dic1={1:10, 2:20}\n",
        "dic2={3:30, 4:40}\n",
        "dic3={5:50,6:60}\n",
        "dic1.update(dic2)\n",
        "dic1.update(dic3)\n",
        "print(dic1)"
      ],
      "metadata": {
        "colab": {
          "base_uri": "https://localhost:8080/"
        },
        "id": "ciLqhPYQcrUB",
        "outputId": "81a543d8-ba04-4955-aa5a-ff98dc017bdb"
      },
      "execution_count": 17,
      "outputs": [
        {
          "output_type": "stream",
          "name": "stdout",
          "text": [
            "{1: 10, 2: 20, 3: 30, 4: 40, 5: 50, 6: 60}\n"
          ]
        }
      ]
    },
    {
      "cell_type": "markdown",
      "source": [
        "9. Write a Python program to remove a key from a dictionary"
      ],
      "metadata": {
        "id": "1MMg_jcgd8YD"
      }
    },
    {
      "cell_type": "code",
      "source": [
        "dic1.pop(1)\n",
        "print(dic1)"
      ],
      "metadata": {
        "colab": {
          "base_uri": "https://localhost:8080/"
        },
        "id": "FA_bMny7eEIn",
        "outputId": "e589fec7-bc04-4efa-fcb1-17afc1a872ab"
      },
      "execution_count": 19,
      "outputs": [
        {
          "output_type": "stream",
          "name": "stdout",
          "text": [
            "{2: 20, 3: 30, 4: 40, 5: 50, 6: 60}\n"
          ]
        }
      ]
    },
    {
      "cell_type": "markdown",
      "source": [
        "10.Write a Python program to multiply all the items in a dictionary."
      ],
      "metadata": {
        "id": "reRVOyEDfWag"
      }
    },
    {
      "cell_type": "code",
      "source": [
        "value=1\n",
        "for i in dic1.values():\n",
        "  value=value*i\n",
        "print(value)  "
      ],
      "metadata": {
        "colab": {
          "base_uri": "https://localhost:8080/"
        },
        "id": "cWglfbUzfYW8",
        "outputId": "cf77194e-8553-440f-a70e-7faa44e95ee2"
      },
      "execution_count": 20,
      "outputs": [
        {
          "output_type": "stream",
          "name": "stdout",
          "text": [
            "72000000\n"
          ]
        }
      ]
    }
  ]
}